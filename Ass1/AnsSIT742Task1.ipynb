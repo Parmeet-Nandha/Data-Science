{
  "nbformat": 4,
  "nbformat_minor": 0,
  "metadata": {
    "accelerator": "GPU",
    "colab": {
      "name": "AnsSIT742Task1.ipynb",
      "provenance": [],
      "collapsed_sections": []
    },
    "kernelspec": {
      "name": "python392jvsc74a57bd0edcfe1e97213b713098d27a9bfb28b3c90d79ac08738e2c0433d3780f443c2d3",
      "display_name": "Python 3.9.2 64-bit ('py392': conda)"
    },
    "language_info": {
      "codemirror_mode": {
        "name": "ipython",
        "version": 3
      },
      "file_extension": ".py",
      "mimetype": "text/x-python",
      "name": "python",
      "nbconvert_exporter": "python",
      "pygments_lexer": "ipython3",
      "version": "3.9.2"
    },
    "metadata": {
      "interpreter": {
        "hash": "edcfe1e97213b713098d27a9bfb28b3c90d79ac08738e2c0433d3780f443c2d3"
      }
    },
    "name": "SampleCode",
    "notebookId": 2691131752868967
  },
  "cells": [
    {
      "cell_type": "markdown",
      "metadata": {
        "id": "1X7L24t43CoU"
      },
      "source": [
        "# Part I - Web Log Data\n",
        "\n",
        "## Overview\n",
        "\n",
        "Hotel TULIP a five-star hotel located at Deakin University, and its CIO Dr Bear Guts has asked the Team-SIT742 team to analyse the weblogs files. As an employee for Hotel Tulip, working in the Information Technology Division, it is required to prepare a set of documentation for Team-SIT742 to allow them to understand the data being dealt with. Throughout this report, some source codes are to explore the weblog, which afterwards the information is presented to Dr Bear Guts in the format of a report.\n",
        "\n",
        "In this part, you are required to use give dataset to finish some required analysis, with the exploreation data analytics skills as well as visuilization skill.\n",
        "\n",
        "\n",
        "You will be required to complete the coding to answer the questions with a neat and clean format, and you must keep outputs for code. Your commenting and adherence to code standards will also be considered when marking. Further information on Python standards, please visit https://www.python.org/dev/peps/pep-0008/ \n",
        "\n",
        "\n",
        "**Note**: You are not necessary to stick to the partial code provided, and you can write your own code to implement the required tasks. But you should provide sufficient comments.\n"
      ]
    },
    {
      "cell_type": "markdown",
      "metadata": {
        "id": "r85LNibZkSUZ"
      },
      "source": [
        "\n",
        "\n",
        "## 1.  Data ETL"
      ]
    },
    {
      "cell_type": "markdown",
      "metadata": {
        "id": "HtL_9QR27_Iu"
      },
      "source": [
        "### 1.1 Data Loading"
      ]
    },
    {
      "cell_type": "code",
      "metadata": {
        "colab": {
          "base_uri": "https://localhost:8080/"
        },
        "id": "19EhpLspkSUZ",
        "outputId": "d2d6dd0b-a8c8-4cac-dc68-16a4dcc4e382"
      },
      "source": [
        "import matplotlib.pyplot as plt\n",
        "import numpy as np\n",
        "import pandas as pd\n",
        "import time\n",
        "import datetime\n",
        "from scipy import stats\n",
        "!pip install ip2geotools\n",
        "\n"
      ],
      "execution_count": null,
      "outputs": [
        {
          "output_type": "stream",
          "text": [
            "Requirement already satisfied: ip2geotools in /Users/wuyoscar/opt/miniconda3/envs/py392/lib/python3.9/site-packages (0.1.5)\n",
            "Requirement already satisfied: future>=0.17.1 in /Users/wuyoscar/opt/miniconda3/envs/py392/lib/python3.9/site-packages (from ip2geotools) (0.18.2)\n",
            "Requirement already satisfied: lazy-object-proxy>=1.3.1 in /Users/wuyoscar/opt/miniconda3/envs/py392/lib/python3.9/site-packages (from ip2geotools) (1.6.0)\n",
            "Requirement already satisfied: tqdm>=4.28.1 in /Users/wuyoscar/opt/miniconda3/envs/py392/lib/python3.9/site-packages (from ip2geotools) (4.59.0)\n",
            "Requirement already satisfied: six>=1.11.0 in /Users/wuyoscar/opt/miniconda3/envs/py392/lib/python3.9/site-packages (from ip2geotools) (1.15.0)\n",
            "Requirement already satisfied: requests>=2.20.1 in /Users/wuyoscar/opt/miniconda3/envs/py392/lib/python3.9/site-packages (from ip2geotools) (2.25.1)\n",
            "Requirement already satisfied: idna>=2.7 in /Users/wuyoscar/opt/miniconda3/envs/py392/lib/python3.9/site-packages (from ip2geotools) (2.10)\n",
            "Requirement already satisfied: webencodings>=0.5.1 in /Users/wuyoscar/opt/miniconda3/envs/py392/lib/python3.9/site-packages (from ip2geotools) (0.5.1)\n",
            "Requirement already satisfied: isort>=4.3.4 in /Users/wuyoscar/opt/miniconda3/envs/py392/lib/python3.9/site-packages (from ip2geotools) (5.8.0)\n",
            "Requirement already satisfied: geoip2>=2.9.0 in /Users/wuyoscar/opt/miniconda3/envs/py392/lib/python3.9/site-packages (from ip2geotools) (4.1.0)\n",
            "Requirement already satisfied: decorator>=4.3.0 in /Users/wuyoscar/opt/miniconda3/envs/py392/lib/python3.9/site-packages (from ip2geotools) (5.0.5)\n",
            "Requirement already satisfied: readme-renderer>=24.0 in /Users/wuyoscar/opt/miniconda3/envs/py392/lib/python3.9/site-packages (from ip2geotools) (29.0)\n",
            "Requirement already satisfied: geocoder>=1.38.1 in /Users/wuyoscar/opt/miniconda3/envs/py392/lib/python3.9/site-packages (from ip2geotools) (1.38.1)\n",
            "Requirement already satisfied: selenium>=3.141.0 in /Users/wuyoscar/opt/miniconda3/envs/py392/lib/python3.9/site-packages (from ip2geotools) (3.141.0)\n",
            "Requirement already satisfied: packaging>=18.0 in /Users/wuyoscar/opt/miniconda3/envs/py392/lib/python3.9/site-packages (from ip2geotools) (20.9)\n",
            "Requirement already satisfied: wrapt>=1.10.11 in /Users/wuyoscar/opt/miniconda3/envs/py392/lib/python3.9/site-packages (from ip2geotools) (1.12.1)\n",
            "Requirement already satisfied: certifi>=2018.10.15 in /Users/wuyoscar/opt/miniconda3/envs/py392/lib/python3.9/site-packages (from ip2geotools) (2020.12.5)\n",
            "Requirement already satisfied: typing>=3.6.6 in /Users/wuyoscar/opt/miniconda3/envs/py392/lib/python3.9/site-packages (from ip2geotools) (3.7.4.3)\n",
            "Requirement already satisfied: chardet>=3.0.4 in /Users/wuyoscar/opt/miniconda3/envs/py392/lib/python3.9/site-packages (from ip2geotools) (4.0.0)\n",
            "Requirement already satisfied: Pygments>=2.3.0 in /Users/wuyoscar/opt/miniconda3/envs/py392/lib/python3.9/site-packages (from ip2geotools) (2.8.1)\n",
            "Requirement already satisfied: urllib3>=1.24.1 in /Users/wuyoscar/opt/miniconda3/envs/py392/lib/python3.9/site-packages (from ip2geotools) (1.26.4)\n",
            "Requirement already satisfied: docutils>=0.14 in /Users/wuyoscar/opt/miniconda3/envs/py392/lib/python3.9/site-packages (from ip2geotools) (0.16)\n",
            "Requirement already satisfied: mccabe>=0.6.1 in /Users/wuyoscar/opt/miniconda3/envs/py392/lib/python3.9/site-packages (from ip2geotools) (0.6.1)\n",
            "Requirement already satisfied: pkginfo>=1.4.2 in /Users/wuyoscar/opt/miniconda3/envs/py392/lib/python3.9/site-packages (from ip2geotools) (1.7.0)\n",
            "Requirement already satisfied: pyparsing>=2.3.0 in /Users/wuyoscar/opt/miniconda3/envs/py392/lib/python3.9/site-packages (from ip2geotools) (2.4.7)\n",
            "Requirement already satisfied: dicttoxml>=1.7.4 in /Users/wuyoscar/opt/miniconda3/envs/py392/lib/python3.9/site-packages (from ip2geotools) (1.7.4)\n",
            "Requirement already satisfied: typed-ast>=1.1.0 in /Users/wuyoscar/opt/miniconda3/envs/py392/lib/python3.9/site-packages (from ip2geotools) (1.4.3)\n",
            "Requirement already satisfied: bleach>=3.0.2 in /Users/wuyoscar/opt/miniconda3/envs/py392/lib/python3.9/site-packages (from ip2geotools) (3.3.0)\n",
            "Requirement already satisfied: twine>=1.12.1 in /Users/wuyoscar/opt/miniconda3/envs/py392/lib/python3.9/site-packages (from ip2geotools) (3.4.1)\n",
            "Requirement already satisfied: IP2Location>=8.0.3 in /Users/wuyoscar/opt/miniconda3/envs/py392/lib/python3.9/site-packages (from ip2geotools) (8.5.1)\n",
            "Requirement already satisfied: autopep8>=1.4.3 in /Users/wuyoscar/opt/miniconda3/envs/py392/lib/python3.9/site-packages (from ip2geotools) (1.5.6)\n",
            "Requirement already satisfied: pycodestyle>=2.4.0 in /Users/wuyoscar/opt/miniconda3/envs/py392/lib/python3.9/site-packages (from ip2geotools) (2.7.0)\n",
            "Requirement already satisfied: pylint>=2.2.0 in /Users/wuyoscar/opt/miniconda3/envs/py392/lib/python3.9/site-packages (from ip2geotools) (2.7.4)\n",
            "Requirement already satisfied: lxml>=4.2.5 in /Users/wuyoscar/opt/miniconda3/envs/py392/lib/python3.9/site-packages (from ip2geotools) (4.6.3)\n",
            "Requirement already satisfied: requests-toolbelt>=0.8.0 in /Users/wuyoscar/opt/miniconda3/envs/py392/lib/python3.9/site-packages (from ip2geotools) (0.9.1)\n",
            "Requirement already satisfied: astroid>=2.1.0 in /Users/wuyoscar/opt/miniconda3/envs/py392/lib/python3.9/site-packages (from ip2geotools) (2.5.3)\n",
            "Requirement already satisfied: pip-review>=1.0 in /Users/wuyoscar/opt/miniconda3/envs/py392/lib/python3.9/site-packages (from ip2geotools) (1.1.0)\n",
            "Requirement already satisfied: maxminddb>=1.4.1 in /Users/wuyoscar/opt/miniconda3/envs/py392/lib/python3.9/site-packages (from ip2geotools) (2.0.3)\n",
            "Requirement already satisfied: pyquery>=1.4.0 in /Users/wuyoscar/opt/miniconda3/envs/py392/lib/python3.9/site-packages (from ip2geotools) (1.4.3)\n",
            "Requirement already satisfied: cssselect>=1.0.3 in /Users/wuyoscar/opt/miniconda3/envs/py392/lib/python3.9/site-packages (from ip2geotools) (1.1.0)\n",
            "Requirement already satisfied: ratelim>=0.1.6 in /Users/wuyoscar/opt/miniconda3/envs/py392/lib/python3.9/site-packages (from ip2geotools) (0.1.6)\n",
            "Requirement already satisfied: Click>=7.0 in /Users/wuyoscar/opt/miniconda3/envs/py392/lib/python3.9/site-packages (from ip2geotools) (7.1.2)\n",
            "Requirement already satisfied: toml in /Users/wuyoscar/opt/miniconda3/envs/py392/lib/python3.9/site-packages (from autopep8>=1.4.3->ip2geotools) (0.10.2)\n",
            "Requirement already satisfied: aiohttp<4.0.0,>=3.6.2 in /Users/wuyoscar/opt/miniconda3/envs/py392/lib/python3.9/site-packages (from geoip2>=2.9.0->ip2geotools) (3.7.4.post0)\n",
            "Requirement already satisfied: multidict<7.0,>=4.5 in /Users/wuyoscar/opt/miniconda3/envs/py392/lib/python3.9/site-packages (from aiohttp<4.0.0,>=3.6.2->geoip2>=2.9.0->ip2geotools) (5.1.0)\n",
            "Requirement already satisfied: typing-extensions>=3.6.5 in /Users/wuyoscar/opt/miniconda3/envs/py392/lib/python3.9/site-packages (from aiohttp<4.0.0,>=3.6.2->geoip2>=2.9.0->ip2geotools) (3.7.4.3)\n",
            "Requirement already satisfied: attrs>=17.3.0 in /Users/wuyoscar/opt/miniconda3/envs/py392/lib/python3.9/site-packages (from aiohttp<4.0.0,>=3.6.2->geoip2>=2.9.0->ip2geotools) (20.3.0)\n",
            "Requirement already satisfied: yarl<2.0,>=1.0 in /Users/wuyoscar/opt/miniconda3/envs/py392/lib/python3.9/site-packages (from aiohttp<4.0.0,>=3.6.2->geoip2>=2.9.0->ip2geotools) (1.6.3)\n",
            "Requirement already satisfied: async-timeout<4.0,>=3.0 in /Users/wuyoscar/opt/miniconda3/envs/py392/lib/python3.9/site-packages (from aiohttp<4.0.0,>=3.6.2->geoip2>=2.9.0->ip2geotools) (3.0.1)\n",
            "Requirement already satisfied: pip in /Users/wuyoscar/opt/miniconda3/envs/py392/lib/python3.9/site-packages (from pip-review>=1.0->ip2geotools) (21.0.1)\n",
            "Requirement already satisfied: rfc3986>=1.4.0 in /Users/wuyoscar/opt/miniconda3/envs/py392/lib/python3.9/site-packages (from twine>=1.12.1->ip2geotools) (1.4.0)\n",
            "Requirement already satisfied: importlib-metadata>=3.6 in /Users/wuyoscar/opt/miniconda3/envs/py392/lib/python3.9/site-packages (from twine>=1.12.1->ip2geotools) (3.10.0)\n",
            "Requirement already satisfied: keyring>=15.1 in /Users/wuyoscar/opt/miniconda3/envs/py392/lib/python3.9/site-packages (from twine>=1.12.1->ip2geotools) (23.0.1)\n",
            "Requirement already satisfied: colorama>=0.4.3 in /Users/wuyoscar/opt/miniconda3/envs/py392/lib/python3.9/site-packages (from twine>=1.12.1->ip2geotools) (0.4.4)\n",
            "Requirement already satisfied: zipp>=0.5 in /Users/wuyoscar/opt/miniconda3/envs/py392/lib/python3.9/site-packages (from importlib-metadata>=3.6->twine>=1.12.1->ip2geotools) (3.4.1)\n"
          ],
          "name": "stdout"
        }
      ]
    },
    {
      "cell_type": "markdown",
      "metadata": {
        "id": "jY2Br4cBN956"
      },
      "source": [
        " <div class=\"alert alert-block alert-info\">\n",
        "\n",
        "**Code**: \n",
        "    You are required to load Hotel TULIP data into dataframe df_ht and check how many files are loaded.\n",
        "    <br>\n",
        "    *Keep the outputs for code in your notebook.\n",
        "</div>\n",
        "\n"
      ]
    },
    {
      "cell_type": "code",
      "metadata": {
        "id": "IIB_xH-hOqEj"
      },
      "source": [
        "\n",
        "from zipfile import ZipFile\n",
        "\n",
        "def read_HTWblog(web_filename):\n",
        "  unzip_weblog = ZipFile(web_filename)\n",
        "\n",
        "  unzip_names = unzip_weblog.namelist()\n",
        "  #print(\"Zipinfo as below :\\n\",unzip_weblog.infolist())\n",
        "  number_of_files = len(unzip_weblog.infolist())\n",
        "  \n",
        "  print(\"Zipfiles names_list :\\n\", unzip_names)  \n",
        "  print(\"\\n--------------------------------\\n\") \n",
        "  print('The total number of files loading is: ',number_of_files )\n",
        " \n",
        " # list to store whole dataframe in order to concat  \n",
        "  files = [] \n",
        "  \n",
        "  for file_name in unzip_names:\n",
        "    file_content = unzip_weblog.read(file_name).decode('latin1') # or iso-8859-1\n",
        "    \n",
        "    header_line = file_content.split(\"\\r\\n\")[3].split(\" \")[1:-1] #the fourth line is header\n",
        "    \n",
        "    rows = file_content.split(\"\\r\\n\") # each row(record) separate by \\r\\n \n",
        "    \n",
        "    each_line_list = [] #create list store each line \n",
        "    \n",
        "    for line in rows:  \n",
        "        # if len(each record) = len(attributes)\n",
        "        if len(line.split(\" \")) == len(header_line): \n",
        "            row = line.split(\" \") #each record separate by \" \"\n",
        "            each_line_list.append(row) #add each record to data_list\n",
        "        else:\n",
        "          pass\n",
        "    \n",
        "    each_file = pd.DataFrame(each_line_list, columns = header_line) # create dataframe for each file\n",
        "    \n",
        "    files.append(each_file)\n",
        "  \n",
        "  df_ht = pd.concat(files) #concat all files into dataframe \n",
        "  \n",
        "  return df_ht\n",
        "\n",
        "\n"
      ],
      "execution_count": null,
      "outputs": []
    },
    {
      "cell_type": "code",
      "metadata": {
        "id": "hpcodVlYrd0y",
        "outputId": "68e3e93d-b0d0-42ba-f39b-2604344eb22a"
      },
      "source": [
        "#from google.colab import drive\n",
        "#drive.mount('/content/gdrive')\n",
        "#!ls\n",
        "#df_ht = read_HTWblog('/content/gdrive/MyDrive/HTWebLog_p1.zip')\n",
        "\n",
        "df_ht = read_HTWblog('HTWebLog_p1.zip')"
      ],
      "execution_count": null,
      "outputs": [
        {
          "output_type": "stream",
          "text": [
            "Zipfiles names_list :\n",
            " ['ex061101.log', 'ex061102.log', 'ex061103.log', 'ex061104.log', 'ex061105.log', 'ex061106.log', 'ex061107.log', 'ex061108.log', 'ex061109.log', 'ex061110.log', 'ex061111.log', 'ex061112.log', 'ex061113.log', 'ex061114.log', 'ex061115.log', 'ex061116.log', 'ex061117.log', 'ex061118.log', 'ex061119.log', 'ex061120.log', 'ex061121.log', 'ex061122.log', 'ex061123.log', 'ex061124.log', 'ex061125.log', 'ex061126.log', 'ex061127.log', 'ex061128.log', 'ex061129.log', 'ex061130.log', 'ex061201.log', 'ex061202.log', 'ex061203.log', 'ex061204.log', 'ex061205.log', 'ex061206.log', 'ex061207.log', 'ex061208.log', 'ex061209.log', 'ex061210.log', 'ex061211.log', 'ex061212.log', 'ex061213.log', 'ex061214.log', 'ex061215.log', 'ex061216.log', 'ex061217.log', 'ex061218.log', 'ex061219.log', 'ex061220.log', 'ex061221.log', 'ex061222.log', 'ex061223.log', 'ex061224.log', 'ex061225.log', 'ex061226.log', 'ex061227.log', 'ex061228.log', 'ex061229.log', 'ex061230.log', 'ex061231.log', 'ex070101.log', 'ex070102.log', 'ex070103.log', 'ex070104.log', 'ex070105.log', 'ex070106.log', 'ex070107.log', 'ex070108.log', 'ex070109.log', 'ex070110.log', 'ex070111.log', 'ex070112.log', 'ex070113.log', 'ex070114.log', 'ex070115.log', 'ex070116.log', 'ex070117.log', 'ex070118.log', 'ex070119.log', 'ex070120.log', 'ex070121.log', 'ex070122.log', 'ex070123.log', 'ex070124.log', 'ex070125.log', 'ex070126.log', 'ex070127.log', 'ex070128.log', 'ex070129.log', 'ex070130.log', 'ex070131.log', 'ex070201.log', 'ex070202.log', 'ex070203.log', 'ex070204.log', 'ex070205.log', 'ex070206.log', 'ex070207.log', 'ex070208.log', 'ex070209.log', 'ex070210.log', 'ex070211.log', 'ex070212.log', 'ex070213.log', 'ex070214.log', 'ex070215.log', 'ex070216.log', 'ex070217.log', 'ex070218.log', 'ex070219.log', 'ex070220.log', 'ex070221.log', 'ex070222.log', 'ex070223.log', 'ex070224.log', 'ex070225.log', 'ex070226.log', 'ex070227.log', 'ex070228.log']\n",
            "\n",
            "--------------------------------\n",
            "\n",
            "The total number of files loading is:  120\n"
          ],
          "name": "stdout"
        }
      ]
    },
    {
      "cell_type": "markdown",
      "metadata": {
        "id": "Dyt9lwm_QKFV"
      },
      "source": [
        " <div class=\"alert alert-block alert-info\">\n",
        "\n",
        "**Code**: \n",
        "    Check the data statistics and general information by printing its top 5 rows.\n",
        "    <br>\n",
        "    *Keep the outputs for code in your notebook.\n",
        "</div>\n",
        "\n",
        "<div class=\"alert alert-block alert-warning\">\n",
        "    \n",
        "**Report**: \n",
        "    **Part I 1.1** Please include your result for this coding task into your SIT742-DataDictionary.xlsx, then add to your report - Part I with proper section title '1.1.1' and '1.1.2'.\n",
        "</div>\n",
        "    </div>\n"
      ]
    },
    {
      "cell_type": "code",
      "metadata": {
        "colab": {
          "base_uri": "https://localhost:8080/",
          "height": 503
        },
        "id": "1h7LqSGgQRUb",
        "outputId": "0291432e-ab27-4a91-d94a-27b695e4767d"
      },
      "source": [
        "\n",
        "print(\"\\nData size :\",df_ht.shape)\n",
        "print(\"\\nNumber of records :\",len(df_ht))\n",
        "print(\"\\nNumber of atrributes :\",len(df_ht.columns))\n",
        "print('--------------------------------------')\n",
        "\n",
        "#attribute name\n",
        "print('\\nAttribute name:\\n')\n",
        "\n",
        "print(df_ht.columns.to_list())"
      ],
      "execution_count": null,
      "outputs": [
        {
          "output_type": "stream",
          "text": [
            "\n",
            "Data size : (8438928, 15)\n",
            "\n",
            "Number of records : 8438928\n",
            "\n",
            "Number of atrributes : 15\n",
            "--------------------------------------\n",
            "\n",
            "Attribute name:\n",
            "\n",
            "['date', 'time', 's-sitename', 's-ip', 'cs-method', 'cs-uri-stem', 'cs-uri-query', 's-port', 'cs-username', 'c-ip', 'cs(User-Agent)', 'cs(Referer)', 'sc-status', 'sc-substatus', 'sc-win32-status']\n"
          ],
          "name": "stdout"
        }
      ]
    },
    {
      "cell_type": "code",
      "metadata": {
        "id": "nmNb2uKXrd0z",
        "outputId": "8ca36572-289e-4b9c-fdad-b8f9936ed22b"
      },
      "source": [
        "df_ht.head(5)"
      ],
      "execution_count": null,
      "outputs": [
        {
          "output_type": "execute_result",
          "data": {
            "text/plain": [
              "         date      time s-sitename       s-ip cs-method  \\\n",
              "0  2006-11-01  00:00:08     W3SVC1  127.0.0.1       GET   \n",
              "1  2006-11-01  00:00:08     W3SVC1  127.0.0.1       GET   \n",
              "2  2006-11-01  00:00:08     W3SVC1  127.0.0.1       GET   \n",
              "3  2006-11-01  00:00:09     W3SVC1  127.0.0.1       GET   \n",
              "4  2006-11-01  00:00:09     W3SVC1  127.0.0.1       GET   \n",
              "\n",
              "                              cs-uri-stem cs-uri-query s-port cs-username  \\\n",
              "0                           /Default.aspx            -     80           -   \n",
              "1       /Tulip/home/en-us/home_index.aspx            -     80           -   \n",
              "2        /Tulip/includes/js/CommonUtil.js            -     80           -   \n",
              "3         /Tulip/common/common_style.aspx   lang=en-us     80           -   \n",
              "4  /Tulip/common/en-us/images/top_img.jpg            -     80           -   \n",
              "\n",
              "          c-ip                                     cs(User-Agent)  \\\n",
              "0  70.80.84.76  Mozilla/4.0+(compatible;+MSIE+6.0;+Windows+NT+...   \n",
              "1  70.80.84.76  Mozilla/4.0+(compatible;+MSIE+6.0;+Windows+NT+...   \n",
              "2  70.80.84.76  Mozilla/4.0+(compatible;+MSIE+6.0;+Windows+NT+...   \n",
              "3  70.80.84.76  Mozilla/4.0+(compatible;+MSIE+6.0;+Windows+NT+...   \n",
              "4  70.80.84.76  Mozilla/4.0+(compatible;+MSIE+6.0;+Windows+NT+...   \n",
              "\n",
              "                                         cs(Referer) sc-status sc-substatus  \\\n",
              "0  http://www.google.com/search?sourceid=navclien...       200            0   \n",
              "1                                                  -       200            0   \n",
              "2  http://www.hotelTulip.com.hk/Tulip/home/en-us/...       200            0   \n",
              "3  http://www.hotelTulip.com.hk/Tulip/home/en-us/...       200            0   \n",
              "4  http://www.hotelTulip.com.hk/Tulip/home/en-us/...       200            0   \n",
              "\n",
              "  sc-win32-status  \n",
              "0               0  \n",
              "1               0  \n",
              "2               0  \n",
              "3               0  \n",
              "4               0  "
            ],
            "text/html": [
              "<div>\n",
              "<style scoped>\n",
              "    .dataframe tbody tr th:only-of-type {\n",
              "        vertical-align: middle;\n",
              "    }\n",
              "\n",
              "    .dataframe tbody tr th {\n",
              "        vertical-align: top;\n",
              "    }\n",
              "\n",
              "    .dataframe thead th {\n",
              "        text-align: right;\n",
              "    }\n",
              "</style>\n",
              "<table border=\"1\" class=\"dataframe\">\n",
              "  <thead>\n",
              "    <tr style=\"text-align: right;\">\n",
              "      <th></th>\n",
              "      <th>date</th>\n",
              "      <th>time</th>\n",
              "      <th>s-sitename</th>\n",
              "      <th>s-ip</th>\n",
              "      <th>cs-method</th>\n",
              "      <th>cs-uri-stem</th>\n",
              "      <th>cs-uri-query</th>\n",
              "      <th>s-port</th>\n",
              "      <th>cs-username</th>\n",
              "      <th>c-ip</th>\n",
              "      <th>cs(User-Agent)</th>\n",
              "      <th>cs(Referer)</th>\n",
              "      <th>sc-status</th>\n",
              "      <th>sc-substatus</th>\n",
              "      <th>sc-win32-status</th>\n",
              "    </tr>\n",
              "  </thead>\n",
              "  <tbody>\n",
              "    <tr>\n",
              "      <th>0</th>\n",
              "      <td>2006-11-01</td>\n",
              "      <td>00:00:08</td>\n",
              "      <td>W3SVC1</td>\n",
              "      <td>127.0.0.1</td>\n",
              "      <td>GET</td>\n",
              "      <td>/Default.aspx</td>\n",
              "      <td>-</td>\n",
              "      <td>80</td>\n",
              "      <td>-</td>\n",
              "      <td>70.80.84.76</td>\n",
              "      <td>Mozilla/4.0+(compatible;+MSIE+6.0;+Windows+NT+...</td>\n",
              "      <td>http://www.google.com/search?sourceid=navclien...</td>\n",
              "      <td>200</td>\n",
              "      <td>0</td>\n",
              "      <td>0</td>\n",
              "    </tr>\n",
              "    <tr>\n",
              "      <th>1</th>\n",
              "      <td>2006-11-01</td>\n",
              "      <td>00:00:08</td>\n",
              "      <td>W3SVC1</td>\n",
              "      <td>127.0.0.1</td>\n",
              "      <td>GET</td>\n",
              "      <td>/Tulip/home/en-us/home_index.aspx</td>\n",
              "      <td>-</td>\n",
              "      <td>80</td>\n",
              "      <td>-</td>\n",
              "      <td>70.80.84.76</td>\n",
              "      <td>Mozilla/4.0+(compatible;+MSIE+6.0;+Windows+NT+...</td>\n",
              "      <td>-</td>\n",
              "      <td>200</td>\n",
              "      <td>0</td>\n",
              "      <td>0</td>\n",
              "    </tr>\n",
              "    <tr>\n",
              "      <th>2</th>\n",
              "      <td>2006-11-01</td>\n",
              "      <td>00:00:08</td>\n",
              "      <td>W3SVC1</td>\n",
              "      <td>127.0.0.1</td>\n",
              "      <td>GET</td>\n",
              "      <td>/Tulip/includes/js/CommonUtil.js</td>\n",
              "      <td>-</td>\n",
              "      <td>80</td>\n",
              "      <td>-</td>\n",
              "      <td>70.80.84.76</td>\n",
              "      <td>Mozilla/4.0+(compatible;+MSIE+6.0;+Windows+NT+...</td>\n",
              "      <td>http://www.hotelTulip.com.hk/Tulip/home/en-us/...</td>\n",
              "      <td>200</td>\n",
              "      <td>0</td>\n",
              "      <td>0</td>\n",
              "    </tr>\n",
              "    <tr>\n",
              "      <th>3</th>\n",
              "      <td>2006-11-01</td>\n",
              "      <td>00:00:09</td>\n",
              "      <td>W3SVC1</td>\n",
              "      <td>127.0.0.1</td>\n",
              "      <td>GET</td>\n",
              "      <td>/Tulip/common/common_style.aspx</td>\n",
              "      <td>lang=en-us</td>\n",
              "      <td>80</td>\n",
              "      <td>-</td>\n",
              "      <td>70.80.84.76</td>\n",
              "      <td>Mozilla/4.0+(compatible;+MSIE+6.0;+Windows+NT+...</td>\n",
              "      <td>http://www.hotelTulip.com.hk/Tulip/home/en-us/...</td>\n",
              "      <td>200</td>\n",
              "      <td>0</td>\n",
              "      <td>0</td>\n",
              "    </tr>\n",
              "    <tr>\n",
              "      <th>4</th>\n",
              "      <td>2006-11-01</td>\n",
              "      <td>00:00:09</td>\n",
              "      <td>W3SVC1</td>\n",
              "      <td>127.0.0.1</td>\n",
              "      <td>GET</td>\n",
              "      <td>/Tulip/common/en-us/images/top_img.jpg</td>\n",
              "      <td>-</td>\n",
              "      <td>80</td>\n",
              "      <td>-</td>\n",
              "      <td>70.80.84.76</td>\n",
              "      <td>Mozilla/4.0+(compatible;+MSIE+6.0;+Windows+NT+...</td>\n",
              "      <td>http://www.hotelTulip.com.hk/Tulip/home/en-us/...</td>\n",
              "      <td>200</td>\n",
              "      <td>0</td>\n",
              "      <td>0</td>\n",
              "    </tr>\n",
              "  </tbody>\n",
              "</table>\n",
              "</div>"
            ]
          },
          "metadata": {
            "tags": []
          },
          "execution_count": 131
        }
      ]
    },
    {
      "cell_type": "markdown",
      "metadata": {
        "id": "jDUDzs7lkSUa"
      },
      "source": [
        "### 1.2 Data Cleaning"
      ]
    },
    {
      "cell_type": "markdown",
      "metadata": {
        "id": "En0WOURqp7dB"
      },
      "source": [
        "#### Remove all NAs from data"
      ]
    },
    {
      "cell_type": "markdown",
      "metadata": {
        "id": "Efxzawa7Xdv9"
      },
      "source": [
        "\n",
        "<div class=\"alert alert-block alert-warning\">\n",
        "\n",
        "**Code**: \n",
        "    1. Check which columns have NAs, <br>\n",
        "    2. For each of those columns, display the number of NA records, <br> \n",
        "    3. emove all records with any NAs.\n",
        "    <br>\n",
        "    *Keep the outputs for code in your notebook.\n",
        "</div> \n",
        "\n",
        "<div class=\"alert alert-block alert-warning\">\n",
        "    \n",
        "**Report**: \n",
        "    **Part I 1.2** Please include your result for this coding task into your report Part I, with proper section title '1.2'.\n",
        "</div>\n",
        "    </div>\n"
      ]
    },
    {
      "cell_type": "markdown",
      "metadata": {
        "id": "AVSXWJWlrd01"
      },
      "source": [
        "**check missing value and replace**"
      ]
    },
    {
      "cell_type": "code",
      "metadata": {
        "id": "XqZTUea5rd01",
        "outputId": "0decac81-9c6a-468f-eebb-e5276a7a95d7"
      },
      "source": [
        "#insepct dataset each column\n",
        "for col in df_ht.columns:\n",
        "      print('\\n\\n--------------------------')\n",
        "      print('The number of unique {}:'.format(col),df_ht[col].nunique() )\n",
        "      print(col, \":\")\n",
        "      print(df_ht[col].value_counts(), \"\\n\")"
      ],
      "execution_count": null,
      "outputs": [
        {
          "output_type": "stream",
          "text": [
            "\n",
            "\n",
            "--------------------------\n",
            "The number of unique date: 121\n",
            "date :\n",
            "2006-12-12    120190\n",
            "2006-11-27    120019\n",
            "2006-12-14    118609\n",
            "2006-12-13    117075\n",
            "2006-12-08    113063\n",
            "               ...  \n",
            "2007-02-18     30750\n",
            "2007-01-01     30355\n",
            "2006-12-31     29400\n",
            "2007-02-17     26484\n",
            "2007-03-01         1\n",
            "Name: date, Length: 121, dtype: int64 \n",
            "\n",
            "\n",
            "\n",
            "--------------------------\n",
            "The number of unique time: 86372\n",
            "time :\n",
            "08:37:00    382\n",
            "09:55:14    375\n",
            "09:13:05    358\n",
            "04:41:05    349\n",
            "06:30:22    343\n",
            "           ... \n",
            "21:53:06      1\n",
            "20:26:53      1\n",
            "20:37:30      1\n",
            "21:24:30      1\n",
            "19:04:59      1\n",
            "Name: time, Length: 86372, dtype: int64 \n",
            "\n",
            "\n",
            "\n",
            "--------------------------\n",
            "The number of unique s-sitename: 1\n",
            "s-sitename :\n",
            "W3SVC1    8438928\n",
            "Name: s-sitename, dtype: int64 \n",
            "\n",
            "\n",
            "\n",
            "--------------------------\n",
            "The number of unique s-ip: 1\n",
            "s-ip :\n",
            "127.0.0.1    8438928\n",
            "Name: s-ip, dtype: int64 \n",
            "\n",
            "\n",
            "\n",
            "--------------------------\n",
            "The number of unique cs-method: 6\n",
            "cs-method :\n",
            "GET         8421984\n",
            "POST           9509\n",
            "HEAD           6723\n",
            "OPTIONS         595\n",
            "PROPFIND        106\n",
            "PUT              11\n",
            "Name: cs-method, dtype: int64 \n",
            "\n",
            "\n",
            "\n",
            "--------------------------\n",
            "The number of unique cs-uri-stem: 4761\n",
            "cs-uri-stem :\n",
            "/Tulip/common/common_style.aspx                                       402987\n",
            "/Tulip/includes/js/CommonUtil.js                                      127704\n",
            "/Tulip/common/images/top_bar.jpg                                      125764\n",
            "/Tulip/common/images/spacer.gif                                       105486\n",
            "/Tulip/common/images/bar_1.gif                                        100641\n",
            "                                                                       ...  \n",
            "/forro/includes/logger_engine.php                                          1\n",
            "/MSOffice/cltreq.asp?UL=1&ACT=4&BUILD=6254&STRMVER=4&CAPREQ=0              1\n",
            "/promotion/FP02205_2.jpg                                                   1\n",
            "/Tulip/aboutus/zh-cn/virtualTour/BU-5550-VHS1J9-01/lBeanInfo.class         1\n",
            "/Tulip/aboutus/en-us/virtualTour/BU-1930-XVZ8NY-01/                        1\n",
            "Name: cs-uri-stem, Length: 4761, dtype: int64 \n",
            "\n",
            "\n",
            "\n",
            "--------------------------\n",
            "The number of unique cs-uri-query: 1988\n",
            "cs-uri-query :\n",
            "-                            7886532\n",
            "lang=en-us                    231265\n",
            "lang=zh-hk                    191196\n",
            "lang=ja                        51295\n",
            "pageId=164&lang=zh-hk           8336\n",
            "                              ...   \n",
            "lang=zh-hk&refid=2337              1\n",
            "lang=ja&refid=1911                 1\n",
            "lang=en-us&refid=2258              1\n",
            "pageId=170&amp;lang=en-us          1\n",
            "lang=zh-hk&refid=2621              1\n",
            "Name: cs-uri-query, Length: 1988, dtype: int64 \n",
            "\n",
            "\n",
            "\n",
            "--------------------------\n",
            "The number of unique s-port: 1\n",
            "s-port :\n",
            "80    8438928\n",
            "Name: s-port, dtype: int64 \n",
            "\n",
            "\n",
            "\n",
            "--------------------------\n",
            "The number of unique cs-username: 1\n",
            "cs-username :\n",
            "-    8438928\n",
            "Name: cs-username, dtype: int64 \n",
            "\n",
            "\n",
            "\n",
            "--------------------------\n",
            "The number of unique c-ip: 74548\n",
            "c-ip :\n",
            "59.188.33.66       93769\n",
            "210.184.71.81      92460\n",
            "202.181.238.254    29934\n",
            "158.132.12.80      18743\n",
            "211.72.233.8       16319\n",
            "                   ...  \n",
            "70.110.133.151         1\n",
            "85.230.50.173          1\n",
            "203.113.28.130         1\n",
            "213.238.124.248        1\n",
            "218.166.146.250        1\n",
            "Name: c-ip, Length: 74548, dtype: int64 \n",
            "\n",
            "\n",
            "\n",
            "--------------------------\n",
            "The number of unique cs(User-Agent): 4960\n",
            "cs(User-Agent) :\n",
            "Mozilla/4.0+(compatible;+MSIE+6.0;+Windows+NT+5.1;+SV1;+.NET+CLR+1.1.4322)                                  1982248\n",
            "Mozilla/4.0+(compatible;+MSIE+6.0;+Windows+NT+5.1;+SV1)                                                     1606612\n",
            "Mozilla/4.0+(compatible;+MSIE+6.0;+Windows+NT+5.1)                                                           600946\n",
            "Mozilla/4.0+(compatible;+MSIE+6.0;+Windows+NT+5.1;+SV1;+.NET+CLR+1.1.4322;+.NET+CLR+2.0.50727)               344081\n",
            "Mozilla/4.0+(compatible;+MSIE+6.0;+Windows+NT+5.0)                                                           291188\n",
            "                                                                                                             ...   \n",
            "User-Agent:+Mozilla/4.0+(compatible;+MSIE+6.0;+Windows+NT+5.1;+.NET+CLR+1.1.4322)                                 1\n",
            "Mozilla/4.0+(compatible;+MSIE+6.0;+Windows+98;+H010818;+.NET+CLR+1.1.4322)                                        1\n",
            "Mozilla/5.0+(compatible;+Konqueror/3.0-rc6;+i686+Linux;+20020427)                                                 1\n",
            "Mozilla/4.0+(compatible;+MSIE+6.0;+Windows+NT+5.1;+SV1;+istb+702;+.NET+CLR+1.1.4322;+.NET+CLR+2.0.50727)          1\n",
            "Opera/7.0+(Windows+NT+5.0;+U)+[en]                                                                                1\n",
            "Name: cs(User-Agent), Length: 4960, dtype: int64 \n",
            "\n",
            "\n",
            "\n",
            "--------------------------\n",
            "The number of unique cs(Referer): 39715\n",
            "cs(Referer) :\n",
            "http://www.hotelTulip.com.hk/Tulip/home/en-us/home_index.aspx                                                            1618649\n",
            "-                                                                                                                        1308994\n",
            "http://www.hotelTulip.com.hk/Tulip/home/zh-hk/home_index.aspx                                                             491233\n",
            "http://www.hotelTulip.com.hk/Tulip/whatsnew/whatsnew_foodindex.aspx?lang=zh-hk                                            377525\n",
            "http://www.hotelTulip.com.hk/Tulip/dining/zh-hk/dining_cafeserena.aspx                                                    304718\n",
            "                                                                                                                          ...   \n",
            "http://hnk.nwtbb.com/common_ip_cgi/Services/services.cgi?SESSION=b0336a8ac6093ec2525b10e61a99b8b5&LANG_CHOICE=English          1\n",
            "http://hnk.nwtbb.com/common_ip_cgi/Services/services.cgi?SESSION=19590c57c992ee614c59c5c16a17c7f9&LANG_CHOICE=English          1\n",
            "http://www.google.com/ie?q=hotel+Tulip&hl=zh-TW                                                                                1\n",
            "http://www.google.com.au/search?hl=en&q=Tulip+HOTEL+IN+HONGKONG&btnG=Google+Search&meta=                                       1\n",
            "http://www.google.co.uk/search?sourceid=navclient&ie=UTF-8&rls=GGLR,GGLR:2006-40,GGLR:en&q=hotel+Tulip+hong+kong               1\n",
            "Name: cs(Referer), Length: 39715, dtype: int64 \n",
            "\n",
            "\n",
            "\n",
            "--------------------------\n",
            "The number of unique sc-status: 12\n",
            "sc-status :\n",
            "200    6074386\n",
            "304    2137496\n",
            "404     143646\n",
            "206      72493\n",
            "302       7368\n",
            "500       2020\n",
            "403        703\n",
            "301        436\n",
            "400        210\n",
            "501        113\n",
            "406         54\n",
            "416          3\n",
            "Name: sc-status, dtype: int64 \n",
            "\n",
            "\n",
            "\n",
            "--------------------------\n",
            "The number of unique sc-substatus: 4\n",
            "sc-substatus :\n",
            "0     8438223\n",
            "14        676\n",
            "1          27\n",
            "2           2\n",
            "Name: sc-substatus, dtype: int64 \n",
            "\n",
            "\n",
            "\n",
            "--------------------------\n",
            "The number of unique sc-win32-status: 14\n",
            "sc-win32-status :\n",
            "0       8057000\n",
            "64       241836\n",
            "2         98315\n",
            "3         29312\n",
            "1236       6442\n",
            "121        2399\n",
            "22         1678\n",
            "123        1288\n",
            "5           621\n",
            "1231         19\n",
            "1232         12\n",
            "1229          3\n",
            "1260          2\n",
            "1234          1\n",
            "Name: sc-win32-status, dtype: int64 \n",
            "\n"
          ],
          "name": "stdout"
        }
      ]
    },
    {
      "cell_type": "code",
      "metadata": {
        "id": "MXmqaY-srd01",
        "outputId": "2bc4c1f2-5b75-4570-950e-6e4e2ea98eb1"
      },
      "source": [
        "print('Find missing value is \"-\"')"
      ],
      "execution_count": null,
      "outputs": [
        {
          "output_type": "stream",
          "text": [
            "Find missing value is \"-\"\n"
          ],
          "name": "stdout"
        }
      ]
    },
    {
      "cell_type": "code",
      "metadata": {
        "id": "GX3BeD361pTw",
        "outputId": "6e28d47b-80e1-4717-b115-1453e2ed5828"
      },
      "source": [
        "#replace missing with NAN\n",
        "df_ht.replace('-', np.nan, inplace = True)\n",
        "\n",
        "#missing counts by column\n",
        "print(df_ht.isnull().sum(axis=0))\n"
      ],
      "execution_count": null,
      "outputs": [
        {
          "output_type": "stream",
          "text": [
            "date                     0\n",
            "time                     0\n",
            "s-sitename               0\n",
            "s-ip                     0\n",
            "cs-method                0\n",
            "cs-uri-stem              0\n",
            "cs-uri-query       7886532\n",
            "s-port                   0\n",
            "cs-username        8438928\n",
            "c-ip                     0\n",
            "cs(User-Agent)        3527\n",
            "cs(Referer)        1308994\n",
            "sc-status                0\n",
            "sc-substatus             0\n",
            "sc-win32-status          0\n",
            "dtype: int64\n"
          ],
          "name": "stdout"
        }
      ]
    },
    {
      "cell_type": "code",
      "metadata": {
        "id": "rZgYRSMlrd02",
        "outputId": "54d47ca5-d328-4efe-9fe3-aa4dc0761173"
      },
      "source": [
        "#missing value percentage\n",
        "missing_value = (df_ht.isnull().sum(axis=0)*100/len(df_ht))\\\n",
        "                    .reset_index().rename(\n",
        "                      columns = {\"index\": \"columns\", \n",
        "                                 0: \"% percent of missing value\"})\\\n",
        "                          .sort_values(\n",
        "                              by=\"% percent of missing value\", \n",
        "                              ascending=False)\n",
        "\n",
        "print(missing_value[missing_value['% percent of missing value'] != 0])\n",
        "\n"
      ],
      "execution_count": null,
      "outputs": [
        {
          "output_type": "stream",
          "text": [
            "           columns  % percent of missing value\n",
            "8      cs-username                  100.000000\n",
            "6     cs-uri-query                   93.454192\n",
            "11     cs(Referer)                   15.511378\n",
            "10  cs(User-Agent)                    0.041794\n"
          ],
          "name": "stdout"
        }
      ]
    },
    {
      "cell_type": "code",
      "metadata": {
        "id": "Csax84skvMh0",
        "outputId": "932bb772-c10e-42c2-e115-a39eab3ec14f"
      },
      "source": [
        "# remove columns have above 15% missing value\n",
        "drop_columns = list(missing_value[missing_value['% percent of missing value'] > 15]['columns'])\n",
        "\n",
        "print('After dropping columns above 15% missing values\\n')\n",
        "df_ht.drop(columns = drop_columns , axis =1, inplace = True)\n",
        "\n",
        "print(df_ht.isnull().sum())\n",
        "print(df_ht.shape)\n"
      ],
      "execution_count": null,
      "outputs": [
        {
          "output_type": "stream",
          "text": [
            "After dropping columns above 15% missing values\n",
            "\n",
            "date                  0\n",
            "time                  0\n",
            "s-sitename            0\n",
            "s-ip                  0\n",
            "cs-method             0\n",
            "cs-uri-stem           0\n",
            "s-port                0\n",
            "c-ip                  0\n",
            "cs(User-Agent)     3527\n",
            "sc-status             0\n",
            "sc-substatus          0\n",
            "sc-win32-status       0\n",
            "dtype: int64\n",
            "(8438928, 12)\n"
          ],
          "name": "stdout"
        }
      ]
    },
    {
      "cell_type": "code",
      "metadata": {
        "id": "68yjclXLrd02",
        "outputId": "20f02e59-436b-467f-8ebd-75def07fe55c"
      },
      "source": [
        "#remove any records with missing values\n",
        "df_ht.dropna( axis=0 , how = 'any',inplace = True)\n",
        "print('After drop any records with mising value\\n')\n",
        "print(df_ht.isnull().sum())"
      ],
      "execution_count": null,
      "outputs": [
        {
          "output_type": "stream",
          "text": [
            "After drop any records with mising value\n",
            "\n",
            "date               0\n",
            "time               0\n",
            "s-sitename         0\n",
            "s-ip               0\n",
            "cs-method          0\n",
            "cs-uri-stem        0\n",
            "s-port             0\n",
            "c-ip               0\n",
            "cs(User-Agent)     0\n",
            "sc-status          0\n",
            "sc-substatus       0\n",
            "sc-win32-status    0\n",
            "dtype: int64\n"
          ],
          "name": "stdout"
        }
      ]
    },
    {
      "cell_type": "code",
      "metadata": {
        "id": "_9KH4L3Erd03",
        "outputId": "136c136c-b018-4aae-c8bc-9ef623c04919"
      },
      "source": [
        "df_ht.shape"
      ],
      "execution_count": null,
      "outputs": [
        {
          "output_type": "execute_result",
          "data": {
            "text/plain": [
              "(8435401, 12)"
            ]
          },
          "metadata": {
            "tags": []
          },
          "execution_count": 138
        }
      ]
    },
    {
      "cell_type": "markdown",
      "metadata": {
        "id": "mq3sWOXtrZhF"
      },
      "source": [
        "## 2. Data Statistics Description"
      ]
    },
    {
      "cell_type": "markdown",
      "metadata": {
        "id": "BJuh1nsirmOy"
      },
      "source": [
        "### 2.1 Traffic Analysis"
      ]
    },
    {
      "cell_type": "markdown",
      "metadata": {
        "id": "vzey2OZygD8u"
      },
      "source": [
        "\n",
        "<div class=\"alert alert-block alert-warning\">\n",
        "\n",
        "**Code**: \n",
        "    Discover on the traffics by analysing hourly requests, then plot it into Bar Chart.\n",
        "    <br>\n",
        "    *Keep the outputs for code in your notebook.\n",
        "</div> \n",
        "\n",
        "<div class=\"alert alert-block alert-warning\">\n",
        "    \n",
        "**Report**: \n",
        "    **Part I 2.1.A** Please include your result for this coding task into your report Part I, with proper section title '2.1.A'.\n",
        "</div>\n",
        "    </div>\n"
      ]
    },
    {
      "cell_type": "markdown",
      "metadata": {
        "id": "EpEeaqZtxIZg"
      },
      "source": [
        "#### By day and plot \n",
        "\n"
      ]
    },
    {
      "cell_type": "code",
      "metadata": {
        "id": "DAH1IrWbfQQW",
        "outputId": "732d426e-ebd2-44b3-cf30-ddf6957e01e8"
      },
      "source": [
        "#construct datetime format in order to get hour\n",
        "\n",
        "df_ht['date_time'] = df_ht['date'] +\" \"+ df_ht['time']\n",
        "df_ht['date_time'] = pd.to_datetime(df_ht['date_time'], format = \"%Y-%m-%d %H:%M:%S\")\n",
        "df_ht.drop(['date','time'], axis =1 ,inplace=True) \n",
        "\n",
        "#get hour\n",
        "df_ht['hour'] = df_ht['date_time'].apply(lambda x : x.hour)\n",
        "df_ht[['hour','date_time']]\n"
      ],
      "execution_count": null,
      "outputs": [
        {
          "output_type": "execute_result",
          "data": {
            "text/plain": [
              "       hour           date_time\n",
              "0         0 2006-11-01 00:00:08\n",
              "1         0 2006-11-01 00:00:08\n",
              "2         0 2006-11-01 00:00:08\n",
              "3         0 2006-11-01 00:00:09\n",
              "4         0 2006-11-01 00:00:09\n",
              "...     ...                 ...\n",
              "63741    23 2007-02-28 23:59:57\n",
              "63742    23 2007-02-28 23:59:57\n",
              "63743    23 2007-02-28 23:59:57\n",
              "63744    23 2007-02-28 23:59:57\n",
              "63745     0 2007-03-01 00:00:00\n",
              "\n",
              "[8435401 rows x 2 columns]"
            ],
            "text/html": [
              "<div>\n",
              "<style scoped>\n",
              "    .dataframe tbody tr th:only-of-type {\n",
              "        vertical-align: middle;\n",
              "    }\n",
              "\n",
              "    .dataframe tbody tr th {\n",
              "        vertical-align: top;\n",
              "    }\n",
              "\n",
              "    .dataframe thead th {\n",
              "        text-align: right;\n",
              "    }\n",
              "</style>\n",
              "<table border=\"1\" class=\"dataframe\">\n",
              "  <thead>\n",
              "    <tr style=\"text-align: right;\">\n",
              "      <th></th>\n",
              "      <th>hour</th>\n",
              "      <th>date_time</th>\n",
              "    </tr>\n",
              "  </thead>\n",
              "  <tbody>\n",
              "    <tr>\n",
              "      <th>0</th>\n",
              "      <td>0</td>\n",
              "      <td>2006-11-01 00:00:08</td>\n",
              "    </tr>\n",
              "    <tr>\n",
              "      <th>1</th>\n",
              "      <td>0</td>\n",
              "      <td>2006-11-01 00:00:08</td>\n",
              "    </tr>\n",
              "    <tr>\n",
              "      <th>2</th>\n",
              "      <td>0</td>\n",
              "      <td>2006-11-01 00:00:08</td>\n",
              "    </tr>\n",
              "    <tr>\n",
              "      <th>3</th>\n",
              "      <td>0</td>\n",
              "      <td>2006-11-01 00:00:09</td>\n",
              "    </tr>\n",
              "    <tr>\n",
              "      <th>4</th>\n",
              "      <td>0</td>\n",
              "      <td>2006-11-01 00:00:09</td>\n",
              "    </tr>\n",
              "    <tr>\n",
              "      <th>...</th>\n",
              "      <td>...</td>\n",
              "      <td>...</td>\n",
              "    </tr>\n",
              "    <tr>\n",
              "      <th>63741</th>\n",
              "      <td>23</td>\n",
              "      <td>2007-02-28 23:59:57</td>\n",
              "    </tr>\n",
              "    <tr>\n",
              "      <th>63742</th>\n",
              "      <td>23</td>\n",
              "      <td>2007-02-28 23:59:57</td>\n",
              "    </tr>\n",
              "    <tr>\n",
              "      <th>63743</th>\n",
              "      <td>23</td>\n",
              "      <td>2007-02-28 23:59:57</td>\n",
              "    </tr>\n",
              "    <tr>\n",
              "      <th>63744</th>\n",
              "      <td>23</td>\n",
              "      <td>2007-02-28 23:59:57</td>\n",
              "    </tr>\n",
              "    <tr>\n",
              "      <th>63745</th>\n",
              "      <td>0</td>\n",
              "      <td>2007-03-01 00:00:00</td>\n",
              "    </tr>\n",
              "  </tbody>\n",
              "</table>\n",
              "<p>8435401 rows × 2 columns</p>\n",
              "</div>"
            ]
          },
          "metadata": {
            "tags": []
          },
          "execution_count": 139
        }
      ]
    },
    {
      "cell_type": "code",
      "metadata": {
        "id": "HMzLJNvFrd04",
        "outputId": "fec47c84-840d-4676-aeae-07bd62e14b42"
      },
      "source": [
        "#insepct hour_request\n",
        "print('\\n\\n\\n-----------Unique Time Hour-----------\\n')\n",
        "print(df_ht['hour'].unique())\n",
        "print('\\n\\n\\n-----------Time Hour Counts-----------\\n')\n",
        "df_ht['hour'].value_counts(sort =False)"
      ],
      "execution_count": null,
      "outputs": [
        {
          "output_type": "stream",
          "text": [
            "\n",
            "\n",
            "\n",
            "-----------Unique Time Hour-----------\n",
            "\n",
            "[ 0  1  2  3  4  5  6  7  8  9 10 11 12 13 14 15 16 17 18 19 20 21 22 23]\n",
            "\n",
            "\n",
            "\n",
            "-----------Time Hour Counts-----------\n",
            "\n"
          ],
          "name": "stdout"
        },
        {
          "output_type": "execute_result",
          "data": {
            "text/plain": [
              "0     155914\n",
              "1     344334\n",
              "2     432290\n",
              "3     546655\n",
              "4     529352\n",
              "5     487330\n",
              "6     544734\n",
              "7     522365\n",
              "8     550744\n",
              "9     553564\n",
              "10    443519\n",
              "11    368948\n",
              "12    367635\n",
              "13    442429\n",
              "14    493695\n",
              "15    473057\n",
              "16    387291\n",
              "17    250285\n",
              "18    159546\n",
              "19     93829\n",
              "20     72559\n",
              "21     66474\n",
              "22     65218\n",
              "23     83634\n",
              "Name: hour, dtype: int64"
            ]
          },
          "metadata": {
            "tags": []
          },
          "execution_count": 140
        }
      ]
    },
    {
      "cell_type": "code",
      "metadata": {
        "id": "L0EdD1lUrd04",
        "outputId": "51b70ecf-4bf7-423a-ff3a-579d76c5c0ed"
      },
      "source": [
        "#!pip install seaborn\n",
        "import seaborn as sns\n",
        "\n",
        "plt.style.use('ggplot')\n",
        "\n",
        "plt.figure(figsize =(8,7))\n",
        "sns.countplot(x= 'hour', data =df_ht)\n",
        "\n",
        "plt.ylabel('Request counts', fontsize =16)\n",
        "plt.xlabel('Time Hour',fontsize =16)\n",
        "plt.title(\"Requests and Time Hour (Non-Sorting)\",fontsize =16)\n",
        "plt.show()\n",
        "#plt.savefig('hour_bar_chart_1')"
      ],
      "execution_count": null,
      "outputs": [
        {
          "output_type": "display_data",
          "data": {
            "text/plain": [
              "<Figure size 576x504 with 1 Axes>"
            ],
            "image/svg+xml": "<?xml version=\"1.0\" encoding=\"utf-8\" standalone=\"no\"?>\n<!DOCTYPE svg PUBLIC \"-//W3C//DTD SVG 1.1//EN\"\n  \"http://www.w3.org/Graphics/SVG/1.1/DTD/svg11.dtd\">\n<!-- Created with matplotlib (https://matplotlib.org/) -->\n<svg height=\"449.240625pt\" version=\"1.1\" viewBox=\"0 0 525.46 449.240625\" width=\"525.46pt\" xmlns=\"http://www.w3.org/2000/svg\" xmlns:xlink=\"http://www.w3.org/1999/xlink\">\n <metadata>\n  <rdf:RDF xmlns:cc=\"http://creativecommons.org/ns#\" xmlns:dc=\"http://purl.org/dc/elements/1.1/\" xmlns:rdf=\"http://www.w3.org/1999/02/22-rdf-syntax-ns#\">\n   <cc:Work>\n    <dc:type rdf:resource=\"http://purl.org/dc/dcmitype/StillImage\"/>\n    <dc:date>2021-04-15T02:31:56.321235</dc:date>\n    <dc:format>image/svg+xml</dc:format>\n    <dc:creator>\n     <cc:Agent>\n      <dc:title>Matplotlib v3.3.4, https://matplotlib.org/</dc:title>\n     </cc:Agent>\n    </dc:creator>\n   </cc:Work>\n  </rdf:RDF>\n </metadata>\n <defs>\n  <style type=\"text/css\">*{stroke-linecap:butt;stroke-linejoin:round;}</style>\n </defs>\n <g id=\"figure_1\">\n  <g id=\"patch_1\">\n   <path d=\"M 0 449.240625 \nL 525.46 449.240625 \nL 525.46 0 \nL 0 0 \nz\n\" style=\"fill:#ffffff;\"/>\n  </g>\n  <g id=\"axes_1\">\n   <g id=\"patch_2\">\n    <path d=\"M 71.86 405.8775 \nL 518.26 405.8775 \nL 518.26 25.3575 \nL 71.86 25.3575 \nz\n\" style=\"fill:#e5e5e5;\"/>\n   </g>\n   <g id=\"matplotlib.axis_1\">\n    <g id=\"xtick_1\">\n     <g id=\"line2d_1\">\n      <defs>\n       <path d=\"M 0 0 \nL 0 3.5 \n\" id=\"m4eb2daba8a\" style=\"stroke:#555555;stroke-width:0.8;\"/>\n      </defs>\n      <g>\n       <use style=\"fill:#555555;stroke:#555555;stroke-width:0.8;\" x=\"81.16\" xlink:href=\"#m4eb2daba8a\" y=\"405.8775\"/>\n      </g>\n     </g>\n     <g id=\"text_1\">\n      <!-- 0 -->\n      <g style=\"fill:#555555;\" transform=\"translate(77.97875 420.475937)scale(0.1 -0.1)\">\n       <defs>\n        <path d=\"M 31.78125 66.40625 \nQ 24.171875 66.40625 20.328125 58.90625 \nQ 16.5 51.421875 16.5 36.375 \nQ 16.5 21.390625 20.328125 13.890625 \nQ 24.171875 6.390625 31.78125 6.390625 \nQ 39.453125 6.390625 43.28125 13.890625 \nQ 47.125 21.390625 47.125 36.375 \nQ 47.125 51.421875 43.28125 58.90625 \nQ 39.453125 66.40625 31.78125 66.40625 \nz\nM 31.78125 74.21875 \nQ 44.046875 74.21875 50.515625 64.515625 \nQ 56.984375 54.828125 56.984375 36.375 \nQ 56.984375 17.96875 50.515625 8.265625 \nQ 44.046875 -1.421875 31.78125 -1.421875 \nQ 19.53125 -1.421875 13.0625 8.265625 \nQ 6.59375 17.96875 6.59375 36.375 \nQ 6.59375 54.828125 13.0625 64.515625 \nQ 19.53125 74.21875 31.78125 74.21875 \nz\n\" id=\"DejaVuSans-48\"/>\n       </defs>\n       <use xlink:href=\"#DejaVuSans-48\"/>\n      </g>\n     </g>\n    </g>\n    <g id=\"xtick_2\">\n     <g id=\"line2d_2\">\n      <g>\n       <use style=\"fill:#555555;stroke:#555555;stroke-width:0.8;\" x=\"99.76\" xlink:href=\"#m4eb2daba8a\" y=\"405.8775\"/>\n      </g>\n     </g>\n     <g id=\"text_2\">\n      <!-- 1 -->\n      <g style=\"fill:#555555;\" transform=\"translate(96.57875 420.475937)scale(0.1 -0.1)\">\n       <defs>\n        <path d=\"M 12.40625 8.296875 \nL 28.515625 8.296875 \nL 28.515625 63.921875 \nL 10.984375 60.40625 \nL 10.984375 69.390625 \nL 28.421875 72.90625 \nL 38.28125 72.90625 \nL 38.28125 8.296875 \nL 54.390625 8.296875 \nL 54.390625 0 \nL 12.40625 0 \nz\n\" id=\"DejaVuSans-49\"/>\n       </defs>\n       <use xlink:href=\"#DejaVuSans-49\"/>\n      </g>\n     </g>\n    </g>\n    <g id=\"xtick_3\">\n     <g id=\"line2d_3\">\n      <g>\n       <use style=\"fill:#555555;stroke:#555555;stroke-width:0.8;\" x=\"118.36\" xlink:href=\"#m4eb2daba8a\" y=\"405.8775\"/>\n      </g>\n     </g>\n     <g id=\"text_3\">\n      <!-- 2 -->\n      <g style=\"fill:#555555;\" transform=\"translate(115.17875 420.475937)scale(0.1 -0.1)\">\n       <defs>\n        <path d=\"M 19.1875 8.296875 \nL 53.609375 8.296875 \nL 53.609375 0 \nL 7.328125 0 \nL 7.328125 8.296875 \nQ 12.9375 14.109375 22.625 23.890625 \nQ 32.328125 33.6875 34.8125 36.53125 \nQ 39.546875 41.84375 41.421875 45.53125 \nQ 43.3125 49.21875 43.3125 52.78125 \nQ 43.3125 58.59375 39.234375 62.25 \nQ 35.15625 65.921875 28.609375 65.921875 \nQ 23.96875 65.921875 18.8125 64.3125 \nQ 13.671875 62.703125 7.8125 59.421875 \nL 7.8125 69.390625 \nQ 13.765625 71.78125 18.9375 73 \nQ 24.125 74.21875 28.421875 74.21875 \nQ 39.75 74.21875 46.484375 68.546875 \nQ 53.21875 62.890625 53.21875 53.421875 \nQ 53.21875 48.921875 51.53125 44.890625 \nQ 49.859375 40.875 45.40625 35.40625 \nQ 44.1875 33.984375 37.640625 27.21875 \nQ 31.109375 20.453125 19.1875 8.296875 \nz\n\" id=\"DejaVuSans-50\"/>\n       </defs>\n       <use xlink:href=\"#DejaVuSans-50\"/>\n      </g>\n     </g>\n    </g>\n    <g id=\"xtick_4\">\n     <g id=\"line2d_4\">\n      <g>\n       <use style=\"fill:#555555;stroke:#555555;stroke-width:0.8;\" x=\"136.96\" xlink:href=\"#m4eb2daba8a\" y=\"405.8775\"/>\n      </g>\n     </g>\n     <g id=\"text_4\">\n      <!-- 3 -->\n      <g style=\"fill:#555555;\" transform=\"translate(133.77875 420.475937)scale(0.1 -0.1)\">\n       <defs>\n        <path d=\"M 40.578125 39.3125 \nQ 47.65625 37.796875 51.625 33 \nQ 55.609375 28.21875 55.609375 21.1875 \nQ 55.609375 10.40625 48.1875 4.484375 \nQ 40.765625 -1.421875 27.09375 -1.421875 \nQ 22.515625 -1.421875 17.65625 -0.515625 \nQ 12.796875 0.390625 7.625 2.203125 \nL 7.625 11.71875 \nQ 11.71875 9.328125 16.59375 8.109375 \nQ 21.484375 6.890625 26.8125 6.890625 \nQ 36.078125 6.890625 40.9375 10.546875 \nQ 45.796875 14.203125 45.796875 21.1875 \nQ 45.796875 27.640625 41.28125 31.265625 \nQ 36.765625 34.90625 28.71875 34.90625 \nL 20.21875 34.90625 \nL 20.21875 43.015625 \nL 29.109375 43.015625 \nQ 36.375 43.015625 40.234375 45.921875 \nQ 44.09375 48.828125 44.09375 54.296875 \nQ 44.09375 59.90625 40.109375 62.90625 \nQ 36.140625 65.921875 28.71875 65.921875 \nQ 24.65625 65.921875 20.015625 65.03125 \nQ 15.375 64.15625 9.8125 62.3125 \nL 9.8125 71.09375 \nQ 15.4375 72.65625 20.34375 73.4375 \nQ 25.25 74.21875 29.59375 74.21875 \nQ 40.828125 74.21875 47.359375 69.109375 \nQ 53.90625 64.015625 53.90625 55.328125 \nQ 53.90625 49.265625 50.4375 45.09375 \nQ 46.96875 40.921875 40.578125 39.3125 \nz\n\" id=\"DejaVuSans-51\"/>\n       </defs>\n       <use xlink:href=\"#DejaVuSans-51\"/>\n      </g>\n     </g>\n    </g>\n    <g id=\"xtick_5\">\n     <g id=\"line2d_5\">\n      <g>\n       <use style=\"fill:#555555;stroke:#555555;stroke-width:0.8;\" x=\"155.56\" xlink:href=\"#m4eb2daba8a\" y=\"405.8775\"/>\n      </g>\n     </g>\n     <g id=\"text_5\">\n      <!-- 4 -->\n      <g style=\"fill:#555555;\" transform=\"translate(152.37875 420.475937)scale(0.1 -0.1)\">\n       <defs>\n        <path d=\"M 37.796875 64.3125 \nL 12.890625 25.390625 \nL 37.796875 25.390625 \nz\nM 35.203125 72.90625 \nL 47.609375 72.90625 \nL 47.609375 25.390625 \nL 58.015625 25.390625 \nL 58.015625 17.1875 \nL 47.609375 17.1875 \nL 47.609375 0 \nL 37.796875 0 \nL 37.796875 17.1875 \nL 4.890625 17.1875 \nL 4.890625 26.703125 \nz\n\" id=\"DejaVuSans-52\"/>\n       </defs>\n       <use xlink:href=\"#DejaVuSans-52\"/>\n      </g>\n     </g>\n    </g>\n    <g id=\"xtick_6\">\n     <g id=\"line2d_6\">\n      <g>\n       <use style=\"fill:#555555;stroke:#555555;stroke-width:0.8;\" x=\"174.16\" xlink:href=\"#m4eb2daba8a\" y=\"405.8775\"/>\n      </g>\n     </g>\n     <g id=\"text_6\">\n      <!-- 5 -->\n      <g style=\"fill:#555555;\" transform=\"translate(170.97875 420.475937)scale(0.1 -0.1)\">\n       <defs>\n        <path d=\"M 10.796875 72.90625 \nL 49.515625 72.90625 \nL 49.515625 64.59375 \nL 19.828125 64.59375 \nL 19.828125 46.734375 \nQ 21.96875 47.46875 24.109375 47.828125 \nQ 26.265625 48.1875 28.421875 48.1875 \nQ 40.625 48.1875 47.75 41.5 \nQ 54.890625 34.8125 54.890625 23.390625 \nQ 54.890625 11.625 47.5625 5.09375 \nQ 40.234375 -1.421875 26.90625 -1.421875 \nQ 22.3125 -1.421875 17.546875 -0.640625 \nQ 12.796875 0.140625 7.71875 1.703125 \nL 7.71875 11.625 \nQ 12.109375 9.234375 16.796875 8.0625 \nQ 21.484375 6.890625 26.703125 6.890625 \nQ 35.15625 6.890625 40.078125 11.328125 \nQ 45.015625 15.765625 45.015625 23.390625 \nQ 45.015625 31 40.078125 35.4375 \nQ 35.15625 39.890625 26.703125 39.890625 \nQ 22.75 39.890625 18.8125 39.015625 \nQ 14.890625 38.140625 10.796875 36.28125 \nz\n\" id=\"DejaVuSans-53\"/>\n       </defs>\n       <use xlink:href=\"#DejaVuSans-53\"/>\n      </g>\n     </g>\n    </g>\n    <g id=\"xtick_7\">\n     <g id=\"line2d_7\">\n      <g>\n       <use style=\"fill:#555555;stroke:#555555;stroke-width:0.8;\" x=\"192.76\" xlink:href=\"#m4eb2daba8a\" y=\"405.8775\"/>\n      </g>\n     </g>\n     <g id=\"text_7\">\n      <!-- 6 -->\n      <g style=\"fill:#555555;\" transform=\"translate(189.57875 420.475937)scale(0.1 -0.1)\">\n       <defs>\n        <path d=\"M 33.015625 40.375 \nQ 26.375 40.375 22.484375 35.828125 \nQ 18.609375 31.296875 18.609375 23.390625 \nQ 18.609375 15.53125 22.484375 10.953125 \nQ 26.375 6.390625 33.015625 6.390625 \nQ 39.65625 6.390625 43.53125 10.953125 \nQ 47.40625 15.53125 47.40625 23.390625 \nQ 47.40625 31.296875 43.53125 35.828125 \nQ 39.65625 40.375 33.015625 40.375 \nz\nM 52.59375 71.296875 \nL 52.59375 62.3125 \nQ 48.875 64.0625 45.09375 64.984375 \nQ 41.3125 65.921875 37.59375 65.921875 \nQ 27.828125 65.921875 22.671875 59.328125 \nQ 17.53125 52.734375 16.796875 39.40625 \nQ 19.671875 43.65625 24.015625 45.921875 \nQ 28.375 48.1875 33.59375 48.1875 \nQ 44.578125 48.1875 50.953125 41.515625 \nQ 57.328125 34.859375 57.328125 23.390625 \nQ 57.328125 12.15625 50.6875 5.359375 \nQ 44.046875 -1.421875 33.015625 -1.421875 \nQ 20.359375 -1.421875 13.671875 8.265625 \nQ 6.984375 17.96875 6.984375 36.375 \nQ 6.984375 53.65625 15.1875 63.9375 \nQ 23.390625 74.21875 37.203125 74.21875 \nQ 40.921875 74.21875 44.703125 73.484375 \nQ 48.484375 72.75 52.59375 71.296875 \nz\n\" id=\"DejaVuSans-54\"/>\n       </defs>\n       <use xlink:href=\"#DejaVuSans-54\"/>\n      </g>\n     </g>\n    </g>\n    <g id=\"xtick_8\">\n     <g id=\"line2d_8\">\n      <g>\n       <use style=\"fill:#555555;stroke:#555555;stroke-width:0.8;\" x=\"211.36\" xlink:href=\"#m4eb2daba8a\" y=\"405.8775\"/>\n      </g>\n     </g>\n     <g id=\"text_8\">\n      <!-- 7 -->\n      <g style=\"fill:#555555;\" transform=\"translate(208.17875 420.475937)scale(0.1 -0.1)\">\n       <defs>\n        <path d=\"M 8.203125 72.90625 \nL 55.078125 72.90625 \nL 55.078125 68.703125 \nL 28.609375 0 \nL 18.3125 0 \nL 43.21875 64.59375 \nL 8.203125 64.59375 \nz\n\" id=\"DejaVuSans-55\"/>\n       </defs>\n       <use xlink:href=\"#DejaVuSans-55\"/>\n      </g>\n     </g>\n    </g>\n    <g id=\"xtick_9\">\n     <g id=\"line2d_9\">\n      <g>\n       <use style=\"fill:#555555;stroke:#555555;stroke-width:0.8;\" x=\"229.96\" xlink:href=\"#m4eb2daba8a\" y=\"405.8775\"/>\n      </g>\n     </g>\n     <g id=\"text_9\">\n      <!-- 8 -->\n      <g style=\"fill:#555555;\" transform=\"translate(226.77875 420.475937)scale(0.1 -0.1)\">\n       <defs>\n        <path d=\"M 31.78125 34.625 \nQ 24.75 34.625 20.71875 30.859375 \nQ 16.703125 27.09375 16.703125 20.515625 \nQ 16.703125 13.921875 20.71875 10.15625 \nQ 24.75 6.390625 31.78125 6.390625 \nQ 38.8125 6.390625 42.859375 10.171875 \nQ 46.921875 13.96875 46.921875 20.515625 \nQ 46.921875 27.09375 42.890625 30.859375 \nQ 38.875 34.625 31.78125 34.625 \nz\nM 21.921875 38.8125 \nQ 15.578125 40.375 12.03125 44.71875 \nQ 8.5 49.078125 8.5 55.328125 \nQ 8.5 64.0625 14.71875 69.140625 \nQ 20.953125 74.21875 31.78125 74.21875 \nQ 42.671875 74.21875 48.875 69.140625 \nQ 55.078125 64.0625 55.078125 55.328125 \nQ 55.078125 49.078125 51.53125 44.71875 \nQ 48 40.375 41.703125 38.8125 \nQ 48.828125 37.15625 52.796875 32.3125 \nQ 56.78125 27.484375 56.78125 20.515625 \nQ 56.78125 9.90625 50.3125 4.234375 \nQ 43.84375 -1.421875 31.78125 -1.421875 \nQ 19.734375 -1.421875 13.25 4.234375 \nQ 6.78125 9.90625 6.78125 20.515625 \nQ 6.78125 27.484375 10.78125 32.3125 \nQ 14.796875 37.15625 21.921875 38.8125 \nz\nM 18.3125 54.390625 \nQ 18.3125 48.734375 21.84375 45.5625 \nQ 25.390625 42.390625 31.78125 42.390625 \nQ 38.140625 42.390625 41.71875 45.5625 \nQ 45.3125 48.734375 45.3125 54.390625 \nQ 45.3125 60.0625 41.71875 63.234375 \nQ 38.140625 66.40625 31.78125 66.40625 \nQ 25.390625 66.40625 21.84375 63.234375 \nQ 18.3125 60.0625 18.3125 54.390625 \nz\n\" id=\"DejaVuSans-56\"/>\n       </defs>\n       <use xlink:href=\"#DejaVuSans-56\"/>\n      </g>\n     </g>\n    </g>\n    <g id=\"xtick_10\">\n     <g id=\"line2d_10\">\n      <g>\n       <use style=\"fill:#555555;stroke:#555555;stroke-width:0.8;\" x=\"248.56\" xlink:href=\"#m4eb2daba8a\" y=\"405.8775\"/>\n      </g>\n     </g>\n     <g id=\"text_10\">\n      <!-- 9 -->\n      <g style=\"fill:#555555;\" transform=\"translate(245.37875 420.475937)scale(0.1 -0.1)\">\n       <defs>\n        <path d=\"M 10.984375 1.515625 \nL 10.984375 10.5 \nQ 14.703125 8.734375 18.5 7.8125 \nQ 22.3125 6.890625 25.984375 6.890625 \nQ 35.75 6.890625 40.890625 13.453125 \nQ 46.046875 20.015625 46.78125 33.40625 \nQ 43.953125 29.203125 39.59375 26.953125 \nQ 35.25 24.703125 29.984375 24.703125 \nQ 19.046875 24.703125 12.671875 31.3125 \nQ 6.296875 37.9375 6.296875 49.421875 \nQ 6.296875 60.640625 12.9375 67.421875 \nQ 19.578125 74.21875 30.609375 74.21875 \nQ 43.265625 74.21875 49.921875 64.515625 \nQ 56.59375 54.828125 56.59375 36.375 \nQ 56.59375 19.140625 48.40625 8.859375 \nQ 40.234375 -1.421875 26.421875 -1.421875 \nQ 22.703125 -1.421875 18.890625 -0.6875 \nQ 15.09375 0.046875 10.984375 1.515625 \nz\nM 30.609375 32.421875 \nQ 37.25 32.421875 41.125 36.953125 \nQ 45.015625 41.5 45.015625 49.421875 \nQ 45.015625 57.28125 41.125 61.84375 \nQ 37.25 66.40625 30.609375 66.40625 \nQ 23.96875 66.40625 20.09375 61.84375 \nQ 16.21875 57.28125 16.21875 49.421875 \nQ 16.21875 41.5 20.09375 36.953125 \nQ 23.96875 32.421875 30.609375 32.421875 \nz\n\" id=\"DejaVuSans-57\"/>\n       </defs>\n       <use xlink:href=\"#DejaVuSans-57\"/>\n      </g>\n     </g>\n    </g>\n    <g id=\"xtick_11\">\n     <g id=\"line2d_11\">\n      <g>\n       <use style=\"fill:#555555;stroke:#555555;stroke-width:0.8;\" x=\"267.16\" xlink:href=\"#m4eb2daba8a\" y=\"405.8775\"/>\n      </g>\n     </g>\n     <g id=\"text_11\">\n      <!-- 10 -->\n      <g style=\"fill:#555555;\" transform=\"translate(260.7975 420.475937)scale(0.1 -0.1)\">\n       <use xlink:href=\"#DejaVuSans-49\"/>\n       <use x=\"63.623047\" xlink:href=\"#DejaVuSans-48\"/>\n      </g>\n     </g>\n    </g>\n    <g id=\"xtick_12\">\n     <g id=\"line2d_12\">\n      <g>\n       <use style=\"fill:#555555;stroke:#555555;stroke-width:0.8;\" x=\"285.76\" xlink:href=\"#m4eb2daba8a\" y=\"405.8775\"/>\n      </g>\n     </g>\n     <g id=\"text_12\">\n      <!-- 11 -->\n      <g style=\"fill:#555555;\" transform=\"translate(279.3975 420.475937)scale(0.1 -0.1)\">\n       <use xlink:href=\"#DejaVuSans-49\"/>\n       <use x=\"63.623047\" xlink:href=\"#DejaVuSans-49\"/>\n      </g>\n     </g>\n    </g>\n    <g id=\"xtick_13\">\n     <g id=\"line2d_13\">\n      <g>\n       <use style=\"fill:#555555;stroke:#555555;stroke-width:0.8;\" x=\"304.36\" xlink:href=\"#m4eb2daba8a\" y=\"405.8775\"/>\n      </g>\n     </g>\n     <g id=\"text_13\">\n      <!-- 12 -->\n      <g style=\"fill:#555555;\" transform=\"translate(297.9975 420.475937)scale(0.1 -0.1)\">\n       <use xlink:href=\"#DejaVuSans-49\"/>\n       <use x=\"63.623047\" xlink:href=\"#DejaVuSans-50\"/>\n      </g>\n     </g>\n    </g>\n    <g id=\"xtick_14\">\n     <g id=\"line2d_14\">\n      <g>\n       <use style=\"fill:#555555;stroke:#555555;stroke-width:0.8;\" x=\"322.96\" xlink:href=\"#m4eb2daba8a\" y=\"405.8775\"/>\n      </g>\n     </g>\n     <g id=\"text_14\">\n      <!-- 13 -->\n      <g style=\"fill:#555555;\" transform=\"translate(316.5975 420.475937)scale(0.1 -0.1)\">\n       <use xlink:href=\"#DejaVuSans-49\"/>\n       <use x=\"63.623047\" xlink:href=\"#DejaVuSans-51\"/>\n      </g>\n     </g>\n    </g>\n    <g id=\"xtick_15\">\n     <g id=\"line2d_15\">\n      <g>\n       <use style=\"fill:#555555;stroke:#555555;stroke-width:0.8;\" x=\"341.56\" xlink:href=\"#m4eb2daba8a\" y=\"405.8775\"/>\n      </g>\n     </g>\n     <g id=\"text_15\">\n      <!-- 14 -->\n      <g style=\"fill:#555555;\" transform=\"translate(335.1975 420.475937)scale(0.1 -0.1)\">\n       <use xlink:href=\"#DejaVuSans-49\"/>\n       <use x=\"63.623047\" xlink:href=\"#DejaVuSans-52\"/>\n      </g>\n     </g>\n    </g>\n    <g id=\"xtick_16\">\n     <g id=\"line2d_16\">\n      <g>\n       <use style=\"fill:#555555;stroke:#555555;stroke-width:0.8;\" x=\"360.16\" xlink:href=\"#m4eb2daba8a\" y=\"405.8775\"/>\n      </g>\n     </g>\n     <g id=\"text_16\">\n      <!-- 15 -->\n      <g style=\"fill:#555555;\" transform=\"translate(353.7975 420.475937)scale(0.1 -0.1)\">\n       <use xlink:href=\"#DejaVuSans-49\"/>\n       <use x=\"63.623047\" xlink:href=\"#DejaVuSans-53\"/>\n      </g>\n     </g>\n    </g>\n    <g id=\"xtick_17\">\n     <g id=\"line2d_17\">\n      <g>\n       <use style=\"fill:#555555;stroke:#555555;stroke-width:0.8;\" x=\"378.76\" xlink:href=\"#m4eb2daba8a\" y=\"405.8775\"/>\n      </g>\n     </g>\n     <g id=\"text_17\">\n      <!-- 16 -->\n      <g style=\"fill:#555555;\" transform=\"translate(372.3975 420.475937)scale(0.1 -0.1)\">\n       <use xlink:href=\"#DejaVuSans-49\"/>\n       <use x=\"63.623047\" xlink:href=\"#DejaVuSans-54\"/>\n      </g>\n     </g>\n    </g>\n    <g id=\"xtick_18\">\n     <g id=\"line2d_18\">\n      <g>\n       <use style=\"fill:#555555;stroke:#555555;stroke-width:0.8;\" x=\"397.36\" xlink:href=\"#m4eb2daba8a\" y=\"405.8775\"/>\n      </g>\n     </g>\n     <g id=\"text_18\">\n      <!-- 17 -->\n      <g style=\"fill:#555555;\" transform=\"translate(390.9975 420.475937)scale(0.1 -0.1)\">\n       <use xlink:href=\"#DejaVuSans-49\"/>\n       <use x=\"63.623047\" xlink:href=\"#DejaVuSans-55\"/>\n      </g>\n     </g>\n    </g>\n    <g id=\"xtick_19\">\n     <g id=\"line2d_19\">\n      <g>\n       <use style=\"fill:#555555;stroke:#555555;stroke-width:0.8;\" x=\"415.96\" xlink:href=\"#m4eb2daba8a\" y=\"405.8775\"/>\n      </g>\n     </g>\n     <g id=\"text_19\">\n      <!-- 18 -->\n      <g style=\"fill:#555555;\" transform=\"translate(409.5975 420.475937)scale(0.1 -0.1)\">\n       <use xlink:href=\"#DejaVuSans-49\"/>\n       <use x=\"63.623047\" xlink:href=\"#DejaVuSans-56\"/>\n      </g>\n     </g>\n    </g>\n    <g id=\"xtick_20\">\n     <g id=\"line2d_20\">\n      <g>\n       <use style=\"fill:#555555;stroke:#555555;stroke-width:0.8;\" x=\"434.56\" xlink:href=\"#m4eb2daba8a\" y=\"405.8775\"/>\n      </g>\n     </g>\n     <g id=\"text_20\">\n      <!-- 19 -->\n      <g style=\"fill:#555555;\" transform=\"translate(428.1975 420.475937)scale(0.1 -0.1)\">\n       <use xlink:href=\"#DejaVuSans-49\"/>\n       <use x=\"63.623047\" xlink:href=\"#DejaVuSans-57\"/>\n      </g>\n     </g>\n    </g>\n    <g id=\"xtick_21\">\n     <g id=\"line2d_21\">\n      <g>\n       <use style=\"fill:#555555;stroke:#555555;stroke-width:0.8;\" x=\"453.16\" xlink:href=\"#m4eb2daba8a\" y=\"405.8775\"/>\n      </g>\n     </g>\n     <g id=\"text_21\">\n      <!-- 20 -->\n      <g style=\"fill:#555555;\" transform=\"translate(446.7975 420.475937)scale(0.1 -0.1)\">\n       <use xlink:href=\"#DejaVuSans-50\"/>\n       <use x=\"63.623047\" xlink:href=\"#DejaVuSans-48\"/>\n      </g>\n     </g>\n    </g>\n    <g id=\"xtick_22\">\n     <g id=\"line2d_22\">\n      <g>\n       <use style=\"fill:#555555;stroke:#555555;stroke-width:0.8;\" x=\"471.76\" xlink:href=\"#m4eb2daba8a\" y=\"405.8775\"/>\n      </g>\n     </g>\n     <g id=\"text_22\">\n      <!-- 21 -->\n      <g style=\"fill:#555555;\" transform=\"translate(465.3975 420.475937)scale(0.1 -0.1)\">\n       <use xlink:href=\"#DejaVuSans-50\"/>\n       <use x=\"63.623047\" xlink:href=\"#DejaVuSans-49\"/>\n      </g>\n     </g>\n    </g>\n    <g id=\"xtick_23\">\n     <g id=\"line2d_23\">\n      <g>\n       <use style=\"fill:#555555;stroke:#555555;stroke-width:0.8;\" x=\"490.36\" xlink:href=\"#m4eb2daba8a\" y=\"405.8775\"/>\n      </g>\n     </g>\n     <g id=\"text_23\">\n      <!-- 22 -->\n      <g style=\"fill:#555555;\" transform=\"translate(483.9975 420.475937)scale(0.1 -0.1)\">\n       <use xlink:href=\"#DejaVuSans-50\"/>\n       <use x=\"63.623047\" xlink:href=\"#DejaVuSans-50\"/>\n      </g>\n     </g>\n    </g>\n    <g id=\"xtick_24\">\n     <g id=\"line2d_24\">\n      <g>\n       <use style=\"fill:#555555;stroke:#555555;stroke-width:0.8;\" x=\"508.96\" xlink:href=\"#m4eb2daba8a\" y=\"405.8775\"/>\n      </g>\n     </g>\n     <g id=\"text_24\">\n      <!-- 23 -->\n      <g style=\"fill:#555555;\" transform=\"translate(502.5975 420.475937)scale(0.1 -0.1)\">\n       <use xlink:href=\"#DejaVuSans-50\"/>\n       <use x=\"63.623047\" xlink:href=\"#DejaVuSans-51\"/>\n      </g>\n     </g>\n    </g>\n    <g id=\"text_25\">\n     <!-- Time Hour -->\n     <g style=\"fill:#555555;\" transform=\"translate(253.67375 438.713125)scale(0.16 -0.16)\">\n      <defs>\n       <path d=\"M -0.296875 72.90625 \nL 61.375 72.90625 \nL 61.375 64.59375 \nL 35.5 64.59375 \nL 35.5 0 \nL 25.59375 0 \nL 25.59375 64.59375 \nL -0.296875 64.59375 \nz\n\" id=\"DejaVuSans-84\"/>\n       <path d=\"M 9.421875 54.6875 \nL 18.40625 54.6875 \nL 18.40625 0 \nL 9.421875 0 \nz\nM 9.421875 75.984375 \nL 18.40625 75.984375 \nL 18.40625 64.59375 \nL 9.421875 64.59375 \nz\n\" id=\"DejaVuSans-105\"/>\n       <path d=\"M 52 44.1875 \nQ 55.375 50.25 60.0625 53.125 \nQ 64.75 56 71.09375 56 \nQ 79.640625 56 84.28125 50.015625 \nQ 88.921875 44.046875 88.921875 33.015625 \nL 88.921875 0 \nL 79.890625 0 \nL 79.890625 32.71875 \nQ 79.890625 40.578125 77.09375 44.375 \nQ 74.3125 48.1875 68.609375 48.1875 \nQ 61.625 48.1875 57.5625 43.546875 \nQ 53.515625 38.921875 53.515625 30.90625 \nL 53.515625 0 \nL 44.484375 0 \nL 44.484375 32.71875 \nQ 44.484375 40.625 41.703125 44.40625 \nQ 38.921875 48.1875 33.109375 48.1875 \nQ 26.21875 48.1875 22.15625 43.53125 \nQ 18.109375 38.875 18.109375 30.90625 \nL 18.109375 0 \nL 9.078125 0 \nL 9.078125 54.6875 \nL 18.109375 54.6875 \nL 18.109375 46.1875 \nQ 21.1875 51.21875 25.484375 53.609375 \nQ 29.78125 56 35.6875 56 \nQ 41.65625 56 45.828125 52.96875 \nQ 50 49.953125 52 44.1875 \nz\n\" id=\"DejaVuSans-109\"/>\n       <path d=\"M 56.203125 29.59375 \nL 56.203125 25.203125 \nL 14.890625 25.203125 \nQ 15.484375 15.921875 20.484375 11.0625 \nQ 25.484375 6.203125 34.421875 6.203125 \nQ 39.59375 6.203125 44.453125 7.46875 \nQ 49.3125 8.734375 54.109375 11.28125 \nL 54.109375 2.78125 \nQ 49.265625 0.734375 44.1875 -0.34375 \nQ 39.109375 -1.421875 33.890625 -1.421875 \nQ 20.796875 -1.421875 13.15625 6.1875 \nQ 5.515625 13.8125 5.515625 26.8125 \nQ 5.515625 40.234375 12.765625 48.109375 \nQ 20.015625 56 32.328125 56 \nQ 43.359375 56 49.78125 48.890625 \nQ 56.203125 41.796875 56.203125 29.59375 \nz\nM 47.21875 32.234375 \nQ 47.125 39.59375 43.09375 43.984375 \nQ 39.0625 48.390625 32.421875 48.390625 \nQ 24.90625 48.390625 20.390625 44.140625 \nQ 15.875 39.890625 15.1875 32.171875 \nz\n\" id=\"DejaVuSans-101\"/>\n       <path id=\"DejaVuSans-32\"/>\n       <path d=\"M 9.8125 72.90625 \nL 19.671875 72.90625 \nL 19.671875 43.015625 \nL 55.515625 43.015625 \nL 55.515625 72.90625 \nL 65.375 72.90625 \nL 65.375 0 \nL 55.515625 0 \nL 55.515625 34.71875 \nL 19.671875 34.71875 \nL 19.671875 0 \nL 9.8125 0 \nz\n\" id=\"DejaVuSans-72\"/>\n       <path d=\"M 30.609375 48.390625 \nQ 23.390625 48.390625 19.1875 42.75 \nQ 14.984375 37.109375 14.984375 27.296875 \nQ 14.984375 17.484375 19.15625 11.84375 \nQ 23.34375 6.203125 30.609375 6.203125 \nQ 37.796875 6.203125 41.984375 11.859375 \nQ 46.1875 17.53125 46.1875 27.296875 \nQ 46.1875 37.015625 41.984375 42.703125 \nQ 37.796875 48.390625 30.609375 48.390625 \nz\nM 30.609375 56 \nQ 42.328125 56 49.015625 48.375 \nQ 55.71875 40.765625 55.71875 27.296875 \nQ 55.71875 13.875 49.015625 6.21875 \nQ 42.328125 -1.421875 30.609375 -1.421875 \nQ 18.84375 -1.421875 12.171875 6.21875 \nQ 5.515625 13.875 5.515625 27.296875 \nQ 5.515625 40.765625 12.171875 48.375 \nQ 18.84375 56 30.609375 56 \nz\n\" id=\"DejaVuSans-111\"/>\n       <path d=\"M 8.5 21.578125 \nL 8.5 54.6875 \nL 17.484375 54.6875 \nL 17.484375 21.921875 \nQ 17.484375 14.15625 20.5 10.265625 \nQ 23.53125 6.390625 29.59375 6.390625 \nQ 36.859375 6.390625 41.078125 11.03125 \nQ 45.3125 15.671875 45.3125 23.6875 \nL 45.3125 54.6875 \nL 54.296875 54.6875 \nL 54.296875 0 \nL 45.3125 0 \nL 45.3125 8.40625 \nQ 42.046875 3.421875 37.71875 1 \nQ 33.40625 -1.421875 27.6875 -1.421875 \nQ 18.265625 -1.421875 13.375 4.4375 \nQ 8.5 10.296875 8.5 21.578125 \nz\nM 31.109375 56 \nz\n\" id=\"DejaVuSans-117\"/>\n       <path d=\"M 41.109375 46.296875 \nQ 39.59375 47.171875 37.8125 47.578125 \nQ 36.03125 48 33.890625 48 \nQ 26.265625 48 22.1875 43.046875 \nQ 18.109375 38.09375 18.109375 28.8125 \nL 18.109375 0 \nL 9.078125 0 \nL 9.078125 54.6875 \nL 18.109375 54.6875 \nL 18.109375 46.1875 \nQ 20.953125 51.171875 25.484375 53.578125 \nQ 30.03125 56 36.53125 56 \nQ 37.453125 56 38.578125 55.875 \nQ 39.703125 55.765625 41.0625 55.515625 \nz\n\" id=\"DejaVuSans-114\"/>\n      </defs>\n      <use xlink:href=\"#DejaVuSans-84\"/>\n      <use x=\"57.958984\" xlink:href=\"#DejaVuSans-105\"/>\n      <use x=\"85.742188\" xlink:href=\"#DejaVuSans-109\"/>\n      <use x=\"183.154297\" xlink:href=\"#DejaVuSans-101\"/>\n      <use x=\"244.677734\" xlink:href=\"#DejaVuSans-32\"/>\n      <use x=\"276.464844\" xlink:href=\"#DejaVuSans-72\"/>\n      <use x=\"351.660156\" xlink:href=\"#DejaVuSans-111\"/>\n      <use x=\"412.841797\" xlink:href=\"#DejaVuSans-117\"/>\n      <use x=\"476.220703\" xlink:href=\"#DejaVuSans-114\"/>\n     </g>\n    </g>\n   </g>\n   <g id=\"matplotlib.axis_2\">\n    <g id=\"ytick_1\">\n     <g id=\"line2d_25\">\n      <path clip-path=\"url(#pc00c90d06b)\" d=\"M 71.86 405.8775 \nL 518.26 405.8775 \n\" style=\"fill:none;stroke:#ffffff;stroke-linecap:square;stroke-width:0.8;\"/>\n     </g>\n     <g id=\"line2d_26\">\n      <defs>\n       <path d=\"M 0 0 \nL -3.5 0 \n\" id=\"mf157a5d23a\" style=\"stroke:#555555;stroke-width:0.8;\"/>\n      </defs>\n      <g>\n       <use style=\"fill:#555555;stroke:#555555;stroke-width:0.8;\" x=\"71.86\" xlink:href=\"#mf157a5d23a\" y=\"405.8775\"/>\n      </g>\n     </g>\n     <g id=\"text_26\">\n      <!-- 0 -->\n      <g style=\"fill:#555555;\" transform=\"translate(58.4975 409.676719)scale(0.1 -0.1)\">\n       <use xlink:href=\"#DejaVuSans-48\"/>\n      </g>\n     </g>\n    </g>\n    <g id=\"ytick_2\">\n     <g id=\"line2d_27\">\n      <path clip-path=\"url(#pc00c90d06b)\" d=\"M 71.86 340.410815 \nL 518.26 340.410815 \n\" style=\"fill:none;stroke:#ffffff;stroke-linecap:square;stroke-width:0.8;\"/>\n     </g>\n     <g id=\"line2d_28\">\n      <g>\n       <use style=\"fill:#555555;stroke:#555555;stroke-width:0.8;\" x=\"71.86\" xlink:href=\"#mf157a5d23a\" y=\"340.410815\"/>\n      </g>\n     </g>\n     <g id=\"text_27\">\n      <!-- 100000 -->\n      <g style=\"fill:#555555;\" transform=\"translate(26.685 344.210034)scale(0.1 -0.1)\">\n       <use xlink:href=\"#DejaVuSans-49\"/>\n       <use x=\"63.623047\" xlink:href=\"#DejaVuSans-48\"/>\n       <use x=\"127.246094\" xlink:href=\"#DejaVuSans-48\"/>\n       <use x=\"190.869141\" xlink:href=\"#DejaVuSans-48\"/>\n       <use x=\"254.492188\" xlink:href=\"#DejaVuSans-48\"/>\n       <use x=\"318.115234\" xlink:href=\"#DejaVuSans-48\"/>\n      </g>\n     </g>\n    </g>\n    <g id=\"ytick_3\">\n     <g id=\"line2d_29\">\n      <path clip-path=\"url(#pc00c90d06b)\" d=\"M 71.86 274.94413 \nL 518.26 274.94413 \n\" style=\"fill:none;stroke:#ffffff;stroke-linecap:square;stroke-width:0.8;\"/>\n     </g>\n     <g id=\"line2d_30\">\n      <g>\n       <use style=\"fill:#555555;stroke:#555555;stroke-width:0.8;\" x=\"71.86\" xlink:href=\"#mf157a5d23a\" y=\"274.94413\"/>\n      </g>\n     </g>\n     <g id=\"text_28\">\n      <!-- 200000 -->\n      <g style=\"fill:#555555;\" transform=\"translate(26.685 278.743349)scale(0.1 -0.1)\">\n       <use xlink:href=\"#DejaVuSans-50\"/>\n       <use x=\"63.623047\" xlink:href=\"#DejaVuSans-48\"/>\n       <use x=\"127.246094\" xlink:href=\"#DejaVuSans-48\"/>\n       <use x=\"190.869141\" xlink:href=\"#DejaVuSans-48\"/>\n       <use x=\"254.492188\" xlink:href=\"#DejaVuSans-48\"/>\n       <use x=\"318.115234\" xlink:href=\"#DejaVuSans-48\"/>\n      </g>\n     </g>\n    </g>\n    <g id=\"ytick_4\">\n     <g id=\"line2d_31\">\n      <path clip-path=\"url(#pc00c90d06b)\" d=\"M 71.86 209.477445 \nL 518.26 209.477445 \n\" style=\"fill:none;stroke:#ffffff;stroke-linecap:square;stroke-width:0.8;\"/>\n     </g>\n     <g id=\"line2d_32\">\n      <g>\n       <use style=\"fill:#555555;stroke:#555555;stroke-width:0.8;\" x=\"71.86\" xlink:href=\"#mf157a5d23a\" y=\"209.477445\"/>\n      </g>\n     </g>\n     <g id=\"text_29\">\n      <!-- 300000 -->\n      <g style=\"fill:#555555;\" transform=\"translate(26.685 213.276664)scale(0.1 -0.1)\">\n       <use xlink:href=\"#DejaVuSans-51\"/>\n       <use x=\"63.623047\" xlink:href=\"#DejaVuSans-48\"/>\n       <use x=\"127.246094\" xlink:href=\"#DejaVuSans-48\"/>\n       <use x=\"190.869141\" xlink:href=\"#DejaVuSans-48\"/>\n       <use x=\"254.492188\" xlink:href=\"#DejaVuSans-48\"/>\n       <use x=\"318.115234\" xlink:href=\"#DejaVuSans-48\"/>\n      </g>\n     </g>\n    </g>\n    <g id=\"ytick_5\">\n     <g id=\"line2d_33\">\n      <path clip-path=\"url(#pc00c90d06b)\" d=\"M 71.86 144.01076 \nL 518.26 144.01076 \n\" style=\"fill:none;stroke:#ffffff;stroke-linecap:square;stroke-width:0.8;\"/>\n     </g>\n     <g id=\"line2d_34\">\n      <g>\n       <use style=\"fill:#555555;stroke:#555555;stroke-width:0.8;\" x=\"71.86\" xlink:href=\"#mf157a5d23a\" y=\"144.01076\"/>\n      </g>\n     </g>\n     <g id=\"text_30\">\n      <!-- 400000 -->\n      <g style=\"fill:#555555;\" transform=\"translate(26.685 147.809979)scale(0.1 -0.1)\">\n       <use xlink:href=\"#DejaVuSans-52\"/>\n       <use x=\"63.623047\" xlink:href=\"#DejaVuSans-48\"/>\n       <use x=\"127.246094\" xlink:href=\"#DejaVuSans-48\"/>\n       <use x=\"190.869141\" xlink:href=\"#DejaVuSans-48\"/>\n       <use x=\"254.492188\" xlink:href=\"#DejaVuSans-48\"/>\n       <use x=\"318.115234\" xlink:href=\"#DejaVuSans-48\"/>\n      </g>\n     </g>\n    </g>\n    <g id=\"ytick_6\">\n     <g id=\"line2d_35\">\n      <path clip-path=\"url(#pc00c90d06b)\" d=\"M 71.86 78.544075 \nL 518.26 78.544075 \n\" style=\"fill:none;stroke:#ffffff;stroke-linecap:square;stroke-width:0.8;\"/>\n     </g>\n     <g id=\"line2d_36\">\n      <g>\n       <use style=\"fill:#555555;stroke:#555555;stroke-width:0.8;\" x=\"71.86\" xlink:href=\"#mf157a5d23a\" y=\"78.544075\"/>\n      </g>\n     </g>\n     <g id=\"text_31\">\n      <!-- 500000 -->\n      <g style=\"fill:#555555;\" transform=\"translate(26.685 82.343294)scale(0.1 -0.1)\">\n       <use xlink:href=\"#DejaVuSans-53\"/>\n       <use x=\"63.623047\" xlink:href=\"#DejaVuSans-48\"/>\n       <use x=\"127.246094\" xlink:href=\"#DejaVuSans-48\"/>\n       <use x=\"190.869141\" xlink:href=\"#DejaVuSans-48\"/>\n       <use x=\"254.492188\" xlink:href=\"#DejaVuSans-48\"/>\n       <use x=\"318.115234\" xlink:href=\"#DejaVuSans-48\"/>\n      </g>\n     </g>\n    </g>\n    <g id=\"text_32\">\n     <!-- Request counts -->\n     <g style=\"fill:#555555;\" transform=\"translate(19.3575 277.39375)rotate(-90)scale(0.16 -0.16)\">\n      <defs>\n       <path d=\"M 44.390625 34.1875 \nQ 47.5625 33.109375 50.5625 29.59375 \nQ 53.5625 26.078125 56.59375 19.921875 \nL 66.609375 0 \nL 56 0 \nL 46.6875 18.703125 \nQ 43.0625 26.03125 39.671875 28.421875 \nQ 36.28125 30.8125 30.421875 30.8125 \nL 19.671875 30.8125 \nL 19.671875 0 \nL 9.8125 0 \nL 9.8125 72.90625 \nL 32.078125 72.90625 \nQ 44.578125 72.90625 50.734375 67.671875 \nQ 56.890625 62.453125 56.890625 51.90625 \nQ 56.890625 45.015625 53.6875 40.46875 \nQ 50.484375 35.9375 44.390625 34.1875 \nz\nM 19.671875 64.796875 \nL 19.671875 38.921875 \nL 32.078125 38.921875 \nQ 39.203125 38.921875 42.84375 42.21875 \nQ 46.484375 45.515625 46.484375 51.90625 \nQ 46.484375 58.296875 42.84375 61.546875 \nQ 39.203125 64.796875 32.078125 64.796875 \nz\n\" id=\"DejaVuSans-82\"/>\n       <path d=\"M 14.796875 27.296875 \nQ 14.796875 17.390625 18.875 11.75 \nQ 22.953125 6.109375 30.078125 6.109375 \nQ 37.203125 6.109375 41.296875 11.75 \nQ 45.40625 17.390625 45.40625 27.296875 \nQ 45.40625 37.203125 41.296875 42.84375 \nQ 37.203125 48.484375 30.078125 48.484375 \nQ 22.953125 48.484375 18.875 42.84375 \nQ 14.796875 37.203125 14.796875 27.296875 \nz\nM 45.40625 8.203125 \nQ 42.578125 3.328125 38.25 0.953125 \nQ 33.9375 -1.421875 27.875 -1.421875 \nQ 17.96875 -1.421875 11.734375 6.484375 \nQ 5.515625 14.40625 5.515625 27.296875 \nQ 5.515625 40.1875 11.734375 48.09375 \nQ 17.96875 56 27.875 56 \nQ 33.9375 56 38.25 53.625 \nQ 42.578125 51.265625 45.40625 46.390625 \nL 45.40625 54.6875 \nL 54.390625 54.6875 \nL 54.390625 -20.796875 \nL 45.40625 -20.796875 \nz\n\" id=\"DejaVuSans-113\"/>\n       <path d=\"M 44.28125 53.078125 \nL 44.28125 44.578125 \nQ 40.484375 46.53125 36.375 47.5 \nQ 32.28125 48.484375 27.875 48.484375 \nQ 21.1875 48.484375 17.84375 46.4375 \nQ 14.5 44.390625 14.5 40.28125 \nQ 14.5 37.15625 16.890625 35.375 \nQ 19.28125 33.59375 26.515625 31.984375 \nL 29.59375 31.296875 \nQ 39.15625 29.25 43.1875 25.515625 \nQ 47.21875 21.78125 47.21875 15.09375 \nQ 47.21875 7.46875 41.1875 3.015625 \nQ 35.15625 -1.421875 24.609375 -1.421875 \nQ 20.21875 -1.421875 15.453125 -0.5625 \nQ 10.6875 0.296875 5.421875 2 \nL 5.421875 11.28125 \nQ 10.40625 8.6875 15.234375 7.390625 \nQ 20.0625 6.109375 24.8125 6.109375 \nQ 31.15625 6.109375 34.5625 8.28125 \nQ 37.984375 10.453125 37.984375 14.40625 \nQ 37.984375 18.0625 35.515625 20.015625 \nQ 33.0625 21.96875 24.703125 23.78125 \nL 21.578125 24.515625 \nQ 13.234375 26.265625 9.515625 29.90625 \nQ 5.8125 33.546875 5.8125 39.890625 \nQ 5.8125 47.609375 11.28125 51.796875 \nQ 16.75 56 26.8125 56 \nQ 31.78125 56 36.171875 55.265625 \nQ 40.578125 54.546875 44.28125 53.078125 \nz\n\" id=\"DejaVuSans-115\"/>\n       <path d=\"M 18.3125 70.21875 \nL 18.3125 54.6875 \nL 36.8125 54.6875 \nL 36.8125 47.703125 \nL 18.3125 47.703125 \nL 18.3125 18.015625 \nQ 18.3125 11.328125 20.140625 9.421875 \nQ 21.96875 7.515625 27.59375 7.515625 \nL 36.8125 7.515625 \nL 36.8125 0 \nL 27.59375 0 \nQ 17.1875 0 13.234375 3.875 \nQ 9.28125 7.765625 9.28125 18.015625 \nL 9.28125 47.703125 \nL 2.6875 47.703125 \nL 2.6875 54.6875 \nL 9.28125 54.6875 \nL 9.28125 70.21875 \nz\n\" id=\"DejaVuSans-116\"/>\n       <path d=\"M 48.78125 52.59375 \nL 48.78125 44.1875 \nQ 44.96875 46.296875 41.140625 47.34375 \nQ 37.3125 48.390625 33.40625 48.390625 \nQ 24.65625 48.390625 19.8125 42.84375 \nQ 14.984375 37.3125 14.984375 27.296875 \nQ 14.984375 17.28125 19.8125 11.734375 \nQ 24.65625 6.203125 33.40625 6.203125 \nQ 37.3125 6.203125 41.140625 7.25 \nQ 44.96875 8.296875 48.78125 10.40625 \nL 48.78125 2.09375 \nQ 45.015625 0.34375 40.984375 -0.53125 \nQ 36.96875 -1.421875 32.421875 -1.421875 \nQ 20.0625 -1.421875 12.78125 6.34375 \nQ 5.515625 14.109375 5.515625 27.296875 \nQ 5.515625 40.671875 12.859375 48.328125 \nQ 20.21875 56 33.015625 56 \nQ 37.15625 56 41.109375 55.140625 \nQ 45.0625 54.296875 48.78125 52.59375 \nz\n\" id=\"DejaVuSans-99\"/>\n       <path d=\"M 54.890625 33.015625 \nL 54.890625 0 \nL 45.90625 0 \nL 45.90625 32.71875 \nQ 45.90625 40.484375 42.875 44.328125 \nQ 39.84375 48.1875 33.796875 48.1875 \nQ 26.515625 48.1875 22.3125 43.546875 \nQ 18.109375 38.921875 18.109375 30.90625 \nL 18.109375 0 \nL 9.078125 0 \nL 9.078125 54.6875 \nL 18.109375 54.6875 \nL 18.109375 46.1875 \nQ 21.34375 51.125 25.703125 53.5625 \nQ 30.078125 56 35.796875 56 \nQ 45.21875 56 50.046875 50.171875 \nQ 54.890625 44.34375 54.890625 33.015625 \nz\n\" id=\"DejaVuSans-110\"/>\n      </defs>\n      <use xlink:href=\"#DejaVuSans-82\"/>\n      <use x=\"64.982422\" xlink:href=\"#DejaVuSans-101\"/>\n      <use x=\"126.505859\" xlink:href=\"#DejaVuSans-113\"/>\n      <use x=\"189.982422\" xlink:href=\"#DejaVuSans-117\"/>\n      <use x=\"253.361328\" xlink:href=\"#DejaVuSans-101\"/>\n      <use x=\"314.884766\" xlink:href=\"#DejaVuSans-115\"/>\n      <use x=\"366.984375\" xlink:href=\"#DejaVuSans-116\"/>\n      <use x=\"406.193359\" xlink:href=\"#DejaVuSans-32\"/>\n      <use x=\"437.980469\" xlink:href=\"#DejaVuSans-99\"/>\n      <use x=\"492.960938\" xlink:href=\"#DejaVuSans-111\"/>\n      <use x=\"554.142578\" xlink:href=\"#DejaVuSans-117\"/>\n      <use x=\"617.521484\" xlink:href=\"#DejaVuSans-110\"/>\n      <use x=\"680.900391\" xlink:href=\"#DejaVuSans-116\"/>\n      <use x=\"720.109375\" xlink:href=\"#DejaVuSans-115\"/>\n     </g>\n    </g>\n   </g>\n   <g id=\"patch_3\">\n    <path clip-path=\"url(#pc00c90d06b)\" d=\"M 73.72 405.8775 \nL 88.6 405.8775 \nL 88.6 303.805773 \nL 73.72 303.805773 \nz\n\" style=\"fill:#ea96a3;\"/>\n   </g>\n   <g id=\"patch_4\">\n    <path clip-path=\"url(#pc00c90d06b)\" d=\"M 92.32 405.8775 \nL 107.2 405.8775 \nL 107.2 180.453445 \nL 92.32 180.453445 \nz\n\" style=\"fill:#e8968a;\"/>\n   </g>\n   <g id=\"patch_5\">\n    <path clip-path=\"url(#pc00c90d06b)\" d=\"M 110.92 405.8775 \nL 125.8 405.8775 \nL 125.8 122.871568 \nL 110.92 122.871568 \nz\n\" style=\"fill:#e19153;\"/>\n   </g>\n   <g id=\"patch_6\">\n    <path clip-path=\"url(#pc00c90d06b)\" d=\"M 129.52 405.8775 \nL 144.4 405.8775 \nL 144.4 48.000593 \nL 129.52 48.000593 \nz\n\" style=\"fill:#ca984c;\"/>\n   </g>\n   <g id=\"patch_7\">\n    <path clip-path=\"url(#pc00c90d06b)\" d=\"M 148.12 405.8775 \nL 163 405.8775 \nL 163 59.328294 \nL 148.12 59.328294 \nz\n\" style=\"fill:#b89c49;\"/>\n   </g>\n   <g id=\"patch_8\">\n    <path clip-path=\"url(#pc00c90d06b)\" d=\"M 166.72 405.8775 \nL 181.6 405.8775 \nL 181.6 86.838704 \nL 166.72 86.838704 \nz\n\" style=\"fill:#a89e47;\"/>\n   </g>\n   <g id=\"patch_9\">\n    <path clip-path=\"url(#pc00c90d06b)\" d=\"M 185.32 405.8775 \nL 200.2 405.8775 \nL 200.2 49.258208 \nL 185.32 49.258208 \nz\n\" style=\"fill:#98a246;\"/>\n   </g>\n   <g id=\"patch_10\">\n    <path clip-path=\"url(#pc00c90d06b)\" d=\"M 203.92 405.8775 \nL 218.8 405.8775 \nL 218.8 63.902451 \nL 203.92 63.902451 \nz\n\" style=\"fill:#84a846;\"/>\n   </g>\n   <g id=\"patch_11\">\n    <path clip-path=\"url(#pc00c90d06b)\" d=\"M 222.52 405.8775 \nL 237.4 405.8775 \nL 237.4 45.323661 \nL 222.52 45.323661 \nz\n\" style=\"fill:#60ae47;\"/>\n   </g>\n   <g id=\"patch_12\">\n    <path clip-path=\"url(#pc00c90d06b)\" d=\"M 241.12 405.8775 \nL 256 405.8775 \nL 256 43.4775 \nL 241.12 43.4775 \nz\n\" style=\"fill:#49af72;\"/>\n   </g>\n   <g id=\"patch_13\">\n    <path clip-path=\"url(#pc00c90d06b)\" d=\"M 259.72 405.8775 \nL 274.6 405.8775 \nL 274.6 115.520313 \nL 259.72 115.520313 \nz\n\" style=\"fill:#4aae8a;\"/>\n   </g>\n   <g id=\"patch_14\">\n    <path clip-path=\"url(#pc00c90d06b)\" d=\"M 278.32 405.8775 \nL 293.2 405.8775 \nL 293.2 164.339475 \nL 278.32 164.339475 \nz\n\" style=\"fill:#4aac99;\"/>\n   </g>\n   <g id=\"patch_15\">\n    <path clip-path=\"url(#pc00c90d06b)\" d=\"M 296.92 405.8775 \nL 311.8 405.8775 \nL 311.8 165.199053 \nL 296.92 165.199053 \nz\n\" style=\"fill:#4baba4;\"/>\n   </g>\n   <g id=\"patch_16\">\n    <path clip-path=\"url(#pc00c90d06b)\" d=\"M 315.52 405.8775 \nL 330.4 405.8775 \nL 330.4 116.2339 \nL 315.52 116.2339 \nz\n\" style=\"fill:#4cabaf;\"/>\n   </g>\n   <g id=\"patch_17\">\n    <path clip-path=\"url(#pc00c90d06b)\" d=\"M 334.12 405.8775 \nL 349 405.8775 \nL 349 82.67175 \nL 334.12 82.67175 \nz\n\" style=\"fill:#4fabbc;\"/>\n   </g>\n   <g id=\"patch_18\">\n    <path clip-path=\"url(#pc00c90d06b)\" d=\"M 352.72 405.8775 \nL 367.6 405.8775 \nL 367.6 96.182764 \nL 352.72 96.182764 \nz\n\" style=\"fill:#53accd;\"/>\n   </g>\n   <g id=\"patch_19\">\n    <path clip-path=\"url(#pc00c90d06b)\" d=\"M 371.32 405.8775 \nL 386.2 405.8775 \nL 386.2 152.330921 \nL 371.32 152.330921 \nz\n\" style=\"fill:#6daee2;\"/>\n   </g>\n   <g id=\"patch_20\">\n    <path clip-path=\"url(#pc00c90d06b)\" d=\"M 389.92 405.8775 \nL 404.8 405.8775 \nL 404.8 242.024208 \nL 389.92 242.024208 \nz\n\" style=\"fill:#9bade9;\"/>\n   </g>\n   <g id=\"patch_21\">\n    <path clip-path=\"url(#pc00c90d06b)\" d=\"M 408.52 405.8775 \nL 423.4 405.8775 \nL 423.4 301.428023 \nL 408.52 301.428023 \nz\n\" style=\"fill:#b6a8eb;\"/>\n   </g>\n   <g id=\"patch_22\">\n    <path clip-path=\"url(#pc00c90d06b)\" d=\"M 427.12 405.8775 \nL 442 405.8775 \nL 442 344.450764 \nL 427.12 344.450764 \nz\n\" style=\"fill:#ca9ee9;\"/>\n   </g>\n   <g id=\"patch_23\">\n    <path clip-path=\"url(#pc00c90d06b)\" d=\"M 445.72 405.8775 \nL 460.6 405.8775 \nL 460.6 358.375528 \nL 445.72 358.375528 \nz\n\" style=\"fill:#df8fe7;\"/>\n   </g>\n   <g id=\"patch_24\">\n    <path clip-path=\"url(#pc00c90d06b)\" d=\"M 464.32 405.8775 \nL 479.2 405.8775 \nL 479.2 362.359176 \nL 464.32 362.359176 \nz\n\" style=\"fill:#e78cd7;\"/>\n   </g>\n   <g id=\"patch_25\">\n    <path clip-path=\"url(#pc00c90d06b)\" d=\"M 482.92 405.8775 \nL 497.8 405.8775 \nL 497.8 363.181437 \nL 482.92 363.181437 \nz\n\" style=\"fill:#e890c6;\"/>\n   </g>\n   <g id=\"patch_26\">\n    <path clip-path=\"url(#pc00c90d06b)\" d=\"M 501.52 405.8775 \nL 516.4 405.8775 \nL 516.4 351.125093 \nL 501.52 351.125093 \nz\n\" style=\"fill:#e993b6;\"/>\n   </g>\n   <g id=\"patch_27\">\n    <path d=\"M 71.86 405.8775 \nL 71.86 25.3575 \n\" style=\"fill:none;stroke:#ffffff;stroke-linecap:square;stroke-linejoin:miter;\"/>\n   </g>\n   <g id=\"patch_28\">\n    <path d=\"M 518.26 405.8775 \nL 518.26 25.3575 \n\" style=\"fill:none;stroke:#ffffff;stroke-linecap:square;stroke-linejoin:miter;\"/>\n   </g>\n   <g id=\"patch_29\">\n    <path d=\"M 71.86 405.8775 \nL 518.26 405.8775 \n\" style=\"fill:none;stroke:#ffffff;stroke-linecap:square;stroke-linejoin:miter;\"/>\n   </g>\n   <g id=\"patch_30\">\n    <path d=\"M 71.86 25.3575 \nL 518.26 25.3575 \n\" style=\"fill:none;stroke:#ffffff;stroke-linecap:square;stroke-linejoin:miter;\"/>\n   </g>\n   <g id=\"text_33\">\n    <!-- Requests and Time Hour (Non-Sorting) -->\n    <g transform=\"translate(140.4825 19.3575)scale(0.16 -0.16)\">\n     <defs>\n      <path d=\"M 34.28125 27.484375 \nQ 23.390625 27.484375 19.1875 25 \nQ 14.984375 22.515625 14.984375 16.5 \nQ 14.984375 11.71875 18.140625 8.90625 \nQ 21.296875 6.109375 26.703125 6.109375 \nQ 34.1875 6.109375 38.703125 11.40625 \nQ 43.21875 16.703125 43.21875 25.484375 \nL 43.21875 27.484375 \nz\nM 52.203125 31.203125 \nL 52.203125 0 \nL 43.21875 0 \nL 43.21875 8.296875 \nQ 40.140625 3.328125 35.546875 0.953125 \nQ 30.953125 -1.421875 24.3125 -1.421875 \nQ 15.921875 -1.421875 10.953125 3.296875 \nQ 6 8.015625 6 15.921875 \nQ 6 25.140625 12.171875 29.828125 \nQ 18.359375 34.515625 30.609375 34.515625 \nL 43.21875 34.515625 \nL 43.21875 35.40625 \nQ 43.21875 41.609375 39.140625 45 \nQ 35.0625 48.390625 27.6875 48.390625 \nQ 23 48.390625 18.546875 47.265625 \nQ 14.109375 46.140625 10.015625 43.890625 \nL 10.015625 52.203125 \nQ 14.9375 54.109375 19.578125 55.046875 \nQ 24.21875 56 28.609375 56 \nQ 40.484375 56 46.34375 49.84375 \nQ 52.203125 43.703125 52.203125 31.203125 \nz\n\" id=\"DejaVuSans-97\"/>\n      <path d=\"M 45.40625 46.390625 \nL 45.40625 75.984375 \nL 54.390625 75.984375 \nL 54.390625 0 \nL 45.40625 0 \nL 45.40625 8.203125 \nQ 42.578125 3.328125 38.25 0.953125 \nQ 33.9375 -1.421875 27.875 -1.421875 \nQ 17.96875 -1.421875 11.734375 6.484375 \nQ 5.515625 14.40625 5.515625 27.296875 \nQ 5.515625 40.1875 11.734375 48.09375 \nQ 17.96875 56 27.875 56 \nQ 33.9375 56 38.25 53.625 \nQ 42.578125 51.265625 45.40625 46.390625 \nz\nM 14.796875 27.296875 \nQ 14.796875 17.390625 18.875 11.75 \nQ 22.953125 6.109375 30.078125 6.109375 \nQ 37.203125 6.109375 41.296875 11.75 \nQ 45.40625 17.390625 45.40625 27.296875 \nQ 45.40625 37.203125 41.296875 42.84375 \nQ 37.203125 48.484375 30.078125 48.484375 \nQ 22.953125 48.484375 18.875 42.84375 \nQ 14.796875 37.203125 14.796875 27.296875 \nz\n\" id=\"DejaVuSans-100\"/>\n      <path d=\"M 31 75.875 \nQ 24.46875 64.65625 21.28125 53.65625 \nQ 18.109375 42.671875 18.109375 31.390625 \nQ 18.109375 20.125 21.3125 9.0625 \nQ 24.515625 -2 31 -13.1875 \nL 23.1875 -13.1875 \nQ 15.875 -1.703125 12.234375 9.375 \nQ 8.59375 20.453125 8.59375 31.390625 \nQ 8.59375 42.28125 12.203125 53.3125 \nQ 15.828125 64.359375 23.1875 75.875 \nz\n\" id=\"DejaVuSans-40\"/>\n      <path d=\"M 9.8125 72.90625 \nL 23.09375 72.90625 \nL 55.421875 11.921875 \nL 55.421875 72.90625 \nL 64.984375 72.90625 \nL 64.984375 0 \nL 51.703125 0 \nL 19.390625 60.984375 \nL 19.390625 0 \nL 9.8125 0 \nz\n\" id=\"DejaVuSans-78\"/>\n      <path d=\"M 4.890625 31.390625 \nL 31.203125 31.390625 \nL 31.203125 23.390625 \nL 4.890625 23.390625 \nz\n\" id=\"DejaVuSans-45\"/>\n      <path d=\"M 53.515625 70.515625 \nL 53.515625 60.890625 \nQ 47.90625 63.578125 42.921875 64.890625 \nQ 37.9375 66.21875 33.296875 66.21875 \nQ 25.25 66.21875 20.875 63.09375 \nQ 16.5 59.96875 16.5 54.203125 \nQ 16.5 49.359375 19.40625 46.890625 \nQ 22.3125 44.4375 30.421875 42.921875 \nL 36.375 41.703125 \nQ 47.40625 39.59375 52.65625 34.296875 \nQ 57.90625 29 57.90625 20.125 \nQ 57.90625 9.515625 50.796875 4.046875 \nQ 43.703125 -1.421875 29.984375 -1.421875 \nQ 24.8125 -1.421875 18.96875 -0.25 \nQ 13.140625 0.921875 6.890625 3.21875 \nL 6.890625 13.375 \nQ 12.890625 10.015625 18.65625 8.296875 \nQ 24.421875 6.59375 29.984375 6.59375 \nQ 38.421875 6.59375 43.015625 9.90625 \nQ 47.609375 13.234375 47.609375 19.390625 \nQ 47.609375 24.75 44.3125 27.78125 \nQ 41.015625 30.8125 33.5 32.328125 \nL 27.484375 33.5 \nQ 16.453125 35.6875 11.515625 40.375 \nQ 6.59375 45.0625 6.59375 53.421875 \nQ 6.59375 63.09375 13.40625 68.65625 \nQ 20.21875 74.21875 32.171875 74.21875 \nQ 37.3125 74.21875 42.625 73.28125 \nQ 47.953125 72.359375 53.515625 70.515625 \nz\n\" id=\"DejaVuSans-83\"/>\n      <path d=\"M 45.40625 27.984375 \nQ 45.40625 37.75 41.375 43.109375 \nQ 37.359375 48.484375 30.078125 48.484375 \nQ 22.859375 48.484375 18.828125 43.109375 \nQ 14.796875 37.75 14.796875 27.984375 \nQ 14.796875 18.265625 18.828125 12.890625 \nQ 22.859375 7.515625 30.078125 7.515625 \nQ 37.359375 7.515625 41.375 12.890625 \nQ 45.40625 18.265625 45.40625 27.984375 \nz\nM 54.390625 6.78125 \nQ 54.390625 -7.171875 48.1875 -13.984375 \nQ 42 -20.796875 29.203125 -20.796875 \nQ 24.46875 -20.796875 20.265625 -20.09375 \nQ 16.0625 -19.390625 12.109375 -17.921875 \nL 12.109375 -9.1875 \nQ 16.0625 -11.328125 19.921875 -12.34375 \nQ 23.78125 -13.375 27.78125 -13.375 \nQ 36.625 -13.375 41.015625 -8.765625 \nQ 45.40625 -4.15625 45.40625 5.171875 \nL 45.40625 9.625 \nQ 42.625 4.78125 38.28125 2.390625 \nQ 33.9375 0 27.875 0 \nQ 17.828125 0 11.671875 7.65625 \nQ 5.515625 15.328125 5.515625 27.984375 \nQ 5.515625 40.671875 11.671875 48.328125 \nQ 17.828125 56 27.875 56 \nQ 33.9375 56 38.28125 53.609375 \nQ 42.625 51.21875 45.40625 46.390625 \nL 45.40625 54.6875 \nL 54.390625 54.6875 \nz\n\" id=\"DejaVuSans-103\"/>\n      <path d=\"M 8.015625 75.875 \nL 15.828125 75.875 \nQ 23.140625 64.359375 26.78125 53.3125 \nQ 30.421875 42.28125 30.421875 31.390625 \nQ 30.421875 20.453125 26.78125 9.375 \nQ 23.140625 -1.703125 15.828125 -13.1875 \nL 8.015625 -13.1875 \nQ 14.5 -2 17.703125 9.0625 \nQ 20.90625 20.125 20.90625 31.390625 \nQ 20.90625 42.671875 17.703125 53.65625 \nQ 14.5 64.65625 8.015625 75.875 \nz\n\" id=\"DejaVuSans-41\"/>\n     </defs>\n     <use xlink:href=\"#DejaVuSans-82\"/>\n     <use x=\"64.982422\" xlink:href=\"#DejaVuSans-101\"/>\n     <use x=\"126.505859\" xlink:href=\"#DejaVuSans-113\"/>\n     <use x=\"189.982422\" xlink:href=\"#DejaVuSans-117\"/>\n     <use x=\"253.361328\" xlink:href=\"#DejaVuSans-101\"/>\n     <use x=\"314.884766\" xlink:href=\"#DejaVuSans-115\"/>\n     <use x=\"366.984375\" xlink:href=\"#DejaVuSans-116\"/>\n     <use x=\"406.193359\" xlink:href=\"#DejaVuSans-115\"/>\n     <use x=\"458.292969\" xlink:href=\"#DejaVuSans-32\"/>\n     <use x=\"490.080078\" xlink:href=\"#DejaVuSans-97\"/>\n     <use x=\"551.359375\" xlink:href=\"#DejaVuSans-110\"/>\n     <use x=\"614.738281\" xlink:href=\"#DejaVuSans-100\"/>\n     <use x=\"678.214844\" xlink:href=\"#DejaVuSans-32\"/>\n     <use x=\"710.001953\" xlink:href=\"#DejaVuSans-84\"/>\n     <use x=\"767.960938\" xlink:href=\"#DejaVuSans-105\"/>\n     <use x=\"795.744141\" xlink:href=\"#DejaVuSans-109\"/>\n     <use x=\"893.15625\" xlink:href=\"#DejaVuSans-101\"/>\n     <use x=\"954.679688\" xlink:href=\"#DejaVuSans-32\"/>\n     <use x=\"986.466797\" xlink:href=\"#DejaVuSans-72\"/>\n     <use x=\"1061.662109\" xlink:href=\"#DejaVuSans-111\"/>\n     <use x=\"1122.84375\" xlink:href=\"#DejaVuSans-117\"/>\n     <use x=\"1186.222656\" xlink:href=\"#DejaVuSans-114\"/>\n     <use x=\"1227.335938\" xlink:href=\"#DejaVuSans-32\"/>\n     <use x=\"1259.123047\" xlink:href=\"#DejaVuSans-40\"/>\n     <use x=\"1298.136719\" xlink:href=\"#DejaVuSans-78\"/>\n     <use x=\"1372.941406\" xlink:href=\"#DejaVuSans-111\"/>\n     <use x=\"1434.123047\" xlink:href=\"#DejaVuSans-110\"/>\n     <use x=\"1497.501953\" xlink:href=\"#DejaVuSans-45\"/>\n     <use x=\"1533.585938\" xlink:href=\"#DejaVuSans-83\"/>\n     <use x=\"1597.0625\" xlink:href=\"#DejaVuSans-111\"/>\n     <use x=\"1658.244141\" xlink:href=\"#DejaVuSans-114\"/>\n     <use x=\"1699.357422\" xlink:href=\"#DejaVuSans-116\"/>\n     <use x=\"1738.566406\" xlink:href=\"#DejaVuSans-105\"/>\n     <use x=\"1766.349609\" xlink:href=\"#DejaVuSans-110\"/>\n     <use x=\"1829.728516\" xlink:href=\"#DejaVuSans-103\"/>\n     <use x=\"1893.205078\" xlink:href=\"#DejaVuSans-41\"/>\n    </g>\n   </g>\n  </g>\n </g>\n <defs>\n  <clipPath id=\"pc00c90d06b\">\n   <rect height=\"380.52\" width=\"446.4\" x=\"71.86\" y=\"25.3575\"/>\n  </clipPath>\n </defs>\n</svg>\n",
            "image/png": "[encoded data removed]"
          },
          "metadata": {
            "tags": []
          }
        }
      ]
    },
    {
      "cell_type": "code",
      "metadata": {
        "id": "pcpWPnOimSl5",
        "outputId": "b0e910eb-422e-49b1-8aca-6b63eb23bc09"
      },
      "source": [
        "# with sorting fig 2\n",
        "plt.figure(figsize =(8,7))\n",
        "\n",
        "sns.countplot(x= 'hour', data =df_ht, order=df_ht['hour'].value_counts(sort=True).index )\n",
        "\n",
        "plt.title(\"Requests and Time Hour (descending)\",fontsize =16)\n",
        "plt.ylabel('Request counts', fontsize =16)\n",
        "plt.xlabel('Time Hour',fontsize =16)\n",
        "\n",
        "#plt.savefig('hour_bar_chart_2')\n",
        "plt.show()"
      ],
      "execution_count": null,
      "outputs": [
        {
          "output_type": "display_data",
          "data": {
            "text/plain": [
              "<Figure size 576x504 with 1 Axes>"
            ],
            "image/svg+xml": "<?xml version=\"1.0\" encoding=\"utf-8\" standalone=\"no\"?>\n<!DOCTYPE svg PUBLIC \"-//W3C//DTD SVG 1.1//EN\"\n  \"http://www.w3.org/Graphics/SVG/1.1/DTD/svg11.dtd\">\n<!-- Created with matplotlib (https://matplotlib.org/) -->\n<svg height=\"449.240625pt\" version=\"1.1\" viewBox=\"0 0 525.46 449.240625\" width=\"525.46pt\" xmlns=\"http://www.w3.org/2000/svg\" xmlns:xlink=\"http://www.w3.org/1999/xlink\">\n <metadata>\n  <rdf:RDF xmlns:cc=\"http://creativecommons.org/ns#\" xmlns:dc=\"http://purl.org/dc/elements/1.1/\" xmlns:rdf=\"http://www.w3.org/1999/02/22-rdf-syntax-ns#\">\n   <cc:Work>\n    <dc:type rdf:resource=\"http://purl.org/dc/dcmitype/StillImage\"/>\n    <dc:date>2021-04-15T02:31:56.903057</dc:date>\n    <dc:format>image/svg+xml</dc:format>\n    <dc:creator>\n     <cc:Agent>\n      <dc:title>Matplotlib v3.3.4, https://matplotlib.org/</dc:title>\n     </cc:Agent>\n    </dc:creator>\n   </cc:Work>\n  </rdf:RDF>\n </metadata>\n <defs>\n  <style type=\"text/css\">*{stroke-linecap:butt;stroke-linejoin:round;}</style>\n </defs>\n <g id=\"figure_1\">\n  <g id=\"patch_1\">\n   <path d=\"M 0 449.240625 \nL 525.46 449.240625 \nL 525.46 0 \nL 0 0 \nz\n\" style=\"fill:#ffffff;\"/>\n  </g>\n  <g id=\"axes_1\">\n   <g id=\"patch_2\">\n    <path d=\"M 71.86 405.8775 \nL 518.26 405.8775 \nL 518.26 25.3575 \nL 71.86 25.3575 \nz\n\" style=\"fill:#e5e5e5;\"/>\n   </g>\n   <g id=\"matplotlib.axis_1\">\n    <g id=\"xtick_1\">\n     <g id=\"line2d_1\">\n      <defs>\n       <path d=\"M 0 0 \nL 0 3.5 \n\" id=\"mef9e8280f8\" style=\"stroke:#555555;stroke-width:0.8;\"/>\n      </defs>\n      <g>\n       <use style=\"fill:#555555;stroke:#555555;stroke-width:0.8;\" x=\"81.16\" xlink:href=\"#mef9e8280f8\" y=\"405.8775\"/>\n      </g>\n     </g>\n     <g id=\"text_1\">\n      <!-- 9 -->\n      <g style=\"fill:#555555;\" transform=\"translate(77.97875 420.475937)scale(0.1 -0.1)\">\n       <defs>\n        <path d=\"M 10.984375 1.515625 \nL 10.984375 10.5 \nQ 14.703125 8.734375 18.5 7.8125 \nQ 22.3125 6.890625 25.984375 6.890625 \nQ 35.75 6.890625 40.890625 13.453125 \nQ 46.046875 20.015625 46.78125 33.40625 \nQ 43.953125 29.203125 39.59375 26.953125 \nQ 35.25 24.703125 29.984375 24.703125 \nQ 19.046875 24.703125 12.671875 31.3125 \nQ 6.296875 37.9375 6.296875 49.421875 \nQ 6.296875 60.640625 12.9375 67.421875 \nQ 19.578125 74.21875 30.609375 74.21875 \nQ 43.265625 74.21875 49.921875 64.515625 \nQ 56.59375 54.828125 56.59375 36.375 \nQ 56.59375 19.140625 48.40625 8.859375 \nQ 40.234375 -1.421875 26.421875 -1.421875 \nQ 22.703125 -1.421875 18.890625 -0.6875 \nQ 15.09375 0.046875 10.984375 1.515625 \nz\nM 30.609375 32.421875 \nQ 37.25 32.421875 41.125 36.953125 \nQ 45.015625 41.5 45.015625 49.421875 \nQ 45.015625 57.28125 41.125 61.84375 \nQ 37.25 66.40625 30.609375 66.40625 \nQ 23.96875 66.40625 20.09375 61.84375 \nQ 16.21875 57.28125 16.21875 49.421875 \nQ 16.21875 41.5 20.09375 36.953125 \nQ 23.96875 32.421875 30.609375 32.421875 \nz\n\" id=\"DejaVuSans-57\"/>\n       </defs>\n       <use xlink:href=\"#DejaVuSans-57\"/>\n      </g>\n     </g>\n    </g>\n    <g id=\"xtick_2\">\n     <g id=\"line2d_2\">\n      <g>\n       <use style=\"fill:#555555;stroke:#555555;stroke-width:0.8;\" x=\"99.76\" xlink:href=\"#mef9e8280f8\" y=\"405.8775\"/>\n      </g>\n     </g>\n     <g id=\"text_2\">\n      <!-- 8 -->\n      <g style=\"fill:#555555;\" transform=\"translate(96.57875 420.475937)scale(0.1 -0.1)\">\n       <defs>\n        <path d=\"M 31.78125 34.625 \nQ 24.75 34.625 20.71875 30.859375 \nQ 16.703125 27.09375 16.703125 20.515625 \nQ 16.703125 13.921875 20.71875 10.15625 \nQ 24.75 6.390625 31.78125 6.390625 \nQ 38.8125 6.390625 42.859375 10.171875 \nQ 46.921875 13.96875 46.921875 20.515625 \nQ 46.921875 27.09375 42.890625 30.859375 \nQ 38.875 34.625 31.78125 34.625 \nz\nM 21.921875 38.8125 \nQ 15.578125 40.375 12.03125 44.71875 \nQ 8.5 49.078125 8.5 55.328125 \nQ 8.5 64.0625 14.71875 69.140625 \nQ 20.953125 74.21875 31.78125 74.21875 \nQ 42.671875 74.21875 48.875 69.140625 \nQ 55.078125 64.0625 55.078125 55.328125 \nQ 55.078125 49.078125 51.53125 44.71875 \nQ 48 40.375 41.703125 38.8125 \nQ 48.828125 37.15625 52.796875 32.3125 \nQ 56.78125 27.484375 56.78125 20.515625 \nQ 56.78125 9.90625 50.3125 4.234375 \nQ 43.84375 -1.421875 31.78125 -1.421875 \nQ 19.734375 -1.421875 13.25 4.234375 \nQ 6.78125 9.90625 6.78125 20.515625 \nQ 6.78125 27.484375 10.78125 32.3125 \nQ 14.796875 37.15625 21.921875 38.8125 \nz\nM 18.3125 54.390625 \nQ 18.3125 48.734375 21.84375 45.5625 \nQ 25.390625 42.390625 31.78125 42.390625 \nQ 38.140625 42.390625 41.71875 45.5625 \nQ 45.3125 48.734375 45.3125 54.390625 \nQ 45.3125 60.0625 41.71875 63.234375 \nQ 38.140625 66.40625 31.78125 66.40625 \nQ 25.390625 66.40625 21.84375 63.234375 \nQ 18.3125 60.0625 18.3125 54.390625 \nz\n\" id=\"DejaVuSans-56\"/>\n       </defs>\n       <use xlink:href=\"#DejaVuSans-56\"/>\n      </g>\n     </g>\n    </g>\n    <g id=\"xtick_3\">\n     <g id=\"line2d_3\">\n      <g>\n       <use style=\"fill:#555555;stroke:#555555;stroke-width:0.8;\" x=\"118.36\" xlink:href=\"#mef9e8280f8\" y=\"405.8775\"/>\n      </g>\n     </g>\n     <g id=\"text_3\">\n      <!-- 3 -->\n      <g style=\"fill:#555555;\" transform=\"translate(115.17875 420.475937)scale(0.1 -0.1)\">\n       <defs>\n        <path d=\"M 40.578125 39.3125 \nQ 47.65625 37.796875 51.625 33 \nQ 55.609375 28.21875 55.609375 21.1875 \nQ 55.609375 10.40625 48.1875 4.484375 \nQ 40.765625 -1.421875 27.09375 -1.421875 \nQ 22.515625 -1.421875 17.65625 -0.515625 \nQ 12.796875 0.390625 7.625 2.203125 \nL 7.625 11.71875 \nQ 11.71875 9.328125 16.59375 8.109375 \nQ 21.484375 6.890625 26.8125 6.890625 \nQ 36.078125 6.890625 40.9375 10.546875 \nQ 45.796875 14.203125 45.796875 21.1875 \nQ 45.796875 27.640625 41.28125 31.265625 \nQ 36.765625 34.90625 28.71875 34.90625 \nL 20.21875 34.90625 \nL 20.21875 43.015625 \nL 29.109375 43.015625 \nQ 36.375 43.015625 40.234375 45.921875 \nQ 44.09375 48.828125 44.09375 54.296875 \nQ 44.09375 59.90625 40.109375 62.90625 \nQ 36.140625 65.921875 28.71875 65.921875 \nQ 24.65625 65.921875 20.015625 65.03125 \nQ 15.375 64.15625 9.8125 62.3125 \nL 9.8125 71.09375 \nQ 15.4375 72.65625 20.34375 73.4375 \nQ 25.25 74.21875 29.59375 74.21875 \nQ 40.828125 74.21875 47.359375 69.109375 \nQ 53.90625 64.015625 53.90625 55.328125 \nQ 53.90625 49.265625 50.4375 45.09375 \nQ 46.96875 40.921875 40.578125 39.3125 \nz\n\" id=\"DejaVuSans-51\"/>\n       </defs>\n       <use xlink:href=\"#DejaVuSans-51\"/>\n      </g>\n     </g>\n    </g>\n    <g id=\"xtick_4\">\n     <g id=\"line2d_4\">\n      <g>\n       <use style=\"fill:#555555;stroke:#555555;stroke-width:0.8;\" x=\"136.96\" xlink:href=\"#mef9e8280f8\" y=\"405.8775\"/>\n      </g>\n     </g>\n     <g id=\"text_4\">\n      <!-- 6 -->\n      <g style=\"fill:#555555;\" transform=\"translate(133.77875 420.475937)scale(0.1 -0.1)\">\n       <defs>\n        <path d=\"M 33.015625 40.375 \nQ 26.375 40.375 22.484375 35.828125 \nQ 18.609375 31.296875 18.609375 23.390625 \nQ 18.609375 15.53125 22.484375 10.953125 \nQ 26.375 6.390625 33.015625 6.390625 \nQ 39.65625 6.390625 43.53125 10.953125 \nQ 47.40625 15.53125 47.40625 23.390625 \nQ 47.40625 31.296875 43.53125 35.828125 \nQ 39.65625 40.375 33.015625 40.375 \nz\nM 52.59375 71.296875 \nL 52.59375 62.3125 \nQ 48.875 64.0625 45.09375 64.984375 \nQ 41.3125 65.921875 37.59375 65.921875 \nQ 27.828125 65.921875 22.671875 59.328125 \nQ 17.53125 52.734375 16.796875 39.40625 \nQ 19.671875 43.65625 24.015625 45.921875 \nQ 28.375 48.1875 33.59375 48.1875 \nQ 44.578125 48.1875 50.953125 41.515625 \nQ 57.328125 34.859375 57.328125 23.390625 \nQ 57.328125 12.15625 50.6875 5.359375 \nQ 44.046875 -1.421875 33.015625 -1.421875 \nQ 20.359375 -1.421875 13.671875 8.265625 \nQ 6.984375 17.96875 6.984375 36.375 \nQ 6.984375 53.65625 15.1875 63.9375 \nQ 23.390625 74.21875 37.203125 74.21875 \nQ 40.921875 74.21875 44.703125 73.484375 \nQ 48.484375 72.75 52.59375 71.296875 \nz\n\" id=\"DejaVuSans-54\"/>\n       </defs>\n       <use xlink:href=\"#DejaVuSans-54\"/>\n      </g>\n     </g>\n    </g>\n    <g id=\"xtick_5\">\n     <g id=\"line2d_5\">\n      <g>\n       <use style=\"fill:#555555;stroke:#555555;stroke-width:0.8;\" x=\"155.56\" xlink:href=\"#mef9e8280f8\" y=\"405.8775\"/>\n      </g>\n     </g>\n     <g id=\"text_5\">\n      <!-- 4 -->\n      <g style=\"fill:#555555;\" transform=\"translate(152.37875 420.475937)scale(0.1 -0.1)\">\n       <defs>\n        <path d=\"M 37.796875 64.3125 \nL 12.890625 25.390625 \nL 37.796875 25.390625 \nz\nM 35.203125 72.90625 \nL 47.609375 72.90625 \nL 47.609375 25.390625 \nL 58.015625 25.390625 \nL 58.015625 17.1875 \nL 47.609375 17.1875 \nL 47.609375 0 \nL 37.796875 0 \nL 37.796875 17.1875 \nL 4.890625 17.1875 \nL 4.890625 26.703125 \nz\n\" id=\"DejaVuSans-52\"/>\n       </defs>\n       <use xlink:href=\"#DejaVuSans-52\"/>\n      </g>\n     </g>\n    </g>\n    <g id=\"xtick_6\">\n     <g id=\"line2d_6\">\n      <g>\n       <use style=\"fill:#555555;stroke:#555555;stroke-width:0.8;\" x=\"174.16\" xlink:href=\"#mef9e8280f8\" y=\"405.8775\"/>\n      </g>\n     </g>\n     <g id=\"text_6\">\n      <!-- 7 -->\n      <g style=\"fill:#555555;\" transform=\"translate(170.97875 420.475937)scale(0.1 -0.1)\">\n       <defs>\n        <path d=\"M 8.203125 72.90625 \nL 55.078125 72.90625 \nL 55.078125 68.703125 \nL 28.609375 0 \nL 18.3125 0 \nL 43.21875 64.59375 \nL 8.203125 64.59375 \nz\n\" id=\"DejaVuSans-55\"/>\n       </defs>\n       <use xlink:href=\"#DejaVuSans-55\"/>\n      </g>\n     </g>\n    </g>\n    <g id=\"xtick_7\">\n     <g id=\"line2d_7\">\n      <g>\n       <use style=\"fill:#555555;stroke:#555555;stroke-width:0.8;\" x=\"192.76\" xlink:href=\"#mef9e8280f8\" y=\"405.8775\"/>\n      </g>\n     </g>\n     <g id=\"text_7\">\n      <!-- 14 -->\n      <g style=\"fill:#555555;\" transform=\"translate(186.3975 420.475937)scale(0.1 -0.1)\">\n       <defs>\n        <path d=\"M 12.40625 8.296875 \nL 28.515625 8.296875 \nL 28.515625 63.921875 \nL 10.984375 60.40625 \nL 10.984375 69.390625 \nL 28.421875 72.90625 \nL 38.28125 72.90625 \nL 38.28125 8.296875 \nL 54.390625 8.296875 \nL 54.390625 0 \nL 12.40625 0 \nz\n\" id=\"DejaVuSans-49\"/>\n       </defs>\n       <use xlink:href=\"#DejaVuSans-49\"/>\n       <use x=\"63.623047\" xlink:href=\"#DejaVuSans-52\"/>\n      </g>\n     </g>\n    </g>\n    <g id=\"xtick_8\">\n     <g id=\"line2d_8\">\n      <g>\n       <use style=\"fill:#555555;stroke:#555555;stroke-width:0.8;\" x=\"211.36\" xlink:href=\"#mef9e8280f8\" y=\"405.8775\"/>\n      </g>\n     </g>\n     <g id=\"text_8\">\n      <!-- 5 -->\n      <g style=\"fill:#555555;\" transform=\"translate(208.17875 420.475937)scale(0.1 -0.1)\">\n       <defs>\n        <path d=\"M 10.796875 72.90625 \nL 49.515625 72.90625 \nL 49.515625 64.59375 \nL 19.828125 64.59375 \nL 19.828125 46.734375 \nQ 21.96875 47.46875 24.109375 47.828125 \nQ 26.265625 48.1875 28.421875 48.1875 \nQ 40.625 48.1875 47.75 41.5 \nQ 54.890625 34.8125 54.890625 23.390625 \nQ 54.890625 11.625 47.5625 5.09375 \nQ 40.234375 -1.421875 26.90625 -1.421875 \nQ 22.3125 -1.421875 17.546875 -0.640625 \nQ 12.796875 0.140625 7.71875 1.703125 \nL 7.71875 11.625 \nQ 12.109375 9.234375 16.796875 8.0625 \nQ 21.484375 6.890625 26.703125 6.890625 \nQ 35.15625 6.890625 40.078125 11.328125 \nQ 45.015625 15.765625 45.015625 23.390625 \nQ 45.015625 31 40.078125 35.4375 \nQ 35.15625 39.890625 26.703125 39.890625 \nQ 22.75 39.890625 18.8125 39.015625 \nQ 14.890625 38.140625 10.796875 36.28125 \nz\n\" id=\"DejaVuSans-53\"/>\n       </defs>\n       <use xlink:href=\"#DejaVuSans-53\"/>\n      </g>\n     </g>\n    </g>\n    <g id=\"xtick_9\">\n     <g id=\"line2d_9\">\n      <g>\n       <use style=\"fill:#555555;stroke:#555555;stroke-width:0.8;\" x=\"229.96\" xlink:href=\"#mef9e8280f8\" y=\"405.8775\"/>\n      </g>\n     </g>\n     <g id=\"text_9\">\n      <!-- 15 -->\n      <g style=\"fill:#555555;\" transform=\"translate(223.5975 420.475937)scale(0.1 -0.1)\">\n       <use xlink:href=\"#DejaVuSans-49\"/>\n       <use x=\"63.623047\" xlink:href=\"#DejaVuSans-53\"/>\n      </g>\n     </g>\n    </g>\n    <g id=\"xtick_10\">\n     <g id=\"line2d_10\">\n      <g>\n       <use style=\"fill:#555555;stroke:#555555;stroke-width:0.8;\" x=\"248.56\" xlink:href=\"#mef9e8280f8\" y=\"405.8775\"/>\n      </g>\n     </g>\n     <g id=\"text_10\">\n      <!-- 10 -->\n      <g style=\"fill:#555555;\" transform=\"translate(242.1975 420.475937)scale(0.1 -0.1)\">\n       <defs>\n        <path d=\"M 31.78125 66.40625 \nQ 24.171875 66.40625 20.328125 58.90625 \nQ 16.5 51.421875 16.5 36.375 \nQ 16.5 21.390625 20.328125 13.890625 \nQ 24.171875 6.390625 31.78125 6.390625 \nQ 39.453125 6.390625 43.28125 13.890625 \nQ 47.125 21.390625 47.125 36.375 \nQ 47.125 51.421875 43.28125 58.90625 \nQ 39.453125 66.40625 31.78125 66.40625 \nz\nM 31.78125 74.21875 \nQ 44.046875 74.21875 50.515625 64.515625 \nQ 56.984375 54.828125 56.984375 36.375 \nQ 56.984375 17.96875 50.515625 8.265625 \nQ 44.046875 -1.421875 31.78125 -1.421875 \nQ 19.53125 -1.421875 13.0625 8.265625 \nQ 6.59375 17.96875 6.59375 36.375 \nQ 6.59375 54.828125 13.0625 64.515625 \nQ 19.53125 74.21875 31.78125 74.21875 \nz\n\" id=\"DejaVuSans-48\"/>\n       </defs>\n       <use xlink:href=\"#DejaVuSans-49\"/>\n       <use x=\"63.623047\" xlink:href=\"#DejaVuSans-48\"/>\n      </g>\n     </g>\n    </g>\n    <g id=\"xtick_11\">\n     <g id=\"line2d_11\">\n      <g>\n       <use style=\"fill:#555555;stroke:#555555;stroke-width:0.8;\" x=\"267.16\" xlink:href=\"#mef9e8280f8\" y=\"405.8775\"/>\n      </g>\n     </g>\n     <g id=\"text_11\">\n      <!-- 13 -->\n      <g style=\"fill:#555555;\" transform=\"translate(260.7975 420.475937)scale(0.1 -0.1)\">\n       <use xlink:href=\"#DejaVuSans-49\"/>\n       <use x=\"63.623047\" xlink:href=\"#DejaVuSans-51\"/>\n      </g>\n     </g>\n    </g>\n    <g id=\"xtick_12\">\n     <g id=\"line2d_12\">\n      <g>\n       <use style=\"fill:#555555;stroke:#555555;stroke-width:0.8;\" x=\"285.76\" xlink:href=\"#mef9e8280f8\" y=\"405.8775\"/>\n      </g>\n     </g>\n     <g id=\"text_12\">\n      <!-- 2 -->\n      <g style=\"fill:#555555;\" transform=\"translate(282.57875 420.475937)scale(0.1 -0.1)\">\n       <defs>\n        <path d=\"M 19.1875 8.296875 \nL 53.609375 8.296875 \nL 53.609375 0 \nL 7.328125 0 \nL 7.328125 8.296875 \nQ 12.9375 14.109375 22.625 23.890625 \nQ 32.328125 33.6875 34.8125 36.53125 \nQ 39.546875 41.84375 41.421875 45.53125 \nQ 43.3125 49.21875 43.3125 52.78125 \nQ 43.3125 58.59375 39.234375 62.25 \nQ 35.15625 65.921875 28.609375 65.921875 \nQ 23.96875 65.921875 18.8125 64.3125 \nQ 13.671875 62.703125 7.8125 59.421875 \nL 7.8125 69.390625 \nQ 13.765625 71.78125 18.9375 73 \nQ 24.125 74.21875 28.421875 74.21875 \nQ 39.75 74.21875 46.484375 68.546875 \nQ 53.21875 62.890625 53.21875 53.421875 \nQ 53.21875 48.921875 51.53125 44.890625 \nQ 49.859375 40.875 45.40625 35.40625 \nQ 44.1875 33.984375 37.640625 27.21875 \nQ 31.109375 20.453125 19.1875 8.296875 \nz\n\" id=\"DejaVuSans-50\"/>\n       </defs>\n       <use xlink:href=\"#DejaVuSans-50\"/>\n      </g>\n     </g>\n    </g>\n    <g id=\"xtick_13\">\n     <g id=\"line2d_13\">\n      <g>\n       <use style=\"fill:#555555;stroke:#555555;stroke-width:0.8;\" x=\"304.36\" xlink:href=\"#mef9e8280f8\" y=\"405.8775\"/>\n      </g>\n     </g>\n     <g id=\"text_13\">\n      <!-- 16 -->\n      <g style=\"fill:#555555;\" transform=\"translate(297.9975 420.475937)scale(0.1 -0.1)\">\n       <use xlink:href=\"#DejaVuSans-49\"/>\n       <use x=\"63.623047\" xlink:href=\"#DejaVuSans-54\"/>\n      </g>\n     </g>\n    </g>\n    <g id=\"xtick_14\">\n     <g id=\"line2d_14\">\n      <g>\n       <use style=\"fill:#555555;stroke:#555555;stroke-width:0.8;\" x=\"322.96\" xlink:href=\"#mef9e8280f8\" y=\"405.8775\"/>\n      </g>\n     </g>\n     <g id=\"text_14\">\n      <!-- 11 -->\n      <g style=\"fill:#555555;\" transform=\"translate(316.5975 420.475937)scale(0.1 -0.1)\">\n       <use xlink:href=\"#DejaVuSans-49\"/>\n       <use x=\"63.623047\" xlink:href=\"#DejaVuSans-49\"/>\n      </g>\n     </g>\n    </g>\n    <g id=\"xtick_15\">\n     <g id=\"line2d_15\">\n      <g>\n       <use style=\"fill:#555555;stroke:#555555;stroke-width:0.8;\" x=\"341.56\" xlink:href=\"#mef9e8280f8\" y=\"405.8775\"/>\n      </g>\n     </g>\n     <g id=\"text_15\">\n      <!-- 12 -->\n      <g style=\"fill:#555555;\" transform=\"translate(335.1975 420.475937)scale(0.1 -0.1)\">\n       <use xlink:href=\"#DejaVuSans-49\"/>\n       <use x=\"63.623047\" xlink:href=\"#DejaVuSans-50\"/>\n      </g>\n     </g>\n    </g>\n    <g id=\"xtick_16\">\n     <g id=\"line2d_16\">\n      <g>\n       <use style=\"fill:#555555;stroke:#555555;stroke-width:0.8;\" x=\"360.16\" xlink:href=\"#mef9e8280f8\" y=\"405.8775\"/>\n      </g>\n     </g>\n     <g id=\"text_16\">\n      <!-- 1 -->\n      <g style=\"fill:#555555;\" transform=\"translate(356.97875 420.475937)scale(0.1 -0.1)\">\n       <use xlink:href=\"#DejaVuSans-49\"/>\n      </g>\n     </g>\n    </g>\n    <g id=\"xtick_17\">\n     <g id=\"line2d_17\">\n      <g>\n       <use style=\"fill:#555555;stroke:#555555;stroke-width:0.8;\" x=\"378.76\" xlink:href=\"#mef9e8280f8\" y=\"405.8775\"/>\n      </g>\n     </g>\n     <g id=\"text_17\">\n      <!-- 17 -->\n      <g style=\"fill:#555555;\" transform=\"translate(372.3975 420.475937)scale(0.1 -0.1)\">\n       <use xlink:href=\"#DejaVuSans-49\"/>\n       <use x=\"63.623047\" xlink:href=\"#DejaVuSans-55\"/>\n      </g>\n     </g>\n    </g>\n    <g id=\"xtick_18\">\n     <g id=\"line2d_18\">\n      <g>\n       <use style=\"fill:#555555;stroke:#555555;stroke-width:0.8;\" x=\"397.36\" xlink:href=\"#mef9e8280f8\" y=\"405.8775\"/>\n      </g>\n     </g>\n     <g id=\"text_18\">\n      <!-- 18 -->\n      <g style=\"fill:#555555;\" transform=\"translate(390.9975 420.475937)scale(0.1 -0.1)\">\n       <use xlink:href=\"#DejaVuSans-49\"/>\n       <use x=\"63.623047\" xlink:href=\"#DejaVuSans-56\"/>\n      </g>\n     </g>\n    </g>\n    <g id=\"xtick_19\">\n     <g id=\"line2d_19\">\n      <g>\n       <use style=\"fill:#555555;stroke:#555555;stroke-width:0.8;\" x=\"415.96\" xlink:href=\"#mef9e8280f8\" y=\"405.8775\"/>\n      </g>\n     </g>\n     <g id=\"text_19\">\n      <!-- 0 -->\n      <g style=\"fill:#555555;\" transform=\"translate(412.77875 420.475937)scale(0.1 -0.1)\">\n       <use xlink:href=\"#DejaVuSans-48\"/>\n      </g>\n     </g>\n    </g>\n    <g id=\"xtick_20\">\n     <g id=\"line2d_20\">\n      <g>\n       <use style=\"fill:#555555;stroke:#555555;stroke-width:0.8;\" x=\"434.56\" xlink:href=\"#mef9e8280f8\" y=\"405.8775\"/>\n      </g>\n     </g>\n     <g id=\"text_20\">\n      <!-- 19 -->\n      <g style=\"fill:#555555;\" transform=\"translate(428.1975 420.475937)scale(0.1 -0.1)\">\n       <use xlink:href=\"#DejaVuSans-49\"/>\n       <use x=\"63.623047\" xlink:href=\"#DejaVuSans-57\"/>\n      </g>\n     </g>\n    </g>\n    <g id=\"xtick_21\">\n     <g id=\"line2d_21\">\n      <g>\n       <use style=\"fill:#555555;stroke:#555555;stroke-width:0.8;\" x=\"453.16\" xlink:href=\"#mef9e8280f8\" y=\"405.8775\"/>\n      </g>\n     </g>\n     <g id=\"text_21\">\n      <!-- 23 -->\n      <g style=\"fill:#555555;\" transform=\"translate(446.7975 420.475937)scale(0.1 -0.1)\">\n       <use xlink:href=\"#DejaVuSans-50\"/>\n       <use x=\"63.623047\" xlink:href=\"#DejaVuSans-51\"/>\n      </g>\n     </g>\n    </g>\n    <g id=\"xtick_22\">\n     <g id=\"line2d_22\">\n      <g>\n       <use style=\"fill:#555555;stroke:#555555;stroke-width:0.8;\" x=\"471.76\" xlink:href=\"#mef9e8280f8\" y=\"405.8775\"/>\n      </g>\n     </g>\n     <g id=\"text_22\">\n      <!-- 20 -->\n      <g style=\"fill:#555555;\" transform=\"translate(465.3975 420.475937)scale(0.1 -0.1)\">\n       <use xlink:href=\"#DejaVuSans-50\"/>\n       <use x=\"63.623047\" xlink:href=\"#DejaVuSans-48\"/>\n      </g>\n     </g>\n    </g>\n    <g id=\"xtick_23\">\n     <g id=\"line2d_23\">\n      <g>\n       <use style=\"fill:#555555;stroke:#555555;stroke-width:0.8;\" x=\"490.36\" xlink:href=\"#mef9e8280f8\" y=\"405.8775\"/>\n      </g>\n     </g>\n     <g id=\"text_23\">\n      <!-- 21 -->\n      <g style=\"fill:#555555;\" transform=\"translate(483.9975 420.475937)scale(0.1 -0.1)\">\n       <use xlink:href=\"#DejaVuSans-50\"/>\n       <use x=\"63.623047\" xlink:href=\"#DejaVuSans-49\"/>\n      </g>\n     </g>\n    </g>\n    <g id=\"xtick_24\">\n     <g id=\"line2d_24\">\n      <g>\n       <use style=\"fill:#555555;stroke:#555555;stroke-width:0.8;\" x=\"508.96\" xlink:href=\"#mef9e8280f8\" y=\"405.8775\"/>\n      </g>\n     </g>\n     <g id=\"text_24\">\n      <!-- 22 -->\n      <g style=\"fill:#555555;\" transform=\"translate(502.5975 420.475937)scale(0.1 -0.1)\">\n       <use xlink:href=\"#DejaVuSans-50\"/>\n       <use x=\"63.623047\" xlink:href=\"#DejaVuSans-50\"/>\n      </g>\n     </g>\n    </g>\n    <g id=\"text_25\">\n     <!-- Time Hour -->\n     <g style=\"fill:#555555;\" transform=\"translate(253.67375 438.713125)scale(0.16 -0.16)\">\n      <defs>\n       <path d=\"M -0.296875 72.90625 \nL 61.375 72.90625 \nL 61.375 64.59375 \nL 35.5 64.59375 \nL 35.5 0 \nL 25.59375 0 \nL 25.59375 64.59375 \nL -0.296875 64.59375 \nz\n\" id=\"DejaVuSans-84\"/>\n       <path d=\"M 9.421875 54.6875 \nL 18.40625 54.6875 \nL 18.40625 0 \nL 9.421875 0 \nz\nM 9.421875 75.984375 \nL 18.40625 75.984375 \nL 18.40625 64.59375 \nL 9.421875 64.59375 \nz\n\" id=\"DejaVuSans-105\"/>\n       <path d=\"M 52 44.1875 \nQ 55.375 50.25 60.0625 53.125 \nQ 64.75 56 71.09375 56 \nQ 79.640625 56 84.28125 50.015625 \nQ 88.921875 44.046875 88.921875 33.015625 \nL 88.921875 0 \nL 79.890625 0 \nL 79.890625 32.71875 \nQ 79.890625 40.578125 77.09375 44.375 \nQ 74.3125 48.1875 68.609375 48.1875 \nQ 61.625 48.1875 57.5625 43.546875 \nQ 53.515625 38.921875 53.515625 30.90625 \nL 53.515625 0 \nL 44.484375 0 \nL 44.484375 32.71875 \nQ 44.484375 40.625 41.703125 44.40625 \nQ 38.921875 48.1875 33.109375 48.1875 \nQ 26.21875 48.1875 22.15625 43.53125 \nQ 18.109375 38.875 18.109375 30.90625 \nL 18.109375 0 \nL 9.078125 0 \nL 9.078125 54.6875 \nL 18.109375 54.6875 \nL 18.109375 46.1875 \nQ 21.1875 51.21875 25.484375 53.609375 \nQ 29.78125 56 35.6875 56 \nQ 41.65625 56 45.828125 52.96875 \nQ 50 49.953125 52 44.1875 \nz\n\" id=\"DejaVuSans-109\"/>\n       <path d=\"M 56.203125 29.59375 \nL 56.203125 25.203125 \nL 14.890625 25.203125 \nQ 15.484375 15.921875 20.484375 11.0625 \nQ 25.484375 6.203125 34.421875 6.203125 \nQ 39.59375 6.203125 44.453125 7.46875 \nQ 49.3125 8.734375 54.109375 11.28125 \nL 54.109375 2.78125 \nQ 49.265625 0.734375 44.1875 -0.34375 \nQ 39.109375 -1.421875 33.890625 -1.421875 \nQ 20.796875 -1.421875 13.15625 6.1875 \nQ 5.515625 13.8125 5.515625 26.8125 \nQ 5.515625 40.234375 12.765625 48.109375 \nQ 20.015625 56 32.328125 56 \nQ 43.359375 56 49.78125 48.890625 \nQ 56.203125 41.796875 56.203125 29.59375 \nz\nM 47.21875 32.234375 \nQ 47.125 39.59375 43.09375 43.984375 \nQ 39.0625 48.390625 32.421875 48.390625 \nQ 24.90625 48.390625 20.390625 44.140625 \nQ 15.875 39.890625 15.1875 32.171875 \nz\n\" id=\"DejaVuSans-101\"/>\n       <path id=\"DejaVuSans-32\"/>\n       <path d=\"M 9.8125 72.90625 \nL 19.671875 72.90625 \nL 19.671875 43.015625 \nL 55.515625 43.015625 \nL 55.515625 72.90625 \nL 65.375 72.90625 \nL 65.375 0 \nL 55.515625 0 \nL 55.515625 34.71875 \nL 19.671875 34.71875 \nL 19.671875 0 \nL 9.8125 0 \nz\n\" id=\"DejaVuSans-72\"/>\n       <path d=\"M 30.609375 48.390625 \nQ 23.390625 48.390625 19.1875 42.75 \nQ 14.984375 37.109375 14.984375 27.296875 \nQ 14.984375 17.484375 19.15625 11.84375 \nQ 23.34375 6.203125 30.609375 6.203125 \nQ 37.796875 6.203125 41.984375 11.859375 \nQ 46.1875 17.53125 46.1875 27.296875 \nQ 46.1875 37.015625 41.984375 42.703125 \nQ 37.796875 48.390625 30.609375 48.390625 \nz\nM 30.609375 56 \nQ 42.328125 56 49.015625 48.375 \nQ 55.71875 40.765625 55.71875 27.296875 \nQ 55.71875 13.875 49.015625 6.21875 \nQ 42.328125 -1.421875 30.609375 -1.421875 \nQ 18.84375 -1.421875 12.171875 6.21875 \nQ 5.515625 13.875 5.515625 27.296875 \nQ 5.515625 40.765625 12.171875 48.375 \nQ 18.84375 56 30.609375 56 \nz\n\" id=\"DejaVuSans-111\"/>\n       <path d=\"M 8.5 21.578125 \nL 8.5 54.6875 \nL 17.484375 54.6875 \nL 17.484375 21.921875 \nQ 17.484375 14.15625 20.5 10.265625 \nQ 23.53125 6.390625 29.59375 6.390625 \nQ 36.859375 6.390625 41.078125 11.03125 \nQ 45.3125 15.671875 45.3125 23.6875 \nL 45.3125 54.6875 \nL 54.296875 54.6875 \nL 54.296875 0 \nL 45.3125 0 \nL 45.3125 8.40625 \nQ 42.046875 3.421875 37.71875 1 \nQ 33.40625 -1.421875 27.6875 -1.421875 \nQ 18.265625 -1.421875 13.375 4.4375 \nQ 8.5 10.296875 8.5 21.578125 \nz\nM 31.109375 56 \nz\n\" id=\"DejaVuSans-117\"/>\n       <path d=\"M 41.109375 46.296875 \nQ 39.59375 47.171875 37.8125 47.578125 \nQ 36.03125 48 33.890625 48 \nQ 26.265625 48 22.1875 43.046875 \nQ 18.109375 38.09375 18.109375 28.8125 \nL 18.109375 0 \nL 9.078125 0 \nL 9.078125 54.6875 \nL 18.109375 54.6875 \nL 18.109375 46.1875 \nQ 20.953125 51.171875 25.484375 53.578125 \nQ 30.03125 56 36.53125 56 \nQ 37.453125 56 38.578125 55.875 \nQ 39.703125 55.765625 41.0625 55.515625 \nz\n\" id=\"DejaVuSans-114\"/>\n      </defs>\n      <use xlink:href=\"#DejaVuSans-84\"/>\n      <use x=\"57.958984\" xlink:href=\"#DejaVuSans-105\"/>\n      <use x=\"85.742188\" xlink:href=\"#DejaVuSans-109\"/>\n      <use x=\"183.154297\" xlink:href=\"#DejaVuSans-101\"/>\n      <use x=\"244.677734\" xlink:href=\"#DejaVuSans-32\"/>\n      <use x=\"276.464844\" xlink:href=\"#DejaVuSans-72\"/>\n      <use x=\"351.660156\" xlink:href=\"#DejaVuSans-111\"/>\n      <use x=\"412.841797\" xlink:href=\"#DejaVuSans-117\"/>\n      <use x=\"476.220703\" xlink:href=\"#DejaVuSans-114\"/>\n     </g>\n    </g>\n   </g>\n   <g id=\"matplotlib.axis_2\">\n    <g id=\"ytick_1\">\n     <g id=\"line2d_25\">\n      <path clip-path=\"url(#p7103f774dc)\" d=\"M 71.86 405.8775 \nL 518.26 405.8775 \n\" style=\"fill:none;stroke:#ffffff;stroke-linecap:square;stroke-width:0.8;\"/>\n     </g>\n     <g id=\"line2d_26\">\n      <defs>\n       <path d=\"M 0 0 \nL -3.5 0 \n\" id=\"m0bf97791eb\" style=\"stroke:#555555;stroke-width:0.8;\"/>\n      </defs>\n      <g>\n       <use style=\"fill:#555555;stroke:#555555;stroke-width:0.8;\" x=\"71.86\" xlink:href=\"#m0bf97791eb\" y=\"405.8775\"/>\n      </g>\n     </g>\n     <g id=\"text_26\">\n      <!-- 0 -->\n      <g style=\"fill:#555555;\" transform=\"translate(58.4975 409.676719)scale(0.1 -0.1)\">\n       <use xlink:href=\"#DejaVuSans-48\"/>\n      </g>\n     </g>\n    </g>\n    <g id=\"ytick_2\">\n     <g id=\"line2d_27\">\n      <path clip-path=\"url(#p7103f774dc)\" d=\"M 71.86 340.410815 \nL 518.26 340.410815 \n\" style=\"fill:none;stroke:#ffffff;stroke-linecap:square;stroke-width:0.8;\"/>\n     </g>\n     <g id=\"line2d_28\">\n      <g>\n       <use style=\"fill:#555555;stroke:#555555;stroke-width:0.8;\" x=\"71.86\" xlink:href=\"#m0bf97791eb\" y=\"340.410815\"/>\n      </g>\n     </g>\n     <g id=\"text_27\">\n      <!-- 100000 -->\n      <g style=\"fill:#555555;\" transform=\"translate(26.685 344.210034)scale(0.1 -0.1)\">\n       <use xlink:href=\"#DejaVuSans-49\"/>\n       <use x=\"63.623047\" xlink:href=\"#DejaVuSans-48\"/>\n       <use x=\"127.246094\" xlink:href=\"#DejaVuSans-48\"/>\n       <use x=\"190.869141\" xlink:href=\"#DejaVuSans-48\"/>\n       <use x=\"254.492188\" xlink:href=\"#DejaVuSans-48\"/>\n       <use x=\"318.115234\" xlink:href=\"#DejaVuSans-48\"/>\n      </g>\n     </g>\n    </g>\n    <g id=\"ytick_3\">\n     <g id=\"line2d_29\">\n      <path clip-path=\"url(#p7103f774dc)\" d=\"M 71.86 274.94413 \nL 518.26 274.94413 \n\" style=\"fill:none;stroke:#ffffff;stroke-linecap:square;stroke-width:0.8;\"/>\n     </g>\n     <g id=\"line2d_30\">\n      <g>\n       <use style=\"fill:#555555;stroke:#555555;stroke-width:0.8;\" x=\"71.86\" xlink:href=\"#m0bf97791eb\" y=\"274.94413\"/>\n      </g>\n     </g>\n     <g id=\"text_28\">\n      <!-- 200000 -->\n      <g style=\"fill:#555555;\" transform=\"translate(26.685 278.743349)scale(0.1 -0.1)\">\n       <use xlink:href=\"#DejaVuSans-50\"/>\n       <use x=\"63.623047\" xlink:href=\"#DejaVuSans-48\"/>\n       <use x=\"127.246094\" xlink:href=\"#DejaVuSans-48\"/>\n       <use x=\"190.869141\" xlink:href=\"#DejaVuSans-48\"/>\n       <use x=\"254.492188\" xlink:href=\"#DejaVuSans-48\"/>\n       <use x=\"318.115234\" xlink:href=\"#DejaVuSans-48\"/>\n      </g>\n     </g>\n    </g>\n    <g id=\"ytick_4\">\n     <g id=\"line2d_31\">\n      <path clip-path=\"url(#p7103f774dc)\" d=\"M 71.86 209.477445 \nL 518.26 209.477445 \n\" style=\"fill:none;stroke:#ffffff;stroke-linecap:square;stroke-width:0.8;\"/>\n     </g>\n     <g id=\"line2d_32\">\n      <g>\n       <use style=\"fill:#555555;stroke:#555555;stroke-width:0.8;\" x=\"71.86\" xlink:href=\"#m0bf97791eb\" y=\"209.477445\"/>\n      </g>\n     </g>\n     <g id=\"text_29\">\n      <!-- 300000 -->\n      <g style=\"fill:#555555;\" transform=\"translate(26.685 213.276664)scale(0.1 -0.1)\">\n       <use xlink:href=\"#DejaVuSans-51\"/>\n       <use x=\"63.623047\" xlink:href=\"#DejaVuSans-48\"/>\n       <use x=\"127.246094\" xlink:href=\"#DejaVuSans-48\"/>\n       <use x=\"190.869141\" xlink:href=\"#DejaVuSans-48\"/>\n       <use x=\"254.492188\" xlink:href=\"#DejaVuSans-48\"/>\n       <use x=\"318.115234\" xlink:href=\"#DejaVuSans-48\"/>\n      </g>\n     </g>\n    </g>\n    <g id=\"ytick_5\">\n     <g id=\"line2d_33\">\n      <path clip-path=\"url(#p7103f774dc)\" d=\"M 71.86 144.01076 \nL 518.26 144.01076 \n\" style=\"fill:none;stroke:#ffffff;stroke-linecap:square;stroke-width:0.8;\"/>\n     </g>\n     <g id=\"line2d_34\">\n      <g>\n       <use style=\"fill:#555555;stroke:#555555;stroke-width:0.8;\" x=\"71.86\" xlink:href=\"#m0bf97791eb\" y=\"144.01076\"/>\n      </g>\n     </g>\n     <g id=\"text_30\">\n      <!-- 400000 -->\n      <g style=\"fill:#555555;\" transform=\"translate(26.685 147.809979)scale(0.1 -0.1)\">\n       <use xlink:href=\"#DejaVuSans-52\"/>\n       <use x=\"63.623047\" xlink:href=\"#DejaVuSans-48\"/>\n       <use x=\"127.246094\" xlink:href=\"#DejaVuSans-48\"/>\n       <use x=\"190.869141\" xlink:href=\"#DejaVuSans-48\"/>\n       <use x=\"254.492188\" xlink:href=\"#DejaVuSans-48\"/>\n       <use x=\"318.115234\" xlink:href=\"#DejaVuSans-48\"/>\n      </g>\n     </g>\n    </g>\n    <g id=\"ytick_6\">\n     <g id=\"line2d_35\">\n      <path clip-path=\"url(#p7103f774dc)\" d=\"M 71.86 78.544075 \nL 518.26 78.544075 \n\" style=\"fill:none;stroke:#ffffff;stroke-linecap:square;stroke-width:0.8;\"/>\n     </g>\n     <g id=\"line2d_36\">\n      <g>\n       <use style=\"fill:#555555;stroke:#555555;stroke-width:0.8;\" x=\"71.86\" xlink:href=\"#m0bf97791eb\" y=\"78.544075\"/>\n      </g>\n     </g>\n     <g id=\"text_31\">\n      <!-- 500000 -->\n      <g style=\"fill:#555555;\" transform=\"translate(26.685 82.343294)scale(0.1 -0.1)\">\n       <use xlink:href=\"#DejaVuSans-53\"/>\n       <use x=\"63.623047\" xlink:href=\"#DejaVuSans-48\"/>\n       <use x=\"127.246094\" xlink:href=\"#DejaVuSans-48\"/>\n       <use x=\"190.869141\" xlink:href=\"#DejaVuSans-48\"/>\n       <use x=\"254.492188\" xlink:href=\"#DejaVuSans-48\"/>\n       <use x=\"318.115234\" xlink:href=\"#DejaVuSans-48\"/>\n      </g>\n     </g>\n    </g>\n    <g id=\"text_32\">\n     <!-- Request counts -->\n     <g style=\"fill:#555555;\" transform=\"translate(19.3575 277.39375)rotate(-90)scale(0.16 -0.16)\">\n      <defs>\n       <path d=\"M 44.390625 34.1875 \nQ 47.5625 33.109375 50.5625 29.59375 \nQ 53.5625 26.078125 56.59375 19.921875 \nL 66.609375 0 \nL 56 0 \nL 46.6875 18.703125 \nQ 43.0625 26.03125 39.671875 28.421875 \nQ 36.28125 30.8125 30.421875 30.8125 \nL 19.671875 30.8125 \nL 19.671875 0 \nL 9.8125 0 \nL 9.8125 72.90625 \nL 32.078125 72.90625 \nQ 44.578125 72.90625 50.734375 67.671875 \nQ 56.890625 62.453125 56.890625 51.90625 \nQ 56.890625 45.015625 53.6875 40.46875 \nQ 50.484375 35.9375 44.390625 34.1875 \nz\nM 19.671875 64.796875 \nL 19.671875 38.921875 \nL 32.078125 38.921875 \nQ 39.203125 38.921875 42.84375 42.21875 \nQ 46.484375 45.515625 46.484375 51.90625 \nQ 46.484375 58.296875 42.84375 61.546875 \nQ 39.203125 64.796875 32.078125 64.796875 \nz\n\" id=\"DejaVuSans-82\"/>\n       <path d=\"M 14.796875 27.296875 \nQ 14.796875 17.390625 18.875 11.75 \nQ 22.953125 6.109375 30.078125 6.109375 \nQ 37.203125 6.109375 41.296875 11.75 \nQ 45.40625 17.390625 45.40625 27.296875 \nQ 45.40625 37.203125 41.296875 42.84375 \nQ 37.203125 48.484375 30.078125 48.484375 \nQ 22.953125 48.484375 18.875 42.84375 \nQ 14.796875 37.203125 14.796875 27.296875 \nz\nM 45.40625 8.203125 \nQ 42.578125 3.328125 38.25 0.953125 \nQ 33.9375 -1.421875 27.875 -1.421875 \nQ 17.96875 -1.421875 11.734375 6.484375 \nQ 5.515625 14.40625 5.515625 27.296875 \nQ 5.515625 40.1875 11.734375 48.09375 \nQ 17.96875 56 27.875 56 \nQ 33.9375 56 38.25 53.625 \nQ 42.578125 51.265625 45.40625 46.390625 \nL 45.40625 54.6875 \nL 54.390625 54.6875 \nL 54.390625 -20.796875 \nL 45.40625 -20.796875 \nz\n\" id=\"DejaVuSans-113\"/>\n       <path d=\"M 44.28125 53.078125 \nL 44.28125 44.578125 \nQ 40.484375 46.53125 36.375 47.5 \nQ 32.28125 48.484375 27.875 48.484375 \nQ 21.1875 48.484375 17.84375 46.4375 \nQ 14.5 44.390625 14.5 40.28125 \nQ 14.5 37.15625 16.890625 35.375 \nQ 19.28125 33.59375 26.515625 31.984375 \nL 29.59375 31.296875 \nQ 39.15625 29.25 43.1875 25.515625 \nQ 47.21875 21.78125 47.21875 15.09375 \nQ 47.21875 7.46875 41.1875 3.015625 \nQ 35.15625 -1.421875 24.609375 -1.421875 \nQ 20.21875 -1.421875 15.453125 -0.5625 \nQ 10.6875 0.296875 5.421875 2 \nL 5.421875 11.28125 \nQ 10.40625 8.6875 15.234375 7.390625 \nQ 20.0625 6.109375 24.8125 6.109375 \nQ 31.15625 6.109375 34.5625 8.28125 \nQ 37.984375 10.453125 37.984375 14.40625 \nQ 37.984375 18.0625 35.515625 20.015625 \nQ 33.0625 21.96875 24.703125 23.78125 \nL 21.578125 24.515625 \nQ 13.234375 26.265625 9.515625 29.90625 \nQ 5.8125 33.546875 5.8125 39.890625 \nQ 5.8125 47.609375 11.28125 51.796875 \nQ 16.75 56 26.8125 56 \nQ 31.78125 56 36.171875 55.265625 \nQ 40.578125 54.546875 44.28125 53.078125 \nz\n\" id=\"DejaVuSans-115\"/>\n       <path d=\"M 18.3125 70.21875 \nL 18.3125 54.6875 \nL 36.8125 54.6875 \nL 36.8125 47.703125 \nL 18.3125 47.703125 \nL 18.3125 18.015625 \nQ 18.3125 11.328125 20.140625 9.421875 \nQ 21.96875 7.515625 27.59375 7.515625 \nL 36.8125 7.515625 \nL 36.8125 0 \nL 27.59375 0 \nQ 17.1875 0 13.234375 3.875 \nQ 9.28125 7.765625 9.28125 18.015625 \nL 9.28125 47.703125 \nL 2.6875 47.703125 \nL 2.6875 54.6875 \nL 9.28125 54.6875 \nL 9.28125 70.21875 \nz\n\" id=\"DejaVuSans-116\"/>\n       <path d=\"M 48.78125 52.59375 \nL 48.78125 44.1875 \nQ 44.96875 46.296875 41.140625 47.34375 \nQ 37.3125 48.390625 33.40625 48.390625 \nQ 24.65625 48.390625 19.8125 42.84375 \nQ 14.984375 37.3125 14.984375 27.296875 \nQ 14.984375 17.28125 19.8125 11.734375 \nQ 24.65625 6.203125 33.40625 6.203125 \nQ 37.3125 6.203125 41.140625 7.25 \nQ 44.96875 8.296875 48.78125 10.40625 \nL 48.78125 2.09375 \nQ 45.015625 0.34375 40.984375 -0.53125 \nQ 36.96875 -1.421875 32.421875 -1.421875 \nQ 20.0625 -1.421875 12.78125 6.34375 \nQ 5.515625 14.109375 5.515625 27.296875 \nQ 5.515625 40.671875 12.859375 48.328125 \nQ 20.21875 56 33.015625 56 \nQ 37.15625 56 41.109375 55.140625 \nQ 45.0625 54.296875 48.78125 52.59375 \nz\n\" id=\"DejaVuSans-99\"/>\n       <path d=\"M 54.890625 33.015625 \nL 54.890625 0 \nL 45.90625 0 \nL 45.90625 32.71875 \nQ 45.90625 40.484375 42.875 44.328125 \nQ 39.84375 48.1875 33.796875 48.1875 \nQ 26.515625 48.1875 22.3125 43.546875 \nQ 18.109375 38.921875 18.109375 30.90625 \nL 18.109375 0 \nL 9.078125 0 \nL 9.078125 54.6875 \nL 18.109375 54.6875 \nL 18.109375 46.1875 \nQ 21.34375 51.125 25.703125 53.5625 \nQ 30.078125 56 35.796875 56 \nQ 45.21875 56 50.046875 50.171875 \nQ 54.890625 44.34375 54.890625 33.015625 \nz\n\" id=\"DejaVuSans-110\"/>\n      </defs>\n      <use xlink:href=\"#DejaVuSans-82\"/>\n      <use x=\"64.982422\" xlink:href=\"#DejaVuSans-101\"/>\n      <use x=\"126.505859\" xlink:href=\"#DejaVuSans-113\"/>\n      <use x=\"189.982422\" xlink:href=\"#DejaVuSans-117\"/>\n      <use x=\"253.361328\" xlink:href=\"#DejaVuSans-101\"/>\n      <use x=\"314.884766\" xlink:href=\"#DejaVuSans-115\"/>\n      <use x=\"366.984375\" xlink:href=\"#DejaVuSans-116\"/>\n      <use x=\"406.193359\" xlink:href=\"#DejaVuSans-32\"/>\n      <use x=\"437.980469\" xlink:href=\"#DejaVuSans-99\"/>\n      <use x=\"492.960938\" xlink:href=\"#DejaVuSans-111\"/>\n      <use x=\"554.142578\" xlink:href=\"#DejaVuSans-117\"/>\n      <use x=\"617.521484\" xlink:href=\"#DejaVuSans-110\"/>\n      <use x=\"680.900391\" xlink:href=\"#DejaVuSans-116\"/>\n      <use x=\"720.109375\" xlink:href=\"#DejaVuSans-115\"/>\n     </g>\n    </g>\n   </g>\n   <g id=\"patch_3\">\n    <path clip-path=\"url(#p7103f774dc)\" d=\"M 73.72 405.8775 \nL 88.6 405.8775 \nL 88.6 43.4775 \nL 73.72 43.4775 \nz\n\" style=\"fill:#ea96a3;\"/>\n   </g>\n   <g id=\"patch_4\">\n    <path clip-path=\"url(#p7103f774dc)\" d=\"M 92.32 405.8775 \nL 107.2 405.8775 \nL 107.2 45.323661 \nL 92.32 45.323661 \nz\n\" style=\"fill:#e8968a;\"/>\n   </g>\n   <g id=\"patch_5\">\n    <path clip-path=\"url(#p7103f774dc)\" d=\"M 110.92 405.8775 \nL 125.8 405.8775 \nL 125.8 48.000593 \nL 110.92 48.000593 \nz\n\" style=\"fill:#e19153;\"/>\n   </g>\n   <g id=\"patch_6\">\n    <path clip-path=\"url(#p7103f774dc)\" d=\"M 129.52 405.8775 \nL 144.4 405.8775 \nL 144.4 49.258208 \nL 129.52 49.258208 \nz\n\" style=\"fill:#ca984c;\"/>\n   </g>\n   <g id=\"patch_7\">\n    <path clip-path=\"url(#p7103f774dc)\" d=\"M 148.12 405.8775 \nL 163 405.8775 \nL 163 59.328294 \nL 148.12 59.328294 \nz\n\" style=\"fill:#b89c49;\"/>\n   </g>\n   <g id=\"patch_8\">\n    <path clip-path=\"url(#p7103f774dc)\" d=\"M 166.72 405.8775 \nL 181.6 405.8775 \nL 181.6 63.902451 \nL 166.72 63.902451 \nz\n\" style=\"fill:#a89e47;\"/>\n   </g>\n   <g id=\"patch_9\">\n    <path clip-path=\"url(#p7103f774dc)\" d=\"M 185.32 405.8775 \nL 200.2 405.8775 \nL 200.2 82.67175 \nL 185.32 82.67175 \nz\n\" style=\"fill:#98a246;\"/>\n   </g>\n   <g id=\"patch_10\">\n    <path clip-path=\"url(#p7103f774dc)\" d=\"M 203.92 405.8775 \nL 218.8 405.8775 \nL 218.8 86.838704 \nL 203.92 86.838704 \nz\n\" style=\"fill:#84a846;\"/>\n   </g>\n   <g id=\"patch_11\">\n    <path clip-path=\"url(#p7103f774dc)\" d=\"M 222.52 405.8775 \nL 237.4 405.8775 \nL 237.4 96.182764 \nL 222.52 96.182764 \nz\n\" style=\"fill:#60ae47;\"/>\n   </g>\n   <g id=\"patch_12\">\n    <path clip-path=\"url(#p7103f774dc)\" d=\"M 241.12 405.8775 \nL 256 405.8775 \nL 256 115.520313 \nL 241.12 115.520313 \nz\n\" style=\"fill:#49af72;\"/>\n   </g>\n   <g id=\"patch_13\">\n    <path clip-path=\"url(#p7103f774dc)\" d=\"M 259.72 405.8775 \nL 274.6 405.8775 \nL 274.6 116.2339 \nL 259.72 116.2339 \nz\n\" style=\"fill:#4aae8a;\"/>\n   </g>\n   <g id=\"patch_14\">\n    <path clip-path=\"url(#p7103f774dc)\" d=\"M 278.32 405.8775 \nL 293.2 405.8775 \nL 293.2 122.871568 \nL 278.32 122.871568 \nz\n\" style=\"fill:#4aac99;\"/>\n   </g>\n   <g id=\"patch_15\">\n    <path clip-path=\"url(#p7103f774dc)\" d=\"M 296.92 405.8775 \nL 311.8 405.8775 \nL 311.8 152.330921 \nL 296.92 152.330921 \nz\n\" style=\"fill:#4baba4;\"/>\n   </g>\n   <g id=\"patch_16\">\n    <path clip-path=\"url(#p7103f774dc)\" d=\"M 315.52 405.8775 \nL 330.4 405.8775 \nL 330.4 164.339475 \nL 315.52 164.339475 \nz\n\" style=\"fill:#4cabaf;\"/>\n   </g>\n   <g id=\"patch_17\">\n    <path clip-path=\"url(#p7103f774dc)\" d=\"M 334.12 405.8775 \nL 349 405.8775 \nL 349 165.199053 \nL 334.12 165.199053 \nz\n\" style=\"fill:#4fabbc;\"/>\n   </g>\n   <g id=\"patch_18\">\n    <path clip-path=\"url(#p7103f774dc)\" d=\"M 352.72 405.8775 \nL 367.6 405.8775 \nL 367.6 180.453445 \nL 352.72 180.453445 \nz\n\" style=\"fill:#53accd;\"/>\n   </g>\n   <g id=\"patch_19\">\n    <path clip-path=\"url(#p7103f774dc)\" d=\"M 371.32 405.8775 \nL 386.2 405.8775 \nL 386.2 242.024208 \nL 371.32 242.024208 \nz\n\" style=\"fill:#6daee2;\"/>\n   </g>\n   <g id=\"patch_20\">\n    <path clip-path=\"url(#p7103f774dc)\" d=\"M 389.92 405.8775 \nL 404.8 405.8775 \nL 404.8 301.428023 \nL 389.92 301.428023 \nz\n\" style=\"fill:#9bade9;\"/>\n   </g>\n   <g id=\"patch_21\">\n    <path clip-path=\"url(#p7103f774dc)\" d=\"M 408.52 405.8775 \nL 423.4 405.8775 \nL 423.4 303.805773 \nL 408.52 303.805773 \nz\n\" style=\"fill:#b6a8eb;\"/>\n   </g>\n   <g id=\"patch_22\">\n    <path clip-path=\"url(#p7103f774dc)\" d=\"M 427.12 405.8775 \nL 442 405.8775 \nL 442 344.450764 \nL 427.12 344.450764 \nz\n\" style=\"fill:#ca9ee9;\"/>\n   </g>\n   <g id=\"patch_23\">\n    <path clip-path=\"url(#p7103f774dc)\" d=\"M 445.72 405.8775 \nL 460.6 405.8775 \nL 460.6 351.125093 \nL 445.72 351.125093 \nz\n\" style=\"fill:#df8fe7;\"/>\n   </g>\n   <g id=\"patch_24\">\n    <path clip-path=\"url(#p7103f774dc)\" d=\"M 464.32 405.8775 \nL 479.2 405.8775 \nL 479.2 358.375528 \nL 464.32 358.375528 \nz\n\" style=\"fill:#e78cd7;\"/>\n   </g>\n   <g id=\"patch_25\">\n    <path clip-path=\"url(#p7103f774dc)\" d=\"M 482.92 405.8775 \nL 497.8 405.8775 \nL 497.8 362.359176 \nL 482.92 362.359176 \nz\n\" style=\"fill:#e890c6;\"/>\n   </g>\n   <g id=\"patch_26\">\n    <path clip-path=\"url(#p7103f774dc)\" d=\"M 501.52 405.8775 \nL 516.4 405.8775 \nL 516.4 363.181437 \nL 501.52 363.181437 \nz\n\" style=\"fill:#e993b6;\"/>\n   </g>\n   <g id=\"patch_27\">\n    <path d=\"M 71.86 405.8775 \nL 71.86 25.3575 \n\" style=\"fill:none;stroke:#ffffff;stroke-linecap:square;stroke-linejoin:miter;\"/>\n   </g>\n   <g id=\"patch_28\">\n    <path d=\"M 518.26 405.8775 \nL 518.26 25.3575 \n\" style=\"fill:none;stroke:#ffffff;stroke-linecap:square;stroke-linejoin:miter;\"/>\n   </g>\n   <g id=\"patch_29\">\n    <path d=\"M 71.86 405.8775 \nL 518.26 405.8775 \n\" style=\"fill:none;stroke:#ffffff;stroke-linecap:square;stroke-linejoin:miter;\"/>\n   </g>\n   <g id=\"patch_30\">\n    <path d=\"M 71.86 25.3575 \nL 518.26 25.3575 \n\" style=\"fill:none;stroke:#ffffff;stroke-linecap:square;stroke-linejoin:miter;\"/>\n   </g>\n   <g id=\"text_33\">\n    <!-- Requests and Time Hour (descending) -->\n    <g transform=\"translate(142.07875 19.3575)scale(0.16 -0.16)\">\n     <defs>\n      <path d=\"M 34.28125 27.484375 \nQ 23.390625 27.484375 19.1875 25 \nQ 14.984375 22.515625 14.984375 16.5 \nQ 14.984375 11.71875 18.140625 8.90625 \nQ 21.296875 6.109375 26.703125 6.109375 \nQ 34.1875 6.109375 38.703125 11.40625 \nQ 43.21875 16.703125 43.21875 25.484375 \nL 43.21875 27.484375 \nz\nM 52.203125 31.203125 \nL 52.203125 0 \nL 43.21875 0 \nL 43.21875 8.296875 \nQ 40.140625 3.328125 35.546875 0.953125 \nQ 30.953125 -1.421875 24.3125 -1.421875 \nQ 15.921875 -1.421875 10.953125 3.296875 \nQ 6 8.015625 6 15.921875 \nQ 6 25.140625 12.171875 29.828125 \nQ 18.359375 34.515625 30.609375 34.515625 \nL 43.21875 34.515625 \nL 43.21875 35.40625 \nQ 43.21875 41.609375 39.140625 45 \nQ 35.0625 48.390625 27.6875 48.390625 \nQ 23 48.390625 18.546875 47.265625 \nQ 14.109375 46.140625 10.015625 43.890625 \nL 10.015625 52.203125 \nQ 14.9375 54.109375 19.578125 55.046875 \nQ 24.21875 56 28.609375 56 \nQ 40.484375 56 46.34375 49.84375 \nQ 52.203125 43.703125 52.203125 31.203125 \nz\n\" id=\"DejaVuSans-97\"/>\n      <path d=\"M 45.40625 46.390625 \nL 45.40625 75.984375 \nL 54.390625 75.984375 \nL 54.390625 0 \nL 45.40625 0 \nL 45.40625 8.203125 \nQ 42.578125 3.328125 38.25 0.953125 \nQ 33.9375 -1.421875 27.875 -1.421875 \nQ 17.96875 -1.421875 11.734375 6.484375 \nQ 5.515625 14.40625 5.515625 27.296875 \nQ 5.515625 40.1875 11.734375 48.09375 \nQ 17.96875 56 27.875 56 \nQ 33.9375 56 38.25 53.625 \nQ 42.578125 51.265625 45.40625 46.390625 \nz\nM 14.796875 27.296875 \nQ 14.796875 17.390625 18.875 11.75 \nQ 22.953125 6.109375 30.078125 6.109375 \nQ 37.203125 6.109375 41.296875 11.75 \nQ 45.40625 17.390625 45.40625 27.296875 \nQ 45.40625 37.203125 41.296875 42.84375 \nQ 37.203125 48.484375 30.078125 48.484375 \nQ 22.953125 48.484375 18.875 42.84375 \nQ 14.796875 37.203125 14.796875 27.296875 \nz\n\" id=\"DejaVuSans-100\"/>\n      <path d=\"M 31 75.875 \nQ 24.46875 64.65625 21.28125 53.65625 \nQ 18.109375 42.671875 18.109375 31.390625 \nQ 18.109375 20.125 21.3125 9.0625 \nQ 24.515625 -2 31 -13.1875 \nL 23.1875 -13.1875 \nQ 15.875 -1.703125 12.234375 9.375 \nQ 8.59375 20.453125 8.59375 31.390625 \nQ 8.59375 42.28125 12.203125 53.3125 \nQ 15.828125 64.359375 23.1875 75.875 \nz\n\" id=\"DejaVuSans-40\"/>\n      <path d=\"M 45.40625 27.984375 \nQ 45.40625 37.75 41.375 43.109375 \nQ 37.359375 48.484375 30.078125 48.484375 \nQ 22.859375 48.484375 18.828125 43.109375 \nQ 14.796875 37.75 14.796875 27.984375 \nQ 14.796875 18.265625 18.828125 12.890625 \nQ 22.859375 7.515625 30.078125 7.515625 \nQ 37.359375 7.515625 41.375 12.890625 \nQ 45.40625 18.265625 45.40625 27.984375 \nz\nM 54.390625 6.78125 \nQ 54.390625 -7.171875 48.1875 -13.984375 \nQ 42 -20.796875 29.203125 -20.796875 \nQ 24.46875 -20.796875 20.265625 -20.09375 \nQ 16.0625 -19.390625 12.109375 -17.921875 \nL 12.109375 -9.1875 \nQ 16.0625 -11.328125 19.921875 -12.34375 \nQ 23.78125 -13.375 27.78125 -13.375 \nQ 36.625 -13.375 41.015625 -8.765625 \nQ 45.40625 -4.15625 45.40625 5.171875 \nL 45.40625 9.625 \nQ 42.625 4.78125 38.28125 2.390625 \nQ 33.9375 0 27.875 0 \nQ 17.828125 0 11.671875 7.65625 \nQ 5.515625 15.328125 5.515625 27.984375 \nQ 5.515625 40.671875 11.671875 48.328125 \nQ 17.828125 56 27.875 56 \nQ 33.9375 56 38.28125 53.609375 \nQ 42.625 51.21875 45.40625 46.390625 \nL 45.40625 54.6875 \nL 54.390625 54.6875 \nz\n\" id=\"DejaVuSans-103\"/>\n      <path d=\"M 8.015625 75.875 \nL 15.828125 75.875 \nQ 23.140625 64.359375 26.78125 53.3125 \nQ 30.421875 42.28125 30.421875 31.390625 \nQ 30.421875 20.453125 26.78125 9.375 \nQ 23.140625 -1.703125 15.828125 -13.1875 \nL 8.015625 -13.1875 \nQ 14.5 -2 17.703125 9.0625 \nQ 20.90625 20.125 20.90625 31.390625 \nQ 20.90625 42.671875 17.703125 53.65625 \nQ 14.5 64.65625 8.015625 75.875 \nz\n\" id=\"DejaVuSans-41\"/>\n     </defs>\n     <use xlink:href=\"#DejaVuSans-82\"/>\n     <use x=\"64.982422\" xlink:href=\"#DejaVuSans-101\"/>\n     <use x=\"126.505859\" xlink:href=\"#DejaVuSans-113\"/>\n     <use x=\"189.982422\" xlink:href=\"#DejaVuSans-117\"/>\n     <use x=\"253.361328\" xlink:href=\"#DejaVuSans-101\"/>\n     <use x=\"314.884766\" xlink:href=\"#DejaVuSans-115\"/>\n     <use x=\"366.984375\" xlink:href=\"#DejaVuSans-116\"/>\n     <use x=\"406.193359\" xlink:href=\"#DejaVuSans-115\"/>\n     <use x=\"458.292969\" xlink:href=\"#DejaVuSans-32\"/>\n     <use x=\"490.080078\" xlink:href=\"#DejaVuSans-97\"/>\n     <use x=\"551.359375\" xlink:href=\"#DejaVuSans-110\"/>\n     <use x=\"614.738281\" xlink:href=\"#DejaVuSans-100\"/>\n     <use x=\"678.214844\" xlink:href=\"#DejaVuSans-32\"/>\n     <use x=\"710.001953\" xlink:href=\"#DejaVuSans-84\"/>\n     <use x=\"767.960938\" xlink:href=\"#DejaVuSans-105\"/>\n     <use x=\"795.744141\" xlink:href=\"#DejaVuSans-109\"/>\n     <use x=\"893.15625\" xlink:href=\"#DejaVuSans-101\"/>\n     <use x=\"954.679688\" xlink:href=\"#DejaVuSans-32\"/>\n     <use x=\"986.466797\" xlink:href=\"#DejaVuSans-72\"/>\n     <use x=\"1061.662109\" xlink:href=\"#DejaVuSans-111\"/>\n     <use x=\"1122.84375\" xlink:href=\"#DejaVuSans-117\"/>\n     <use x=\"1186.222656\" xlink:href=\"#DejaVuSans-114\"/>\n     <use x=\"1227.335938\" xlink:href=\"#DejaVuSans-32\"/>\n     <use x=\"1259.123047\" xlink:href=\"#DejaVuSans-40\"/>\n     <use x=\"1298.136719\" xlink:href=\"#DejaVuSans-100\"/>\n     <use x=\"1361.613281\" xlink:href=\"#DejaVuSans-101\"/>\n     <use x=\"1423.136719\" xlink:href=\"#DejaVuSans-115\"/>\n     <use x=\"1475.236328\" xlink:href=\"#DejaVuSans-99\"/>\n     <use x=\"1530.216797\" xlink:href=\"#DejaVuSans-101\"/>\n     <use x=\"1591.740234\" xlink:href=\"#DejaVuSans-110\"/>\n     <use x=\"1655.119141\" xlink:href=\"#DejaVuSans-100\"/>\n     <use x=\"1718.595703\" xlink:href=\"#DejaVuSans-105\"/>\n     <use x=\"1746.378906\" xlink:href=\"#DejaVuSans-110\"/>\n     <use x=\"1809.757812\" xlink:href=\"#DejaVuSans-103\"/>\n     <use x=\"1873.234375\" xlink:href=\"#DejaVuSans-41\"/>\n    </g>\n   </g>\n  </g>\n </g>\n <defs>\n  <clipPath id=\"p7103f774dc\">\n   <rect height=\"380.52\" width=\"446.4\" x=\"71.86\" y=\"25.3575\"/>\n  </clipPath>\n </defs>\n</svg>\n",
            "image/png": "[encoded data removed]"
          },
          "metadata": {
            "tags": []
          }
        }
      ]
    },
    {
      "cell_type": "markdown",
      "metadata": {
        "id": "aFEJDPvEy8ZR"
      },
      "source": [
        "\n",
        "<div class=\"alert alert-block alert-warning\">\n",
        "\n",
        "**Code**: \n",
        "    You are required to filter the hourly requests by removing any below 490,000 and above 400,000. (hourly_request_amount >= 400000 & hourly_request_amount <= 490000)    \n",
        "    <br>\n",
        "    *Keep the outputs for code in your notebook.\n",
        "</div> \n",
        "\n",
        "<div class=\"alert alert-block alert-warning\">\n",
        "    \n",
        "**Report**: \n",
        "    **Part I 2.1.B** Please include your result for this coding task into your report, with proper section title '2.1.B'.\n",
        "</div>\n",
        "    </div>\n"
      ]
    },
    {
      "cell_type": "code",
      "metadata": {
        "id": "TLArAkrH0rig",
        "outputId": "5da045e1-3c66-41e5-aa14-510fe41d37a0"
      },
      "source": [
        "filter_hour= df_ht['hour'].value_counts().reset_index()\n",
        "\n",
        "#condition \n",
        "filter_condition = ((filter_hour['hour'] >= 400000) & (filter_hour['hour'] <= 490000))\n",
        "\n",
        "filter_hour = filter_hour[filter_condition]\n",
        "\n",
        "filter_hour = filter_hour.rename(columns ={'index': 'Filter Hour',\n",
        "                               'hour': 'Request Counts'})\\\n",
        "                               .reset_index(drop=True)\n",
        "\n",
        "#filter_hour.to_csv('filter_hour_table.csv', index=False)\n",
        "filter_hour"
      ],
      "execution_count": null,
      "outputs": [
        {
          "output_type": "execute_result",
          "data": {
            "text/plain": [
              "   Filter Hour  Request Counts\n",
              "0            5          487330\n",
              "1           15          473057\n",
              "2           10          443519\n",
              "3           13          442429\n",
              "4            2          432290"
            ],
            "text/html": [
              "<div>\n",
              "<style scoped>\n",
              "    .dataframe tbody tr th:only-of-type {\n",
              "        vertical-align: middle;\n",
              "    }\n",
              "\n",
              "    .dataframe tbody tr th {\n",
              "        vertical-align: top;\n",
              "    }\n",
              "\n",
              "    .dataframe thead th {\n",
              "        text-align: right;\n",
              "    }\n",
              "</style>\n",
              "<table border=\"1\" class=\"dataframe\">\n",
              "  <thead>\n",
              "    <tr style=\"text-align: right;\">\n",
              "      <th></th>\n",
              "      <th>Filter Hour</th>\n",
              "      <th>Request Counts</th>\n",
              "    </tr>\n",
              "  </thead>\n",
              "  <tbody>\n",
              "    <tr>\n",
              "      <th>0</th>\n",
              "      <td>5</td>\n",
              "      <td>487330</td>\n",
              "    </tr>\n",
              "    <tr>\n",
              "      <th>1</th>\n",
              "      <td>15</td>\n",
              "      <td>473057</td>\n",
              "    </tr>\n",
              "    <tr>\n",
              "      <th>2</th>\n",
              "      <td>10</td>\n",
              "      <td>443519</td>\n",
              "    </tr>\n",
              "    <tr>\n",
              "      <th>3</th>\n",
              "      <td>13</td>\n",
              "      <td>442429</td>\n",
              "    </tr>\n",
              "    <tr>\n",
              "      <th>4</th>\n",
              "      <td>2</td>\n",
              "      <td>432290</td>\n",
              "    </tr>\n",
              "  </tbody>\n",
              "</table>\n",
              "</div>"
            ]
          },
          "metadata": {
            "tags": []
          },
          "execution_count": 143
        }
      ]
    },
    {
      "cell_type": "markdown",
      "metadata": {
        "id": "xwKZ2IAr9IR_"
      },
      "source": [
        "### 2.2 Server Analysis"
      ]
    },
    {
      "cell_type": "markdown",
      "metadata": {
        "id": "n2sojLZStPBh"
      },
      "source": [
        "<div class=\"alert alert-block alert-warning\">\n",
        "\n",
        "**Code**: \n",
        "    Discover on the server status using 'sc-status' from DataFrame, then plot it into Pie Chart. <br>\n",
        "    *Keep the outputs for code in your notebook.\n",
        "</div> \n",
        "\n",
        "<div class=\"alert alert-block alert-warning\">\n",
        "    \n",
        "**Report**: \n",
        "    **Part I 2.2** Please include your results for this coding task into your report Part I section '2.2', <br>\n",
        "    1. How many types of status reported? <br>\n",
        "    2. Figure 'Server Status' in pie chart. <br>\n",
        "</div>"
      ]
    },
    {
      "cell_type": "markdown",
      "metadata": {
        "id": "jOy7bisdx6iB"
      },
      "source": [
        "#### Server Status"
      ]
    },
    {
      "cell_type": "code",
      "metadata": {
        "colab": {
          "base_uri": "https://localhost:8080/",
          "height": 457
        },
        "id": "9nVWlMSXrHQg",
        "outputId": "de59500a-1e47-4bba-f9fa-dec0f0073682"
      },
      "source": [
        "# construct dataframe from serve status\n",
        "print('The number of unique server status type:',df_ht['sc-status'].nunique())\n",
        "\n",
        "print('\\n\\n------------Server type counts-------------')\n",
        "df_ht['sc-status'].value_counts()"
      ],
      "execution_count": null,
      "outputs": [
        {
          "output_type": "stream",
          "text": [
            "The number of unique server status type: 12\n",
            "\n",
            "\n",
            "------------Server type counts-------------\n"
          ],
          "name": "stdout"
        },
        {
          "output_type": "execute_result",
          "data": {
            "text/plain": [
              "200    6072524\n",
              "304    2136930\n",
              "404     142583\n",
              "206      72472\n",
              "302       7366\n",
              "500       2013\n",
              "403        700\n",
              "301        433\n",
              "400        210\n",
              "501        113\n",
              "406         54\n",
              "416          3\n",
              "Name: sc-status, dtype: int64"
            ]
          },
          "metadata": {
            "tags": []
          },
          "execution_count": 144
        }
      ]
    },
    {
      "cell_type": "code",
      "metadata": {
        "colab": {
          "base_uri": "https://localhost:8080/",
          "height": 978
        },
        "id": "AFzkYoqDo9a0",
        "outputId": "1905b49e-f73b-4361-cf41-438ab2a3ad67"
      },
      "source": [
        "pie_server = df_ht['sc-status'].value_counts()\n",
        "\n",
        "plt.figure(figsize = (8,8))\n",
        "\n",
        "plt.pie(pie_server.values,\n",
        "           shadow = True,\n",
        "        textprops={'fontsize': 13})\n",
        "plt.title('Server Status pie chart', fontsize = 15)\n",
        "\n",
        "plt.legend(labels =pie_server.index )\n",
        "\n",
        "centre_circle = plt.Circle((0,0),0.45,fc='white')\n",
        "fig = plt.gcf()\n",
        "fig.gca().add_artist(centre_circle) \n",
        "\n",
        "plt.show()\n",
        "\n",
        "df_ht['sc-status'].value_counts()*100/ len(df_ht['sc-status'])\n"
      ],
      "execution_count": null,
      "outputs": [
        {
          "output_type": "display_data",
          "data": {
            "text/plain": [
              "<Figure size 576x576 with 1 Axes>"
            ],
            "image/svg+xml": "<?xml version=\"1.0\" encoding=\"utf-8\" standalone=\"no\"?>\n<!DOCTYPE svg PUBLIC \"-//W3C//DTD SVG 1.1//EN\"\n  \"http://www.w3.org/Graphics/SVG/1.1/DTD/svg11.dtd\">\n<!-- Created with matplotlib (https://matplotlib.org/) -->\n<svg height=\"466.677656pt\" version=\"1.1\" viewBox=\"0 0 449.28 466.677656\" width=\"449.28pt\" xmlns=\"http://www.w3.org/2000/svg\" xmlns:xlink=\"http://www.w3.org/1999/xlink\">\n <metadata>\n  <rdf:RDF xmlns:cc=\"http://creativecommons.org/ns#\" xmlns:dc=\"http://purl.org/dc/elements/1.1/\" xmlns:rdf=\"http://www.w3.org/1999/02/22-rdf-syntax-ns#\">\n   <cc:Work>\n    <dc:type rdf:resource=\"http://purl.org/dc/dcmitype/StillImage\"/>\n    <dc:date>2021-04-15T02:32:02.761248</dc:date>\n    <dc:format>image/svg+xml</dc:format>\n    <dc:creator>\n     <cc:Agent>\n      <dc:title>Matplotlib v3.3.4, https://matplotlib.org/</dc:title>\n     </cc:Agent>\n    </dc:creator>\n   </cc:Work>\n  </rdf:RDF>\n </metadata>\n <defs>\n  <style type=\"text/css\">*{stroke-linecap:butt;stroke-linejoin:round;}</style>\n </defs>\n <g id=\"figure_1\">\n  <g id=\"patch_1\">\n   <path d=\"M 0 466.677656 \nL 449.28 466.677656 \nL 449.28 0 \nL 0 0 \nz\n\" style=\"fill:#ffffff;\"/>\n  </g>\n  <g id=\"axes_1\">\n   <g id=\"matplotlib.axis_1\"/>\n   <g id=\"matplotlib.axis_2\"/>\n   <g id=\"patch_2\">\n    <path d=\"M 395.11296 245.516696 \nC 395.11296 212.515977 385.722029 180.186762 368.041862 152.321745 \nC 350.361695 124.456728 325.11181 102.189914 295.25439 88.133527 \nC 265.396971 74.077141 232.147106 68.803227 199.405494 72.930492 \nC 166.663882 77.057757 135.762987 90.418237 110.32794 111.444551 \nC 84.892894 132.470865 65.958809 160.307319 55.746932 191.688285 \nC 45.535056 223.069252 44.460975 256.717641 52.650695 288.686 \nC 60.840414 320.654359 77.960642 349.641692 102.002924 372.247359 \nC 126.045206 394.853025 156.031109 410.157057 188.442843 416.364064 \nL 221.16096 245.516696 \nL 395.11296 245.516696 \nz\n\" style=\"fill:#44160f;opacity:0.5;stroke:#44160f;stroke-linejoin:miter;stroke-width:0.5;\"/>\n   </g>\n   <g id=\"patch_3\">\n    <path d=\"M 188.442843 416.364064 \nC 211.178985 420.718148 234.55722 420.490205 257.20414 415.693626 \nC 279.851061 410.897047 301.314328 401.627638 320.333035 388.429949 \nC 339.351741 375.232261 355.546016 358.369898 367.96449 338.833479 \nC 380.382964 319.297059 388.777596 297.476794 392.655225 274.654564 \nL 221.16096 245.516696 \nL 188.442843 416.364064 \nz\n\" style=\"fill:#102939;opacity:0.5;stroke:#102939;stroke-linejoin:miter;stroke-width:0.5;\"/>\n   </g>\n   <g id=\"patch_4\">\n    <path d=\"M 392.655225 274.654564 \nC 393.171016 271.618816 393.606109 268.569908 393.960045 265.511062 \nC 394.31398 262.452216 394.586632 259.384511 394.777714 256.311191 \nL 221.16096 245.516696 \nL 392.655225 274.654564 \nz\n\" style=\"fill:#2e2b40;opacity:0.5;stroke:#2e2b40;stroke-linejoin:miter;stroke-width:0.5;\"/>\n   </g>\n   <g id=\"patch_5\">\n    <path d=\"M 394.777714 256.311191 \nC 394.874832 254.749154 394.950866 253.185877 395.005794 251.621788 \nC 395.060721 250.057699 395.094538 248.49294 395.107235 246.927938 \nL 221.16096 245.516696 \nL 394.777714 256.311191 \nz\n\" style=\"fill:#242424;opacity:0.5;stroke:#242424;stroke-linejoin:miter;stroke-width:0.5;\"/>\n   </g>\n   <g id=\"patch_6\">\n    <path d=\"M 395.107235 246.927938 \nC 395.108526 246.768875 395.109598 246.60981 395.110452 246.450743 \nC 395.111306 246.291677 395.111942 246.13261 395.11236 245.973542 \nL 221.16096 245.516696 \nL 395.107235 246.927938 \nz\n\" style=\"fill:#4b3a1c;opacity:0.5;stroke:#4b3a1c;stroke-linejoin:miter;stroke-width:0.5;\"/>\n   </g>\n   <g id=\"patch_7\">\n    <path d=\"M 395.11236 245.973542 \nC 395.112474 245.930072 395.112572 245.886601 395.112654 245.843131 \nC 395.112735 245.79966 395.112801 245.756189 395.11285 245.712719 \nL 221.16096 245.516696 \nL 395.11236 245.973542 \nz\n\" style=\"fill:#2b3814;opacity:0.5;stroke:#2b3814;stroke-linejoin:miter;stroke-width:0.5;\"/>\n   </g>\n   <g id=\"patch_8\">\n    <path d=\"M 395.11285 245.712719 \nC 395.112867 245.697602 395.112882 245.682486 395.112895 245.667369 \nC 395.112908 245.652253 395.112919 245.637136 395.112928 245.62202 \nL 221.16096 245.516696 \nL 395.11285 245.712719 \nz\n\" style=\"fill:#4c3637;opacity:0.5;stroke:#4c3637;stroke-linejoin:miter;stroke-width:0.5;\"/>\n   </g>\n   <g id=\"patch_9\">\n    <path d=\"M 395.112928 245.62202 \nC 395.112934 245.612669 395.112939 245.603319 395.112943 245.593968 \nC 395.112947 245.584617 395.11295 245.575267 395.112953 245.565916 \nL 221.16096 245.516696 \nL 395.112928 245.62202 \nz\n\" style=\"fill:#44160f;opacity:0.5;stroke:#44160f;stroke-linejoin:miter;stroke-width:0.5;\"/>\n   </g>\n   <g id=\"patch_10\">\n    <path d=\"M 395.112953 245.565916 \nC 395.112954 245.561381 395.112955 245.556846 395.112956 245.552311 \nC 395.112957 245.547776 395.112958 245.543242 395.112959 245.538707 \nL 221.16096 245.516696 \nL 395.112953 245.565916 \nz\n\" style=\"fill:#102939;opacity:0.5;stroke:#102939;stroke-linejoin:miter;stroke-width:0.5;\"/>\n   </g>\n   <g id=\"patch_11\">\n    <path d=\"M 395.112959 245.538707 \nC 395.112959 245.536266 395.112959 245.533826 395.112959 245.531386 \nC 395.11296 245.528946 395.11296 245.526505 395.11296 245.524065 \nL 221.16096 245.516696 \nL 395.112959 245.538707 \nz\n\" style=\"fill:#2e2b40;opacity:0.5;stroke:#2e2b40;stroke-linejoin:miter;stroke-width:0.5;\"/>\n   </g>\n   <g id=\"patch_12\">\n    <path d=\"M 395.11296 245.524065 \nC 395.11296 245.522899 395.11296 245.521733 395.11296 245.520567 \nC 395.11296 245.519401 395.11296 245.518235 395.11296 245.517068 \nL 221.16096 245.516696 \nL 395.11296 245.524065 \nz\n\" style=\"fill:#242424;opacity:0.5;stroke:#242424;stroke-linejoin:miter;stroke-width:0.5;\"/>\n   </g>\n   <g id=\"patch_13\">\n    <path d=\"M 395.11296 245.517068 \nC 395.11296 245.517004 395.11296 245.516939 395.11296 245.516874 \nC 395.11296 245.516809 395.11296 245.516745 395.11296 245.51668 \nL 221.16096 245.516696 \nL 395.11296 245.517068 \nz\n\" style=\"fill:#4b3a1c;opacity:0.5;stroke:#4b3a1c;stroke-linejoin:miter;stroke-width:0.5;\"/>\n   </g>\n   <g id=\"patch_14\">\n    <path d=\"M 398.592 242.037656 \nC 398.592 209.036937 389.201069 176.707722 371.520902 148.842705 \nC 353.840735 120.977688 328.59085 98.710874 298.73343 84.654487 \nC 268.876011 70.598101 235.626146 65.324187 202.884534 69.451452 \nC 170.142922 73.578717 139.242027 86.939197 113.80698 107.965511 \nC 88.371934 128.991825 69.437849 156.828279 59.225972 188.209245 \nC 49.014096 219.590212 47.940015 253.238601 56.129735 285.20696 \nC 64.319454 317.175319 81.439682 346.162652 105.481964 368.768319 \nC 129.524246 391.373985 159.510149 406.678017 191.921883 412.885024 \nL 224.64 242.037656 \nL 398.592 242.037656 \nz\n\" style=\"fill:#e24a33;\"/>\n   </g>\n   <g id=\"patch_15\">\n    <path d=\"M 191.921883 412.885024 \nC 214.658025 417.239108 238.03626 417.011165 260.68318 412.214586 \nC 283.330101 407.418007 304.793368 398.148598 323.812075 384.950909 \nC 342.830781 371.753221 359.025056 354.890858 371.44353 335.354439 \nC 383.862004 315.818019 392.256636 293.997754 396.134265 271.175524 \nL 224.64 242.037656 \nL 191.921883 412.885024 \nz\n\" style=\"fill:#348abd;\"/>\n   </g>\n   <g id=\"patch_16\">\n    <path d=\"M 396.134265 271.175524 \nC 396.650056 268.139776 397.085149 265.090868 397.439085 262.032022 \nC 397.79302 258.973176 398.065672 255.905471 398.256754 252.832151 \nL 224.64 242.037656 \nL 396.134265 271.175524 \nz\n\" style=\"fill:#988ed5;\"/>\n   </g>\n   <g id=\"patch_17\">\n    <path d=\"M 398.256754 252.832151 \nC 398.353872 251.270114 398.429906 249.706837 398.484834 248.142748 \nC 398.539761 246.578659 398.573578 245.0139 398.586275 243.448898 \nL 224.64 242.037656 \nL 398.256754 252.832151 \nz\n\" style=\"fill:#777777;\"/>\n   </g>\n   <g id=\"patch_18\">\n    <path d=\"M 398.586275 243.448898 \nC 398.587566 243.289835 398.588638 243.13077 398.589492 242.971703 \nC 398.590346 242.812637 398.590982 242.65357 398.5914 242.494502 \nL 224.64 242.037656 \nL 398.586275 243.448898 \nz\n\" style=\"fill:#fbc15e;\"/>\n   </g>\n   <g id=\"patch_19\">\n    <path d=\"M 398.5914 242.494502 \nC 398.591514 242.451032 398.591612 242.407561 398.591694 242.364091 \nC 398.591775 242.32062 398.591841 242.277149 398.59189 242.233679 \nL 224.64 242.037656 \nL 398.5914 242.494502 \nz\n\" style=\"fill:#8eba42;\"/>\n   </g>\n   <g id=\"patch_20\">\n    <path d=\"M 398.59189 242.233679 \nC 398.591907 242.218562 398.591922 242.203446 398.591935 242.188329 \nC 398.591948 242.173213 398.591959 242.158096 398.591968 242.14298 \nL 224.64 242.037656 \nL 398.59189 242.233679 \nz\n\" style=\"fill:#ffb5b8;\"/>\n   </g>\n   <g id=\"patch_21\">\n    <path d=\"M 398.591968 242.14298 \nC 398.591974 242.133629 398.591979 242.124279 398.591983 242.114928 \nC 398.591987 242.105577 398.59199 242.096227 398.591993 242.086876 \nL 224.64 242.037656 \nL 398.591968 242.14298 \nz\n\" style=\"fill:#e24a33;\"/>\n   </g>\n   <g id=\"patch_22\">\n    <path d=\"M 398.591993 242.086876 \nC 398.591994 242.082341 398.591995 242.077806 398.591996 242.073271 \nC 398.591997 242.068736 398.591998 242.064202 398.591999 242.059667 \nL 224.64 242.037656 \nL 398.591993 242.086876 \nz\n\" style=\"fill:#348abd;\"/>\n   </g>\n   <g id=\"patch_23\">\n    <path d=\"M 398.591999 242.059667 \nC 398.591999 242.057226 398.591999 242.054786 398.591999 242.052346 \nC 398.592 242.049906 398.592 242.047465 398.592 242.045025 \nL 224.64 242.037656 \nL 398.591999 242.059667 \nz\n\" style=\"fill:#988ed5;\"/>\n   </g>\n   <g id=\"patch_24\">\n    <path d=\"M 398.592 242.045025 \nC 398.592 242.043859 398.592 242.042693 398.592 242.041527 \nC 398.592 242.040361 398.592 242.039195 398.592 242.038028 \nL 224.64 242.037656 \nL 398.592 242.045025 \nz\n\" style=\"fill:#777777;\"/>\n   </g>\n   <g id=\"patch_25\">\n    <path d=\"M 398.592 242.038028 \nC 398.592 242.037964 398.592 242.037899 398.592 242.037834 \nC 398.592 242.037769 398.592 242.037705 398.592 242.03764 \nL 224.64 242.037656 \nL 398.592 242.038028 \nz\n\" style=\"fill:#fbc15e;\"/>\n   </g>\n   <g id=\"patch_26\">\n    <path clip-path=\"url(#pce75d781ad)\" d=\"M 224.64 320.316056 \nC 245.399674 320.316056 265.311881 312.06815 279.991187 297.388844 \nC 294.670494 282.709537 302.9184 262.797331 302.9184 242.037656 \nC 302.9184 221.277982 294.670494 201.365775 279.991187 186.686469 \nC 265.311881 172.007162 245.399674 163.759256 224.64 163.759256 \nC 203.880326 163.759256 183.968119 172.007162 169.288813 186.686469 \nC 154.609506 201.365775 146.3616 221.277982 146.3616 242.037656 \nC 146.3616 262.797331 154.609506 282.709537 169.288813 297.388844 \nC 183.968119 312.06815 203.880326 320.316056 224.64 320.316056 \nz\n\" style=\"fill:#ffffff;\"/>\n   </g>\n   <g id=\"text_1\">\n    <!-- Server Status pie chart -->\n    <g transform=\"translate(138.038437 18.597656)scale(0.15 -0.15)\">\n     <defs>\n      <path d=\"M 53.515625 70.515625 \nL 53.515625 60.890625 \nQ 47.90625 63.578125 42.921875 64.890625 \nQ 37.9375 66.21875 33.296875 66.21875 \nQ 25.25 66.21875 20.875 63.09375 \nQ 16.5 59.96875 16.5 54.203125 \nQ 16.5 49.359375 19.40625 46.890625 \nQ 22.3125 44.4375 30.421875 42.921875 \nL 36.375 41.703125 \nQ 47.40625 39.59375 52.65625 34.296875 \nQ 57.90625 29 57.90625 20.125 \nQ 57.90625 9.515625 50.796875 4.046875 \nQ 43.703125 -1.421875 29.984375 -1.421875 \nQ 24.8125 -1.421875 18.96875 -0.25 \nQ 13.140625 0.921875 6.890625 3.21875 \nL 6.890625 13.375 \nQ 12.890625 10.015625 18.65625 8.296875 \nQ 24.421875 6.59375 29.984375 6.59375 \nQ 38.421875 6.59375 43.015625 9.90625 \nQ 47.609375 13.234375 47.609375 19.390625 \nQ 47.609375 24.75 44.3125 27.78125 \nQ 41.015625 30.8125 33.5 32.328125 \nL 27.484375 33.5 \nQ 16.453125 35.6875 11.515625 40.375 \nQ 6.59375 45.0625 6.59375 53.421875 \nQ 6.59375 63.09375 13.40625 68.65625 \nQ 20.21875 74.21875 32.171875 74.21875 \nQ 37.3125 74.21875 42.625 73.28125 \nQ 47.953125 72.359375 53.515625 70.515625 \nz\n\" id=\"DejaVuSans-83\"/>\n      <path d=\"M 56.203125 29.59375 \nL 56.203125 25.203125 \nL 14.890625 25.203125 \nQ 15.484375 15.921875 20.484375 11.0625 \nQ 25.484375 6.203125 34.421875 6.203125 \nQ 39.59375 6.203125 44.453125 7.46875 \nQ 49.3125 8.734375 54.109375 11.28125 \nL 54.109375 2.78125 \nQ 49.265625 0.734375 44.1875 -0.34375 \nQ 39.109375 -1.421875 33.890625 -1.421875 \nQ 20.796875 -1.421875 13.15625 6.1875 \nQ 5.515625 13.8125 5.515625 26.8125 \nQ 5.515625 40.234375 12.765625 48.109375 \nQ 20.015625 56 32.328125 56 \nQ 43.359375 56 49.78125 48.890625 \nQ 56.203125 41.796875 56.203125 29.59375 \nz\nM 47.21875 32.234375 \nQ 47.125 39.59375 43.09375 43.984375 \nQ 39.0625 48.390625 32.421875 48.390625 \nQ 24.90625 48.390625 20.390625 44.140625 \nQ 15.875 39.890625 15.1875 32.171875 \nz\n\" id=\"DejaVuSans-101\"/>\n      <path d=\"M 41.109375 46.296875 \nQ 39.59375 47.171875 37.8125 47.578125 \nQ 36.03125 48 33.890625 48 \nQ 26.265625 48 22.1875 43.046875 \nQ 18.109375 38.09375 18.109375 28.8125 \nL 18.109375 0 \nL 9.078125 0 \nL 9.078125 54.6875 \nL 18.109375 54.6875 \nL 18.109375 46.1875 \nQ 20.953125 51.171875 25.484375 53.578125 \nQ 30.03125 56 36.53125 56 \nQ 37.453125 56 38.578125 55.875 \nQ 39.703125 55.765625 41.0625 55.515625 \nz\n\" id=\"DejaVuSans-114\"/>\n      <path d=\"M 2.984375 54.6875 \nL 12.5 54.6875 \nL 29.59375 8.796875 \nL 46.6875 54.6875 \nL 56.203125 54.6875 \nL 35.6875 0 \nL 23.484375 0 \nz\n\" id=\"DejaVuSans-118\"/>\n      <path id=\"DejaVuSans-32\"/>\n      <path d=\"M 18.3125 70.21875 \nL 18.3125 54.6875 \nL 36.8125 54.6875 \nL 36.8125 47.703125 \nL 18.3125 47.703125 \nL 18.3125 18.015625 \nQ 18.3125 11.328125 20.140625 9.421875 \nQ 21.96875 7.515625 27.59375 7.515625 \nL 36.8125 7.515625 \nL 36.8125 0 \nL 27.59375 0 \nQ 17.1875 0 13.234375 3.875 \nQ 9.28125 7.765625 9.28125 18.015625 \nL 9.28125 47.703125 \nL 2.6875 47.703125 \nL 2.6875 54.6875 \nL 9.28125 54.6875 \nL 9.28125 70.21875 \nz\n\" id=\"DejaVuSans-116\"/>\n      <path d=\"M 34.28125 27.484375 \nQ 23.390625 27.484375 19.1875 25 \nQ 14.984375 22.515625 14.984375 16.5 \nQ 14.984375 11.71875 18.140625 8.90625 \nQ 21.296875 6.109375 26.703125 6.109375 \nQ 34.1875 6.109375 38.703125 11.40625 \nQ 43.21875 16.703125 43.21875 25.484375 \nL 43.21875 27.484375 \nz\nM 52.203125 31.203125 \nL 52.203125 0 \nL 43.21875 0 \nL 43.21875 8.296875 \nQ 40.140625 3.328125 35.546875 0.953125 \nQ 30.953125 -1.421875 24.3125 -1.421875 \nQ 15.921875 -1.421875 10.953125 3.296875 \nQ 6 8.015625 6 15.921875 \nQ 6 25.140625 12.171875 29.828125 \nQ 18.359375 34.515625 30.609375 34.515625 \nL 43.21875 34.515625 \nL 43.21875 35.40625 \nQ 43.21875 41.609375 39.140625 45 \nQ 35.0625 48.390625 27.6875 48.390625 \nQ 23 48.390625 18.546875 47.265625 \nQ 14.109375 46.140625 10.015625 43.890625 \nL 10.015625 52.203125 \nQ 14.9375 54.109375 19.578125 55.046875 \nQ 24.21875 56 28.609375 56 \nQ 40.484375 56 46.34375 49.84375 \nQ 52.203125 43.703125 52.203125 31.203125 \nz\n\" id=\"DejaVuSans-97\"/>\n      <path d=\"M 8.5 21.578125 \nL 8.5 54.6875 \nL 17.484375 54.6875 \nL 17.484375 21.921875 \nQ 17.484375 14.15625 20.5 10.265625 \nQ 23.53125 6.390625 29.59375 6.390625 \nQ 36.859375 6.390625 41.078125 11.03125 \nQ 45.3125 15.671875 45.3125 23.6875 \nL 45.3125 54.6875 \nL 54.296875 54.6875 \nL 54.296875 0 \nL 45.3125 0 \nL 45.3125 8.40625 \nQ 42.046875 3.421875 37.71875 1 \nQ 33.40625 -1.421875 27.6875 -1.421875 \nQ 18.265625 -1.421875 13.375 4.4375 \nQ 8.5 10.296875 8.5 21.578125 \nz\nM 31.109375 56 \nz\n\" id=\"DejaVuSans-117\"/>\n      <path d=\"M 44.28125 53.078125 \nL 44.28125 44.578125 \nQ 40.484375 46.53125 36.375 47.5 \nQ 32.28125 48.484375 27.875 48.484375 \nQ 21.1875 48.484375 17.84375 46.4375 \nQ 14.5 44.390625 14.5 40.28125 \nQ 14.5 37.15625 16.890625 35.375 \nQ 19.28125 33.59375 26.515625 31.984375 \nL 29.59375 31.296875 \nQ 39.15625 29.25 43.1875 25.515625 \nQ 47.21875 21.78125 47.21875 15.09375 \nQ 47.21875 7.46875 41.1875 3.015625 \nQ 35.15625 -1.421875 24.609375 -1.421875 \nQ 20.21875 -1.421875 15.453125 -0.5625 \nQ 10.6875 0.296875 5.421875 2 \nL 5.421875 11.28125 \nQ 10.40625 8.6875 15.234375 7.390625 \nQ 20.0625 6.109375 24.8125 6.109375 \nQ 31.15625 6.109375 34.5625 8.28125 \nQ 37.984375 10.453125 37.984375 14.40625 \nQ 37.984375 18.0625 35.515625 20.015625 \nQ 33.0625 21.96875 24.703125 23.78125 \nL 21.578125 24.515625 \nQ 13.234375 26.265625 9.515625 29.90625 \nQ 5.8125 33.546875 5.8125 39.890625 \nQ 5.8125 47.609375 11.28125 51.796875 \nQ 16.75 56 26.8125 56 \nQ 31.78125 56 36.171875 55.265625 \nQ 40.578125 54.546875 44.28125 53.078125 \nz\n\" id=\"DejaVuSans-115\"/>\n      <path d=\"M 18.109375 8.203125 \nL 18.109375 -20.796875 \nL 9.078125 -20.796875 \nL 9.078125 54.6875 \nL 18.109375 54.6875 \nL 18.109375 46.390625 \nQ 20.953125 51.265625 25.265625 53.625 \nQ 29.59375 56 35.59375 56 \nQ 45.5625 56 51.78125 48.09375 \nQ 58.015625 40.1875 58.015625 27.296875 \nQ 58.015625 14.40625 51.78125 6.484375 \nQ 45.5625 -1.421875 35.59375 -1.421875 \nQ 29.59375 -1.421875 25.265625 0.953125 \nQ 20.953125 3.328125 18.109375 8.203125 \nz\nM 48.6875 27.296875 \nQ 48.6875 37.203125 44.609375 42.84375 \nQ 40.53125 48.484375 33.40625 48.484375 \nQ 26.265625 48.484375 22.1875 42.84375 \nQ 18.109375 37.203125 18.109375 27.296875 \nQ 18.109375 17.390625 22.1875 11.75 \nQ 26.265625 6.109375 33.40625 6.109375 \nQ 40.53125 6.109375 44.609375 11.75 \nQ 48.6875 17.390625 48.6875 27.296875 \nz\n\" id=\"DejaVuSans-112\"/>\n      <path d=\"M 9.421875 54.6875 \nL 18.40625 54.6875 \nL 18.40625 0 \nL 9.421875 0 \nz\nM 9.421875 75.984375 \nL 18.40625 75.984375 \nL 18.40625 64.59375 \nL 9.421875 64.59375 \nz\n\" id=\"DejaVuSans-105\"/>\n      <path d=\"M 48.78125 52.59375 \nL 48.78125 44.1875 \nQ 44.96875 46.296875 41.140625 47.34375 \nQ 37.3125 48.390625 33.40625 48.390625 \nQ 24.65625 48.390625 19.8125 42.84375 \nQ 14.984375 37.3125 14.984375 27.296875 \nQ 14.984375 17.28125 19.8125 11.734375 \nQ 24.65625 6.203125 33.40625 6.203125 \nQ 37.3125 6.203125 41.140625 7.25 \nQ 44.96875 8.296875 48.78125 10.40625 \nL 48.78125 2.09375 \nQ 45.015625 0.34375 40.984375 -0.53125 \nQ 36.96875 -1.421875 32.421875 -1.421875 \nQ 20.0625 -1.421875 12.78125 6.34375 \nQ 5.515625 14.109375 5.515625 27.296875 \nQ 5.515625 40.671875 12.859375 48.328125 \nQ 20.21875 56 33.015625 56 \nQ 37.15625 56 41.109375 55.140625 \nQ 45.0625 54.296875 48.78125 52.59375 \nz\n\" id=\"DejaVuSans-99\"/>\n      <path d=\"M 54.890625 33.015625 \nL 54.890625 0 \nL 45.90625 0 \nL 45.90625 32.71875 \nQ 45.90625 40.484375 42.875 44.328125 \nQ 39.84375 48.1875 33.796875 48.1875 \nQ 26.515625 48.1875 22.3125 43.546875 \nQ 18.109375 38.921875 18.109375 30.90625 \nL 18.109375 0 \nL 9.078125 0 \nL 9.078125 75.984375 \nL 18.109375 75.984375 \nL 18.109375 46.1875 \nQ 21.34375 51.125 25.703125 53.5625 \nQ 30.078125 56 35.796875 56 \nQ 45.21875 56 50.046875 50.171875 \nQ 54.890625 44.34375 54.890625 33.015625 \nz\n\" id=\"DejaVuSans-104\"/>\n     </defs>\n     <use xlink:href=\"#DejaVuSans-83\"/>\n     <use x=\"63.476562\" xlink:href=\"#DejaVuSans-101\"/>\n     <use x=\"125\" xlink:href=\"#DejaVuSans-114\"/>\n     <use x=\"166.113281\" xlink:href=\"#DejaVuSans-118\"/>\n     <use x=\"225.292969\" xlink:href=\"#DejaVuSans-101\"/>\n     <use x=\"286.816406\" xlink:href=\"#DejaVuSans-114\"/>\n     <use x=\"327.929688\" xlink:href=\"#DejaVuSans-32\"/>\n     <use x=\"359.716797\" xlink:href=\"#DejaVuSans-83\"/>\n     <use x=\"423.193359\" xlink:href=\"#DejaVuSans-116\"/>\n     <use x=\"462.402344\" xlink:href=\"#DejaVuSans-97\"/>\n     <use x=\"523.681641\" xlink:href=\"#DejaVuSans-116\"/>\n     <use x=\"562.890625\" xlink:href=\"#DejaVuSans-117\"/>\n     <use x=\"626.269531\" xlink:href=\"#DejaVuSans-115\"/>\n     <use x=\"678.369141\" xlink:href=\"#DejaVuSans-32\"/>\n     <use x=\"710.15625\" xlink:href=\"#DejaVuSans-112\"/>\n     <use x=\"773.632812\" xlink:href=\"#DejaVuSans-105\"/>\n     <use x=\"801.416016\" xlink:href=\"#DejaVuSans-101\"/>\n     <use x=\"862.939453\" xlink:href=\"#DejaVuSans-32\"/>\n     <use x=\"894.726562\" xlink:href=\"#DejaVuSans-99\"/>\n     <use x=\"949.707031\" xlink:href=\"#DejaVuSans-104\"/>\n     <use x=\"1013.085938\" xlink:href=\"#DejaVuSans-97\"/>\n     <use x=\"1074.365234\" xlink:href=\"#DejaVuSans-114\"/>\n     <use x=\"1115.478516\" xlink:href=\"#DejaVuSans-116\"/>\n    </g>\n   </g>\n   <g id=\"legend_1\">\n    <g id=\"patch_27\">\n     <path d=\"M 383.9925 208.735156 \nL 435.08 208.735156 \nQ 437.08 208.735156 437.08 206.735156 \nL 437.08 31.597656 \nQ 437.08 29.597656 435.08 29.597656 \nL 383.9925 29.597656 \nQ 381.9925 29.597656 381.9925 31.597656 \nL 381.9925 206.735156 \nQ 381.9925 208.735156 383.9925 208.735156 \nz\n\" style=\"fill:#e5e5e5;opacity:0.8;stroke:#cccccc;stroke-linejoin:miter;stroke-width:0.5;\"/>\n    </g>\n    <g id=\"patch_28\">\n     <path d=\"M 385.9925 41.196094 \nL 405.9925 41.196094 \nL 405.9925 34.196094 \nL 385.9925 34.196094 \nz\n\" style=\"fill:#e24a33;\"/>\n    </g>\n    <g id=\"text_2\">\n     <!-- 200 -->\n     <g transform=\"translate(413.9925 41.196094)scale(0.1 -0.1)\">\n      <defs>\n       <path d=\"M 19.1875 8.296875 \nL 53.609375 8.296875 \nL 53.609375 0 \nL 7.328125 0 \nL 7.328125 8.296875 \nQ 12.9375 14.109375 22.625 23.890625 \nQ 32.328125 33.6875 34.8125 36.53125 \nQ 39.546875 41.84375 41.421875 45.53125 \nQ 43.3125 49.21875 43.3125 52.78125 \nQ 43.3125 58.59375 39.234375 62.25 \nQ 35.15625 65.921875 28.609375 65.921875 \nQ 23.96875 65.921875 18.8125 64.3125 \nQ 13.671875 62.703125 7.8125 59.421875 \nL 7.8125 69.390625 \nQ 13.765625 71.78125 18.9375 73 \nQ 24.125 74.21875 28.421875 74.21875 \nQ 39.75 74.21875 46.484375 68.546875 \nQ 53.21875 62.890625 53.21875 53.421875 \nQ 53.21875 48.921875 51.53125 44.890625 \nQ 49.859375 40.875 45.40625 35.40625 \nQ 44.1875 33.984375 37.640625 27.21875 \nQ 31.109375 20.453125 19.1875 8.296875 \nz\n\" id=\"DejaVuSans-50\"/>\n       <path d=\"M 31.78125 66.40625 \nQ 24.171875 66.40625 20.328125 58.90625 \nQ 16.5 51.421875 16.5 36.375 \nQ 16.5 21.390625 20.328125 13.890625 \nQ 24.171875 6.390625 31.78125 6.390625 \nQ 39.453125 6.390625 43.28125 13.890625 \nQ 47.125 21.390625 47.125 36.375 \nQ 47.125 51.421875 43.28125 58.90625 \nQ 39.453125 66.40625 31.78125 66.40625 \nz\nM 31.78125 74.21875 \nQ 44.046875 74.21875 50.515625 64.515625 \nQ 56.984375 54.828125 56.984375 36.375 \nQ 56.984375 17.96875 50.515625 8.265625 \nQ 44.046875 -1.421875 31.78125 -1.421875 \nQ 19.53125 -1.421875 13.0625 8.265625 \nQ 6.59375 17.96875 6.59375 36.375 \nQ 6.59375 54.828125 13.0625 64.515625 \nQ 19.53125 74.21875 31.78125 74.21875 \nz\n\" id=\"DejaVuSans-48\"/>\n      </defs>\n      <use xlink:href=\"#DejaVuSans-50\"/>\n      <use x=\"63.623047\" xlink:href=\"#DejaVuSans-48\"/>\n      <use x=\"127.246094\" xlink:href=\"#DejaVuSans-48\"/>\n     </g>\n    </g>\n    <g id=\"patch_29\">\n     <path d=\"M 385.9925 55.874219 \nL 405.9925 55.874219 \nL 405.9925 48.874219 \nL 385.9925 48.874219 \nz\n\" style=\"fill:#348abd;\"/>\n    </g>\n    <g id=\"text_3\">\n     <!-- 304 -->\n     <g transform=\"translate(413.9925 55.874219)scale(0.1 -0.1)\">\n      <defs>\n       <path d=\"M 40.578125 39.3125 \nQ 47.65625 37.796875 51.625 33 \nQ 55.609375 28.21875 55.609375 21.1875 \nQ 55.609375 10.40625 48.1875 4.484375 \nQ 40.765625 -1.421875 27.09375 -1.421875 \nQ 22.515625 -1.421875 17.65625 -0.515625 \nQ 12.796875 0.390625 7.625 2.203125 \nL 7.625 11.71875 \nQ 11.71875 9.328125 16.59375 8.109375 \nQ 21.484375 6.890625 26.8125 6.890625 \nQ 36.078125 6.890625 40.9375 10.546875 \nQ 45.796875 14.203125 45.796875 21.1875 \nQ 45.796875 27.640625 41.28125 31.265625 \nQ 36.765625 34.90625 28.71875 34.90625 \nL 20.21875 34.90625 \nL 20.21875 43.015625 \nL 29.109375 43.015625 \nQ 36.375 43.015625 40.234375 45.921875 \nQ 44.09375 48.828125 44.09375 54.296875 \nQ 44.09375 59.90625 40.109375 62.90625 \nQ 36.140625 65.921875 28.71875 65.921875 \nQ 24.65625 65.921875 20.015625 65.03125 \nQ 15.375 64.15625 9.8125 62.3125 \nL 9.8125 71.09375 \nQ 15.4375 72.65625 20.34375 73.4375 \nQ 25.25 74.21875 29.59375 74.21875 \nQ 40.828125 74.21875 47.359375 69.109375 \nQ 53.90625 64.015625 53.90625 55.328125 \nQ 53.90625 49.265625 50.4375 45.09375 \nQ 46.96875 40.921875 40.578125 39.3125 \nz\n\" id=\"DejaVuSans-51\"/>\n       <path d=\"M 37.796875 64.3125 \nL 12.890625 25.390625 \nL 37.796875 25.390625 \nz\nM 35.203125 72.90625 \nL 47.609375 72.90625 \nL 47.609375 25.390625 \nL 58.015625 25.390625 \nL 58.015625 17.1875 \nL 47.609375 17.1875 \nL 47.609375 0 \nL 37.796875 0 \nL 37.796875 17.1875 \nL 4.890625 17.1875 \nL 4.890625 26.703125 \nz\n\" id=\"DejaVuSans-52\"/>\n      </defs>\n      <use xlink:href=\"#DejaVuSans-51\"/>\n      <use x=\"63.623047\" xlink:href=\"#DejaVuSans-48\"/>\n      <use x=\"127.246094\" xlink:href=\"#DejaVuSans-52\"/>\n     </g>\n    </g>\n    <g id=\"patch_30\">\n     <path d=\"M 385.9925 70.552344 \nL 405.9925 70.552344 \nL 405.9925 63.552344 \nL 385.9925 63.552344 \nz\n\" style=\"fill:#988ed5;\"/>\n    </g>\n    <g id=\"text_4\">\n     <!-- 404 -->\n     <g transform=\"translate(413.9925 70.552344)scale(0.1 -0.1)\">\n      <use xlink:href=\"#DejaVuSans-52\"/>\n      <use x=\"63.623047\" xlink:href=\"#DejaVuSans-48\"/>\n      <use x=\"127.246094\" xlink:href=\"#DejaVuSans-52\"/>\n     </g>\n    </g>\n    <g id=\"patch_31\">\n     <path d=\"M 385.9925 85.230469 \nL 405.9925 85.230469 \nL 405.9925 78.230469 \nL 385.9925 78.230469 \nz\n\" style=\"fill:#777777;\"/>\n    </g>\n    <g id=\"text_5\">\n     <!-- 206 -->\n     <g transform=\"translate(413.9925 85.230469)scale(0.1 -0.1)\">\n      <defs>\n       <path d=\"M 33.015625 40.375 \nQ 26.375 40.375 22.484375 35.828125 \nQ 18.609375 31.296875 18.609375 23.390625 \nQ 18.609375 15.53125 22.484375 10.953125 \nQ 26.375 6.390625 33.015625 6.390625 \nQ 39.65625 6.390625 43.53125 10.953125 \nQ 47.40625 15.53125 47.40625 23.390625 \nQ 47.40625 31.296875 43.53125 35.828125 \nQ 39.65625 40.375 33.015625 40.375 \nz\nM 52.59375 71.296875 \nL 52.59375 62.3125 \nQ 48.875 64.0625 45.09375 64.984375 \nQ 41.3125 65.921875 37.59375 65.921875 \nQ 27.828125 65.921875 22.671875 59.328125 \nQ 17.53125 52.734375 16.796875 39.40625 \nQ 19.671875 43.65625 24.015625 45.921875 \nQ 28.375 48.1875 33.59375 48.1875 \nQ 44.578125 48.1875 50.953125 41.515625 \nQ 57.328125 34.859375 57.328125 23.390625 \nQ 57.328125 12.15625 50.6875 5.359375 \nQ 44.046875 -1.421875 33.015625 -1.421875 \nQ 20.359375 -1.421875 13.671875 8.265625 \nQ 6.984375 17.96875 6.984375 36.375 \nQ 6.984375 53.65625 15.1875 63.9375 \nQ 23.390625 74.21875 37.203125 74.21875 \nQ 40.921875 74.21875 44.703125 73.484375 \nQ 48.484375 72.75 52.59375 71.296875 \nz\n\" id=\"DejaVuSans-54\"/>\n      </defs>\n      <use xlink:href=\"#DejaVuSans-50\"/>\n      <use x=\"63.623047\" xlink:href=\"#DejaVuSans-48\"/>\n      <use x=\"127.246094\" xlink:href=\"#DejaVuSans-54\"/>\n     </g>\n    </g>\n    <g id=\"patch_32\">\n     <path d=\"M 385.9925 99.908594 \nL 405.9925 99.908594 \nL 405.9925 92.908594 \nL 385.9925 92.908594 \nz\n\" style=\"fill:#fbc15e;\"/>\n    </g>\n    <g id=\"text_6\">\n     <!-- 302 -->\n     <g transform=\"translate(413.9925 99.908594)scale(0.1 -0.1)\">\n      <use xlink:href=\"#DejaVuSans-51\"/>\n      <use x=\"63.623047\" xlink:href=\"#DejaVuSans-48\"/>\n      <use x=\"127.246094\" xlink:href=\"#DejaVuSans-50\"/>\n     </g>\n    </g>\n    <g id=\"patch_33\">\n     <path d=\"M 385.9925 114.586719 \nL 405.9925 114.586719 \nL 405.9925 107.586719 \nL 385.9925 107.586719 \nz\n\" style=\"fill:#8eba42;\"/>\n    </g>\n    <g id=\"text_7\">\n     <!-- 500 -->\n     <g transform=\"translate(413.9925 114.586719)scale(0.1 -0.1)\">\n      <defs>\n       <path d=\"M 10.796875 72.90625 \nL 49.515625 72.90625 \nL 49.515625 64.59375 \nL 19.828125 64.59375 \nL 19.828125 46.734375 \nQ 21.96875 47.46875 24.109375 47.828125 \nQ 26.265625 48.1875 28.421875 48.1875 \nQ 40.625 48.1875 47.75 41.5 \nQ 54.890625 34.8125 54.890625 23.390625 \nQ 54.890625 11.625 47.5625 5.09375 \nQ 40.234375 -1.421875 26.90625 -1.421875 \nQ 22.3125 -1.421875 17.546875 -0.640625 \nQ 12.796875 0.140625 7.71875 1.703125 \nL 7.71875 11.625 \nQ 12.109375 9.234375 16.796875 8.0625 \nQ 21.484375 6.890625 26.703125 6.890625 \nQ 35.15625 6.890625 40.078125 11.328125 \nQ 45.015625 15.765625 45.015625 23.390625 \nQ 45.015625 31 40.078125 35.4375 \nQ 35.15625 39.890625 26.703125 39.890625 \nQ 22.75 39.890625 18.8125 39.015625 \nQ 14.890625 38.140625 10.796875 36.28125 \nz\n\" id=\"DejaVuSans-53\"/>\n      </defs>\n      <use xlink:href=\"#DejaVuSans-53\"/>\n      <use x=\"63.623047\" xlink:href=\"#DejaVuSans-48\"/>\n      <use x=\"127.246094\" xlink:href=\"#DejaVuSans-48\"/>\n     </g>\n    </g>\n    <g id=\"patch_34\">\n     <path d=\"M 385.9925 129.264844 \nL 405.9925 129.264844 \nL 405.9925 122.264844 \nL 385.9925 122.264844 \nz\n\" style=\"fill:#ffb5b8;\"/>\n    </g>\n    <g id=\"text_8\">\n     <!-- 403 -->\n     <g transform=\"translate(413.9925 129.264844)scale(0.1 -0.1)\">\n      <use xlink:href=\"#DejaVuSans-52\"/>\n      <use x=\"63.623047\" xlink:href=\"#DejaVuSans-48\"/>\n      <use x=\"127.246094\" xlink:href=\"#DejaVuSans-51\"/>\n     </g>\n    </g>\n    <g id=\"patch_35\">\n     <path d=\"M 385.9925 143.942969 \nL 405.9925 143.942969 \nL 405.9925 136.942969 \nL 385.9925 136.942969 \nz\n\" style=\"fill:#e24a33;\"/>\n    </g>\n    <g id=\"text_9\">\n     <!-- 301 -->\n     <g transform=\"translate(413.9925 143.942969)scale(0.1 -0.1)\">\n      <defs>\n       <path d=\"M 12.40625 8.296875 \nL 28.515625 8.296875 \nL 28.515625 63.921875 \nL 10.984375 60.40625 \nL 10.984375 69.390625 \nL 28.421875 72.90625 \nL 38.28125 72.90625 \nL 38.28125 8.296875 \nL 54.390625 8.296875 \nL 54.390625 0 \nL 12.40625 0 \nz\n\" id=\"DejaVuSans-49\"/>\n      </defs>\n      <use xlink:href=\"#DejaVuSans-51\"/>\n      <use x=\"63.623047\" xlink:href=\"#DejaVuSans-48\"/>\n      <use x=\"127.246094\" xlink:href=\"#DejaVuSans-49\"/>\n     </g>\n    </g>\n    <g id=\"patch_36\">\n     <path d=\"M 385.9925 158.621094 \nL 405.9925 158.621094 \nL 405.9925 151.621094 \nL 385.9925 151.621094 \nz\n\" style=\"fill:#348abd;\"/>\n    </g>\n    <g id=\"text_10\">\n     <!-- 400 -->\n     <g transform=\"translate(413.9925 158.621094)scale(0.1 -0.1)\">\n      <use xlink:href=\"#DejaVuSans-52\"/>\n      <use x=\"63.623047\" xlink:href=\"#DejaVuSans-48\"/>\n      <use x=\"127.246094\" xlink:href=\"#DejaVuSans-48\"/>\n     </g>\n    </g>\n    <g id=\"patch_37\">\n     <path d=\"M 385.9925 173.299219 \nL 405.9925 173.299219 \nL 405.9925 166.299219 \nL 385.9925 166.299219 \nz\n\" style=\"fill:#988ed5;\"/>\n    </g>\n    <g id=\"text_11\">\n     <!-- 501 -->\n     <g transform=\"translate(413.9925 173.299219)scale(0.1 -0.1)\">\n      <use xlink:href=\"#DejaVuSans-53\"/>\n      <use x=\"63.623047\" xlink:href=\"#DejaVuSans-48\"/>\n      <use x=\"127.246094\" xlink:href=\"#DejaVuSans-49\"/>\n     </g>\n    </g>\n    <g id=\"patch_38\">\n     <path d=\"M 385.9925 187.977344 \nL 405.9925 187.977344 \nL 405.9925 180.977344 \nL 385.9925 180.977344 \nz\n\" style=\"fill:#777777;\"/>\n    </g>\n    <g id=\"text_12\">\n     <!-- 406 -->\n     <g transform=\"translate(413.9925 187.977344)scale(0.1 -0.1)\">\n      <use xlink:href=\"#DejaVuSans-52\"/>\n      <use x=\"63.623047\" xlink:href=\"#DejaVuSans-48\"/>\n      <use x=\"127.246094\" xlink:href=\"#DejaVuSans-54\"/>\n     </g>\n    </g>\n    <g id=\"patch_39\">\n     <path d=\"M 385.9925 202.655469 \nL 405.9925 202.655469 \nL 405.9925 195.655469 \nL 385.9925 195.655469 \nz\n\" style=\"fill:#fbc15e;\"/>\n    </g>\n    <g id=\"text_13\">\n     <!-- 416 -->\n     <g transform=\"translate(413.9925 202.655469)scale(0.1 -0.1)\">\n      <use xlink:href=\"#DejaVuSans-52\"/>\n      <use x=\"63.623047\" xlink:href=\"#DejaVuSans-49\"/>\n      <use x=\"127.246094\" xlink:href=\"#DejaVuSans-54\"/>\n     </g>\n    </g>\n   </g>\n  </g>\n </g>\n <defs>\n  <clipPath id=\"pce75d781ad\">\n   <rect height=\"434.88\" width=\"434.88\" x=\"7.2\" y=\"24.597656\"/>\n  </clipPath>\n </defs>\n</svg>\n",
            "image/png": "[encoded data removed]"
          },
          "metadata": {
            "tags": []
          }
        },
        {
          "output_type": "execute_result",
          "data": {
            "text/plain": [
              "200    71.988563\n",
              "304    25.332880\n",
              "404     1.690293\n",
              "206     0.859141\n",
              "302     0.087322\n",
              "500     0.023864\n",
              "403     0.008298\n",
              "301     0.005133\n",
              "400     0.002490\n",
              "501     0.001340\n",
              "406     0.000640\n",
              "416     0.000036\n",
              "Name: sc-status, dtype: float64"
            ]
          },
          "metadata": {
            "tags": []
          },
          "execution_count": 145
        }
      ]
    },
    {
      "cell_type": "markdown",
      "metadata": {
        "id": "bxT49TgGpwrw"
      },
      "source": [
        "### 2.3 Geographic Analysis"
      ]
    },
    {
      "cell_type": "markdown",
      "metadata": {
        "id": "MpEve4Zgvtc9"
      },
      "source": [
        "Clinet's IP addresses can reflect geographic information. Since different IP are from different countries even citys, we can find out the demographics information from them. You may use **DbIpCity** from **ip2geotools** to find the geolocation information from given IPs.\n",
        "\n",
        "**Notes:**\n",
        "There are some attributes in ip2geotools can help: <br>\n",
        "*ip_address*: IP address <br>\n",
        "*city*: city where IP address is located <br>\n",
        "*region*: region where IP address is located <br>\n",
        "*country*: country where IP address is located (two letters country code) <br>"
      ]
    },
    {
      "cell_type": "markdown",
      "metadata": {
        "id": "AvUQUKGCqLhJ"
      },
      "source": [
        "#### 2.3.A Requests by Country\n",
        "<div class=\"alert alert-block alert-warning\">\n",
        "\n",
        "**Code**: \n",
        "    Build your code with the following requirements <br>\n",
        "    1. Select all requests at 01 Jan 2007 from 20:00:00 pm to 20:59:59. <br>\n",
        "    2. Discover on the demographics by analysing requests from country level. <br>\n",
        "    3. Plot countries of all requests in pie chart. <br>\n",
        "    4. List top 3 with the numbers of requests. <br>\n",
        "    *Keep the outputs for code in your notebook.\n",
        "</div> \n",
        "\n",
        "<div class=\"alert alert-block alert-warning\">\n",
        "    \n",
        "**Report**: \n",
        "    **Part I 2.3.A** Please include your results for this coding task into your report Part I section '2.3.A', <br>\n",
        "    1. How many requests raised in the period of time? <br>\n",
        "    2. How many countries are invlolved? <br>\n",
        "    3. Figure 'Request by Country' in pie chart. <br>\n",
        "    4. top 3 countries with request numbers. <br>\n",
        "</div>"
      ]
    },
    {
      "cell_type": "markdown",
      "metadata": {
        "id": "tmpRAKlfrd07"
      },
      "source": [
        "**#1. Select all requests at 01 Jan 2007 from 20:00:00 pm to 20:59:59.**"
      ]
    },
    {
      "cell_type": "code",
      "metadata": {
        "id": "jSdycFyYzybd",
        "outputId": "882136e5-b692-4ba4-cf3f-4238ef8a56f0"
      },
      "source": [
        "from ip2geotools.databases.noncommercial import DbIpCity\n",
        "\n",
        "time_condition = (df_ht['date_time'] >= '2007-01-01 20:00:00') & (df_ht['date_time'] <= '2007-01-01 20:59:59')\n",
        "\n",
        "Geo_df = df_ht[time_condition][['date_time', 'hour', 'c-ip']]\n",
        "\n",
        "#check if all Time hour is 20(20:00:00 :20:59:59)\n",
        "print('All Time hour is 20:00:00 :20:59:59 : ')\n",
        "print(all(Geo_df['hour'] == 20))\n",
        "\n",
        "print('\\n\\nRequest Amount : ',Geo_df.shape[0] )\n",
        "Geo_df\n",
        "\n"
      ],
      "execution_count": null,
      "outputs": [
        {
          "output_type": "stream",
          "text": [
            "All Time hour is 20:00:00 :20:59:59 : \n",
            "True\n",
            "\n",
            "\n",
            "Request Amount :  214\n"
          ],
          "name": "stdout"
        },
        {
          "output_type": "execute_result",
          "data": {
            "text/plain": [
              "                date_time  hour             c-ip\n",
              "28823 2007-01-01 20:00:00    20    210.184.71.81\n",
              "28824 2007-01-01 20:00:00    20    210.184.71.81\n",
              "28825 2007-01-01 20:01:12    20   62.211.200.146\n",
              "28826 2007-01-01 20:01:48    20   62.211.200.146\n",
              "28827 2007-01-01 20:01:57    20   62.211.200.146\n",
              "...                   ...   ...              ...\n",
              "29032 2007-01-01 20:52:46    20      74.6.85.161\n",
              "29033 2007-01-01 20:52:48    20      74.6.85.206\n",
              "29034 2007-01-01 20:59:04    20  202.160.178.181\n",
              "29035 2007-01-01 20:59:40    20       74.6.75.47\n",
              "29036 2007-01-01 20:59:41    20       74.6.73.79\n",
              "\n",
              "[214 rows x 3 columns]"
            ],
            "text/html": [
              "<div>\n",
              "<style scoped>\n",
              "    .dataframe tbody tr th:only-of-type {\n",
              "        vertical-align: middle;\n",
              "    }\n",
              "\n",
              "    .dataframe tbody tr th {\n",
              "        vertical-align: top;\n",
              "    }\n",
              "\n",
              "    .dataframe thead th {\n",
              "        text-align: right;\n",
              "    }\n",
              "</style>\n",
              "<table border=\"1\" class=\"dataframe\">\n",
              "  <thead>\n",
              "    <tr style=\"text-align: right;\">\n",
              "      <th></th>\n",
              "      <th>date_time</th>\n",
              "      <th>hour</th>\n",
              "      <th>c-ip</th>\n",
              "    </tr>\n",
              "  </thead>\n",
              "  <tbody>\n",
              "    <tr>\n",
              "      <th>28823</th>\n",
              "      <td>2007-01-01 20:00:00</td>\n",
              "      <td>20</td>\n",
              "      <td>210.184.71.81</td>\n",
              "    </tr>\n",
              "    <tr>\n",
              "      <th>28824</th>\n",
              "      <td>2007-01-01 20:00:00</td>\n",
              "      <td>20</td>\n",
              "      <td>210.184.71.81</td>\n",
              "    </tr>\n",
              "    <tr>\n",
              "      <th>28825</th>\n",
              "      <td>2007-01-01 20:01:12</td>\n",
              "      <td>20</td>\n",
              "      <td>62.211.200.146</td>\n",
              "    </tr>\n",
              "    <tr>\n",
              "      <th>28826</th>\n",
              "      <td>2007-01-01 20:01:48</td>\n",
              "      <td>20</td>\n",
              "      <td>62.211.200.146</td>\n",
              "    </tr>\n",
              "    <tr>\n",
              "      <th>28827</th>\n",
              "      <td>2007-01-01 20:01:57</td>\n",
              "      <td>20</td>\n",
              "      <td>62.211.200.146</td>\n",
              "    </tr>\n",
              "    <tr>\n",
              "      <th>...</th>\n",
              "      <td>...</td>\n",
              "      <td>...</td>\n",
              "      <td>...</td>\n",
              "    </tr>\n",
              "    <tr>\n",
              "      <th>29032</th>\n",
              "      <td>2007-01-01 20:52:46</td>\n",
              "      <td>20</td>\n",
              "      <td>74.6.85.161</td>\n",
              "    </tr>\n",
              "    <tr>\n",
              "      <th>29033</th>\n",
              "      <td>2007-01-01 20:52:48</td>\n",
              "      <td>20</td>\n",
              "      <td>74.6.85.206</td>\n",
              "    </tr>\n",
              "    <tr>\n",
              "      <th>29034</th>\n",
              "      <td>2007-01-01 20:59:04</td>\n",
              "      <td>20</td>\n",
              "      <td>202.160.178.181</td>\n",
              "    </tr>\n",
              "    <tr>\n",
              "      <th>29035</th>\n",
              "      <td>2007-01-01 20:59:40</td>\n",
              "      <td>20</td>\n",
              "      <td>74.6.75.47</td>\n",
              "    </tr>\n",
              "    <tr>\n",
              "      <th>29036</th>\n",
              "      <td>2007-01-01 20:59:41</td>\n",
              "      <td>20</td>\n",
              "      <td>74.6.73.79</td>\n",
              "    </tr>\n",
              "  </tbody>\n",
              "</table>\n",
              "<p>214 rows × 3 columns</p>\n",
              "</div>"
            ]
          },
          "metadata": {
            "tags": []
          },
          "execution_count": 146
        }
      ]
    },
    {
      "cell_type": "markdown",
      "metadata": {
        "id": "L6Dtr1tkrd07"
      },
      "source": [
        "**#2. Discover on the demographics by analysing requests from country level.**"
      ]
    },
    {
      "cell_type": "code",
      "metadata": {
        "id": "nAXbSh0hrd07"
      },
      "source": [
        "#function get country\n",
        "country_level = lambda ip : DbIpCity.get(ip, api_key='free').country\n",
        "\n",
        "#apply function to column\n",
        "Geo_df['country_level'] = Geo_df['c-ip'].apply(country_level)"
      ],
      "execution_count": null,
      "outputs": []
    },
    {
      "cell_type": "code",
      "metadata": {
        "id": "3kYJOLdird09",
        "outputId": "500b1e18-0192-4887-b49a-41f6ca13be84"
      },
      "source": [
        "print(Geo_df['country_level'].unique())\n",
        "\n",
        "Geo_df['country_level'].value_counts()\n"
      ],
      "execution_count": null,
      "outputs": [
        {
          "output_type": "stream",
          "text": [
            "['HK' 'IT' 'CN' 'US' 'AU']\n"
          ],
          "name": "stdout"
        },
        {
          "output_type": "execute_result",
          "data": {
            "text/plain": [
              "HK    169\n",
              "CN     25\n",
              "US     16\n",
              "IT      3\n",
              "AU      1\n",
              "Name: country_level, dtype: int64"
            ]
          },
          "metadata": {
            "tags": []
          },
          "execution_count": 148
        }
      ]
    },
    {
      "cell_type": "markdown",
      "metadata": {
        "id": "qlNhxcsJrd09"
      },
      "source": [
        "**#3. Plot countries of all requests in pie chart. **"
      ]
    },
    {
      "cell_type": "code",
      "metadata": {
        "id": "xN21MLq7x6Cf",
        "outputId": "9ce502cc-9683-41cb-fba7-5bde3d7d3815"
      },
      "source": [
        "\n",
        "pie_Country = Geo_df['country_level'].value_counts()\n",
        "#shuffle order of labels and values\n",
        "plt.figure(figsize =(7,7))\n",
        "explode = [.03, .07, .15, .25, .8]\n",
        "colors = ['#1f77b4', '#ff7f0e', '#2ca02c', '#d62728', '#9467bd']\n",
        "plt.pie(pie_Country.values,labels = pie_Country.index,\n",
        "        shadow= True, autopct= \"%.2f%%\",\n",
        "        explode=explode, colors = colors,\n",
        "        textprops={'fontsize': 16},\n",
        "        pctdistance=.7, labeldistance=1.06,\n",
        "        startangle= 30)\n",
        "\n",
        "plt.title('Requests pie chart (country_level)', fontsize = 18)\n",
        "plt.show()\n",
        "\n",
        "Geo_df['country_level'].value_counts()*100/len(Geo_df)"
      ],
      "execution_count": null,
      "outputs": [
        {
          "output_type": "display_data",
          "data": {
            "text/plain": [
              "<Figure size 504x504 with 1 Axes>"
            ],
            "image/svg+xml": "<?xml version=\"1.0\" encoding=\"utf-8\" standalone=\"no\"?>\n<!DOCTYPE svg PUBLIC \"-//W3C//DTD SVG 1.1//EN\"\n  \"http://www.w3.org/Graphics/SVG/1.1/DTD/svg11.dtd\">\n<!-- Created with matplotlib (https://matplotlib.org/) -->\n<svg height=\"414.597187pt\" version=\"1.1\" viewBox=\"0 0 474.544299 414.597187\" width=\"474.544299pt\" xmlns=\"http://www.w3.org/2000/svg\" xmlns:xlink=\"http://www.w3.org/1999/xlink\">\n <metadata>\n  <rdf:RDF xmlns:cc=\"http://creativecommons.org/ns#\" xmlns:dc=\"http://purl.org/dc/elements/1.1/\" xmlns:rdf=\"http://www.w3.org/1999/02/22-rdf-syntax-ns#\">\n   <cc:Work>\n    <dc:type rdf:resource=\"http://purl.org/dc/dcmitype/StillImage\"/>\n    <dc:date>2021-04-15T02:35:18.132501</dc:date>\n    <dc:format>image/svg+xml</dc:format>\n    <dc:creator>\n     <cc:Agent>\n      <dc:title>Matplotlib v3.3.4, https://matplotlib.org/</dc:title>\n     </cc:Agent>\n    </dc:creator>\n   </cc:Work>\n  </rdf:RDF>\n </metadata>\n <defs>\n  <style type=\"text/css\">*{stroke-linecap:butt;stroke-linejoin:round;}</style>\n </defs>\n <g id=\"figure_1\">\n  <g id=\"patch_1\">\n   <path d=\"M 0 414.597187 \nL 474.544299 414.597187 \nL 474.544299 0 \nL 0 0 \nz\n\" style=\"fill:#ffffff;\"/>\n  </g>\n  <g id=\"axes_1\">\n   <g id=\"matplotlib.axis_1\"/>\n   <g id=\"matplotlib.axis_2\"/>\n   <g id=\"patch_2\">\n    <path d=\"M 321.70839 143.453653 \nC 313.825481 129.800054 303.868843 117.453757 292.195241 106.857152 \nC 280.521639 96.260547 267.272188 87.54173 252.921641 81.013114 \nC 238.571095 74.484498 223.292927 70.225002 207.634584 68.387253 \nC 191.976242 66.549504 176.127008 67.155716 160.654791 70.184169 \nC 145.182574 73.212622 130.274408 78.626706 116.464482 86.232424 \nC 102.654555 93.838142 90.109807 103.543553 79.27974 115.000894 \nC 68.449673 126.458236 59.465205 139.529006 52.648266 153.744855 \nC 45.831328 167.960704 41.264324 183.149786 39.1109 198.767845 \nC 36.957477 214.385905 37.243664 230.244146 39.959207 245.774337 \nC 42.674751 261.304528 47.786825 276.318935 55.112253 290.279563 \nC 62.437681 304.24019 71.887911 316.978277 83.124323 328.037394 \nC 94.360736 339.09651 107.2475 348.342969 121.32286 355.445453 \nC 135.398219 362.547936 150.492026 367.420587 166.063439 369.888808 \nC 181.634852 372.357029 197.495638 372.390984 213.077477 369.989456 \nC 228.659315 367.587928 243.773845 362.779948 257.879486 355.737794 \nC 271.985126 348.695641 284.911362 339.504442 296.195022 328.493537 \nL 189.892395 219.557653 \nL 321.70839 143.453653 \nz\n\" style=\"fill:#092436;opacity:0.5;stroke:#092436;stroke-linejoin:miter;stroke-width:0.5;\"/>\n   </g>\n   <g id=\"patch_3\">\n    <path d=\"M 310.400327 333.564841 \nC 323.76441 320.523802 334.615336 305.134171 342.409989 288.166237 \nC 350.204643 271.198303 354.81077 252.939965 355.997824 234.305096 \nL 204.0977 224.628957 \nL 310.400327 333.564841 \nz\n\" style=\"fill:#4c2604;opacity:0.5;stroke:#4c2604;stroke-linejoin:miter;stroke-width:0.5;\"/>\n   </g>\n   <g id=\"patch_4\">\n    <path d=\"M 368.81312 225.96626 \nC 369.571585 214.059565 368.927466 202.104879 366.89404 190.348611 \nC 364.860614 178.592343 361.451949 167.115827 356.738304 156.155617 \nL 216.912996 216.290121 \nL 368.81312 225.96626 \nz\n\" style=\"fill:#0d300d;opacity:0.5;stroke:#0d300d;stroke-linejoin:miter;stroke-width:0.5;\"/>\n   </g>\n   <g id=\"patch_5\">\n    <path d=\"M 368.501697 143.48878 \nC 367.618866 141.436014 366.690938 139.402938 365.718587 137.391031 \nC 364.746236 135.379124 363.729697 133.388873 362.669711 131.421726 \nL 228.676389 203.623284 \nL 368.501697 143.48878 \nz\n\" style=\"fill:#400c0c;opacity:0.5;stroke:#400c0c;stroke-linejoin:miter;stroke-width:0.5;\"/>\n   </g>\n   <g id=\"patch_6\">\n    <path d=\"M 434.744344 88.65117 \nC 434.391028 87.995477 434.032904 87.342388 433.670001 86.691953 \nC 433.307097 86.041518 432.939424 85.393756 432.567012 84.748718 \nL 300.751022 160.852728 \nL 434.744344 88.65117 \nz\n\" style=\"fill:#2c1f39;opacity:0.5;stroke:#2c1f39;stroke-linejoin:miter;stroke-width:0.5;\"/>\n   </g>\n   <g id=\"patch_7\">\n    <path d=\"M 324.75255 140.409493 \nC 316.869641 126.755894 306.913003 114.409597 295.239401 103.812992 \nC 283.565799 93.216387 270.316348 84.49757 255.965801 77.968954 \nC 241.615255 71.440338 226.337087 67.180842 210.678744 65.343093 \nC 195.020402 63.505344 179.171168 64.111556 163.698951 67.140009 \nC 148.226734 70.168462 133.318568 75.582546 119.508642 83.188264 \nC 105.698715 90.793982 93.153967 100.499393 82.3239 111.956734 \nC 71.493833 123.414076 62.509365 136.484846 55.692426 150.700695 \nC 48.875488 164.916544 44.308484 180.105626 42.15506 195.723685 \nC 40.001637 211.341745 40.287824 227.199986 43.003367 242.730177 \nC 45.718911 258.260368 50.830985 273.274775 58.156413 287.235403 \nC 65.481841 301.19603 74.932071 313.934117 86.168483 324.993234 \nC 97.404896 336.05235 110.29166 345.298809 124.36702 352.401293 \nC 138.442379 359.503776 153.536186 364.376427 169.107599 366.844648 \nC 184.679012 369.312869 200.539798 369.346824 216.121637 366.945296 \nC 231.703475 364.543768 246.818005 359.735788 260.923646 352.693634 \nC 275.029286 345.651481 287.955522 336.460282 299.239182 325.449377 \nL 192.936555 216.513493 \nL 324.75255 140.409493 \nz\n\" style=\"fill:#1f77b4;\"/>\n   </g>\n   <g id=\"patch_8\">\n    <path d=\"M 313.444487 330.520681 \nC 326.80857 317.479642 337.659496 302.090011 345.454149 285.122077 \nC 353.248803 268.154143 357.85493 249.895805 359.041984 231.260936 \nL 207.14186 221.584797 \nL 313.444487 330.520681 \nz\n\" style=\"fill:#ff7f0e;\"/>\n   </g>\n   <g id=\"patch_9\">\n    <path d=\"M 371.85728 222.9221 \nC 372.615745 211.015405 371.971626 199.060719 369.9382 187.304451 \nC 367.904774 175.548183 364.496109 164.071667 359.782464 153.111457 \nL 219.957156 213.245961 \nL 371.85728 222.9221 \nz\n\" style=\"fill:#2ca02c;\"/>\n   </g>\n   <g id=\"patch_10\">\n    <path d=\"M 371.545857 140.44462 \nC 370.663026 138.391854 369.735098 136.358778 368.762747 134.346871 \nC 367.790396 132.334964 366.773857 130.344713 365.713871 128.377566 \nL 231.720549 200.579124 \nL 371.545857 140.44462 \nz\n\" style=\"fill:#d62728;\"/>\n   </g>\n   <g id=\"patch_11\">\n    <path d=\"M 437.788504 85.60701 \nC 437.435188 84.951317 437.077064 84.298228 436.714161 83.647793 \nC 436.351257 82.997358 435.983584 82.349596 435.611172 81.704558 \nL 303.795182 157.808568 \nL 437.788504 85.60701 \nz\n\" style=\"fill:#9467bd;\"/>\n   </g>\n   <g id=\"text_1\">\n    <!-- HK -->\n    <g transform=\"translate(10.583171 198.891297)scale(0.16 -0.16)\">\n     <defs>\n      <path d=\"M 9.8125 72.90625 \nL 19.671875 72.90625 \nL 19.671875 43.015625 \nL 55.515625 43.015625 \nL 55.515625 72.90625 \nL 65.375 72.90625 \nL 65.375 0 \nL 55.515625 0 \nL 55.515625 34.71875 \nL 19.671875 34.71875 \nL 19.671875 0 \nL 9.8125 0 \nz\n\" id=\"DejaVuSans-72\"/>\n      <path d=\"M 9.8125 72.90625 \nL 19.671875 72.90625 \nL 19.671875 42.09375 \nL 52.390625 72.90625 \nL 65.09375 72.90625 \nL 28.90625 38.921875 \nL 67.671875 0 \nL 54.6875 0 \nL 19.671875 35.109375 \nL 19.671875 0 \nL 9.8125 0 \nz\n\" id=\"DejaVuSans-75\"/>\n     </defs>\n     <use xlink:href=\"#DejaVuSans-72\"/>\n     <use x=\"75.195312\" xlink:href=\"#DejaVuSans-75\"/>\n    </g>\n   </g>\n   <g id=\"text_2\">\n    <!-- 78.97% -->\n    <g transform=\"translate(56.885759 206.375628)scale(0.16 -0.16)\">\n     <defs>\n      <path d=\"M 8.203125 72.90625 \nL 55.078125 72.90625 \nL 55.078125 68.703125 \nL 28.609375 0 \nL 18.3125 0 \nL 43.21875 64.59375 \nL 8.203125 64.59375 \nz\n\" id=\"DejaVuSans-55\"/>\n      <path d=\"M 31.78125 34.625 \nQ 24.75 34.625 20.71875 30.859375 \nQ 16.703125 27.09375 16.703125 20.515625 \nQ 16.703125 13.921875 20.71875 10.15625 \nQ 24.75 6.390625 31.78125 6.390625 \nQ 38.8125 6.390625 42.859375 10.171875 \nQ 46.921875 13.96875 46.921875 20.515625 \nQ 46.921875 27.09375 42.890625 30.859375 \nQ 38.875 34.625 31.78125 34.625 \nz\nM 21.921875 38.8125 \nQ 15.578125 40.375 12.03125 44.71875 \nQ 8.5 49.078125 8.5 55.328125 \nQ 8.5 64.0625 14.71875 69.140625 \nQ 20.953125 74.21875 31.78125 74.21875 \nQ 42.671875 74.21875 48.875 69.140625 \nQ 55.078125 64.0625 55.078125 55.328125 \nQ 55.078125 49.078125 51.53125 44.71875 \nQ 48 40.375 41.703125 38.8125 \nQ 48.828125 37.15625 52.796875 32.3125 \nQ 56.78125 27.484375 56.78125 20.515625 \nQ 56.78125 9.90625 50.3125 4.234375 \nQ 43.84375 -1.421875 31.78125 -1.421875 \nQ 19.734375 -1.421875 13.25 4.234375 \nQ 6.78125 9.90625 6.78125 20.515625 \nQ 6.78125 27.484375 10.78125 32.3125 \nQ 14.796875 37.15625 21.921875 38.8125 \nz\nM 18.3125 54.390625 \nQ 18.3125 48.734375 21.84375 45.5625 \nQ 25.390625 42.390625 31.78125 42.390625 \nQ 38.140625 42.390625 41.71875 45.5625 \nQ 45.3125 48.734375 45.3125 54.390625 \nQ 45.3125 60.0625 41.71875 63.234375 \nQ 38.140625 66.40625 31.78125 66.40625 \nQ 25.390625 66.40625 21.84375 63.234375 \nQ 18.3125 60.0625 18.3125 54.390625 \nz\n\" id=\"DejaVuSans-56\"/>\n      <path d=\"M 10.6875 12.40625 \nL 21 12.40625 \nL 21 0 \nL 10.6875 0 \nz\n\" id=\"DejaVuSans-46\"/>\n      <path d=\"M 10.984375 1.515625 \nL 10.984375 10.5 \nQ 14.703125 8.734375 18.5 7.8125 \nQ 22.3125 6.890625 25.984375 6.890625 \nQ 35.75 6.890625 40.890625 13.453125 \nQ 46.046875 20.015625 46.78125 33.40625 \nQ 43.953125 29.203125 39.59375 26.953125 \nQ 35.25 24.703125 29.984375 24.703125 \nQ 19.046875 24.703125 12.671875 31.3125 \nQ 6.296875 37.9375 6.296875 49.421875 \nQ 6.296875 60.640625 12.9375 67.421875 \nQ 19.578125 74.21875 30.609375 74.21875 \nQ 43.265625 74.21875 49.921875 64.515625 \nQ 56.59375 54.828125 56.59375 36.375 \nQ 56.59375 19.140625 48.40625 8.859375 \nQ 40.234375 -1.421875 26.421875 -1.421875 \nQ 22.703125 -1.421875 18.890625 -0.6875 \nQ 15.09375 0.046875 10.984375 1.515625 \nz\nM 30.609375 32.421875 \nQ 37.25 32.421875 41.125 36.953125 \nQ 45.015625 41.5 45.015625 49.421875 \nQ 45.015625 57.28125 41.125 61.84375 \nQ 37.25 66.40625 30.609375 66.40625 \nQ 23.96875 66.40625 20.09375 61.84375 \nQ 16.21875 57.28125 16.21875 49.421875 \nQ 16.21875 41.5 20.09375 36.953125 \nQ 23.96875 32.421875 30.609375 32.421875 \nz\n\" id=\"DejaVuSans-57\"/>\n      <path d=\"M 72.703125 32.078125 \nQ 68.453125 32.078125 66.03125 28.46875 \nQ 63.625 24.859375 63.625 18.40625 \nQ 63.625 12.0625 66.03125 8.421875 \nQ 68.453125 4.78125 72.703125 4.78125 \nQ 76.859375 4.78125 79.265625 8.421875 \nQ 81.6875 12.0625 81.6875 18.40625 \nQ 81.6875 24.8125 79.265625 28.4375 \nQ 76.859375 32.078125 72.703125 32.078125 \nz\nM 72.703125 38.28125 \nQ 80.421875 38.28125 84.953125 32.90625 \nQ 89.5 27.546875 89.5 18.40625 \nQ 89.5 9.28125 84.9375 3.921875 \nQ 80.375 -1.421875 72.703125 -1.421875 \nQ 64.890625 -1.421875 60.34375 3.921875 \nQ 55.8125 9.28125 55.8125 18.40625 \nQ 55.8125 27.59375 60.375 32.9375 \nQ 64.9375 38.28125 72.703125 38.28125 \nz\nM 22.3125 68.015625 \nQ 18.109375 68.015625 15.6875 64.375 \nQ 13.28125 60.75 13.28125 54.390625 \nQ 13.28125 47.953125 15.671875 44.328125 \nQ 18.0625 40.71875 22.3125 40.71875 \nQ 26.5625 40.71875 28.96875 44.328125 \nQ 31.390625 47.953125 31.390625 54.390625 \nQ 31.390625 60.6875 28.953125 64.34375 \nQ 26.515625 68.015625 22.3125 68.015625 \nz\nM 66.40625 74.21875 \nL 74.21875 74.21875 \nL 28.609375 -1.421875 \nL 20.796875 -1.421875 \nz\nM 22.3125 74.21875 \nQ 30.03125 74.21875 34.609375 68.875 \nQ 39.203125 63.53125 39.203125 54.390625 \nQ 39.203125 45.171875 34.640625 39.84375 \nQ 30.078125 34.515625 22.3125 34.515625 \nQ 14.546875 34.515625 10.03125 39.859375 \nQ 5.515625 45.21875 5.515625 54.390625 \nQ 5.515625 63.484375 10.046875 68.84375 \nQ 14.59375 74.21875 22.3125 74.21875 \nz\n\" id=\"DejaVuSans-37\"/>\n     </defs>\n     <use xlink:href=\"#DejaVuSans-55\"/>\n     <use x=\"63.623047\" xlink:href=\"#DejaVuSans-56\"/>\n     <use x=\"127.246094\" xlink:href=\"#DejaVuSans-46\"/>\n     <use x=\"159.033203\" xlink:href=\"#DejaVuSans-57\"/>\n     <use x=\"222.65625\" xlink:href=\"#DejaVuSans-55\"/>\n     <use x=\"286.279297\" xlink:href=\"#DejaVuSans-37\"/>\n    </g>\n   </g>\n   <g id=\"text_3\">\n    <!-- CN -->\n    <g transform=\"translate(353.752887 293.349314)scale(0.16 -0.16)\">\n     <defs>\n      <path d=\"M 64.40625 67.28125 \nL 64.40625 56.890625 \nQ 59.421875 61.53125 53.78125 63.8125 \nQ 48.140625 66.109375 41.796875 66.109375 \nQ 29.296875 66.109375 22.65625 58.46875 \nQ 16.015625 50.828125 16.015625 36.375 \nQ 16.015625 21.96875 22.65625 14.328125 \nQ 29.296875 6.6875 41.796875 6.6875 \nQ 48.140625 6.6875 53.78125 8.984375 \nQ 59.421875 11.28125 64.40625 15.921875 \nL 64.40625 5.609375 \nQ 59.234375 2.09375 53.4375 0.328125 \nQ 47.65625 -1.421875 41.21875 -1.421875 \nQ 24.65625 -1.421875 15.125 8.703125 \nQ 5.609375 18.84375 5.609375 36.375 \nQ 5.609375 53.953125 15.125 64.078125 \nQ 24.65625 74.21875 41.21875 74.21875 \nQ 47.75 74.21875 53.53125 72.484375 \nQ 59.328125 70.75 64.40625 67.28125 \nz\n\" id=\"DejaVuSans-67\"/>\n      <path d=\"M 9.8125 72.90625 \nL 23.09375 72.90625 \nL 55.421875 11.921875 \nL 55.421875 72.90625 \nL 64.984375 72.90625 \nL 64.984375 0 \nL 51.703125 0 \nL 19.390625 60.984375 \nL 19.390625 0 \nL 9.8125 0 \nz\n\" id=\"DejaVuSans-78\"/>\n     </defs>\n     <use xlink:href=\"#DejaVuSans-67\"/>\n     <use x=\"69.824219\" xlink:href=\"#DejaVuSans-78\"/>\n    </g>\n   </g>\n   <g id=\"text_4\">\n    <!-- 11.68% -->\n    <g transform=\"translate(273.456713 270.475893)scale(0.16 -0.16)\">\n     <defs>\n      <path d=\"M 12.40625 8.296875 \nL 28.515625 8.296875 \nL 28.515625 63.921875 \nL 10.984375 60.40625 \nL 10.984375 69.390625 \nL 28.421875 72.90625 \nL 38.28125 72.90625 \nL 38.28125 8.296875 \nL 54.390625 8.296875 \nL 54.390625 0 \nL 12.40625 0 \nz\n\" id=\"DejaVuSans-49\"/>\n      <path d=\"M 33.015625 40.375 \nQ 26.375 40.375 22.484375 35.828125 \nQ 18.609375 31.296875 18.609375 23.390625 \nQ 18.609375 15.53125 22.484375 10.953125 \nQ 26.375 6.390625 33.015625 6.390625 \nQ 39.65625 6.390625 43.53125 10.953125 \nQ 47.40625 15.53125 47.40625 23.390625 \nQ 47.40625 31.296875 43.53125 35.828125 \nQ 39.65625 40.375 33.015625 40.375 \nz\nM 52.59375 71.296875 \nL 52.59375 62.3125 \nQ 48.875 64.0625 45.09375 64.984375 \nQ 41.3125 65.921875 37.59375 65.921875 \nQ 27.828125 65.921875 22.671875 59.328125 \nQ 17.53125 52.734375 16.796875 39.40625 \nQ 19.671875 43.65625 24.015625 45.921875 \nQ 28.375 48.1875 33.59375 48.1875 \nQ 44.578125 48.1875 50.953125 41.515625 \nQ 57.328125 34.859375 57.328125 23.390625 \nQ 57.328125 12.15625 50.6875 5.359375 \nQ 44.046875 -1.421875 33.015625 -1.421875 \nQ 20.359375 -1.421875 13.671875 8.265625 \nQ 6.984375 17.96875 6.984375 36.375 \nQ 6.984375 53.65625 15.1875 63.9375 \nQ 23.390625 74.21875 37.203125 74.21875 \nQ 40.921875 74.21875 44.703125 73.484375 \nQ 48.484375 72.75 52.59375 71.296875 \nz\n\" id=\"DejaVuSans-54\"/>\n     </defs>\n     <use xlink:href=\"#DejaVuSans-49\"/>\n     <use x=\"63.623047\" xlink:href=\"#DejaVuSans-49\"/>\n     <use x=\"127.246094\" xlink:href=\"#DejaVuSans-46\"/>\n     <use x=\"159.033203\" xlink:href=\"#DejaVuSans-54\"/>\n     <use x=\"222.65625\" xlink:href=\"#DejaVuSans-56\"/>\n     <use x=\"286.279297\" xlink:href=\"#DejaVuSans-37\"/>\n    </g>\n   </g>\n   <g id=\"text_5\">\n    <!-- US -->\n    <g transform=\"translate(378.937062 190.16296)scale(0.16 -0.16)\">\n     <defs>\n      <path d=\"M 8.6875 72.90625 \nL 18.609375 72.90625 \nL 18.609375 28.609375 \nQ 18.609375 16.890625 22.84375 11.734375 \nQ 27.09375 6.59375 36.625 6.59375 \nQ 46.09375 6.59375 50.34375 11.734375 \nQ 54.59375 16.890625 54.59375 28.609375 \nL 54.59375 72.90625 \nL 64.5 72.90625 \nL 64.5 27.390625 \nQ 64.5 13.140625 57.4375 5.859375 \nQ 50.390625 -1.421875 36.625 -1.421875 \nQ 22.796875 -1.421875 15.734375 5.859375 \nQ 8.6875 13.140625 8.6875 27.390625 \nz\n\" id=\"DejaVuSans-85\"/>\n      <path d=\"M 53.515625 70.515625 \nL 53.515625 60.890625 \nQ 47.90625 63.578125 42.921875 64.890625 \nQ 37.9375 66.21875 33.296875 66.21875 \nQ 25.25 66.21875 20.875 63.09375 \nQ 16.5 59.96875 16.5 54.203125 \nQ 16.5 49.359375 19.40625 46.890625 \nQ 22.3125 44.4375 30.421875 42.921875 \nL 36.375 41.703125 \nQ 47.40625 39.59375 52.65625 34.296875 \nQ 57.90625 29 57.90625 20.125 \nQ 57.90625 9.515625 50.796875 4.046875 \nQ 43.703125 -1.421875 29.984375 -1.421875 \nQ 24.8125 -1.421875 18.96875 -0.25 \nQ 13.140625 0.921875 6.890625 3.21875 \nL 6.890625 13.375 \nQ 12.890625 10.015625 18.65625 8.296875 \nQ 24.421875 6.59375 29.984375 6.59375 \nQ 38.421875 6.59375 43.015625 9.90625 \nQ 47.609375 13.234375 47.609375 19.390625 \nQ 47.609375 24.75 44.3125 27.78125 \nQ 41.015625 30.8125 33.5 32.328125 \nL 27.484375 33.5 \nQ 16.453125 35.6875 11.515625 40.375 \nQ 6.59375 45.0625 6.59375 53.421875 \nQ 6.59375 63.09375 13.40625 68.65625 \nQ 20.21875 74.21875 32.171875 74.21875 \nQ 37.3125 74.21875 42.625 73.28125 \nQ 47.953125 72.359375 53.515625 70.515625 \nz\n\" id=\"DejaVuSans-83\"/>\n     </defs>\n     <use xlink:href=\"#DejaVuSans-85\"/>\n     <use x=\"73.193359\" xlink:href=\"#DejaVuSans-83\"/>\n    </g>\n   </g>\n   <g id=\"text_6\">\n    <!-- 7.48% -->\n    <g transform=\"translate(299.530137 199.501904)scale(0.16 -0.16)\">\n     <defs>\n      <path d=\"M 37.796875 64.3125 \nL 12.890625 25.390625 \nL 37.796875 25.390625 \nz\nM 35.203125 72.90625 \nL 47.609375 72.90625 \nL 47.609375 25.390625 \nL 58.015625 25.390625 \nL 58.015625 17.1875 \nL 47.609375 17.1875 \nL 47.609375 0 \nL 37.796875 0 \nL 37.796875 17.1875 \nL 4.890625 17.1875 \nL 4.890625 26.703125 \nz\n\" id=\"DejaVuSans-52\"/>\n     </defs>\n     <use xlink:href=\"#DejaVuSans-55\"/>\n     <use x=\"63.623047\" xlink:href=\"#DejaVuSans-46\"/>\n     <use x=\"95.410156\" xlink:href=\"#DejaVuSans-52\"/>\n     <use x=\"159.033203\" xlink:href=\"#DejaVuSans-56\"/>\n     <use x=\"222.65625\" xlink:href=\"#DejaVuSans-37\"/>\n    </g>\n   </g>\n   <g id=\"text_7\">\n    <!-- IT -->\n    <g transform=\"translate(376.985279 134.787936)scale(0.16 -0.16)\">\n     <defs>\n      <path d=\"M 9.8125 72.90625 \nL 19.671875 72.90625 \nL 19.671875 0 \nL 9.8125 0 \nz\n\" id=\"DejaVuSans-73\"/>\n      <path d=\"M -0.296875 72.90625 \nL 61.375 72.90625 \nL 61.375 64.59375 \nL 35.5 64.59375 \nL 35.5 0 \nL 25.59375 0 \nL 25.59375 64.59375 \nL -0.296875 64.59375 \nz\n\" id=\"DejaVuSans-84\"/>\n     </defs>\n     <use xlink:href=\"#DejaVuSans-73\"/>\n     <use x=\"29.492188\" xlink:href=\"#DejaVuSans-84\"/>\n    </g>\n   </g>\n   <g id=\"text_8\">\n    <!-- 1.40% -->\n    <g transform=\"translate(302.236338 158.631547)scale(0.16 -0.16)\">\n     <defs>\n      <path d=\"M 31.78125 66.40625 \nQ 24.171875 66.40625 20.328125 58.90625 \nQ 16.5 51.421875 16.5 36.375 \nQ 16.5 21.390625 20.328125 13.890625 \nQ 24.171875 6.390625 31.78125 6.390625 \nQ 39.453125 6.390625 43.28125 13.890625 \nQ 47.125 21.390625 47.125 36.375 \nQ 47.125 51.421875 43.28125 58.90625 \nQ 39.453125 66.40625 31.78125 66.40625 \nz\nM 31.78125 74.21875 \nQ 44.046875 74.21875 50.515625 64.515625 \nQ 56.984375 54.828125 56.984375 36.375 \nQ 56.984375 17.96875 50.515625 8.265625 \nQ 44.046875 -1.421875 31.78125 -1.421875 \nQ 19.53125 -1.421875 13.0625 8.265625 \nQ 6.59375 17.96875 6.59375 36.375 \nQ 6.59375 54.828125 13.0625 64.515625 \nQ 19.53125 74.21875 31.78125 74.21875 \nz\n\" id=\"DejaVuSans-48\"/>\n     </defs>\n     <use xlink:href=\"#DejaVuSans-49\"/>\n     <use x=\"63.623047\" xlink:href=\"#DejaVuSans-46\"/>\n     <use x=\"95.410156\" xlink:href=\"#DejaVuSans-52\"/>\n     <use x=\"159.033203\" xlink:href=\"#DejaVuSans-48\"/>\n     <use x=\"222.65625\" xlink:href=\"#DejaVuSans-37\"/>\n    </g>\n   </g>\n   <g id=\"text_9\">\n    <!-- AU -->\n    <g transform=\"translate(444.689299 83.613146)scale(0.16 -0.16)\">\n     <defs>\n      <path d=\"M 34.1875 63.1875 \nL 20.796875 26.90625 \nL 47.609375 26.90625 \nz\nM 28.609375 72.90625 \nL 39.796875 72.90625 \nL 67.578125 0 \nL 57.328125 0 \nL 50.6875 18.703125 \nL 17.828125 18.703125 \nL 11.1875 0 \nL 0.78125 0 \nz\n\" id=\"DejaVuSans-65\"/>\n     </defs>\n     <use xlink:href=\"#DejaVuSans-65\"/>\n     <use x=\"68.408203\" xlink:href=\"#DejaVuSans-85\"/>\n    </g>\n   </g>\n   <g id=\"text_10\">\n    <!-- 0.47% -->\n    <g transform=\"translate(371.424717 110.311025)scale(0.16 -0.16)\">\n     <use xlink:href=\"#DejaVuSans-48\"/>\n     <use x=\"63.623047\" xlink:href=\"#DejaVuSans-46\"/>\n     <use x=\"95.410156\" xlink:href=\"#DejaVuSans-52\"/>\n     <use x=\"159.033203\" xlink:href=\"#DejaVuSans-55\"/>\n     <use x=\"222.65625\" xlink:href=\"#DejaVuSans-37\"/>\n    </g>\n   </g>\n   <g id=\"text_11\">\n    <!-- Requests pie chart (country_level) -->\n    <g transform=\"translate(43.140938 20.877187)scale(0.18 -0.18)\">\n     <defs>\n      <path d=\"M 44.390625 34.1875 \nQ 47.5625 33.109375 50.5625 29.59375 \nQ 53.5625 26.078125 56.59375 19.921875 \nL 66.609375 0 \nL 56 0 \nL 46.6875 18.703125 \nQ 43.0625 26.03125 39.671875 28.421875 \nQ 36.28125 30.8125 30.421875 30.8125 \nL 19.671875 30.8125 \nL 19.671875 0 \nL 9.8125 0 \nL 9.8125 72.90625 \nL 32.078125 72.90625 \nQ 44.578125 72.90625 50.734375 67.671875 \nQ 56.890625 62.453125 56.890625 51.90625 \nQ 56.890625 45.015625 53.6875 40.46875 \nQ 50.484375 35.9375 44.390625 34.1875 \nz\nM 19.671875 64.796875 \nL 19.671875 38.921875 \nL 32.078125 38.921875 \nQ 39.203125 38.921875 42.84375 42.21875 \nQ 46.484375 45.515625 46.484375 51.90625 \nQ 46.484375 58.296875 42.84375 61.546875 \nQ 39.203125 64.796875 32.078125 64.796875 \nz\n\" id=\"DejaVuSans-82\"/>\n      <path d=\"M 56.203125 29.59375 \nL 56.203125 25.203125 \nL 14.890625 25.203125 \nQ 15.484375 15.921875 20.484375 11.0625 \nQ 25.484375 6.203125 34.421875 6.203125 \nQ 39.59375 6.203125 44.453125 7.46875 \nQ 49.3125 8.734375 54.109375 11.28125 \nL 54.109375 2.78125 \nQ 49.265625 0.734375 44.1875 -0.34375 \nQ 39.109375 -1.421875 33.890625 -1.421875 \nQ 20.796875 -1.421875 13.15625 6.1875 \nQ 5.515625 13.8125 5.515625 26.8125 \nQ 5.515625 40.234375 12.765625 48.109375 \nQ 20.015625 56 32.328125 56 \nQ 43.359375 56 49.78125 48.890625 \nQ 56.203125 41.796875 56.203125 29.59375 \nz\nM 47.21875 32.234375 \nQ 47.125 39.59375 43.09375 43.984375 \nQ 39.0625 48.390625 32.421875 48.390625 \nQ 24.90625 48.390625 20.390625 44.140625 \nQ 15.875 39.890625 15.1875 32.171875 \nz\n\" id=\"DejaVuSans-101\"/>\n      <path d=\"M 14.796875 27.296875 \nQ 14.796875 17.390625 18.875 11.75 \nQ 22.953125 6.109375 30.078125 6.109375 \nQ 37.203125 6.109375 41.296875 11.75 \nQ 45.40625 17.390625 45.40625 27.296875 \nQ 45.40625 37.203125 41.296875 42.84375 \nQ 37.203125 48.484375 30.078125 48.484375 \nQ 22.953125 48.484375 18.875 42.84375 \nQ 14.796875 37.203125 14.796875 27.296875 \nz\nM 45.40625 8.203125 \nQ 42.578125 3.328125 38.25 0.953125 \nQ 33.9375 -1.421875 27.875 -1.421875 \nQ 17.96875 -1.421875 11.734375 6.484375 \nQ 5.515625 14.40625 5.515625 27.296875 \nQ 5.515625 40.1875 11.734375 48.09375 \nQ 17.96875 56 27.875 56 \nQ 33.9375 56 38.25 53.625 \nQ 42.578125 51.265625 45.40625 46.390625 \nL 45.40625 54.6875 \nL 54.390625 54.6875 \nL 54.390625 -20.796875 \nL 45.40625 -20.796875 \nz\n\" id=\"DejaVuSans-113\"/>\n      <path d=\"M 8.5 21.578125 \nL 8.5 54.6875 \nL 17.484375 54.6875 \nL 17.484375 21.921875 \nQ 17.484375 14.15625 20.5 10.265625 \nQ 23.53125 6.390625 29.59375 6.390625 \nQ 36.859375 6.390625 41.078125 11.03125 \nQ 45.3125 15.671875 45.3125 23.6875 \nL 45.3125 54.6875 \nL 54.296875 54.6875 \nL 54.296875 0 \nL 45.3125 0 \nL 45.3125 8.40625 \nQ 42.046875 3.421875 37.71875 1 \nQ 33.40625 -1.421875 27.6875 -1.421875 \nQ 18.265625 -1.421875 13.375 4.4375 \nQ 8.5 10.296875 8.5 21.578125 \nz\nM 31.109375 56 \nz\n\" id=\"DejaVuSans-117\"/>\n      <path d=\"M 44.28125 53.078125 \nL 44.28125 44.578125 \nQ 40.484375 46.53125 36.375 47.5 \nQ 32.28125 48.484375 27.875 48.484375 \nQ 21.1875 48.484375 17.84375 46.4375 \nQ 14.5 44.390625 14.5 40.28125 \nQ 14.5 37.15625 16.890625 35.375 \nQ 19.28125 33.59375 26.515625 31.984375 \nL 29.59375 31.296875 \nQ 39.15625 29.25 43.1875 25.515625 \nQ 47.21875 21.78125 47.21875 15.09375 \nQ 47.21875 7.46875 41.1875 3.015625 \nQ 35.15625 -1.421875 24.609375 -1.421875 \nQ 20.21875 -1.421875 15.453125 -0.5625 \nQ 10.6875 0.296875 5.421875 2 \nL 5.421875 11.28125 \nQ 10.40625 8.6875 15.234375 7.390625 \nQ 20.0625 6.109375 24.8125 6.109375 \nQ 31.15625 6.109375 34.5625 8.28125 \nQ 37.984375 10.453125 37.984375 14.40625 \nQ 37.984375 18.0625 35.515625 20.015625 \nQ 33.0625 21.96875 24.703125 23.78125 \nL 21.578125 24.515625 \nQ 13.234375 26.265625 9.515625 29.90625 \nQ 5.8125 33.546875 5.8125 39.890625 \nQ 5.8125 47.609375 11.28125 51.796875 \nQ 16.75 56 26.8125 56 \nQ 31.78125 56 36.171875 55.265625 \nQ 40.578125 54.546875 44.28125 53.078125 \nz\n\" id=\"DejaVuSans-115\"/>\n      <path d=\"M 18.3125 70.21875 \nL 18.3125 54.6875 \nL 36.8125 54.6875 \nL 36.8125 47.703125 \nL 18.3125 47.703125 \nL 18.3125 18.015625 \nQ 18.3125 11.328125 20.140625 9.421875 \nQ 21.96875 7.515625 27.59375 7.515625 \nL 36.8125 7.515625 \nL 36.8125 0 \nL 27.59375 0 \nQ 17.1875 0 13.234375 3.875 \nQ 9.28125 7.765625 9.28125 18.015625 \nL 9.28125 47.703125 \nL 2.6875 47.703125 \nL 2.6875 54.6875 \nL 9.28125 54.6875 \nL 9.28125 70.21875 \nz\n\" id=\"DejaVuSans-116\"/>\n      <path id=\"DejaVuSans-32\"/>\n      <path d=\"M 18.109375 8.203125 \nL 18.109375 -20.796875 \nL 9.078125 -20.796875 \nL 9.078125 54.6875 \nL 18.109375 54.6875 \nL 18.109375 46.390625 \nQ 20.953125 51.265625 25.265625 53.625 \nQ 29.59375 56 35.59375 56 \nQ 45.5625 56 51.78125 48.09375 \nQ 58.015625 40.1875 58.015625 27.296875 \nQ 58.015625 14.40625 51.78125 6.484375 \nQ 45.5625 -1.421875 35.59375 -1.421875 \nQ 29.59375 -1.421875 25.265625 0.953125 \nQ 20.953125 3.328125 18.109375 8.203125 \nz\nM 48.6875 27.296875 \nQ 48.6875 37.203125 44.609375 42.84375 \nQ 40.53125 48.484375 33.40625 48.484375 \nQ 26.265625 48.484375 22.1875 42.84375 \nQ 18.109375 37.203125 18.109375 27.296875 \nQ 18.109375 17.390625 22.1875 11.75 \nQ 26.265625 6.109375 33.40625 6.109375 \nQ 40.53125 6.109375 44.609375 11.75 \nQ 48.6875 17.390625 48.6875 27.296875 \nz\n\" id=\"DejaVuSans-112\"/>\n      <path d=\"M 9.421875 54.6875 \nL 18.40625 54.6875 \nL 18.40625 0 \nL 9.421875 0 \nz\nM 9.421875 75.984375 \nL 18.40625 75.984375 \nL 18.40625 64.59375 \nL 9.421875 64.59375 \nz\n\" id=\"DejaVuSans-105\"/>\n      <path d=\"M 48.78125 52.59375 \nL 48.78125 44.1875 \nQ 44.96875 46.296875 41.140625 47.34375 \nQ 37.3125 48.390625 33.40625 48.390625 \nQ 24.65625 48.390625 19.8125 42.84375 \nQ 14.984375 37.3125 14.984375 27.296875 \nQ 14.984375 17.28125 19.8125 11.734375 \nQ 24.65625 6.203125 33.40625 6.203125 \nQ 37.3125 6.203125 41.140625 7.25 \nQ 44.96875 8.296875 48.78125 10.40625 \nL 48.78125 2.09375 \nQ 45.015625 0.34375 40.984375 -0.53125 \nQ 36.96875 -1.421875 32.421875 -1.421875 \nQ 20.0625 -1.421875 12.78125 6.34375 \nQ 5.515625 14.109375 5.515625 27.296875 \nQ 5.515625 40.671875 12.859375 48.328125 \nQ 20.21875 56 33.015625 56 \nQ 37.15625 56 41.109375 55.140625 \nQ 45.0625 54.296875 48.78125 52.59375 \nz\n\" id=\"DejaVuSans-99\"/>\n      <path d=\"M 54.890625 33.015625 \nL 54.890625 0 \nL 45.90625 0 \nL 45.90625 32.71875 \nQ 45.90625 40.484375 42.875 44.328125 \nQ 39.84375 48.1875 33.796875 48.1875 \nQ 26.515625 48.1875 22.3125 43.546875 \nQ 18.109375 38.921875 18.109375 30.90625 \nL 18.109375 0 \nL 9.078125 0 \nL 9.078125 75.984375 \nL 18.109375 75.984375 \nL 18.109375 46.1875 \nQ 21.34375 51.125 25.703125 53.5625 \nQ 30.078125 56 35.796875 56 \nQ 45.21875 56 50.046875 50.171875 \nQ 54.890625 44.34375 54.890625 33.015625 \nz\n\" id=\"DejaVuSans-104\"/>\n      <path d=\"M 34.28125 27.484375 \nQ 23.390625 27.484375 19.1875 25 \nQ 14.984375 22.515625 14.984375 16.5 \nQ 14.984375 11.71875 18.140625 8.90625 \nQ 21.296875 6.109375 26.703125 6.109375 \nQ 34.1875 6.109375 38.703125 11.40625 \nQ 43.21875 16.703125 43.21875 25.484375 \nL 43.21875 27.484375 \nz\nM 52.203125 31.203125 \nL 52.203125 0 \nL 43.21875 0 \nL 43.21875 8.296875 \nQ 40.140625 3.328125 35.546875 0.953125 \nQ 30.953125 -1.421875 24.3125 -1.421875 \nQ 15.921875 -1.421875 10.953125 3.296875 \nQ 6 8.015625 6 15.921875 \nQ 6 25.140625 12.171875 29.828125 \nQ 18.359375 34.515625 30.609375 34.515625 \nL 43.21875 34.515625 \nL 43.21875 35.40625 \nQ 43.21875 41.609375 39.140625 45 \nQ 35.0625 48.390625 27.6875 48.390625 \nQ 23 48.390625 18.546875 47.265625 \nQ 14.109375 46.140625 10.015625 43.890625 \nL 10.015625 52.203125 \nQ 14.9375 54.109375 19.578125 55.046875 \nQ 24.21875 56 28.609375 56 \nQ 40.484375 56 46.34375 49.84375 \nQ 52.203125 43.703125 52.203125 31.203125 \nz\n\" id=\"DejaVuSans-97\"/>\n      <path d=\"M 41.109375 46.296875 \nQ 39.59375 47.171875 37.8125 47.578125 \nQ 36.03125 48 33.890625 48 \nQ 26.265625 48 22.1875 43.046875 \nQ 18.109375 38.09375 18.109375 28.8125 \nL 18.109375 0 \nL 9.078125 0 \nL 9.078125 54.6875 \nL 18.109375 54.6875 \nL 18.109375 46.1875 \nQ 20.953125 51.171875 25.484375 53.578125 \nQ 30.03125 56 36.53125 56 \nQ 37.453125 56 38.578125 55.875 \nQ 39.703125 55.765625 41.0625 55.515625 \nz\n\" id=\"DejaVuSans-114\"/>\n      <path d=\"M 31 75.875 \nQ 24.46875 64.65625 21.28125 53.65625 \nQ 18.109375 42.671875 18.109375 31.390625 \nQ 18.109375 20.125 21.3125 9.0625 \nQ 24.515625 -2 31 -13.1875 \nL 23.1875 -13.1875 \nQ 15.875 -1.703125 12.234375 9.375 \nQ 8.59375 20.453125 8.59375 31.390625 \nQ 8.59375 42.28125 12.203125 53.3125 \nQ 15.828125 64.359375 23.1875 75.875 \nz\n\" id=\"DejaVuSans-40\"/>\n      <path d=\"M 30.609375 48.390625 \nQ 23.390625 48.390625 19.1875 42.75 \nQ 14.984375 37.109375 14.984375 27.296875 \nQ 14.984375 17.484375 19.15625 11.84375 \nQ 23.34375 6.203125 30.609375 6.203125 \nQ 37.796875 6.203125 41.984375 11.859375 \nQ 46.1875 17.53125 46.1875 27.296875 \nQ 46.1875 37.015625 41.984375 42.703125 \nQ 37.796875 48.390625 30.609375 48.390625 \nz\nM 30.609375 56 \nQ 42.328125 56 49.015625 48.375 \nQ 55.71875 40.765625 55.71875 27.296875 \nQ 55.71875 13.875 49.015625 6.21875 \nQ 42.328125 -1.421875 30.609375 -1.421875 \nQ 18.84375 -1.421875 12.171875 6.21875 \nQ 5.515625 13.875 5.515625 27.296875 \nQ 5.515625 40.765625 12.171875 48.375 \nQ 18.84375 56 30.609375 56 \nz\n\" id=\"DejaVuSans-111\"/>\n      <path d=\"M 54.890625 33.015625 \nL 54.890625 0 \nL 45.90625 0 \nL 45.90625 32.71875 \nQ 45.90625 40.484375 42.875 44.328125 \nQ 39.84375 48.1875 33.796875 48.1875 \nQ 26.515625 48.1875 22.3125 43.546875 \nQ 18.109375 38.921875 18.109375 30.90625 \nL 18.109375 0 \nL 9.078125 0 \nL 9.078125 54.6875 \nL 18.109375 54.6875 \nL 18.109375 46.1875 \nQ 21.34375 51.125 25.703125 53.5625 \nQ 30.078125 56 35.796875 56 \nQ 45.21875 56 50.046875 50.171875 \nQ 54.890625 44.34375 54.890625 33.015625 \nz\n\" id=\"DejaVuSans-110\"/>\n      <path d=\"M 32.171875 -5.078125 \nQ 28.375 -14.84375 24.75 -17.8125 \nQ 21.140625 -20.796875 15.09375 -20.796875 \nL 7.90625 -20.796875 \nL 7.90625 -13.28125 \nL 13.1875 -13.28125 \nQ 16.890625 -13.28125 18.9375 -11.515625 \nQ 21 -9.765625 23.484375 -3.21875 \nL 25.09375 0.875 \nL 2.984375 54.6875 \nL 12.5 54.6875 \nL 29.59375 11.921875 \nL 46.6875 54.6875 \nL 56.203125 54.6875 \nz\n\" id=\"DejaVuSans-121\"/>\n      <path d=\"M 50.984375 -16.609375 \nL 50.984375 -23.578125 \nL -0.984375 -23.578125 \nL -0.984375 -16.609375 \nz\n\" id=\"DejaVuSans-95\"/>\n      <path d=\"M 9.421875 75.984375 \nL 18.40625 75.984375 \nL 18.40625 0 \nL 9.421875 0 \nz\n\" id=\"DejaVuSans-108\"/>\n      <path d=\"M 2.984375 54.6875 \nL 12.5 54.6875 \nL 29.59375 8.796875 \nL 46.6875 54.6875 \nL 56.203125 54.6875 \nL 35.6875 0 \nL 23.484375 0 \nz\n\" id=\"DejaVuSans-118\"/>\n      <path d=\"M 8.015625 75.875 \nL 15.828125 75.875 \nQ 23.140625 64.359375 26.78125 53.3125 \nQ 30.421875 42.28125 30.421875 31.390625 \nQ 30.421875 20.453125 26.78125 9.375 \nQ 23.140625 -1.703125 15.828125 -13.1875 \nL 8.015625 -13.1875 \nQ 14.5 -2 17.703125 9.0625 \nQ 20.90625 20.125 20.90625 31.390625 \nQ 20.90625 42.671875 17.703125 53.65625 \nQ 14.5 64.65625 8.015625 75.875 \nz\n\" id=\"DejaVuSans-41\"/>\n     </defs>\n     <use xlink:href=\"#DejaVuSans-82\"/>\n     <use x=\"64.982422\" xlink:href=\"#DejaVuSans-101\"/>\n     <use x=\"126.505859\" xlink:href=\"#DejaVuSans-113\"/>\n     <use x=\"189.982422\" xlink:href=\"#DejaVuSans-117\"/>\n     <use x=\"253.361328\" xlink:href=\"#DejaVuSans-101\"/>\n     <use x=\"314.884766\" xlink:href=\"#DejaVuSans-115\"/>\n     <use x=\"366.984375\" xlink:href=\"#DejaVuSans-116\"/>\n     <use x=\"406.193359\" xlink:href=\"#DejaVuSans-115\"/>\n     <use x=\"458.292969\" xlink:href=\"#DejaVuSans-32\"/>\n     <use x=\"490.080078\" xlink:href=\"#DejaVuSans-112\"/>\n     <use x=\"553.556641\" xlink:href=\"#DejaVuSans-105\"/>\n     <use x=\"581.339844\" xlink:href=\"#DejaVuSans-101\"/>\n     <use x=\"642.863281\" xlink:href=\"#DejaVuSans-32\"/>\n     <use x=\"674.650391\" xlink:href=\"#DejaVuSans-99\"/>\n     <use x=\"729.630859\" xlink:href=\"#DejaVuSans-104\"/>\n     <use x=\"793.009766\" xlink:href=\"#DejaVuSans-97\"/>\n     <use x=\"854.289062\" xlink:href=\"#DejaVuSans-114\"/>\n     <use x=\"895.402344\" xlink:href=\"#DejaVuSans-116\"/>\n     <use x=\"934.611328\" xlink:href=\"#DejaVuSans-32\"/>\n     <use x=\"966.398438\" xlink:href=\"#DejaVuSans-40\"/>\n     <use x=\"1005.412109\" xlink:href=\"#DejaVuSans-99\"/>\n     <use x=\"1060.392578\" xlink:href=\"#DejaVuSans-111\"/>\n     <use x=\"1121.574219\" xlink:href=\"#DejaVuSans-117\"/>\n     <use x=\"1184.953125\" xlink:href=\"#DejaVuSans-110\"/>\n     <use x=\"1248.332031\" xlink:href=\"#DejaVuSans-116\"/>\n     <use x=\"1287.541016\" xlink:href=\"#DejaVuSans-114\"/>\n     <use x=\"1328.654297\" xlink:href=\"#DejaVuSans-121\"/>\n     <use x=\"1387.833984\" xlink:href=\"#DejaVuSans-95\"/>\n     <use x=\"1437.833984\" xlink:href=\"#DejaVuSans-108\"/>\n     <use x=\"1465.617188\" xlink:href=\"#DejaVuSans-101\"/>\n     <use x=\"1527.140625\" xlink:href=\"#DejaVuSans-118\"/>\n     <use x=\"1586.320312\" xlink:href=\"#DejaVuSans-101\"/>\n     <use x=\"1647.84375\" xlink:href=\"#DejaVuSans-108\"/>\n     <use x=\"1675.626953\" xlink:href=\"#DejaVuSans-41\"/>\n    </g>\n   </g>\n  </g>\n </g>\n</svg>\n",
            "image/png": "[encoded data removed]"
          },
          "metadata": {
            "tags": []
          }
        },
        {
          "output_type": "execute_result",
          "data": {
            "text/plain": [
              "HK    78.971963\n",
              "CN    11.682243\n",
              "US     7.476636\n",
              "IT     1.401869\n",
              "AU     0.467290\n",
              "Name: country_level, dtype: float64"
            ]
          },
          "metadata": {
            "tags": []
          },
          "execution_count": 149
        }
      ]
    },
    {
      "cell_type": "markdown",
      "metadata": {
        "id": "xyBqMghdrd0-"
      },
      "source": [
        "\n",
        "**#4. List top 3 with the numbers of requests.**\n"
      ]
    },
    {
      "cell_type": "code",
      "metadata": {
        "id": "7NUqh_Mcrd0-",
        "outputId": "2e49cebb-4027-4bc3-e1f8-460b987c616c"
      },
      "source": [
        "pie_Country[:3]"
      ],
      "execution_count": null,
      "outputs": [
        {
          "output_type": "execute_result",
          "data": {
            "text/plain": [
              "HK    169\n",
              "CN     25\n",
              "US     16\n",
              "Name: country_level, dtype: int64"
            ]
          },
          "metadata": {
            "tags": []
          },
          "execution_count": 150
        }
      ]
    },
    {
      "cell_type": "markdown",
      "metadata": {
        "id": "Qhf-g91_umxF"
      },
      "source": [
        "#### 2.3.B Requests by City\n",
        "<div class=\"alert alert-block alert-warning\">\n",
        "\n",
        "**Code**: \n",
        "    Using the selected requests from 2.3.A and build your code with the following requirements <br>\n",
        "    1. Discover on the demographics by analysing requests from city level. <br>\n",
        "    2. Plot cities of all requests in pie chart. <br>\n",
        "    3. List top 3 with the numbers of requests. <br>\n",
        "    *Keep the outputs for code in your notebook.\n",
        "</div> \n",
        "\n",
        "<div class=\"alert alert-block alert-warning\">\n",
        "    \n",
        "**Report**: \n",
        "    **Part I 2.3.B** Please include your results for this coding task into your report Part I section '2.3.B', <br>\n",
        "    1. How many cites are invlolved? <br>\n",
        "    2. Figure 'Request by City' in pie chart. <br>\n",
        "    3. Top 3 cities with request numbers. <br>\n",
        "</div>"
      ]
    },
    {
      "cell_type": "markdown",
      "metadata": {
        "id": "GkapFKWIrd0-"
      },
      "source": [
        "**1. Discover on the demographics by analysing requests from city level.** "
      ]
    },
    {
      "cell_type": "code",
      "metadata": {
        "id": "BWMqGtDGrd0-"
      },
      "source": [
        "\n",
        "city_level = lambda ip : DbIpCity.get(ip, api_key='free').city\n",
        "\n",
        "Geo_df['city_level'] = Geo_df['c-ip'].apply(city_level)\n",
        "\n"
      ],
      "execution_count": null,
      "outputs": []
    },
    {
      "cell_type": "code",
      "metadata": {
        "id": "O_SvmCa0rd0_",
        "outputId": "9a3dfe46-9803-46d7-c2bc-8a9b3b7e6050"
      },
      "source": [
        "print(Geo_df['city_level'].unique())\n",
        "\n",
        "Geo_df['city_level'].value_counts()\n"
      ],
      "execution_count": null,
      "outputs": [
        {
          "output_type": "stream",
          "text": [
            "['Hong Kong' 'Valcanneto' 'Jinrongjie (Xicheng District)' 'Quarry Bay'\n",
            " 'Beijing' 'San Francisco (Financial District)' 'Sydney' 'New York'\n",
            " 'Hangzhou' 'Mountain View' 'Ha Kwai Chung']\n"
          ],
          "name": "stdout"
        },
        {
          "output_type": "execute_result",
          "data": {
            "text/plain": [
              "Ha Kwai Chung                         166\n",
              "Beijing                                15\n",
              "New York                               14\n",
              "Jinrongjie (Xicheng District)           9\n",
              "Valcanneto                              3\n",
              "Hong Kong                               2\n",
              "Quarry Bay                              1\n",
              "Hangzhou                                1\n",
              "San Francisco (Financial District)      1\n",
              "Sydney                                  1\n",
              "Mountain View                           1\n",
              "Name: city_level, dtype: int64"
            ]
          },
          "metadata": {
            "tags": []
          },
          "execution_count": 152
        }
      ]
    },
    {
      "cell_type": "markdown",
      "metadata": {
        "id": "mwrxfM0Qrd0_"
      },
      "source": [
        "**2. Plot cities of all requests in pie chart. **"
      ]
    },
    {
      "cell_type": "code",
      "metadata": {
        "id": "g7p39EpEBqaj",
        "outputId": "2dbcdb9b-e0aa-4530-90e1-f9e21c63374e"
      },
      "source": [
        "pie_City = Geo_df['city_level'].value_counts()\n",
        "\n",
        "plt.figure(figsize=(8,8))\n",
        "plt.pie(pie_City.values, \n",
        "        shadow= True,\n",
        "       startangle= 120,\n",
        "        textprops={'fontsize': 12})\n",
        "\n",
        "plt.title(\"Request Pie chart (city-level)\", fontsize = 22)\n",
        "plt.legend(labels = pie_City.index)\n",
        "plt.axis(\"equal\")\n",
        "\n",
        "centre_circle = plt.Circle((0,0),0.45,fc='white')\n",
        "fig = plt.gcf()\n",
        "fig.gca().add_artist(centre_circle) \n",
        "\n",
        "plt.show()\n",
        "Geo_df['city_level'].value_counts()*100 / len(Geo_df)"
      ],
      "execution_count": null,
      "outputs": [
        {
          "output_type": "display_data",
          "data": {
            "text/plain": [
              "<Figure size 576x576 with 1 Axes>"
            ],
            "image/svg+xml": "<?xml version=\"1.0\" encoding=\"utf-8\" standalone=\"no\"?>\n<!DOCTYPE svg PUBLIC \"-//W3C//DTD SVG 1.1//EN\"\n  \"http://www.w3.org/Graphics/SVG/1.1/DTD/svg11.dtd\">\n<!-- Created with matplotlib (https://matplotlib.org/) -->\n<svg height=\"471.996562pt\" version=\"1.1\" viewBox=\"0 0 460.8 471.996562\" width=\"460.8pt\" xmlns=\"http://www.w3.org/2000/svg\" xmlns:xlink=\"http://www.w3.org/1999/xlink\">\n <metadata>\n  <rdf:RDF xmlns:cc=\"http://creativecommons.org/ns#\" xmlns:dc=\"http://purl.org/dc/elements/1.1/\" xmlns:rdf=\"http://www.w3.org/1999/02/22-rdf-syntax-ns#\">\n   <cc:Work>\n    <dc:type rdf:resource=\"http://purl.org/dc/dcmitype/StillImage\"/>\n    <dc:date>2021-04-15T02:38:32.305021</dc:date>\n    <dc:format>image/svg+xml</dc:format>\n    <dc:creator>\n     <cc:Agent>\n      <dc:title>Matplotlib v3.3.4, https://matplotlib.org/</dc:title>\n     </cc:Agent>\n    </dc:creator>\n   </cc:Work>\n  </rdf:RDF>\n </metadata>\n <defs>\n  <style type=\"text/css\">*{stroke-linecap:butt;stroke-linejoin:round;}</style>\n </defs>\n <g id=\"figure_1\">\n  <g id=\"patch_1\">\n   <path d=\"M 0 471.996562 \nL 460.8 471.996562 \nL 460.8 0 \nL 0 0 \nz\n\" style=\"fill:#ffffff;\"/>\n  </g>\n  <g id=\"axes_1\">\n   <g id=\"matplotlib.axis_1\"/>\n   <g id=\"matplotlib.axis_2\"/>\n   <g id=\"patch_2\">\n    <path d=\"M 125.366424 76.097238 \nC 107.573475 86.370001 91.451914 99.298117 77.559208 114.434543 \nC 63.666501 129.570969 52.164648 146.739204 43.451372 165.345587 \nC 34.738095 183.95197 28.914998 203.779538 26.183438 224.142673 \nC 23.451877 244.505808 23.843704 265.167061 27.345371 285.411987 \nC 30.847038 305.656913 37.417712 325.249441 46.830187 343.512081 \nC 56.242661 361.774721 68.387179 378.494517 82.843795 393.093316 \nC 97.300411 407.692115 113.900551 419.999684 132.070199 429.59044 \nC 150.239847 439.181196 169.76713 445.943303 189.976817 449.642935 \nC 210.186503 453.342566 230.842932 453.936582 251.231825 451.404442 \nC 271.620717 448.872301 291.504325 443.243531 310.195092 434.712768 \nC 328.885859 426.182006 346.165838 414.848725 361.437504 401.104821 \nC 376.70917 387.360916 389.794444 371.366652 400.240852 353.675093 \nC 410.687259 335.983533 418.372986 316.800976 423.032269 296.790734 \nC 427.691551 276.780493 429.270059 256.1759 427.713208 235.689444 \nC 426.156356 215.202987 421.482301 195.073553 413.852665 175.997198 \nC 406.223029 156.920842 395.72678 139.120009 382.726867 123.210233 \nL 226.34223 250.992463 \nL 125.366424 76.097238 \nz\n\" style=\"fill:#44160f;opacity:0.5;stroke:#44160f;stroke-linejoin:miter;stroke-width:0.5;\"/>\n   </g>\n   <g id=\"patch_3\">\n    <path d=\"M 382.726867 123.210233 \nC 373.337969 111.719751 362.711197 101.298974 351.039152 92.136771 \nC 339.367107 82.974569 326.720735 75.126629 313.329241 68.735192 \nL 226.34223 250.992463 \nL 382.726867 123.210233 \nz\n\" style=\"fill:#102939;opacity:0.5;stroke:#102939;stroke-linejoin:miter;stroke-width:0.5;\"/>\n   </g>\n   <g id=\"patch_4\">\n    <path d=\"M 313.329241 68.735192 \nC 300.832137 62.770624 287.754633 58.107203 274.303288 54.818586 \nC 260.851942 51.529969 247.097952 49.633562 233.25856 49.15932 \nL 226.34223 250.992463 \nL 313.329241 68.735192 \nz\n\" style=\"fill:#2e2b40;opacity:0.5;stroke:#2e2b40;stroke-linejoin:miter;stroke-width:0.5;\"/>\n   </g>\n   <g id=\"patch_5\">\n    <path d=\"M 233.25856 49.15932 \nC 224.366391 48.854607 215.463796 49.137871 206.608985 50.007259 \nC 197.754173 50.876647 188.966487 52.330261 180.303382 54.358596 \nL 226.34223 250.992463 \nL 233.25856 49.15932 \nz\n\" style=\"fill:#242424;opacity:0.5;stroke:#242424;stroke-linejoin:miter;stroke-width:0.5;\"/>\n   </g>\n   <g id=\"patch_6\">\n    <path d=\"M 180.303382 54.358596 \nC 177.416614 55.034489 174.545079 55.773871 171.690868 56.576204 \nC 168.836656 57.378537 166.000458 58.243626 163.184338 59.170843 \nL 226.34223 250.992463 \nL 180.303382 54.358596 \nz\n\" style=\"fill:#4b3a1c;opacity:0.5;stroke:#4b3a1c;stroke-linejoin:miter;stroke-width:0.5;\"/>\n   </g>\n   <g id=\"patch_7\">\n    <path d=\"M 163.184338 59.170843 \nC 161.306967 59.788974 159.438771 60.434632 157.580355 61.107609 \nC 155.721939 61.780586 153.873503 62.48081 152.035644 63.208053 \nL 226.34223 250.992463 \nL 163.184338 59.170843 \nz\n\" style=\"fill:#2b3814;opacity:0.5;stroke:#2b3814;stroke-linejoin:miter;stroke-width:0.5;\"/>\n   </g>\n   <g id=\"patch_8\">\n    <path d=\"M 152.035644 63.208053 \nC 151.116727 63.57167 150.200491 63.942027 149.287011 64.319095 \nC 148.373531 64.696162 147.462831 65.079929 146.554984 65.470366 \nL 226.34223 250.992463 \nL 152.035644 63.208053 \nz\n\" style=\"fill:#4c3637;opacity:0.5;stroke:#4c3637;stroke-linejoin:miter;stroke-width:0.5;\"/>\n   </g>\n   <g id=\"patch_9\">\n    <path d=\"M 146.554984 65.470366 \nC 145.647138 65.860802 144.742169 66.257897 143.840152 66.661618 \nC 142.938135 67.065339 142.039093 67.475676 141.1431 67.892595 \nL 226.34223 250.992463 \nL 146.554984 65.470366 \nz\n\" style=\"fill:#44160f;opacity:0.5;stroke:#44160f;stroke-linejoin:miter;stroke-width:0.5;\"/>\n   </g>\n   <g id=\"patch_10\">\n    <path d=\"M 141.1431 67.892595 \nC 140.247106 68.309515 139.354185 68.733005 138.464409 69.163032 \nC 137.574632 69.59306 136.688024 70.029612 135.804656 70.472655 \nL 226.34223 250.992463 \nL 141.1431 67.892595 \nz\n\" style=\"fill:#102939;opacity:0.5;stroke:#102939;stroke-linejoin:miter;stroke-width:0.5;\"/>\n   </g>\n   <g id=\"patch_11\">\n    <path d=\"M 135.804656 70.472655 \nC 134.921288 70.915698 134.041184 71.365219 133.164415 71.821181 \nC 132.287646 72.277144 131.414236 72.739536 130.544255 73.208321 \nL 226.34223 250.992463 \nL 135.804656 70.472655 \nz\n\" style=\"fill:#2e2b40;opacity:0.5;stroke:#2e2b40;stroke-linejoin:miter;stroke-width:0.5;\"/>\n   </g>\n   <g id=\"patch_12\">\n    <path d=\"M 130.544255 73.208321 \nC 129.674274 73.677105 128.807745 74.152269 127.94474 74.633774 \nC 127.081734 75.115279 126.222274 75.603112 125.36643 76.097234 \nL 226.34223 250.992463 \nL 130.544255 73.208321 \nz\n\" style=\"fill:#242424;opacity:0.5;stroke:#242424;stroke-linejoin:miter;stroke-width:0.5;\"/>\n   </g>\n   <g id=\"patch_13\">\n    <path d=\"M 129.405456 72.058205 \nC 111.612508 82.330969 95.490946 95.259084 81.59824 110.39551 \nC 67.705533 125.531937 56.203681 142.700171 47.490404 161.306555 \nC 38.777128 179.912938 32.954031 199.740506 30.22247 220.103641 \nC 27.490909 240.466776 27.882737 261.128029 31.384404 281.372955 \nC 34.88607 301.617881 41.456745 321.210408 50.869219 339.473048 \nC 60.281693 357.735689 72.426211 374.455485 86.882827 389.054284 \nC 101.339444 403.653083 117.939584 415.960652 136.109231 425.551408 \nC 154.278879 435.142164 173.806163 441.904271 194.015849 445.603903 \nC 214.225535 449.303534 234.881964 449.89755 255.270857 447.36541 \nC 275.65975 444.833269 295.543357 439.204499 314.234124 430.673736 \nC 332.924892 422.142973 350.20487 410.809693 365.476536 397.065789 \nC 380.748202 383.321884 393.833477 367.32762 404.279884 349.63606 \nC 414.726291 331.944501 422.412018 312.761944 427.071301 292.751702 \nC 431.730584 272.74146 433.309091 252.136868 431.75224 231.650412 \nC 430.195389 211.163955 425.521333 191.034521 417.891697 171.958165 \nC 410.262061 152.88181 399.765812 135.080976 386.765899 119.171201 \nL 230.381262 246.953431 \nL 129.405456 72.058205 \nz\n\" style=\"fill:#e24a33;\"/>\n   </g>\n   <g id=\"patch_14\">\n    <path d=\"M 386.765899 119.171201 \nC 377.377001 107.680719 366.750229 97.259942 355.078184 88.097739 \nC 343.406139 78.935537 330.759767 71.087597 317.368273 64.696159 \nL 230.381262 246.953431 \nL 386.765899 119.171201 \nz\n\" style=\"fill:#348abd;\"/>\n   </g>\n   <g id=\"patch_15\">\n    <path d=\"M 317.368273 64.696159 \nC 304.871169 58.731592 291.793665 54.068171 278.34232 50.779554 \nC 264.890975 47.490937 251.136984 45.59453 237.297592 45.120288 \nL 230.381262 246.953431 \nL 317.368273 64.696159 \nz\n\" style=\"fill:#988ed5;\"/>\n   </g>\n   <g id=\"patch_16\">\n    <path d=\"M 237.297592 45.120288 \nC 228.405423 44.815575 219.502828 45.098839 210.648017 45.968227 \nC 201.793206 46.837615 193.005519 48.291229 184.342415 50.319564 \nL 230.381262 246.953431 \nL 237.297592 45.120288 \nz\n\" style=\"fill:#777777;\"/>\n   </g>\n   <g id=\"patch_17\">\n    <path d=\"M 184.342415 50.319564 \nC 181.455646 50.995457 178.584112 51.734839 175.7299 52.537172 \nC 172.875688 53.339505 170.03949 54.204594 167.22337 55.131811 \nL 230.381262 246.953431 \nL 184.342415 50.319564 \nz\n\" style=\"fill:#fbc15e;\"/>\n   </g>\n   <g id=\"patch_18\">\n    <path d=\"M 167.22337 55.131811 \nC 165.345999 55.749941 163.477803 56.3956 161.619387 57.068577 \nC 159.760971 57.741554 157.912535 58.441777 156.074676 59.169021 \nL 230.381262 246.953431 \nL 167.22337 55.131811 \nz\n\" style=\"fill:#8eba42;\"/>\n   </g>\n   <g id=\"patch_19\">\n    <path d=\"M 156.074676 59.169021 \nC 155.155759 59.532638 154.239523 59.902995 153.326043 60.280062 \nC 152.412563 60.65713 151.501863 61.040897 150.594016 61.431333 \nL 230.381262 246.953431 \nL 156.074676 59.169021 \nz\n\" style=\"fill:#ffb5b8;\"/>\n   </g>\n   <g id=\"patch_20\">\n    <path d=\"M 150.594016 61.431333 \nC 149.68617 61.82177 148.781201 62.218865 147.879184 62.622586 \nC 146.977167 63.026307 146.078125 63.436644 145.182132 63.853563 \nL 230.381262 246.953431 \nL 150.594016 61.431333 \nz\n\" style=\"fill:#e24a33;\"/>\n   </g>\n   <g id=\"patch_21\">\n    <path d=\"M 145.182132 63.853563 \nC 144.286139 64.270482 143.393218 64.693973 142.503441 65.124 \nC 141.613664 65.554028 140.727056 65.99058 139.843688 66.433623 \nL 230.381262 246.953431 \nL 145.182132 63.853563 \nz\n\" style=\"fill:#348abd;\"/>\n   </g>\n   <g id=\"patch_22\">\n    <path d=\"M 139.843688 66.433623 \nC 138.96032 66.876666 138.080216 67.326187 137.203447 67.782149 \nC 136.326678 68.238112 135.453268 68.700504 134.583287 69.169289 \nL 230.381262 246.953431 \nL 139.843688 66.433623 \nz\n\" style=\"fill:#988ed5;\"/>\n   </g>\n   <g id=\"patch_23\">\n    <path d=\"M 134.583287 69.169289 \nC 133.713306 69.638073 132.846778 70.113237 131.983772 70.594742 \nC 131.120766 71.076247 130.261307 71.56408 129.405462 72.058202 \nL 230.381262 246.953431 \nL 134.583287 69.169289 \nz\n\" style=\"fill:#777777;\"/>\n   </g>\n   <g id=\"patch_24\">\n    <path clip-path=\"url(#p3fe5d5a8c4)\" d=\"M 230.381262 337.831656 \nC 254.482449 337.831656 277.599758 328.256153 294.641871 311.21404 \nC 311.683984 294.171927 321.259487 271.054618 321.259487 246.953431 \nC 321.259487 222.852244 311.683984 199.734934 294.641871 182.692822 \nC 277.599758 165.650709 254.482449 156.075206 230.381262 156.075206 \nC 206.280075 156.075206 183.162765 165.650709 166.120653 182.692822 \nC 149.07854 199.734934 139.503037 222.852244 139.503037 246.953431 \nC 139.503037 271.054618 149.07854 294.171927 166.120653 311.21404 \nC 183.162765 328.256153 206.280075 337.831656 230.381262 337.831656 \nz\n\" style=\"fill:#ffffff;\"/>\n   </g>\n   <g id=\"text_1\">\n    <!-- Request Pie chart (city-level) -->\n    <g transform=\"translate(71.979375 23.916562)scale(0.22 -0.22)\">\n     <defs>\n      <path d=\"M 44.390625 34.1875 \nQ 47.5625 33.109375 50.5625 29.59375 \nQ 53.5625 26.078125 56.59375 19.921875 \nL 66.609375 0 \nL 56 0 \nL 46.6875 18.703125 \nQ 43.0625 26.03125 39.671875 28.421875 \nQ 36.28125 30.8125 30.421875 30.8125 \nL 19.671875 30.8125 \nL 19.671875 0 \nL 9.8125 0 \nL 9.8125 72.90625 \nL 32.078125 72.90625 \nQ 44.578125 72.90625 50.734375 67.671875 \nQ 56.890625 62.453125 56.890625 51.90625 \nQ 56.890625 45.015625 53.6875 40.46875 \nQ 50.484375 35.9375 44.390625 34.1875 \nz\nM 19.671875 64.796875 \nL 19.671875 38.921875 \nL 32.078125 38.921875 \nQ 39.203125 38.921875 42.84375 42.21875 \nQ 46.484375 45.515625 46.484375 51.90625 \nQ 46.484375 58.296875 42.84375 61.546875 \nQ 39.203125 64.796875 32.078125 64.796875 \nz\n\" id=\"DejaVuSans-82\"/>\n      <path d=\"M 56.203125 29.59375 \nL 56.203125 25.203125 \nL 14.890625 25.203125 \nQ 15.484375 15.921875 20.484375 11.0625 \nQ 25.484375 6.203125 34.421875 6.203125 \nQ 39.59375 6.203125 44.453125 7.46875 \nQ 49.3125 8.734375 54.109375 11.28125 \nL 54.109375 2.78125 \nQ 49.265625 0.734375 44.1875 -0.34375 \nQ 39.109375 -1.421875 33.890625 -1.421875 \nQ 20.796875 -1.421875 13.15625 6.1875 \nQ 5.515625 13.8125 5.515625 26.8125 \nQ 5.515625 40.234375 12.765625 48.109375 \nQ 20.015625 56 32.328125 56 \nQ 43.359375 56 49.78125 48.890625 \nQ 56.203125 41.796875 56.203125 29.59375 \nz\nM 47.21875 32.234375 \nQ 47.125 39.59375 43.09375 43.984375 \nQ 39.0625 48.390625 32.421875 48.390625 \nQ 24.90625 48.390625 20.390625 44.140625 \nQ 15.875 39.890625 15.1875 32.171875 \nz\n\" id=\"DejaVuSans-101\"/>\n      <path d=\"M 14.796875 27.296875 \nQ 14.796875 17.390625 18.875 11.75 \nQ 22.953125 6.109375 30.078125 6.109375 \nQ 37.203125 6.109375 41.296875 11.75 \nQ 45.40625 17.390625 45.40625 27.296875 \nQ 45.40625 37.203125 41.296875 42.84375 \nQ 37.203125 48.484375 30.078125 48.484375 \nQ 22.953125 48.484375 18.875 42.84375 \nQ 14.796875 37.203125 14.796875 27.296875 \nz\nM 45.40625 8.203125 \nQ 42.578125 3.328125 38.25 0.953125 \nQ 33.9375 -1.421875 27.875 -1.421875 \nQ 17.96875 -1.421875 11.734375 6.484375 \nQ 5.515625 14.40625 5.515625 27.296875 \nQ 5.515625 40.1875 11.734375 48.09375 \nQ 17.96875 56 27.875 56 \nQ 33.9375 56 38.25 53.625 \nQ 42.578125 51.265625 45.40625 46.390625 \nL 45.40625 54.6875 \nL 54.390625 54.6875 \nL 54.390625 -20.796875 \nL 45.40625 -20.796875 \nz\n\" id=\"DejaVuSans-113\"/>\n      <path d=\"M 8.5 21.578125 \nL 8.5 54.6875 \nL 17.484375 54.6875 \nL 17.484375 21.921875 \nQ 17.484375 14.15625 20.5 10.265625 \nQ 23.53125 6.390625 29.59375 6.390625 \nQ 36.859375 6.390625 41.078125 11.03125 \nQ 45.3125 15.671875 45.3125 23.6875 \nL 45.3125 54.6875 \nL 54.296875 54.6875 \nL 54.296875 0 \nL 45.3125 0 \nL 45.3125 8.40625 \nQ 42.046875 3.421875 37.71875 1 \nQ 33.40625 -1.421875 27.6875 -1.421875 \nQ 18.265625 -1.421875 13.375 4.4375 \nQ 8.5 10.296875 8.5 21.578125 \nz\nM 31.109375 56 \nz\n\" id=\"DejaVuSans-117\"/>\n      <path d=\"M 44.28125 53.078125 \nL 44.28125 44.578125 \nQ 40.484375 46.53125 36.375 47.5 \nQ 32.28125 48.484375 27.875 48.484375 \nQ 21.1875 48.484375 17.84375 46.4375 \nQ 14.5 44.390625 14.5 40.28125 \nQ 14.5 37.15625 16.890625 35.375 \nQ 19.28125 33.59375 26.515625 31.984375 \nL 29.59375 31.296875 \nQ 39.15625 29.25 43.1875 25.515625 \nQ 47.21875 21.78125 47.21875 15.09375 \nQ 47.21875 7.46875 41.1875 3.015625 \nQ 35.15625 -1.421875 24.609375 -1.421875 \nQ 20.21875 -1.421875 15.453125 -0.5625 \nQ 10.6875 0.296875 5.421875 2 \nL 5.421875 11.28125 \nQ 10.40625 8.6875 15.234375 7.390625 \nQ 20.0625 6.109375 24.8125 6.109375 \nQ 31.15625 6.109375 34.5625 8.28125 \nQ 37.984375 10.453125 37.984375 14.40625 \nQ 37.984375 18.0625 35.515625 20.015625 \nQ 33.0625 21.96875 24.703125 23.78125 \nL 21.578125 24.515625 \nQ 13.234375 26.265625 9.515625 29.90625 \nQ 5.8125 33.546875 5.8125 39.890625 \nQ 5.8125 47.609375 11.28125 51.796875 \nQ 16.75 56 26.8125 56 \nQ 31.78125 56 36.171875 55.265625 \nQ 40.578125 54.546875 44.28125 53.078125 \nz\n\" id=\"DejaVuSans-115\"/>\n      <path d=\"M 18.3125 70.21875 \nL 18.3125 54.6875 \nL 36.8125 54.6875 \nL 36.8125 47.703125 \nL 18.3125 47.703125 \nL 18.3125 18.015625 \nQ 18.3125 11.328125 20.140625 9.421875 \nQ 21.96875 7.515625 27.59375 7.515625 \nL 36.8125 7.515625 \nL 36.8125 0 \nL 27.59375 0 \nQ 17.1875 0 13.234375 3.875 \nQ 9.28125 7.765625 9.28125 18.015625 \nL 9.28125 47.703125 \nL 2.6875 47.703125 \nL 2.6875 54.6875 \nL 9.28125 54.6875 \nL 9.28125 70.21875 \nz\n\" id=\"DejaVuSans-116\"/>\n      <path id=\"DejaVuSans-32\"/>\n      <path d=\"M 19.671875 64.796875 \nL 19.671875 37.40625 \nL 32.078125 37.40625 \nQ 38.96875 37.40625 42.71875 40.96875 \nQ 46.484375 44.53125 46.484375 51.125 \nQ 46.484375 57.671875 42.71875 61.234375 \nQ 38.96875 64.796875 32.078125 64.796875 \nz\nM 9.8125 72.90625 \nL 32.078125 72.90625 \nQ 44.34375 72.90625 50.609375 67.359375 \nQ 56.890625 61.8125 56.890625 51.125 \nQ 56.890625 40.328125 50.609375 34.8125 \nQ 44.34375 29.296875 32.078125 29.296875 \nL 19.671875 29.296875 \nL 19.671875 0 \nL 9.8125 0 \nz\n\" id=\"DejaVuSans-80\"/>\n      <path d=\"M 9.421875 54.6875 \nL 18.40625 54.6875 \nL 18.40625 0 \nL 9.421875 0 \nz\nM 9.421875 75.984375 \nL 18.40625 75.984375 \nL 18.40625 64.59375 \nL 9.421875 64.59375 \nz\n\" id=\"DejaVuSans-105\"/>\n      <path d=\"M 48.78125 52.59375 \nL 48.78125 44.1875 \nQ 44.96875 46.296875 41.140625 47.34375 \nQ 37.3125 48.390625 33.40625 48.390625 \nQ 24.65625 48.390625 19.8125 42.84375 \nQ 14.984375 37.3125 14.984375 27.296875 \nQ 14.984375 17.28125 19.8125 11.734375 \nQ 24.65625 6.203125 33.40625 6.203125 \nQ 37.3125 6.203125 41.140625 7.25 \nQ 44.96875 8.296875 48.78125 10.40625 \nL 48.78125 2.09375 \nQ 45.015625 0.34375 40.984375 -0.53125 \nQ 36.96875 -1.421875 32.421875 -1.421875 \nQ 20.0625 -1.421875 12.78125 6.34375 \nQ 5.515625 14.109375 5.515625 27.296875 \nQ 5.515625 40.671875 12.859375 48.328125 \nQ 20.21875 56 33.015625 56 \nQ 37.15625 56 41.109375 55.140625 \nQ 45.0625 54.296875 48.78125 52.59375 \nz\n\" id=\"DejaVuSans-99\"/>\n      <path d=\"M 54.890625 33.015625 \nL 54.890625 0 \nL 45.90625 0 \nL 45.90625 32.71875 \nQ 45.90625 40.484375 42.875 44.328125 \nQ 39.84375 48.1875 33.796875 48.1875 \nQ 26.515625 48.1875 22.3125 43.546875 \nQ 18.109375 38.921875 18.109375 30.90625 \nL 18.109375 0 \nL 9.078125 0 \nL 9.078125 75.984375 \nL 18.109375 75.984375 \nL 18.109375 46.1875 \nQ 21.34375 51.125 25.703125 53.5625 \nQ 30.078125 56 35.796875 56 \nQ 45.21875 56 50.046875 50.171875 \nQ 54.890625 44.34375 54.890625 33.015625 \nz\n\" id=\"DejaVuSans-104\"/>\n      <path d=\"M 34.28125 27.484375 \nQ 23.390625 27.484375 19.1875 25 \nQ 14.984375 22.515625 14.984375 16.5 \nQ 14.984375 11.71875 18.140625 8.90625 \nQ 21.296875 6.109375 26.703125 6.109375 \nQ 34.1875 6.109375 38.703125 11.40625 \nQ 43.21875 16.703125 43.21875 25.484375 \nL 43.21875 27.484375 \nz\nM 52.203125 31.203125 \nL 52.203125 0 \nL 43.21875 0 \nL 43.21875 8.296875 \nQ 40.140625 3.328125 35.546875 0.953125 \nQ 30.953125 -1.421875 24.3125 -1.421875 \nQ 15.921875 -1.421875 10.953125 3.296875 \nQ 6 8.015625 6 15.921875 \nQ 6 25.140625 12.171875 29.828125 \nQ 18.359375 34.515625 30.609375 34.515625 \nL 43.21875 34.515625 \nL 43.21875 35.40625 \nQ 43.21875 41.609375 39.140625 45 \nQ 35.0625 48.390625 27.6875 48.390625 \nQ 23 48.390625 18.546875 47.265625 \nQ 14.109375 46.140625 10.015625 43.890625 \nL 10.015625 52.203125 \nQ 14.9375 54.109375 19.578125 55.046875 \nQ 24.21875 56 28.609375 56 \nQ 40.484375 56 46.34375 49.84375 \nQ 52.203125 43.703125 52.203125 31.203125 \nz\n\" id=\"DejaVuSans-97\"/>\n      <path d=\"M 41.109375 46.296875 \nQ 39.59375 47.171875 37.8125 47.578125 \nQ 36.03125 48 33.890625 48 \nQ 26.265625 48 22.1875 43.046875 \nQ 18.109375 38.09375 18.109375 28.8125 \nL 18.109375 0 \nL 9.078125 0 \nL 9.078125 54.6875 \nL 18.109375 54.6875 \nL 18.109375 46.1875 \nQ 20.953125 51.171875 25.484375 53.578125 \nQ 30.03125 56 36.53125 56 \nQ 37.453125 56 38.578125 55.875 \nQ 39.703125 55.765625 41.0625 55.515625 \nz\n\" id=\"DejaVuSans-114\"/>\n      <path d=\"M 31 75.875 \nQ 24.46875 64.65625 21.28125 53.65625 \nQ 18.109375 42.671875 18.109375 31.390625 \nQ 18.109375 20.125 21.3125 9.0625 \nQ 24.515625 -2 31 -13.1875 \nL 23.1875 -13.1875 \nQ 15.875 -1.703125 12.234375 9.375 \nQ 8.59375 20.453125 8.59375 31.390625 \nQ 8.59375 42.28125 12.203125 53.3125 \nQ 15.828125 64.359375 23.1875 75.875 \nz\n\" id=\"DejaVuSans-40\"/>\n      <path d=\"M 32.171875 -5.078125 \nQ 28.375 -14.84375 24.75 -17.8125 \nQ 21.140625 -20.796875 15.09375 -20.796875 \nL 7.90625 -20.796875 \nL 7.90625 -13.28125 \nL 13.1875 -13.28125 \nQ 16.890625 -13.28125 18.9375 -11.515625 \nQ 21 -9.765625 23.484375 -3.21875 \nL 25.09375 0.875 \nL 2.984375 54.6875 \nL 12.5 54.6875 \nL 29.59375 11.921875 \nL 46.6875 54.6875 \nL 56.203125 54.6875 \nz\n\" id=\"DejaVuSans-121\"/>\n      <path d=\"M 4.890625 31.390625 \nL 31.203125 31.390625 \nL 31.203125 23.390625 \nL 4.890625 23.390625 \nz\n\" id=\"DejaVuSans-45\"/>\n      <path d=\"M 9.421875 75.984375 \nL 18.40625 75.984375 \nL 18.40625 0 \nL 9.421875 0 \nz\n\" id=\"DejaVuSans-108\"/>\n      <path d=\"M 2.984375 54.6875 \nL 12.5 54.6875 \nL 29.59375 8.796875 \nL 46.6875 54.6875 \nL 56.203125 54.6875 \nL 35.6875 0 \nL 23.484375 0 \nz\n\" id=\"DejaVuSans-118\"/>\n      <path d=\"M 8.015625 75.875 \nL 15.828125 75.875 \nQ 23.140625 64.359375 26.78125 53.3125 \nQ 30.421875 42.28125 30.421875 31.390625 \nQ 30.421875 20.453125 26.78125 9.375 \nQ 23.140625 -1.703125 15.828125 -13.1875 \nL 8.015625 -13.1875 \nQ 14.5 -2 17.703125 9.0625 \nQ 20.90625 20.125 20.90625 31.390625 \nQ 20.90625 42.671875 17.703125 53.65625 \nQ 14.5 64.65625 8.015625 75.875 \nz\n\" id=\"DejaVuSans-41\"/>\n     </defs>\n     <use xlink:href=\"#DejaVuSans-82\"/>\n     <use x=\"64.982422\" xlink:href=\"#DejaVuSans-101\"/>\n     <use x=\"126.505859\" xlink:href=\"#DejaVuSans-113\"/>\n     <use x=\"189.982422\" xlink:href=\"#DejaVuSans-117\"/>\n     <use x=\"253.361328\" xlink:href=\"#DejaVuSans-101\"/>\n     <use x=\"314.884766\" xlink:href=\"#DejaVuSans-115\"/>\n     <use x=\"366.984375\" xlink:href=\"#DejaVuSans-116\"/>\n     <use x=\"406.193359\" xlink:href=\"#DejaVuSans-32\"/>\n     <use x=\"437.980469\" xlink:href=\"#DejaVuSans-80\"/>\n     <use x=\"496.033203\" xlink:href=\"#DejaVuSans-105\"/>\n     <use x=\"523.816406\" xlink:href=\"#DejaVuSans-101\"/>\n     <use x=\"585.339844\" xlink:href=\"#DejaVuSans-32\"/>\n     <use x=\"617.126953\" xlink:href=\"#DejaVuSans-99\"/>\n     <use x=\"672.107422\" xlink:href=\"#DejaVuSans-104\"/>\n     <use x=\"735.486328\" xlink:href=\"#DejaVuSans-97\"/>\n     <use x=\"796.765625\" xlink:href=\"#DejaVuSans-114\"/>\n     <use x=\"837.878906\" xlink:href=\"#DejaVuSans-116\"/>\n     <use x=\"877.087891\" xlink:href=\"#DejaVuSans-32\"/>\n     <use x=\"908.875\" xlink:href=\"#DejaVuSans-40\"/>\n     <use x=\"947.888672\" xlink:href=\"#DejaVuSans-99\"/>\n     <use x=\"1002.869141\" xlink:href=\"#DejaVuSans-105\"/>\n     <use x=\"1030.652344\" xlink:href=\"#DejaVuSans-116\"/>\n     <use x=\"1069.861328\" xlink:href=\"#DejaVuSans-121\"/>\n     <use x=\"1127.291016\" xlink:href=\"#DejaVuSans-45\"/>\n     <use x=\"1163.375\" xlink:href=\"#DejaVuSans-108\"/>\n     <use x=\"1191.158203\" xlink:href=\"#DejaVuSans-101\"/>\n     <use x=\"1252.681641\" xlink:href=\"#DejaVuSans-118\"/>\n     <use x=\"1311.861328\" xlink:href=\"#DejaVuSans-101\"/>\n     <use x=\"1373.384766\" xlink:href=\"#DejaVuSans-108\"/>\n     <use x=\"1401.167969\" xlink:href=\"#DejaVuSans-41\"/>\n    </g>\n   </g>\n   <g id=\"legend_1\">\n    <g id=\"patch_25\">\n     <path d=\"M 14.2 459.796562 \nL 208.764063 459.796562 \nQ 210.764063 459.796562 210.764063 457.796562 \nL 210.764063 297.337187 \nQ 210.764063 295.337187 208.764063 295.337187 \nL 14.2 295.337187 \nQ 12.2 295.337187 12.2 297.337187 \nL 12.2 457.796562 \nQ 12.2 459.796562 14.2 459.796562 \nz\n\" style=\"fill:#e5e5e5;opacity:0.8;stroke:#cccccc;stroke-linejoin:miter;stroke-width:0.5;\"/>\n    </g>\n    <g id=\"patch_26\">\n     <path d=\"M 16.2 306.935625 \nL 36.2 306.935625 \nL 36.2 299.935625 \nL 16.2 299.935625 \nz\n\" style=\"fill:#e24a33;\"/>\n    </g>\n    <g id=\"text_2\">\n     <!-- Ha Kwai Chung -->\n     <g transform=\"translate(44.2 306.935625)scale(0.1 -0.1)\">\n      <defs>\n       <path d=\"M 9.8125 72.90625 \nL 19.671875 72.90625 \nL 19.671875 43.015625 \nL 55.515625 43.015625 \nL 55.515625 72.90625 \nL 65.375 72.90625 \nL 65.375 0 \nL 55.515625 0 \nL 55.515625 34.71875 \nL 19.671875 34.71875 \nL 19.671875 0 \nL 9.8125 0 \nz\n\" id=\"DejaVuSans-72\"/>\n       <path d=\"M 9.8125 72.90625 \nL 19.671875 72.90625 \nL 19.671875 42.09375 \nL 52.390625 72.90625 \nL 65.09375 72.90625 \nL 28.90625 38.921875 \nL 67.671875 0 \nL 54.6875 0 \nL 19.671875 35.109375 \nL 19.671875 0 \nL 9.8125 0 \nz\n\" id=\"DejaVuSans-75\"/>\n       <path d=\"M 4.203125 54.6875 \nL 13.1875 54.6875 \nL 24.421875 12.015625 \nL 35.59375 54.6875 \nL 46.1875 54.6875 \nL 57.421875 12.015625 \nL 68.609375 54.6875 \nL 77.59375 54.6875 \nL 63.28125 0 \nL 52.6875 0 \nL 40.921875 44.828125 \nL 29.109375 0 \nL 18.5 0 \nz\n\" id=\"DejaVuSans-119\"/>\n       <path d=\"M 64.40625 67.28125 \nL 64.40625 56.890625 \nQ 59.421875 61.53125 53.78125 63.8125 \nQ 48.140625 66.109375 41.796875 66.109375 \nQ 29.296875 66.109375 22.65625 58.46875 \nQ 16.015625 50.828125 16.015625 36.375 \nQ 16.015625 21.96875 22.65625 14.328125 \nQ 29.296875 6.6875 41.796875 6.6875 \nQ 48.140625 6.6875 53.78125 8.984375 \nQ 59.421875 11.28125 64.40625 15.921875 \nL 64.40625 5.609375 \nQ 59.234375 2.09375 53.4375 0.328125 \nQ 47.65625 -1.421875 41.21875 -1.421875 \nQ 24.65625 -1.421875 15.125 8.703125 \nQ 5.609375 18.84375 5.609375 36.375 \nQ 5.609375 53.953125 15.125 64.078125 \nQ 24.65625 74.21875 41.21875 74.21875 \nQ 47.75 74.21875 53.53125 72.484375 \nQ 59.328125 70.75 64.40625 67.28125 \nz\n\" id=\"DejaVuSans-67\"/>\n       <path d=\"M 54.890625 33.015625 \nL 54.890625 0 \nL 45.90625 0 \nL 45.90625 32.71875 \nQ 45.90625 40.484375 42.875 44.328125 \nQ 39.84375 48.1875 33.796875 48.1875 \nQ 26.515625 48.1875 22.3125 43.546875 \nQ 18.109375 38.921875 18.109375 30.90625 \nL 18.109375 0 \nL 9.078125 0 \nL 9.078125 54.6875 \nL 18.109375 54.6875 \nL 18.109375 46.1875 \nQ 21.34375 51.125 25.703125 53.5625 \nQ 30.078125 56 35.796875 56 \nQ 45.21875 56 50.046875 50.171875 \nQ 54.890625 44.34375 54.890625 33.015625 \nz\n\" id=\"DejaVuSans-110\"/>\n       <path d=\"M 45.40625 27.984375 \nQ 45.40625 37.75 41.375 43.109375 \nQ 37.359375 48.484375 30.078125 48.484375 \nQ 22.859375 48.484375 18.828125 43.109375 \nQ 14.796875 37.75 14.796875 27.984375 \nQ 14.796875 18.265625 18.828125 12.890625 \nQ 22.859375 7.515625 30.078125 7.515625 \nQ 37.359375 7.515625 41.375 12.890625 \nQ 45.40625 18.265625 45.40625 27.984375 \nz\nM 54.390625 6.78125 \nQ 54.390625 -7.171875 48.1875 -13.984375 \nQ 42 -20.796875 29.203125 -20.796875 \nQ 24.46875 -20.796875 20.265625 -20.09375 \nQ 16.0625 -19.390625 12.109375 -17.921875 \nL 12.109375 -9.1875 \nQ 16.0625 -11.328125 19.921875 -12.34375 \nQ 23.78125 -13.375 27.78125 -13.375 \nQ 36.625 -13.375 41.015625 -8.765625 \nQ 45.40625 -4.15625 45.40625 5.171875 \nL 45.40625 9.625 \nQ 42.625 4.78125 38.28125 2.390625 \nQ 33.9375 0 27.875 0 \nQ 17.828125 0 11.671875 7.65625 \nQ 5.515625 15.328125 5.515625 27.984375 \nQ 5.515625 40.671875 11.671875 48.328125 \nQ 17.828125 56 27.875 56 \nQ 33.9375 56 38.28125 53.609375 \nQ 42.625 51.21875 45.40625 46.390625 \nL 45.40625 54.6875 \nL 54.390625 54.6875 \nz\n\" id=\"DejaVuSans-103\"/>\n      </defs>\n      <use xlink:href=\"#DejaVuSans-72\"/>\n      <use x=\"75.195312\" xlink:href=\"#DejaVuSans-97\"/>\n      <use x=\"136.474609\" xlink:href=\"#DejaVuSans-32\"/>\n      <use x=\"168.261719\" xlink:href=\"#DejaVuSans-75\"/>\n      <use x=\"233.837891\" xlink:href=\"#DejaVuSans-119\"/>\n      <use x=\"315.625\" xlink:href=\"#DejaVuSans-97\"/>\n      <use x=\"376.904297\" xlink:href=\"#DejaVuSans-105\"/>\n      <use x=\"404.6875\" xlink:href=\"#DejaVuSans-32\"/>\n      <use x=\"436.474609\" xlink:href=\"#DejaVuSans-67\"/>\n      <use x=\"506.298828\" xlink:href=\"#DejaVuSans-104\"/>\n      <use x=\"569.677734\" xlink:href=\"#DejaVuSans-117\"/>\n      <use x=\"633.056641\" xlink:href=\"#DejaVuSans-110\"/>\n      <use x=\"696.435547\" xlink:href=\"#DejaVuSans-103\"/>\n     </g>\n    </g>\n    <g id=\"patch_27\">\n     <path d=\"M 16.2 321.61375 \nL 36.2 321.61375 \nL 36.2 314.61375 \nL 16.2 314.61375 \nz\n\" style=\"fill:#348abd;\"/>\n    </g>\n    <g id=\"text_3\">\n     <!-- Beijing -->\n     <g transform=\"translate(44.2 321.61375)scale(0.1 -0.1)\">\n      <defs>\n       <path d=\"M 19.671875 34.8125 \nL 19.671875 8.109375 \nL 35.5 8.109375 \nQ 43.453125 8.109375 47.28125 11.40625 \nQ 51.125 14.703125 51.125 21.484375 \nQ 51.125 28.328125 47.28125 31.5625 \nQ 43.453125 34.8125 35.5 34.8125 \nz\nM 19.671875 64.796875 \nL 19.671875 42.828125 \nL 34.28125 42.828125 \nQ 41.5 42.828125 45.03125 45.53125 \nQ 48.578125 48.25 48.578125 53.8125 \nQ 48.578125 59.328125 45.03125 62.0625 \nQ 41.5 64.796875 34.28125 64.796875 \nz\nM 9.8125 72.90625 \nL 35.015625 72.90625 \nQ 46.296875 72.90625 52.390625 68.21875 \nQ 58.5 63.53125 58.5 54.890625 \nQ 58.5 48.1875 55.375 44.234375 \nQ 52.25 40.28125 46.1875 39.3125 \nQ 53.46875 37.75 57.5 32.78125 \nQ 61.53125 27.828125 61.53125 20.40625 \nQ 61.53125 10.640625 54.890625 5.3125 \nQ 48.25 0 35.984375 0 \nL 9.8125 0 \nz\n\" id=\"DejaVuSans-66\"/>\n       <path d=\"M 9.421875 54.6875 \nL 18.40625 54.6875 \nL 18.40625 -0.984375 \nQ 18.40625 -11.421875 14.421875 -16.109375 \nQ 10.453125 -20.796875 1.609375 -20.796875 \nL -1.8125 -20.796875 \nL -1.8125 -13.1875 \nL 0.59375 -13.1875 \nQ 5.71875 -13.1875 7.5625 -10.8125 \nQ 9.421875 -8.453125 9.421875 -0.984375 \nz\nM 9.421875 75.984375 \nL 18.40625 75.984375 \nL 18.40625 64.59375 \nL 9.421875 64.59375 \nz\n\" id=\"DejaVuSans-106\"/>\n      </defs>\n      <use xlink:href=\"#DejaVuSans-66\"/>\n      <use x=\"68.603516\" xlink:href=\"#DejaVuSans-101\"/>\n      <use x=\"130.126953\" xlink:href=\"#DejaVuSans-105\"/>\n      <use x=\"157.910156\" xlink:href=\"#DejaVuSans-106\"/>\n      <use x=\"185.693359\" xlink:href=\"#DejaVuSans-105\"/>\n      <use x=\"213.476562\" xlink:href=\"#DejaVuSans-110\"/>\n      <use x=\"276.855469\" xlink:href=\"#DejaVuSans-103\"/>\n     </g>\n    </g>\n    <g id=\"patch_28\">\n     <path d=\"M 16.2 336.291875 \nL 36.2 336.291875 \nL 36.2 329.291875 \nL 16.2 329.291875 \nz\n\" style=\"fill:#988ed5;\"/>\n    </g>\n    <g id=\"text_4\">\n     <!-- New York -->\n     <g transform=\"translate(44.2 336.291875)scale(0.1 -0.1)\">\n      <defs>\n       <path d=\"M 9.8125 72.90625 \nL 23.09375 72.90625 \nL 55.421875 11.921875 \nL 55.421875 72.90625 \nL 64.984375 72.90625 \nL 64.984375 0 \nL 51.703125 0 \nL 19.390625 60.984375 \nL 19.390625 0 \nL 9.8125 0 \nz\n\" id=\"DejaVuSans-78\"/>\n       <path d=\"M -0.203125 72.90625 \nL 10.40625 72.90625 \nL 30.609375 42.921875 \nL 50.6875 72.90625 \nL 61.28125 72.90625 \nL 35.5 34.71875 \nL 35.5 0 \nL 25.59375 0 \nL 25.59375 34.71875 \nz\n\" id=\"DejaVuSans-89\"/>\n       <path d=\"M 30.609375 48.390625 \nQ 23.390625 48.390625 19.1875 42.75 \nQ 14.984375 37.109375 14.984375 27.296875 \nQ 14.984375 17.484375 19.15625 11.84375 \nQ 23.34375 6.203125 30.609375 6.203125 \nQ 37.796875 6.203125 41.984375 11.859375 \nQ 46.1875 17.53125 46.1875 27.296875 \nQ 46.1875 37.015625 41.984375 42.703125 \nQ 37.796875 48.390625 30.609375 48.390625 \nz\nM 30.609375 56 \nQ 42.328125 56 49.015625 48.375 \nQ 55.71875 40.765625 55.71875 27.296875 \nQ 55.71875 13.875 49.015625 6.21875 \nQ 42.328125 -1.421875 30.609375 -1.421875 \nQ 18.84375 -1.421875 12.171875 6.21875 \nQ 5.515625 13.875 5.515625 27.296875 \nQ 5.515625 40.765625 12.171875 48.375 \nQ 18.84375 56 30.609375 56 \nz\n\" id=\"DejaVuSans-111\"/>\n       <path d=\"M 9.078125 75.984375 \nL 18.109375 75.984375 \nL 18.109375 31.109375 \nL 44.921875 54.6875 \nL 56.390625 54.6875 \nL 27.390625 29.109375 \nL 57.625 0 \nL 45.90625 0 \nL 18.109375 26.703125 \nL 18.109375 0 \nL 9.078125 0 \nz\n\" id=\"DejaVuSans-107\"/>\n      </defs>\n      <use xlink:href=\"#DejaVuSans-78\"/>\n      <use x=\"74.804688\" xlink:href=\"#DejaVuSans-101\"/>\n      <use x=\"136.328125\" xlink:href=\"#DejaVuSans-119\"/>\n      <use x=\"218.115234\" xlink:href=\"#DejaVuSans-32\"/>\n      <use x=\"249.902344\" xlink:href=\"#DejaVuSans-89\"/>\n      <use x=\"297.736328\" xlink:href=\"#DejaVuSans-111\"/>\n      <use x=\"358.917969\" xlink:href=\"#DejaVuSans-114\"/>\n      <use x=\"400.03125\" xlink:href=\"#DejaVuSans-107\"/>\n     </g>\n    </g>\n    <g id=\"patch_29\">\n     <path d=\"M 16.2 350.97 \nL 36.2 350.97 \nL 36.2 343.97 \nL 16.2 343.97 \nz\n\" style=\"fill:#777777;\"/>\n    </g>\n    <g id=\"text_5\">\n     <!-- Jinrongjie (Xicheng District) -->\n     <g transform=\"translate(44.2 350.97)scale(0.1 -0.1)\">\n      <defs>\n       <path d=\"M 9.8125 72.90625 \nL 19.671875 72.90625 \nL 19.671875 5.078125 \nQ 19.671875 -8.109375 14.671875 -14.0625 \nQ 9.671875 -20.015625 -1.421875 -20.015625 \nL -5.171875 -20.015625 \nL -5.171875 -11.71875 \nL -2.09375 -11.71875 \nQ 4.4375 -11.71875 7.125 -8.046875 \nQ 9.8125 -4.390625 9.8125 5.078125 \nz\n\" id=\"DejaVuSans-74\"/>\n       <path d=\"M 6.296875 72.90625 \nL 16.890625 72.90625 \nL 35.015625 45.796875 \nL 53.21875 72.90625 \nL 63.8125 72.90625 \nL 40.375 37.890625 \nL 65.375 0 \nL 54.78125 0 \nL 34.28125 31 \nL 13.625 0 \nL 2.984375 0 \nL 29 38.921875 \nz\n\" id=\"DejaVuSans-88\"/>\n       <path d=\"M 19.671875 64.796875 \nL 19.671875 8.109375 \nL 31.59375 8.109375 \nQ 46.6875 8.109375 53.6875 14.9375 \nQ 60.6875 21.78125 60.6875 36.53125 \nQ 60.6875 51.171875 53.6875 57.984375 \nQ 46.6875 64.796875 31.59375 64.796875 \nz\nM 9.8125 72.90625 \nL 30.078125 72.90625 \nQ 51.265625 72.90625 61.171875 64.09375 \nQ 71.09375 55.28125 71.09375 36.53125 \nQ 71.09375 17.671875 61.125 8.828125 \nQ 51.171875 0 30.078125 0 \nL 9.8125 0 \nz\n\" id=\"DejaVuSans-68\"/>\n      </defs>\n      <use xlink:href=\"#DejaVuSans-74\"/>\n      <use x=\"29.492188\" xlink:href=\"#DejaVuSans-105\"/>\n      <use x=\"57.275391\" xlink:href=\"#DejaVuSans-110\"/>\n      <use x=\"120.654297\" xlink:href=\"#DejaVuSans-114\"/>\n      <use x=\"159.517578\" xlink:href=\"#DejaVuSans-111\"/>\n      <use x=\"220.699219\" xlink:href=\"#DejaVuSans-110\"/>\n      <use x=\"284.078125\" xlink:href=\"#DejaVuSans-103\"/>\n      <use x=\"347.554688\" xlink:href=\"#DejaVuSans-106\"/>\n      <use x=\"375.337891\" xlink:href=\"#DejaVuSans-105\"/>\n      <use x=\"403.121094\" xlink:href=\"#DejaVuSans-101\"/>\n      <use x=\"464.644531\" xlink:href=\"#DejaVuSans-32\"/>\n      <use x=\"496.431641\" xlink:href=\"#DejaVuSans-40\"/>\n      <use x=\"535.445312\" xlink:href=\"#DejaVuSans-88\"/>\n      <use x=\"603.951172\" xlink:href=\"#DejaVuSans-105\"/>\n      <use x=\"631.734375\" xlink:href=\"#DejaVuSans-99\"/>\n      <use x=\"686.714844\" xlink:href=\"#DejaVuSans-104\"/>\n      <use x=\"750.09375\" xlink:href=\"#DejaVuSans-101\"/>\n      <use x=\"811.617188\" xlink:href=\"#DejaVuSans-110\"/>\n      <use x=\"874.996094\" xlink:href=\"#DejaVuSans-103\"/>\n      <use x=\"938.472656\" xlink:href=\"#DejaVuSans-32\"/>\n      <use x=\"970.259766\" xlink:href=\"#DejaVuSans-68\"/>\n      <use x=\"1047.261719\" xlink:href=\"#DejaVuSans-105\"/>\n      <use x=\"1075.044922\" xlink:href=\"#DejaVuSans-115\"/>\n      <use x=\"1127.144531\" xlink:href=\"#DejaVuSans-116\"/>\n      <use x=\"1166.353516\" xlink:href=\"#DejaVuSans-114\"/>\n      <use x=\"1207.466797\" xlink:href=\"#DejaVuSans-105\"/>\n      <use x=\"1235.25\" xlink:href=\"#DejaVuSans-99\"/>\n      <use x=\"1290.230469\" xlink:href=\"#DejaVuSans-116\"/>\n      <use x=\"1329.439453\" xlink:href=\"#DejaVuSans-41\"/>\n     </g>\n    </g>\n    <g id=\"patch_30\">\n     <path d=\"M 16.2 365.648125 \nL 36.2 365.648125 \nL 36.2 358.648125 \nL 16.2 358.648125 \nz\n\" style=\"fill:#fbc15e;\"/>\n    </g>\n    <g id=\"text_6\">\n     <!-- Valcanneto -->\n     <g transform=\"translate(44.2 365.648125)scale(0.1 -0.1)\">\n      <defs>\n       <path d=\"M 28.609375 0 \nL 0.78125 72.90625 \nL 11.078125 72.90625 \nL 34.1875 11.53125 \nL 57.328125 72.90625 \nL 67.578125 72.90625 \nL 39.796875 0 \nz\n\" id=\"DejaVuSans-86\"/>\n      </defs>\n      <use xlink:href=\"#DejaVuSans-86\"/>\n      <use x=\"60.658203\" xlink:href=\"#DejaVuSans-97\"/>\n      <use x=\"121.9375\" xlink:href=\"#DejaVuSans-108\"/>\n      <use x=\"149.720703\" xlink:href=\"#DejaVuSans-99\"/>\n      <use x=\"204.701172\" xlink:href=\"#DejaVuSans-97\"/>\n      <use x=\"265.980469\" xlink:href=\"#DejaVuSans-110\"/>\n      <use x=\"329.359375\" xlink:href=\"#DejaVuSans-110\"/>\n      <use x=\"392.738281\" xlink:href=\"#DejaVuSans-101\"/>\n      <use x=\"454.261719\" xlink:href=\"#DejaVuSans-116\"/>\n      <use x=\"493.470703\" xlink:href=\"#DejaVuSans-111\"/>\n     </g>\n    </g>\n    <g id=\"patch_31\">\n     <path d=\"M 16.2 380.32625 \nL 36.2 380.32625 \nL 36.2 373.32625 \nL 16.2 373.32625 \nz\n\" style=\"fill:#8eba42;\"/>\n    </g>\n    <g id=\"text_7\">\n     <!-- Hong Kong -->\n     <g transform=\"translate(44.2 380.32625)scale(0.1 -0.1)\">\n      <use xlink:href=\"#DejaVuSans-72\"/>\n      <use x=\"75.195312\" xlink:href=\"#DejaVuSans-111\"/>\n      <use x=\"136.376953\" xlink:href=\"#DejaVuSans-110\"/>\n      <use x=\"199.755859\" xlink:href=\"#DejaVuSans-103\"/>\n      <use x=\"263.232422\" xlink:href=\"#DejaVuSans-32\"/>\n      <use x=\"295.019531\" xlink:href=\"#DejaVuSans-75\"/>\n      <use x=\"355.595703\" xlink:href=\"#DejaVuSans-111\"/>\n      <use x=\"416.777344\" xlink:href=\"#DejaVuSans-110\"/>\n      <use x=\"480.15625\" xlink:href=\"#DejaVuSans-103\"/>\n     </g>\n    </g>\n    <g id=\"patch_32\">\n     <path d=\"M 16.2 395.004375 \nL 36.2 395.004375 \nL 36.2 388.004375 \nL 16.2 388.004375 \nz\n\" style=\"fill:#ffb5b8;\"/>\n    </g>\n    <g id=\"text_8\">\n     <!-- Quarry Bay -->\n     <g transform=\"translate(44.2 395.004375)scale(0.1 -0.1)\">\n      <defs>\n       <path d=\"M 39.40625 66.21875 \nQ 28.65625 66.21875 22.328125 58.203125 \nQ 16.015625 50.203125 16.015625 36.375 \nQ 16.015625 22.609375 22.328125 14.59375 \nQ 28.65625 6.59375 39.40625 6.59375 \nQ 50.140625 6.59375 56.421875 14.59375 \nQ 62.703125 22.609375 62.703125 36.375 \nQ 62.703125 50.203125 56.421875 58.203125 \nQ 50.140625 66.21875 39.40625 66.21875 \nz\nM 53.21875 1.3125 \nL 66.21875 -12.890625 \nL 54.296875 -12.890625 \nL 43.5 -1.21875 \nQ 41.890625 -1.3125 41.03125 -1.359375 \nQ 40.1875 -1.421875 39.40625 -1.421875 \nQ 24.03125 -1.421875 14.8125 8.859375 \nQ 5.609375 19.140625 5.609375 36.375 \nQ 5.609375 53.65625 14.8125 63.9375 \nQ 24.03125 74.21875 39.40625 74.21875 \nQ 54.734375 74.21875 63.90625 63.9375 \nQ 73.09375 53.65625 73.09375 36.375 \nQ 73.09375 23.6875 67.984375 14.640625 \nQ 62.890625 5.609375 53.21875 1.3125 \nz\n\" id=\"DejaVuSans-81\"/>\n      </defs>\n      <use xlink:href=\"#DejaVuSans-81\"/>\n      <use x=\"78.710938\" xlink:href=\"#DejaVuSans-117\"/>\n      <use x=\"142.089844\" xlink:href=\"#DejaVuSans-97\"/>\n      <use x=\"203.369141\" xlink:href=\"#DejaVuSans-114\"/>\n      <use x=\"242.732422\" xlink:href=\"#DejaVuSans-114\"/>\n      <use x=\"283.845703\" xlink:href=\"#DejaVuSans-121\"/>\n      <use x=\"343.025391\" xlink:href=\"#DejaVuSans-32\"/>\n      <use x=\"374.8125\" xlink:href=\"#DejaVuSans-66\"/>\n      <use x=\"443.416016\" xlink:href=\"#DejaVuSans-97\"/>\n      <use x=\"504.695312\" xlink:href=\"#DejaVuSans-121\"/>\n     </g>\n    </g>\n    <g id=\"patch_33\">\n     <path d=\"M 16.2 409.6825 \nL 36.2 409.6825 \nL 36.2 402.6825 \nL 16.2 402.6825 \nz\n\" style=\"fill:#e24a33;\"/>\n    </g>\n    <g id=\"text_9\">\n     <!-- Hangzhou -->\n     <g transform=\"translate(44.2 409.6825)scale(0.1 -0.1)\">\n      <defs>\n       <path d=\"M 5.515625 54.6875 \nL 48.1875 54.6875 \nL 48.1875 46.484375 \nL 14.40625 7.171875 \nL 48.1875 7.171875 \nL 48.1875 0 \nL 4.296875 0 \nL 4.296875 8.203125 \nL 38.09375 47.515625 \nL 5.515625 47.515625 \nz\n\" id=\"DejaVuSans-122\"/>\n      </defs>\n      <use xlink:href=\"#DejaVuSans-72\"/>\n      <use x=\"75.195312\" xlink:href=\"#DejaVuSans-97\"/>\n      <use x=\"136.474609\" xlink:href=\"#DejaVuSans-110\"/>\n      <use x=\"199.853516\" xlink:href=\"#DejaVuSans-103\"/>\n      <use x=\"263.330078\" xlink:href=\"#DejaVuSans-122\"/>\n      <use x=\"315.820312\" xlink:href=\"#DejaVuSans-104\"/>\n      <use x=\"379.199219\" xlink:href=\"#DejaVuSans-111\"/>\n      <use x=\"440.380859\" xlink:href=\"#DejaVuSans-117\"/>\n     </g>\n    </g>\n    <g id=\"patch_34\">\n     <path d=\"M 16.2 424.360625 \nL 36.2 424.360625 \nL 36.2 417.360625 \nL 16.2 417.360625 \nz\n\" style=\"fill:#348abd;\"/>\n    </g>\n    <g id=\"text_10\">\n     <!-- San Francisco (Financial District) -->\n     <g transform=\"translate(44.2 424.360625)scale(0.1 -0.1)\">\n      <defs>\n       <path d=\"M 53.515625 70.515625 \nL 53.515625 60.890625 \nQ 47.90625 63.578125 42.921875 64.890625 \nQ 37.9375 66.21875 33.296875 66.21875 \nQ 25.25 66.21875 20.875 63.09375 \nQ 16.5 59.96875 16.5 54.203125 \nQ 16.5 49.359375 19.40625 46.890625 \nQ 22.3125 44.4375 30.421875 42.921875 \nL 36.375 41.703125 \nQ 47.40625 39.59375 52.65625 34.296875 \nQ 57.90625 29 57.90625 20.125 \nQ 57.90625 9.515625 50.796875 4.046875 \nQ 43.703125 -1.421875 29.984375 -1.421875 \nQ 24.8125 -1.421875 18.96875 -0.25 \nQ 13.140625 0.921875 6.890625 3.21875 \nL 6.890625 13.375 \nQ 12.890625 10.015625 18.65625 8.296875 \nQ 24.421875 6.59375 29.984375 6.59375 \nQ 38.421875 6.59375 43.015625 9.90625 \nQ 47.609375 13.234375 47.609375 19.390625 \nQ 47.609375 24.75 44.3125 27.78125 \nQ 41.015625 30.8125 33.5 32.328125 \nL 27.484375 33.5 \nQ 16.453125 35.6875 11.515625 40.375 \nQ 6.59375 45.0625 6.59375 53.421875 \nQ 6.59375 63.09375 13.40625 68.65625 \nQ 20.21875 74.21875 32.171875 74.21875 \nQ 37.3125 74.21875 42.625 73.28125 \nQ 47.953125 72.359375 53.515625 70.515625 \nz\n\" id=\"DejaVuSans-83\"/>\n       <path d=\"M 9.8125 72.90625 \nL 51.703125 72.90625 \nL 51.703125 64.59375 \nL 19.671875 64.59375 \nL 19.671875 43.109375 \nL 48.578125 43.109375 \nL 48.578125 34.8125 \nL 19.671875 34.8125 \nL 19.671875 0 \nL 9.8125 0 \nz\n\" id=\"DejaVuSans-70\"/>\n      </defs>\n      <use xlink:href=\"#DejaVuSans-83\"/>\n      <use x=\"63.476562\" xlink:href=\"#DejaVuSans-97\"/>\n      <use x=\"124.755859\" xlink:href=\"#DejaVuSans-110\"/>\n      <use x=\"188.134766\" xlink:href=\"#DejaVuSans-32\"/>\n      <use x=\"219.921875\" xlink:href=\"#DejaVuSans-70\"/>\n      <use x=\"270.191406\" xlink:href=\"#DejaVuSans-114\"/>\n      <use x=\"311.304688\" xlink:href=\"#DejaVuSans-97\"/>\n      <use x=\"372.583984\" xlink:href=\"#DejaVuSans-110\"/>\n      <use x=\"435.962891\" xlink:href=\"#DejaVuSans-99\"/>\n      <use x=\"490.943359\" xlink:href=\"#DejaVuSans-105\"/>\n      <use x=\"518.726562\" xlink:href=\"#DejaVuSans-115\"/>\n      <use x=\"570.826172\" xlink:href=\"#DejaVuSans-99\"/>\n      <use x=\"625.806641\" xlink:href=\"#DejaVuSans-111\"/>\n      <use x=\"686.988281\" xlink:href=\"#DejaVuSans-32\"/>\n      <use x=\"718.775391\" xlink:href=\"#DejaVuSans-40\"/>\n      <use x=\"757.789062\" xlink:href=\"#DejaVuSans-70\"/>\n      <use x=\"808.058594\" xlink:href=\"#DejaVuSans-105\"/>\n      <use x=\"835.841797\" xlink:href=\"#DejaVuSans-110\"/>\n      <use x=\"899.220703\" xlink:href=\"#DejaVuSans-97\"/>\n      <use x=\"960.5\" xlink:href=\"#DejaVuSans-110\"/>\n      <use x=\"1023.878906\" xlink:href=\"#DejaVuSans-99\"/>\n      <use x=\"1078.859375\" xlink:href=\"#DejaVuSans-105\"/>\n      <use x=\"1106.642578\" xlink:href=\"#DejaVuSans-97\"/>\n      <use x=\"1167.921875\" xlink:href=\"#DejaVuSans-108\"/>\n      <use x=\"1195.705078\" xlink:href=\"#DejaVuSans-32\"/>\n      <use x=\"1227.492188\" xlink:href=\"#DejaVuSans-68\"/>\n      <use x=\"1304.494141\" xlink:href=\"#DejaVuSans-105\"/>\n      <use x=\"1332.277344\" xlink:href=\"#DejaVuSans-115\"/>\n      <use x=\"1384.376953\" xlink:href=\"#DejaVuSans-116\"/>\n      <use x=\"1423.585938\" xlink:href=\"#DejaVuSans-114\"/>\n      <use x=\"1464.699219\" xlink:href=\"#DejaVuSans-105\"/>\n      <use x=\"1492.482422\" xlink:href=\"#DejaVuSans-99\"/>\n      <use x=\"1547.462891\" xlink:href=\"#DejaVuSans-116\"/>\n      <use x=\"1586.671875\" xlink:href=\"#DejaVuSans-41\"/>\n     </g>\n    </g>\n    <g id=\"patch_35\">\n     <path d=\"M 16.2 439.03875 \nL 36.2 439.03875 \nL 36.2 432.03875 \nL 16.2 432.03875 \nz\n\" style=\"fill:#988ed5;\"/>\n    </g>\n    <g id=\"text_11\">\n     <!-- Sydney -->\n     <g transform=\"translate(44.2 439.03875)scale(0.1 -0.1)\">\n      <defs>\n       <path d=\"M 45.40625 46.390625 \nL 45.40625 75.984375 \nL 54.390625 75.984375 \nL 54.390625 0 \nL 45.40625 0 \nL 45.40625 8.203125 \nQ 42.578125 3.328125 38.25 0.953125 \nQ 33.9375 -1.421875 27.875 -1.421875 \nQ 17.96875 -1.421875 11.734375 6.484375 \nQ 5.515625 14.40625 5.515625 27.296875 \nQ 5.515625 40.1875 11.734375 48.09375 \nQ 17.96875 56 27.875 56 \nQ 33.9375 56 38.25 53.625 \nQ 42.578125 51.265625 45.40625 46.390625 \nz\nM 14.796875 27.296875 \nQ 14.796875 17.390625 18.875 11.75 \nQ 22.953125 6.109375 30.078125 6.109375 \nQ 37.203125 6.109375 41.296875 11.75 \nQ 45.40625 17.390625 45.40625 27.296875 \nQ 45.40625 37.203125 41.296875 42.84375 \nQ 37.203125 48.484375 30.078125 48.484375 \nQ 22.953125 48.484375 18.875 42.84375 \nQ 14.796875 37.203125 14.796875 27.296875 \nz\n\" id=\"DejaVuSans-100\"/>\n      </defs>\n      <use xlink:href=\"#DejaVuSans-83\"/>\n      <use x=\"63.476562\" xlink:href=\"#DejaVuSans-121\"/>\n      <use x=\"122.65625\" xlink:href=\"#DejaVuSans-100\"/>\n      <use x=\"186.132812\" xlink:href=\"#DejaVuSans-110\"/>\n      <use x=\"249.511719\" xlink:href=\"#DejaVuSans-101\"/>\n      <use x=\"311.035156\" xlink:href=\"#DejaVuSans-121\"/>\n     </g>\n    </g>\n    <g id=\"patch_36\">\n     <path d=\"M 16.2 453.716875 \nL 36.2 453.716875 \nL 36.2 446.716875 \nL 16.2 446.716875 \nz\n\" style=\"fill:#777777;\"/>\n    </g>\n    <g id=\"text_12\">\n     <!-- Mountain View -->\n     <g transform=\"translate(44.2 453.716875)scale(0.1 -0.1)\">\n      <defs>\n       <path d=\"M 9.8125 72.90625 \nL 24.515625 72.90625 \nL 43.109375 23.296875 \nL 61.8125 72.90625 \nL 76.515625 72.90625 \nL 76.515625 0 \nL 66.890625 0 \nL 66.890625 64.015625 \nL 48.09375 14.015625 \nL 38.1875 14.015625 \nL 19.390625 64.015625 \nL 19.390625 0 \nL 9.8125 0 \nz\n\" id=\"DejaVuSans-77\"/>\n      </defs>\n      <use xlink:href=\"#DejaVuSans-77\"/>\n      <use x=\"86.279297\" xlink:href=\"#DejaVuSans-111\"/>\n      <use x=\"147.460938\" xlink:href=\"#DejaVuSans-117\"/>\n      <use x=\"210.839844\" xlink:href=\"#DejaVuSans-110\"/>\n      <use x=\"274.21875\" xlink:href=\"#DejaVuSans-116\"/>\n      <use x=\"313.427734\" xlink:href=\"#DejaVuSans-97\"/>\n      <use x=\"374.707031\" xlink:href=\"#DejaVuSans-105\"/>\n      <use x=\"402.490234\" xlink:href=\"#DejaVuSans-110\"/>\n      <use x=\"465.869141\" xlink:href=\"#DejaVuSans-32\"/>\n      <use x=\"497.65625\" xlink:href=\"#DejaVuSans-86\"/>\n      <use x=\"563.814453\" xlink:href=\"#DejaVuSans-105\"/>\n      <use x=\"591.597656\" xlink:href=\"#DejaVuSans-101\"/>\n      <use x=\"653.121094\" xlink:href=\"#DejaVuSans-119\"/>\n     </g>\n    </g>\n   </g>\n  </g>\n </g>\n <defs>\n  <clipPath id=\"p3fe5d5a8c4\">\n   <rect height=\"434.88\" width=\"446.4\" x=\"7.2\" y=\"29.916562\"/>\n  </clipPath>\n </defs>\n</svg>\n",
            "image/png": "[encoded data removed]"
          },
          "metadata": {
            "tags": []
          }
        },
        {
          "output_type": "execute_result",
          "data": {
            "text/plain": [
              "Ha Kwai Chung                         77.570093\n",
              "Beijing                                7.009346\n",
              "New York                               6.542056\n",
              "Jinrongjie (Xicheng District)          4.205607\n",
              "Valcanneto                             1.401869\n",
              "Hong Kong                              0.934579\n",
              "Quarry Bay                             0.467290\n",
              "Hangzhou                               0.467290\n",
              "San Francisco (Financial District)     0.467290\n",
              "Sydney                                 0.467290\n",
              "Mountain View                          0.467290\n",
              "Name: city_level, dtype: float64"
            ]
          },
          "metadata": {
            "tags": []
          },
          "execution_count": 153
        }
      ]
    },
    {
      "cell_type": "markdown",
      "metadata": {
        "id": "MGrh_zo8rd0_"
      },
      "source": [
        "**3. List top 3 with the numbers of requests.**"
      ]
    },
    {
      "cell_type": "code",
      "metadata": {
        "id": "kRhKyqptrd1A",
        "outputId": "2803c755-3e00-4914-c521-701fae0faa0b"
      },
      "source": [
        "pie_City[:3]"
      ],
      "execution_count": null,
      "outputs": [
        {
          "output_type": "execute_result",
          "data": {
            "text/plain": [
              "Ha Kwai Chung    166\n",
              "Beijing           15\n",
              "New York          14\n",
              "Name: city_level, dtype: int64"
            ]
          },
          "metadata": {
            "tags": []
          },
          "execution_count": 154
        }
      ]
    },
    {
      "cell_type": "markdown",
      "metadata": {
        "id": "UOLvHKdZtcto"
      },
      "source": [
        "# Part II - Web Crawling\n",
        "\n",
        "## Overview\n",
        "To better introduce all the professors including the emeritus professor, the professor and also associate professor in Deakin University School of IT, faculty will need to know all the citation information on all professors. Google Scholar is a web search engine that freely indexes the metadata of articles on many authors. Majority of the professors choose to use google scholar to track their publications and research works. Therefore,  the web crawling on google scholar will be able to have the citation information obtained across all the professors (who have the google scholar profile).\n"
      ]
    },
    {
      "cell_type": "markdown",
      "metadata": {
        "id": "gqbiN3nAw0tS"
      },
      "source": [
        "## 3. Professor List Generation"
      ]
    },
    {
      "cell_type": "markdown",
      "metadata": {
        "id": "Bm7eq9Iywjc-"
      },
      "source": [
        "### 3.1 Import and install web crawling library. \n",
        "\n",
        "<div class=\"alert alert-block alert-warning\">\n",
        "\n",
        "**Code**: \n",
        "    Import and install your web crawling library here. \n",
        "</div> \n",
        "\n",
        "<div class=\"alert alert-block alert-warning\">\n",
        "    \n",
        "**Report**: \n",
        "    **Part II 3.1** Please include your result for this coding task into your report Part II, with proper section title '3.1'.\n",
        "</div>\n",
        "\n",
        "*hint: you could use selenium by doing the pip install selenium, download the webdriver for chromedriver and define your webdriver for crawling. But you are free to use any other library*\n",
        "\n"
      ]
    },
    {
      "cell_type": "code",
      "metadata": {
        "id": "rHKPhKwUwtyI",
        "outputId": "361c46a4-33fb-4d8e-a687-77d3ddaceec5"
      },
      "source": [
        "# write your import and necessary web crawling libary here\n",
        "!pip install selenium\n",
        "!pip install bs4\n",
        "!pip install requests\n",
        "import requests \n",
        "from bs4 import BeautifulSoup\n",
        "from selenium import webdriver\n",
        "from selenium.webdriver.common.keys import Keys\n",
        "from selenium.common.exceptions import NoSuchElementException\n",
        "from time import sleep"
      ],
      "execution_count": null,
      "outputs": [
        {
          "output_type": "stream",
          "text": [
            "Requirement already satisfied: selenium in /Users/wuyoscar/opt/miniconda3/envs/py392/lib/python3.9/site-packages (3.141.0)\n",
            "Requirement already satisfied: urllib3 in /Users/wuyoscar/opt/miniconda3/envs/py392/lib/python3.9/site-packages (from selenium) (1.26.4)\n",
            "Requirement already satisfied: bs4 in /Users/wuyoscar/opt/miniconda3/envs/py392/lib/python3.9/site-packages (0.0.1)\n",
            "Requirement already satisfied: beautifulsoup4 in /Users/wuyoscar/opt/miniconda3/envs/py392/lib/python3.9/site-packages (from bs4) (4.9.3)\n",
            "Requirement already satisfied: soupsieve>1.2 in /Users/wuyoscar/opt/miniconda3/envs/py392/lib/python3.9/site-packages (from beautifulsoup4->bs4) (2.2.1)\n",
            "Requirement already satisfied: requests in /Users/wuyoscar/opt/miniconda3/envs/py392/lib/python3.9/site-packages (2.25.1)\n",
            "Requirement already satisfied: idna<3,>=2.5 in /Users/wuyoscar/opt/miniconda3/envs/py392/lib/python3.9/site-packages (from requests) (2.10)\n",
            "Requirement already satisfied: urllib3<1.27,>=1.21.1 in /Users/wuyoscar/opt/miniconda3/envs/py392/lib/python3.9/site-packages (from requests) (1.26.4)\n",
            "Requirement already satisfied: chardet<5,>=3.0.2 in /Users/wuyoscar/opt/miniconda3/envs/py392/lib/python3.9/site-packages (from requests) (4.0.0)\n",
            "Requirement already satisfied: certifi>=2017.4.17 in /Users/wuyoscar/opt/miniconda3/envs/py392/lib/python3.9/site-packages (from requests) (2020.12.5)\n"
          ],
          "name": "stdout"
        }
      ]
    },
    {
      "cell_type": "markdown",
      "metadata": {
        "id": "ZX4OQIsfwwk_"
      },
      "source": [
        "### 3.2 Find all professors in School of IT and save it as csv. \n",
        "\n",
        "<div class=\"alert alert-block alert-warning\">\n",
        "\n",
        "**Code**: \n",
        "    Find all professors in Schoolf of IT and save it as csv. The csv must have the full name of the professor (in one column), the title of the professor and University Name.\n",
        "</div> \n",
        "\n",
        "<div class=\"alert alert-block alert-warning\">\n",
        "    \n",
        "**Report**: \n",
        "    **Part II 3.2** Please include your result for this coding task into your report Part II, with proper section title '3.2'.\n",
        "</div>\n",
        "\n",
        "\n",
        "\n",
        "*hint: the url of the staff list for school of IT is https://www.deakin.edu.au/information-technology/staff-listing. you may need to iteratively find out html tag by table in the page to start crawl all the text from td (td is the elements in html table, check https://www.w3schools.com/html/html_tables.asp)*"
      ]
    },
    {
      "cell_type": "code",
      "metadata": {
        "id": "vII6Na-1xEAh"
      },
      "source": [
        "# here we first define the parsing method, you will need to use this parsing method to format the professor full name and title from the staff page.\n",
        "# the name of the professor from staff page will be split by space and last two words are full name \n",
        "def parse_name(stringtext):\n",
        "  return \" \".join(stringtext.split(\" \")[-2:]),\" \".join(stringtext.split(\" \")[:-2])\n",
        "\n",
        "\n",
        "def professors_list(web_link):\n",
        "  webpage_response = requests.get(web_link, 'html.parsers')\n",
        "  \n",
        "  print(webpage_response)\n",
        "  print(\"-------------------------------\\n\")\n",
        "  webpage = BeautifulSoup(webpage_response.content, \"html.parser\")\n",
        "  \n",
        "  #crawl all text from td\n",
        "  professor_list = [i.string for i in webpage.find_all('td')] \n",
        "  \n",
        "  #dealing with missing value in case error\n",
        "  professor_list = [i for i in professor_list if i != None] \n",
        "  \n",
        "  professor_list_update = []\n",
        "  \n",
        "  select_list = ['Professor', \"Associate Professor\", \"Emeritus Professor\"]\n",
        "  \n",
        "  #filtering title that we do need \n",
        "  for professor in professor_list:\n",
        "    if any([select_element in professor for select_element in select_list]):\n",
        "      professor_list_update.append(professor)\n",
        "    else:\n",
        "      pass\n",
        "  \n",
        "  #second filtering title that we do not need \n",
        "  second_select = ['Adjunct', 'Honorary']\n",
        "  professor_list_update_second = []\n",
        "  \n",
        "  for professor in professor_list_update:\n",
        "    if any([select_element in professor for select_element in second_select]):\n",
        "      pass\n",
        "    else:\n",
        "      professor_list_update_second.append(professor)\n",
        "  \n",
        "  print('\\nOriginal list(5 samples)\\n',professor_list[-5:] )\n",
        "  print('\\n---\\nFirst filtering(5 samples)\\n', professor_list_update[-5:])\n",
        "  print('\\n---\\nSecond filtering(5 samples)\\n', professor_list_update_second[-5:])\n",
        "  return professor_list_update_second\n"
      ],
      "execution_count": null,
      "outputs": []
    },
    {
      "cell_type": "code",
      "metadata": {
        "id": "gdwBogfgrd1B",
        "outputId": "4db1f53f-9730-4e33-d981-d0517d3bd626"
      },
      "source": [
        "pro_data = professors_list(\"https://www.deakin.edu.au/information-technology/staff-listing\")"
      ],
      "execution_count": null,
      "outputs": [
        {
          "output_type": "stream",
          "text": [
            "<Response [200]>\n",
            "-------------------------------\n",
            "\n",
            "\n",
            "Original list(5 samples)\n",
            " ['Jesse Mcmeikan', 'Thuy Nguyen', 'Michelle Yu', 'Nghia Dang', 'Justin Li']\n",
            "\n",
            "---\n",
            "First filtering(5 samples)\n",
            " ['Adjunct Professor Jamie Rossato', 'Adjunct Professor Chadi Saliby', 'Adjunct Professor Malcolm Shore', 'Adjunct Professor EJ Wise', 'Professor Abbas Kudrati']\n",
            "\n",
            "---\n",
            "Second filtering(5 samples)\n",
            " ['Associate Professor Jianxin Li', 'Associate Professor Xiao Liu', 'Associate Professor Vicky Mak', 'Associate Professor Tim Wilkin', 'Professor Abbas Kudrati']\n"
          ],
          "name": "stdout"
        }
      ]
    },
    {
      "cell_type": "code",
      "metadata": {
        "id": "R5GxLBADrd1C",
        "outputId": "1c393243-4ace-4648-eef6-579aeff47376"
      },
      "source": [
        "print(\"\\n\\n**Length of professors data:\", len(pro_data))\n",
        "pro_data"
      ],
      "execution_count": null,
      "outputs": [
        {
          "output_type": "stream",
          "text": [
            "\n",
            "\n",
            "**Length of professors data: 26\n"
          ],
          "name": "stdout"
        },
        {
          "output_type": "execute_result",
          "data": {
            "text/plain": [
              "['Emeritus Professor Lynn Batten',\n",
              " 'Emeritus Professor Andrzej Goscinski',\n",
              " 'Professor Jemal Abawajy',\n",
              " 'Professor Maia Angelova',\n",
              " 'Professor Gleb Beliakov',\n",
              " 'Professor Terry Caelli',\n",
              " 'Professor Jinho Choi',\n",
              " 'Professor Chang-Tsun Li',\n",
              " 'Professor Robin Doss',\n",
              " 'Professor Peter Eklund',\n",
              " 'Professor Seng Loke',\n",
              " 'Professor Antonio Robles-Kelly',\n",
              " 'Professor Jean-Guy Schneider',\n",
              " 'Professor Yong Xiang',\n",
              " 'Professor John Yearwood',\n",
              " 'Professor Arkady Zaslavsky',\n",
              " 'Associate Professor Mohamed Abdelrazek',\n",
              " 'Associate Professor Andrew Cain',\n",
              " 'Associate Professor Richard Dazeley',\n",
              " 'Associate Professor Guangyan Huang',\n",
              " 'Associate Professor Gang Li',\n",
              " 'Associate Professor Jianxin Li',\n",
              " 'Associate Professor Xiao Liu',\n",
              " 'Associate Professor Vicky Mak',\n",
              " 'Associate Professor Tim Wilkin',\n",
              " 'Professor Abbas Kudrati']"
            ]
          },
          "metadata": {
            "tags": []
          },
          "execution_count": 158
        }
      ]
    },
    {
      "cell_type": "code",
      "metadata": {
        "colab": {
          "base_uri": "https://localhost:8080/"
        },
        "id": "RmLHQyKbxIEL",
        "outputId": "964b9dce-540b-436f-9b3e-d6f6eef7a793"
      },
      "source": [
        "# using parse_name method \n",
        "professor_full_name = [parse_name(i)[0] for i in pro_data]\n",
        "professor_title = [parse_name(i)[1] for i in pro_data]\n",
        "\n",
        "#make a dataframe\n",
        "df_professor_data = pd.DataFrame(\n",
        "      list(zip(\n",
        "          professor_full_name,\n",
        "          professor_title,\n",
        "      [\"Deakin University\" for i in range(len(professor_full_name))]\n",
        "      )),\n",
        "     columns= [\"Name\", \"Title\", \"University\"]\n",
        ")\n",
        "\n",
        "#save csv\n",
        "#df_professor_data.to_csv('Professor-list.csv', index=False)\n",
        "\n",
        "# The column name must be same as the provided professor-list.csv\n",
        "df_professor_data\n"
      ],
      "execution_count": null,
      "outputs": [
        {
          "output_type": "execute_result",
          "data": {
            "text/plain": [
              "                    Name                Title         University\n",
              "0            Lynn Batten   Emeritus Professor  Deakin University\n",
              "1      Andrzej Goscinski   Emeritus Professor  Deakin University\n",
              "2          Jemal Abawajy            Professor  Deakin University\n",
              "3          Maia Angelova            Professor  Deakin University\n",
              "4          Gleb Beliakov            Professor  Deakin University\n",
              "5           Terry Caelli            Professor  Deakin University\n",
              "6             Jinho Choi            Professor  Deakin University\n",
              "7          Chang-Tsun Li            Professor  Deakin University\n",
              "8             Robin Doss            Professor  Deakin University\n",
              "9           Peter Eklund            Professor  Deakin University\n",
              "10             Seng Loke            Professor  Deakin University\n",
              "11  Antonio Robles-Kelly            Professor  Deakin University\n",
              "12    Jean-Guy Schneider            Professor  Deakin University\n",
              "13            Yong Xiang            Professor  Deakin University\n",
              "14         John Yearwood            Professor  Deakin University\n",
              "15      Arkady Zaslavsky            Professor  Deakin University\n",
              "16    Mohamed Abdelrazek  Associate Professor  Deakin University\n",
              "17           Andrew Cain  Associate Professor  Deakin University\n",
              "18       Richard Dazeley  Associate Professor  Deakin University\n",
              "19        Guangyan Huang  Associate Professor  Deakin University\n",
              "20               Gang Li  Associate Professor  Deakin University\n",
              "21            Jianxin Li  Associate Professor  Deakin University\n",
              "22              Xiao Liu  Associate Professor  Deakin University\n",
              "23             Vicky Mak  Associate Professor  Deakin University\n",
              "24            Tim Wilkin  Associate Professor  Deakin University\n",
              "25         Abbas Kudrati            Professor  Deakin University"
            ],
            "text/html": [
              "<div>\n",
              "<style scoped>\n",
              "    .dataframe tbody tr th:only-of-type {\n",
              "        vertical-align: middle;\n",
              "    }\n",
              "\n",
              "    .dataframe tbody tr th {\n",
              "        vertical-align: top;\n",
              "    }\n",
              "\n",
              "    .dataframe thead th {\n",
              "        text-align: right;\n",
              "    }\n",
              "</style>\n",
              "<table border=\"1\" class=\"dataframe\">\n",
              "  <thead>\n",
              "    <tr style=\"text-align: right;\">\n",
              "      <th></th>\n",
              "      <th>Name</th>\n",
              "      <th>Title</th>\n",
              "      <th>University</th>\n",
              "    </tr>\n",
              "  </thead>\n",
              "  <tbody>\n",
              "    <tr>\n",
              "      <th>0</th>\n",
              "      <td>Lynn Batten</td>\n",
              "      <td>Emeritus Professor</td>\n",
              "      <td>Deakin University</td>\n",
              "    </tr>\n",
              "    <tr>\n",
              "      <th>1</th>\n",
              "      <td>Andrzej Goscinski</td>\n",
              "      <td>Emeritus Professor</td>\n",
              "      <td>Deakin University</td>\n",
              "    </tr>\n",
              "    <tr>\n",
              "      <th>2</th>\n",
              "      <td>Jemal Abawajy</td>\n",
              "      <td>Professor</td>\n",
              "      <td>Deakin University</td>\n",
              "    </tr>\n",
              "    <tr>\n",
              "      <th>3</th>\n",
              "      <td>Maia Angelova</td>\n",
              "      <td>Professor</td>\n",
              "      <td>Deakin University</td>\n",
              "    </tr>\n",
              "    <tr>\n",
              "      <th>4</th>\n",
              "      <td>Gleb Beliakov</td>\n",
              "      <td>Professor</td>\n",
              "      <td>Deakin University</td>\n",
              "    </tr>\n",
              "    <tr>\n",
              "      <th>5</th>\n",
              "      <td>Terry Caelli</td>\n",
              "      <td>Professor</td>\n",
              "      <td>Deakin University</td>\n",
              "    </tr>\n",
              "    <tr>\n",
              "      <th>6</th>\n",
              "      <td>Jinho Choi</td>\n",
              "      <td>Professor</td>\n",
              "      <td>Deakin University</td>\n",
              "    </tr>\n",
              "    <tr>\n",
              "      <th>7</th>\n",
              "      <td>Chang-Tsun Li</td>\n",
              "      <td>Professor</td>\n",
              "      <td>Deakin University</td>\n",
              "    </tr>\n",
              "    <tr>\n",
              "      <th>8</th>\n",
              "      <td>Robin Doss</td>\n",
              "      <td>Professor</td>\n",
              "      <td>Deakin University</td>\n",
              "    </tr>\n",
              "    <tr>\n",
              "      <th>9</th>\n",
              "      <td>Peter Eklund</td>\n",
              "      <td>Professor</td>\n",
              "      <td>Deakin University</td>\n",
              "    </tr>\n",
              "    <tr>\n",
              "      <th>10</th>\n",
              "      <td>Seng Loke</td>\n",
              "      <td>Professor</td>\n",
              "      <td>Deakin University</td>\n",
              "    </tr>\n",
              "    <tr>\n",
              "      <th>11</th>\n",
              "      <td>Antonio Robles-Kelly</td>\n",
              "      <td>Professor</td>\n",
              "      <td>Deakin University</td>\n",
              "    </tr>\n",
              "    <tr>\n",
              "      <th>12</th>\n",
              "      <td>Jean-Guy Schneider</td>\n",
              "      <td>Professor</td>\n",
              "      <td>Deakin University</td>\n",
              "    </tr>\n",
              "    <tr>\n",
              "      <th>13</th>\n",
              "      <td>Yong Xiang</td>\n",
              "      <td>Professor</td>\n",
              "      <td>Deakin University</td>\n",
              "    </tr>\n",
              "    <tr>\n",
              "      <th>14</th>\n",
              "      <td>John Yearwood</td>\n",
              "      <td>Professor</td>\n",
              "      <td>Deakin University</td>\n",
              "    </tr>\n",
              "    <tr>\n",
              "      <th>15</th>\n",
              "      <td>Arkady Zaslavsky</td>\n",
              "      <td>Professor</td>\n",
              "      <td>Deakin University</td>\n",
              "    </tr>\n",
              "    <tr>\n",
              "      <th>16</th>\n",
              "      <td>Mohamed Abdelrazek</td>\n",
              "      <td>Associate Professor</td>\n",
              "      <td>Deakin University</td>\n",
              "    </tr>\n",
              "    <tr>\n",
              "      <th>17</th>\n",
              "      <td>Andrew Cain</td>\n",
              "      <td>Associate Professor</td>\n",
              "      <td>Deakin University</td>\n",
              "    </tr>\n",
              "    <tr>\n",
              "      <th>18</th>\n",
              "      <td>Richard Dazeley</td>\n",
              "      <td>Associate Professor</td>\n",
              "      <td>Deakin University</td>\n",
              "    </tr>\n",
              "    <tr>\n",
              "      <th>19</th>\n",
              "      <td>Guangyan Huang</td>\n",
              "      <td>Associate Professor</td>\n",
              "      <td>Deakin University</td>\n",
              "    </tr>\n",
              "    <tr>\n",
              "      <th>20</th>\n",
              "      <td>Gang Li</td>\n",
              "      <td>Associate Professor</td>\n",
              "      <td>Deakin University</td>\n",
              "    </tr>\n",
              "    <tr>\n",
              "      <th>21</th>\n",
              "      <td>Jianxin Li</td>\n",
              "      <td>Associate Professor</td>\n",
              "      <td>Deakin University</td>\n",
              "    </tr>\n",
              "    <tr>\n",
              "      <th>22</th>\n",
              "      <td>Xiao Liu</td>\n",
              "      <td>Associate Professor</td>\n",
              "      <td>Deakin University</td>\n",
              "    </tr>\n",
              "    <tr>\n",
              "      <th>23</th>\n",
              "      <td>Vicky Mak</td>\n",
              "      <td>Associate Professor</td>\n",
              "      <td>Deakin University</td>\n",
              "    </tr>\n",
              "    <tr>\n",
              "      <th>24</th>\n",
              "      <td>Tim Wilkin</td>\n",
              "      <td>Associate Professor</td>\n",
              "      <td>Deakin University</td>\n",
              "    </tr>\n",
              "    <tr>\n",
              "      <th>25</th>\n",
              "      <td>Abbas Kudrati</td>\n",
              "      <td>Professor</td>\n",
              "      <td>Deakin University</td>\n",
              "    </tr>\n",
              "  </tbody>\n",
              "</table>\n",
              "</div>"
            ]
          },
          "metadata": {
            "tags": []
          },
          "execution_count": 159
        }
      ]
    },
    {
      "cell_type": "markdown",
      "metadata": {
        "id": "hwKTqMXaxOpw"
      },
      "source": [
        "## 4. Professor Citation Information Generation\n"
      ]
    },
    {
      "cell_type": "markdown",
      "metadata": {
        "id": "_uk5f1LgxQc7"
      },
      "source": [
        "### 4.1 Search the google scholar for all professors \n",
        "<div class=\"alert alert-block alert-warning\">\n",
        "\n",
        "**Code**: \n",
        "    Search the google scholar for all professors and obtain their citations-all, h-index-all, i10-all, citation-since2016,h-index-2016 and i10-since2016. Save the results as csv and must having **all the professors name, title and all 6 citation information.**\n",
        "</div> \n",
        "\n",
        "<div class=\"alert alert-block alert-warning\">\n",
        "    \n",
        "**Report**: \n",
        "    **Part II 4.1** Please include your result for this coding task into your report Part II, with proper section title '4.1'.\n",
        "</div>\n",
        "\n",
        "\n",
        "*hint: if the professors did not have the google scholar profle with the name, save the 6 citation information as string \"na\". you could use the while loop with condition or for loop with if condition or for loop with defined method having if condition to deal with those professors do not have google scholar*"
      ]
    },
    {
      "cell_type": "code",
      "metadata": {
        "id": "7wOr2AmWrd1C"
      },
      "source": [
        "def profile_url(professor_name):\n",
        "    search_input = professor_name +' Deakin'\n",
        "    \n",
        "    driver = webdriver.Chrome()\n",
        "    driver.get(\"https://scholar.google.com\")\n",
        "    #google schloar seach input\n",
        "    #search = driver.find_element_by_id('gs_hdr_tsi')\n",
        "    search = driver.find_element_by_css_selector('input[name= \"q\"]')\n",
        "    \n",
        "    search.send_keys(search_input)# search professor name\n",
        "    search.send_keys(Keys.RETURN) #return result\n",
        "    sleep(5)\n",
        "    #if professor has profile page\n",
        "    \n",
        "    try:\n",
        "        profile_url = driver.find_element_by_css_selector('h4.gs_rt2>a').get_attribute('href')\n",
        "        driver.get(profile_url) # get profile page\n",
        "        sleep(5)\n",
        "        #use soup to get content on profile page\n",
        "        webpage_response = requests.get(profile_url, 'html.parsers')\n",
        "        webpage = BeautifulSoup(webpage_response.content, \"html.parser\")\n",
        "        #get citation information and store in list\n",
        "        citation = [i.string for i in webpage.find_all('td', {'class':\"gsc_rsb_std\"})]\n",
        "        \n",
        "    #if professor has no such profile page\n",
        "    except NoSuchElementException:\n",
        "        citation = ['na' for i in range(6)] \n",
        "        pass\n",
        "    \n",
        "    driver.close()\n",
        "    return citation\n"
      ],
      "execution_count": null,
      "outputs": []
    },
    {
      "cell_type": "code",
      "metadata": {
        "id": "YITbe1Owxf2o"
      },
      "source": [
        "#make a copy \n",
        "df_professor_citation = df_professor_data.copy()\n",
        "\n",
        "#apply function to column \n",
        "df_professor_citation['citation'] = df_professor_citation['Name'].apply(profile_url)\n",
        "df_professor_citation\n",
        "\n",
        "cp_professor_citation= df_professor_citation.copy()"
      ],
      "execution_count": null,
      "outputs": []
    },
    {
      "cell_type": "code",
      "metadata": {
        "id": "Tt-Cl1uFrd1D",
        "outputId": "da43f4f2-3064-49f3-c3fd-bbd0cce48840"
      },
      "source": [
        "df_professor_citation\n"
      ],
      "execution_count": null,
      "outputs": [
        {
          "output_type": "execute_result",
          "data": {
            "text/plain": [
              "                    Name                Title         University  \\\n",
              "0            Lynn Batten   Emeritus Professor  Deakin University   \n",
              "1      Andrzej Goscinski   Emeritus Professor  Deakin University   \n",
              "2          Jemal Abawajy            Professor  Deakin University   \n",
              "3          Maia Angelova            Professor  Deakin University   \n",
              "4          Gleb Beliakov            Professor  Deakin University   \n",
              "5           Terry Caelli            Professor  Deakin University   \n",
              "6             Jinho Choi            Professor  Deakin University   \n",
              "7          Chang-Tsun Li            Professor  Deakin University   \n",
              "8             Robin Doss            Professor  Deakin University   \n",
              "9           Peter Eklund            Professor  Deakin University   \n",
              "10             Seng Loke            Professor  Deakin University   \n",
              "11  Antonio Robles-Kelly            Professor  Deakin University   \n",
              "12    Jean-Guy Schneider            Professor  Deakin University   \n",
              "13            Yong Xiang            Professor  Deakin University   \n",
              "14         John Yearwood            Professor  Deakin University   \n",
              "15      Arkady Zaslavsky            Professor  Deakin University   \n",
              "16    Mohamed Abdelrazek  Associate Professor  Deakin University   \n",
              "17           Andrew Cain  Associate Professor  Deakin University   \n",
              "18       Richard Dazeley  Associate Professor  Deakin University   \n",
              "19        Guangyan Huang  Associate Professor  Deakin University   \n",
              "20               Gang Li  Associate Professor  Deakin University   \n",
              "21            Jianxin Li  Associate Professor  Deakin University   \n",
              "22              Xiao Liu  Associate Professor  Deakin University   \n",
              "23             Vicky Mak  Associate Professor  Deakin University   \n",
              "24            Tim Wilkin  Associate Professor  Deakin University   \n",
              "25         Abbas Kudrati            Professor  Deakin University   \n",
              "\n",
              "                          citation  \n",
              "0     [2527, 1171, 23, 16, 45, 21]  \n",
              "1         [na, na, na, na, na, na]  \n",
              "2         [na, na, na, na, na, na]  \n",
              "3       [680, 397, 15, 11, 21, 14]  \n",
              "4    [8174, 4633, 42, 32, 135, 86]  \n",
              "5    [8661, 1475, 51, 20, 176, 36]  \n",
              "6    [7812, 5021, 37, 29, 167, 95]  \n",
              "7    [4341, 2336, 33, 21, 104, 65]  \n",
              "8         [na, na, na, na, na, na]  \n",
              "9      [3963, 779, 34, 14, 72, 23]  \n",
              "10   [7178, 2907, 38, 21, 126, 50]  \n",
              "11    [3654, 1533, 24, 15, 62, 27]  \n",
              "12     [1811, 642, 24, 15, 48, 21]  \n",
              "13   [6301, 4964, 40, 35, 118, 95]  \n",
              "14    [3785, 1990, 32, 23, 92, 45]  \n",
              "15  [14923, 8324, 50, 33, 177, 80]  \n",
              "16    [1852, 1252, 16, 15, 27, 23]  \n",
              "17        [289, 192, 10, 8, 11, 8]  \n",
              "18     [1470, 948, 16, 13, 24, 15]  \n",
              "19     [1125, 806, 20, 18, 28, 23]  \n",
              "20    [4110, 2820, 28, 24, 88, 60]  \n",
              "21    [1465, 1086, 21, 18, 39, 32]  \n",
              "22    [3219, 1749, 26, 20, 52, 42]  \n",
              "23        [385, 227, 11, 8, 14, 6]  \n",
              "24      [387, 310, 10, 10, 11, 10]  \n",
              "25        [na, na, na, na, na, na]  "
            ],
            "text/html": [
              "<div>\n",
              "<style scoped>\n",
              "    .dataframe tbody tr th:only-of-type {\n",
              "        vertical-align: middle;\n",
              "    }\n",
              "\n",
              "    .dataframe tbody tr th {\n",
              "        vertical-align: top;\n",
              "    }\n",
              "\n",
              "    .dataframe thead th {\n",
              "        text-align: right;\n",
              "    }\n",
              "</style>\n",
              "<table border=\"1\" class=\"dataframe\">\n",
              "  <thead>\n",
              "    <tr style=\"text-align: right;\">\n",
              "      <th></th>\n",
              "      <th>Name</th>\n",
              "      <th>Title</th>\n",
              "      <th>University</th>\n",
              "      <th>citation</th>\n",
              "    </tr>\n",
              "  </thead>\n",
              "  <tbody>\n",
              "    <tr>\n",
              "      <th>0</th>\n",
              "      <td>Lynn Batten</td>\n",
              "      <td>Emeritus Professor</td>\n",
              "      <td>Deakin University</td>\n",
              "      <td>[2527, 1171, 23, 16, 45, 21]</td>\n",
              "    </tr>\n",
              "    <tr>\n",
              "      <th>1</th>\n",
              "      <td>Andrzej Goscinski</td>\n",
              "      <td>Emeritus Professor</td>\n",
              "      <td>Deakin University</td>\n",
              "      <td>[na, na, na, na, na, na]</td>\n",
              "    </tr>\n",
              "    <tr>\n",
              "      <th>2</th>\n",
              "      <td>Jemal Abawajy</td>\n",
              "      <td>Professor</td>\n",
              "      <td>Deakin University</td>\n",
              "      <td>[na, na, na, na, na, na]</td>\n",
              "    </tr>\n",
              "    <tr>\n",
              "      <th>3</th>\n",
              "      <td>Maia Angelova</td>\n",
              "      <td>Professor</td>\n",
              "      <td>Deakin University</td>\n",
              "      <td>[680, 397, 15, 11, 21, 14]</td>\n",
              "    </tr>\n",
              "    <tr>\n",
              "      <th>4</th>\n",
              "      <td>Gleb Beliakov</td>\n",
              "      <td>Professor</td>\n",
              "      <td>Deakin University</td>\n",
              "      <td>[8174, 4633, 42, 32, 135, 86]</td>\n",
              "    </tr>\n",
              "    <tr>\n",
              "      <th>5</th>\n",
              "      <td>Terry Caelli</td>\n",
              "      <td>Professor</td>\n",
              "      <td>Deakin University</td>\n",
              "      <td>[8661, 1475, 51, 20, 176, 36]</td>\n",
              "    </tr>\n",
              "    <tr>\n",
              "      <th>6</th>\n",
              "      <td>Jinho Choi</td>\n",
              "      <td>Professor</td>\n",
              "      <td>Deakin University</td>\n",
              "      <td>[7812, 5021, 37, 29, 167, 95]</td>\n",
              "    </tr>\n",
              "    <tr>\n",
              "      <th>7</th>\n",
              "      <td>Chang-Tsun Li</td>\n",
              "      <td>Professor</td>\n",
              "      <td>Deakin University</td>\n",
              "      <td>[4341, 2336, 33, 21, 104, 65]</td>\n",
              "    </tr>\n",
              "    <tr>\n",
              "      <th>8</th>\n",
              "      <td>Robin Doss</td>\n",
              "      <td>Professor</td>\n",
              "      <td>Deakin University</td>\n",
              "      <td>[na, na, na, na, na, na]</td>\n",
              "    </tr>\n",
              "    <tr>\n",
              "      <th>9</th>\n",
              "      <td>Peter Eklund</td>\n",
              "      <td>Professor</td>\n",
              "      <td>Deakin University</td>\n",
              "      <td>[3963, 779, 34, 14, 72, 23]</td>\n",
              "    </tr>\n",
              "    <tr>\n",
              "      <th>10</th>\n",
              "      <td>Seng Loke</td>\n",
              "      <td>Professor</td>\n",
              "      <td>Deakin University</td>\n",
              "      <td>[7178, 2907, 38, 21, 126, 50]</td>\n",
              "    </tr>\n",
              "    <tr>\n",
              "      <th>11</th>\n",
              "      <td>Antonio Robles-Kelly</td>\n",
              "      <td>Professor</td>\n",
              "      <td>Deakin University</td>\n",
              "      <td>[3654, 1533, 24, 15, 62, 27]</td>\n",
              "    </tr>\n",
              "    <tr>\n",
              "      <th>12</th>\n",
              "      <td>Jean-Guy Schneider</td>\n",
              "      <td>Professor</td>\n",
              "      <td>Deakin University</td>\n",
              "      <td>[1811, 642, 24, 15, 48, 21]</td>\n",
              "    </tr>\n",
              "    <tr>\n",
              "      <th>13</th>\n",
              "      <td>Yong Xiang</td>\n",
              "      <td>Professor</td>\n",
              "      <td>Deakin University</td>\n",
              "      <td>[6301, 4964, 40, 35, 118, 95]</td>\n",
              "    </tr>\n",
              "    <tr>\n",
              "      <th>14</th>\n",
              "      <td>John Yearwood</td>\n",
              "      <td>Professor</td>\n",
              "      <td>Deakin University</td>\n",
              "      <td>[3785, 1990, 32, 23, 92, 45]</td>\n",
              "    </tr>\n",
              "    <tr>\n",
              "      <th>15</th>\n",
              "      <td>Arkady Zaslavsky</td>\n",
              "      <td>Professor</td>\n",
              "      <td>Deakin University</td>\n",
              "      <td>[14923, 8324, 50, 33, 177, 80]</td>\n",
              "    </tr>\n",
              "    <tr>\n",
              "      <th>16</th>\n",
              "      <td>Mohamed Abdelrazek</td>\n",
              "      <td>Associate Professor</td>\n",
              "      <td>Deakin University</td>\n",
              "      <td>[1852, 1252, 16, 15, 27, 23]</td>\n",
              "    </tr>\n",
              "    <tr>\n",
              "      <th>17</th>\n",
              "      <td>Andrew Cain</td>\n",
              "      <td>Associate Professor</td>\n",
              "      <td>Deakin University</td>\n",
              "      <td>[289, 192, 10, 8, 11, 8]</td>\n",
              "    </tr>\n",
              "    <tr>\n",
              "      <th>18</th>\n",
              "      <td>Richard Dazeley</td>\n",
              "      <td>Associate Professor</td>\n",
              "      <td>Deakin University</td>\n",
              "      <td>[1470, 948, 16, 13, 24, 15]</td>\n",
              "    </tr>\n",
              "    <tr>\n",
              "      <th>19</th>\n",
              "      <td>Guangyan Huang</td>\n",
              "      <td>Associate Professor</td>\n",
              "      <td>Deakin University</td>\n",
              "      <td>[1125, 806, 20, 18, 28, 23]</td>\n",
              "    </tr>\n",
              "    <tr>\n",
              "      <th>20</th>\n",
              "      <td>Gang Li</td>\n",
              "      <td>Associate Professor</td>\n",
              "      <td>Deakin University</td>\n",
              "      <td>[4110, 2820, 28, 24, 88, 60]</td>\n",
              "    </tr>\n",
              "    <tr>\n",
              "      <th>21</th>\n",
              "      <td>Jianxin Li</td>\n",
              "      <td>Associate Professor</td>\n",
              "      <td>Deakin University</td>\n",
              "      <td>[1465, 1086, 21, 18, 39, 32]</td>\n",
              "    </tr>\n",
              "    <tr>\n",
              "      <th>22</th>\n",
              "      <td>Xiao Liu</td>\n",
              "      <td>Associate Professor</td>\n",
              "      <td>Deakin University</td>\n",
              "      <td>[3219, 1749, 26, 20, 52, 42]</td>\n",
              "    </tr>\n",
              "    <tr>\n",
              "      <th>23</th>\n",
              "      <td>Vicky Mak</td>\n",
              "      <td>Associate Professor</td>\n",
              "      <td>Deakin University</td>\n",
              "      <td>[385, 227, 11, 8, 14, 6]</td>\n",
              "    </tr>\n",
              "    <tr>\n",
              "      <th>24</th>\n",
              "      <td>Tim Wilkin</td>\n",
              "      <td>Associate Professor</td>\n",
              "      <td>Deakin University</td>\n",
              "      <td>[387, 310, 10, 10, 11, 10]</td>\n",
              "    </tr>\n",
              "    <tr>\n",
              "      <th>25</th>\n",
              "      <td>Abbas Kudrati</td>\n",
              "      <td>Professor</td>\n",
              "      <td>Deakin University</td>\n",
              "      <td>[na, na, na, na, na, na]</td>\n",
              "    </tr>\n",
              "  </tbody>\n",
              "</table>\n",
              "</div>"
            ]
          },
          "metadata": {
            "tags": []
          },
          "execution_count": 162
        }
      ]
    },
    {
      "cell_type": "code",
      "metadata": {
        "id": "LVSFHDOTrd1D",
        "outputId": "8e4f59c8-3a4b-4257-ed2e-66bb67e6f43f"
      },
      "source": [
        "#spread column to multiple columns\n",
        "citation_col_names = ['citation-all','citation-since2016','h-index-all','h-index-since2016','i10-index-all','i10-index-since2016']\n",
        "\n",
        "cp_professor_citation[citation_col_names] = pd.DataFrame(cp_professor_citation['citation'].tolist(), index= cp_professor_citation.index)\n",
        "\n",
        "#drop unnecssary columns\n",
        "cp_professor_citation.drop(['citation', 'University'],axis =1, inplace = True)\n",
        "\n",
        "#inspect data\n",
        "cp_professor_citation"
      ],
      "execution_count": null,
      "outputs": [
        {
          "output_type": "execute_result",
          "data": {
            "text/plain": [
              "                    Name                Title citation-all citation-since2016  \\\n",
              "0            Lynn Batten   Emeritus Professor         2527               1171   \n",
              "1      Andrzej Goscinski   Emeritus Professor           na                 na   \n",
              "2          Jemal Abawajy            Professor           na                 na   \n",
              "3          Maia Angelova            Professor          680                397   \n",
              "4          Gleb Beliakov            Professor         8174               4633   \n",
              "5           Terry Caelli            Professor         8661               1475   \n",
              "6             Jinho Choi            Professor         7812               5021   \n",
              "7          Chang-Tsun Li            Professor         4341               2336   \n",
              "8             Robin Doss            Professor           na                 na   \n",
              "9           Peter Eklund            Professor         3963                779   \n",
              "10             Seng Loke            Professor         7178               2907   \n",
              "11  Antonio Robles-Kelly            Professor         3654               1533   \n",
              "12    Jean-Guy Schneider            Professor         1811                642   \n",
              "13            Yong Xiang            Professor         6301               4964   \n",
              "14         John Yearwood            Professor         3785               1990   \n",
              "15      Arkady Zaslavsky            Professor        14923               8324   \n",
              "16    Mohamed Abdelrazek  Associate Professor         1852               1252   \n",
              "17           Andrew Cain  Associate Professor          289                192   \n",
              "18       Richard Dazeley  Associate Professor         1470                948   \n",
              "19        Guangyan Huang  Associate Professor         1125                806   \n",
              "20               Gang Li  Associate Professor         4110               2820   \n",
              "21            Jianxin Li  Associate Professor         1465               1086   \n",
              "22              Xiao Liu  Associate Professor         3219               1749   \n",
              "23             Vicky Mak  Associate Professor          385                227   \n",
              "24            Tim Wilkin  Associate Professor          387                310   \n",
              "25         Abbas Kudrati            Professor           na                 na   \n",
              "\n",
              "   h-index-all h-index-since2016 i10-index-all i10-index-since2016  \n",
              "0           23                16            45                  21  \n",
              "1           na                na            na                  na  \n",
              "2           na                na            na                  na  \n",
              "3           15                11            21                  14  \n",
              "4           42                32           135                  86  \n",
              "5           51                20           176                  36  \n",
              "6           37                29           167                  95  \n",
              "7           33                21           104                  65  \n",
              "8           na                na            na                  na  \n",
              "9           34                14            72                  23  \n",
              "10          38                21           126                  50  \n",
              "11          24                15            62                  27  \n",
              "12          24                15            48                  21  \n",
              "13          40                35           118                  95  \n",
              "14          32                23            92                  45  \n",
              "15          50                33           177                  80  \n",
              "16          16                15            27                  23  \n",
              "17          10                 8            11                   8  \n",
              "18          16                13            24                  15  \n",
              "19          20                18            28                  23  \n",
              "20          28                24            88                  60  \n",
              "21          21                18            39                  32  \n",
              "22          26                20            52                  42  \n",
              "23          11                 8            14                   6  \n",
              "24          10                10            11                  10  \n",
              "25          na                na            na                  na  "
            ],
            "text/html": [
              "<div>\n",
              "<style scoped>\n",
              "    .dataframe tbody tr th:only-of-type {\n",
              "        vertical-align: middle;\n",
              "    }\n",
              "\n",
              "    .dataframe tbody tr th {\n",
              "        vertical-align: top;\n",
              "    }\n",
              "\n",
              "    .dataframe thead th {\n",
              "        text-align: right;\n",
              "    }\n",
              "</style>\n",
              "<table border=\"1\" class=\"dataframe\">\n",
              "  <thead>\n",
              "    <tr style=\"text-align: right;\">\n",
              "      <th></th>\n",
              "      <th>Name</th>\n",
              "      <th>Title</th>\n",
              "      <th>citation-all</th>\n",
              "      <th>citation-since2016</th>\n",
              "      <th>h-index-all</th>\n",
              "      <th>h-index-since2016</th>\n",
              "      <th>i10-index-all</th>\n",
              "      <th>i10-index-since2016</th>\n",
              "    </tr>\n",
              "  </thead>\n",
              "  <tbody>\n",
              "    <tr>\n",
              "      <th>0</th>\n",
              "      <td>Lynn Batten</td>\n",
              "      <td>Emeritus Professor</td>\n",
              "      <td>2527</td>\n",
              "      <td>1171</td>\n",
              "      <td>23</td>\n",
              "      <td>16</td>\n",
              "      <td>45</td>\n",
              "      <td>21</td>\n",
              "    </tr>\n",
              "    <tr>\n",
              "      <th>1</th>\n",
              "      <td>Andrzej Goscinski</td>\n",
              "      <td>Emeritus Professor</td>\n",
              "      <td>na</td>\n",
              "      <td>na</td>\n",
              "      <td>na</td>\n",
              "      <td>na</td>\n",
              "      <td>na</td>\n",
              "      <td>na</td>\n",
              "    </tr>\n",
              "    <tr>\n",
              "      <th>2</th>\n",
              "      <td>Jemal Abawajy</td>\n",
              "      <td>Professor</td>\n",
              "      <td>na</td>\n",
              "      <td>na</td>\n",
              "      <td>na</td>\n",
              "      <td>na</td>\n",
              "      <td>na</td>\n",
              "      <td>na</td>\n",
              "    </tr>\n",
              "    <tr>\n",
              "      <th>3</th>\n",
              "      <td>Maia Angelova</td>\n",
              "      <td>Professor</td>\n",
              "      <td>680</td>\n",
              "      <td>397</td>\n",
              "      <td>15</td>\n",
              "      <td>11</td>\n",
              "      <td>21</td>\n",
              "      <td>14</td>\n",
              "    </tr>\n",
              "    <tr>\n",
              "      <th>4</th>\n",
              "      <td>Gleb Beliakov</td>\n",
              "      <td>Professor</td>\n",
              "      <td>8174</td>\n",
              "      <td>4633</td>\n",
              "      <td>42</td>\n",
              "      <td>32</td>\n",
              "      <td>135</td>\n",
              "      <td>86</td>\n",
              "    </tr>\n",
              "    <tr>\n",
              "      <th>5</th>\n",
              "      <td>Terry Caelli</td>\n",
              "      <td>Professor</td>\n",
              "      <td>8661</td>\n",
              "      <td>1475</td>\n",
              "      <td>51</td>\n",
              "      <td>20</td>\n",
              "      <td>176</td>\n",
              "      <td>36</td>\n",
              "    </tr>\n",
              "    <tr>\n",
              "      <th>6</th>\n",
              "      <td>Jinho Choi</td>\n",
              "      <td>Professor</td>\n",
              "      <td>7812</td>\n",
              "      <td>5021</td>\n",
              "      <td>37</td>\n",
              "      <td>29</td>\n",
              "      <td>167</td>\n",
              "      <td>95</td>\n",
              "    </tr>\n",
              "    <tr>\n",
              "      <th>7</th>\n",
              "      <td>Chang-Tsun Li</td>\n",
              "      <td>Professor</td>\n",
              "      <td>4341</td>\n",
              "      <td>2336</td>\n",
              "      <td>33</td>\n",
              "      <td>21</td>\n",
              "      <td>104</td>\n",
              "      <td>65</td>\n",
              "    </tr>\n",
              "    <tr>\n",
              "      <th>8</th>\n",
              "      <td>Robin Doss</td>\n",
              "      <td>Professor</td>\n",
              "      <td>na</td>\n",
              "      <td>na</td>\n",
              "      <td>na</td>\n",
              "      <td>na</td>\n",
              "      <td>na</td>\n",
              "      <td>na</td>\n",
              "    </tr>\n",
              "    <tr>\n",
              "      <th>9</th>\n",
              "      <td>Peter Eklund</td>\n",
              "      <td>Professor</td>\n",
              "      <td>3963</td>\n",
              "      <td>779</td>\n",
              "      <td>34</td>\n",
              "      <td>14</td>\n",
              "      <td>72</td>\n",
              "      <td>23</td>\n",
              "    </tr>\n",
              "    <tr>\n",
              "      <th>10</th>\n",
              "      <td>Seng Loke</td>\n",
              "      <td>Professor</td>\n",
              "      <td>7178</td>\n",
              "      <td>2907</td>\n",
              "      <td>38</td>\n",
              "      <td>21</td>\n",
              "      <td>126</td>\n",
              "      <td>50</td>\n",
              "    </tr>\n",
              "    <tr>\n",
              "      <th>11</th>\n",
              "      <td>Antonio Robles-Kelly</td>\n",
              "      <td>Professor</td>\n",
              "      <td>3654</td>\n",
              "      <td>1533</td>\n",
              "      <td>24</td>\n",
              "      <td>15</td>\n",
              "      <td>62</td>\n",
              "      <td>27</td>\n",
              "    </tr>\n",
              "    <tr>\n",
              "      <th>12</th>\n",
              "      <td>Jean-Guy Schneider</td>\n",
              "      <td>Professor</td>\n",
              "      <td>1811</td>\n",
              "      <td>642</td>\n",
              "      <td>24</td>\n",
              "      <td>15</td>\n",
              "      <td>48</td>\n",
              "      <td>21</td>\n",
              "    </tr>\n",
              "    <tr>\n",
              "      <th>13</th>\n",
              "      <td>Yong Xiang</td>\n",
              "      <td>Professor</td>\n",
              "      <td>6301</td>\n",
              "      <td>4964</td>\n",
              "      <td>40</td>\n",
              "      <td>35</td>\n",
              "      <td>118</td>\n",
              "      <td>95</td>\n",
              "    </tr>\n",
              "    <tr>\n",
              "      <th>14</th>\n",
              "      <td>John Yearwood</td>\n",
              "      <td>Professor</td>\n",
              "      <td>3785</td>\n",
              "      <td>1990</td>\n",
              "      <td>32</td>\n",
              "      <td>23</td>\n",
              "      <td>92</td>\n",
              "      <td>45</td>\n",
              "    </tr>\n",
              "    <tr>\n",
              "      <th>15</th>\n",
              "      <td>Arkady Zaslavsky</td>\n",
              "      <td>Professor</td>\n",
              "      <td>14923</td>\n",
              "      <td>8324</td>\n",
              "      <td>50</td>\n",
              "      <td>33</td>\n",
              "      <td>177</td>\n",
              "      <td>80</td>\n",
              "    </tr>\n",
              "    <tr>\n",
              "      <th>16</th>\n",
              "      <td>Mohamed Abdelrazek</td>\n",
              "      <td>Associate Professor</td>\n",
              "      <td>1852</td>\n",
              "      <td>1252</td>\n",
              "      <td>16</td>\n",
              "      <td>15</td>\n",
              "      <td>27</td>\n",
              "      <td>23</td>\n",
              "    </tr>\n",
              "    <tr>\n",
              "      <th>17</th>\n",
              "      <td>Andrew Cain</td>\n",
              "      <td>Associate Professor</td>\n",
              "      <td>289</td>\n",
              "      <td>192</td>\n",
              "      <td>10</td>\n",
              "      <td>8</td>\n",
              "      <td>11</td>\n",
              "      <td>8</td>\n",
              "    </tr>\n",
              "    <tr>\n",
              "      <th>18</th>\n",
              "      <td>Richard Dazeley</td>\n",
              "      <td>Associate Professor</td>\n",
              "      <td>1470</td>\n",
              "      <td>948</td>\n",
              "      <td>16</td>\n",
              "      <td>13</td>\n",
              "      <td>24</td>\n",
              "      <td>15</td>\n",
              "    </tr>\n",
              "    <tr>\n",
              "      <th>19</th>\n",
              "      <td>Guangyan Huang</td>\n",
              "      <td>Associate Professor</td>\n",
              "      <td>1125</td>\n",
              "      <td>806</td>\n",
              "      <td>20</td>\n",
              "      <td>18</td>\n",
              "      <td>28</td>\n",
              "      <td>23</td>\n",
              "    </tr>\n",
              "    <tr>\n",
              "      <th>20</th>\n",
              "      <td>Gang Li</td>\n",
              "      <td>Associate Professor</td>\n",
              "      <td>4110</td>\n",
              "      <td>2820</td>\n",
              "      <td>28</td>\n",
              "      <td>24</td>\n",
              "      <td>88</td>\n",
              "      <td>60</td>\n",
              "    </tr>\n",
              "    <tr>\n",
              "      <th>21</th>\n",
              "      <td>Jianxin Li</td>\n",
              "      <td>Associate Professor</td>\n",
              "      <td>1465</td>\n",
              "      <td>1086</td>\n",
              "      <td>21</td>\n",
              "      <td>18</td>\n",
              "      <td>39</td>\n",
              "      <td>32</td>\n",
              "    </tr>\n",
              "    <tr>\n",
              "      <th>22</th>\n",
              "      <td>Xiao Liu</td>\n",
              "      <td>Associate Professor</td>\n",
              "      <td>3219</td>\n",
              "      <td>1749</td>\n",
              "      <td>26</td>\n",
              "      <td>20</td>\n",
              "      <td>52</td>\n",
              "      <td>42</td>\n",
              "    </tr>\n",
              "    <tr>\n",
              "      <th>23</th>\n",
              "      <td>Vicky Mak</td>\n",
              "      <td>Associate Professor</td>\n",
              "      <td>385</td>\n",
              "      <td>227</td>\n",
              "      <td>11</td>\n",
              "      <td>8</td>\n",
              "      <td>14</td>\n",
              "      <td>6</td>\n",
              "    </tr>\n",
              "    <tr>\n",
              "      <th>24</th>\n",
              "      <td>Tim Wilkin</td>\n",
              "      <td>Associate Professor</td>\n",
              "      <td>387</td>\n",
              "      <td>310</td>\n",
              "      <td>10</td>\n",
              "      <td>10</td>\n",
              "      <td>11</td>\n",
              "      <td>10</td>\n",
              "    </tr>\n",
              "    <tr>\n",
              "      <th>25</th>\n",
              "      <td>Abbas Kudrati</td>\n",
              "      <td>Professor</td>\n",
              "      <td>na</td>\n",
              "      <td>na</td>\n",
              "      <td>na</td>\n",
              "      <td>na</td>\n",
              "      <td>na</td>\n",
              "      <td>na</td>\n",
              "    </tr>\n",
              "  </tbody>\n",
              "</table>\n",
              "</div>"
            ]
          },
          "metadata": {
            "tags": []
          },
          "execution_count": 163
        }
      ]
    },
    {
      "cell_type": "code",
      "metadata": {
        "id": "GUZieoEkrd1D"
      },
      "source": [
        "# save csv\n",
        "#cp_professor_citation.to_csv('Professor-citation-information.csv', index =False)"
      ],
      "execution_count": null,
      "outputs": []
    },
    {
      "cell_type": "markdown",
      "metadata": {
        "id": "7xxoyZvzxgmK"
      },
      "source": [
        "### 4.2 Find out the professor name having the most citations \n",
        "\n",
        "<div class=\"alert alert-block alert-warning\">\n",
        "\n",
        "**Code**: \n",
        "    Find out the professor name having the most citations (please remove those professor who does not have google scholar page)\n",
        "\n",
        "<div class=\"alert alert-block alert-warning\">\n",
        "    \n",
        "**Report**: \n",
        "    **Part II 4.2** Please include your result for this coding task into your report Part II, with proper section title '4.2'.\n",
        "</div>\n"
      ]
    },
    {
      "cell_type": "code",
      "metadata": {
        "id": "IjkstX6grd1D",
        "outputId": "c0d18386-3cd3-47d6-a0ea-79d22dc1c3c6"
      },
      "source": [
        "professor_citation_clean = cp_professor_citation.copy()\n",
        "\n",
        "professor_citation_clean = professor_citation_clean\\\n",
        "                            .replace('na', np.nan)\\\n",
        "                            .dropna(how = 'any', axis = 0)\\\n",
        "                            .set_index('Name')\n",
        "\n",
        "# convert data type                            \n",
        "int_columns = professor_citation_clean.columns.drop('Title')\n",
        "\n",
        "professor_citation_clean[int_columns] = professor_citation_clean[int_columns].apply(pd.to_numeric)\n",
        "\n",
        "print(professor_citation_clean.dtypes)\n",
        "professor_citation_clean"
      ],
      "execution_count": null,
      "outputs": [
        {
          "output_type": "stream",
          "text": [
            "Title                  object\n",
            "citation-all            int64\n",
            "citation-since2016      int64\n",
            "h-index-all             int64\n",
            "h-index-since2016       int64\n",
            "i10-index-all           int64\n",
            "i10-index-since2016     int64\n",
            "dtype: object\n"
          ],
          "name": "stdout"
        },
        {
          "output_type": "execute_result",
          "data": {
            "text/plain": [
              "                                    Title  citation-all  citation-since2016  \\\n",
              "Name                                                                          \n",
              "Lynn Batten            Emeritus Professor          2527                1171   \n",
              "Maia Angelova                   Professor           680                 397   \n",
              "Gleb Beliakov                   Professor          8174                4633   \n",
              "Terry Caelli                    Professor          8661                1475   \n",
              "Jinho Choi                      Professor          7812                5021   \n",
              "Chang-Tsun Li                   Professor          4341                2336   \n",
              "Peter Eklund                    Professor          3963                 779   \n",
              "Seng Loke                       Professor          7178                2907   \n",
              "Antonio Robles-Kelly            Professor          3654                1533   \n",
              "Jean-Guy Schneider              Professor          1811                 642   \n",
              "Yong Xiang                      Professor          6301                4964   \n",
              "John Yearwood                   Professor          3785                1990   \n",
              "Arkady Zaslavsky                Professor         14923                8324   \n",
              "Mohamed Abdelrazek    Associate Professor          1852                1252   \n",
              "Andrew Cain           Associate Professor           289                 192   \n",
              "Richard Dazeley       Associate Professor          1470                 948   \n",
              "Guangyan Huang        Associate Professor          1125                 806   \n",
              "Gang Li               Associate Professor          4110                2820   \n",
              "Jianxin Li            Associate Professor          1465                1086   \n",
              "Xiao Liu              Associate Professor          3219                1749   \n",
              "Vicky Mak             Associate Professor           385                 227   \n",
              "Tim Wilkin            Associate Professor           387                 310   \n",
              "\n",
              "                      h-index-all  h-index-since2016  i10-index-all  \\\n",
              "Name                                                                  \n",
              "Lynn Batten                    23                 16             45   \n",
              "Maia Angelova                  15                 11             21   \n",
              "Gleb Beliakov                  42                 32            135   \n",
              "Terry Caelli                   51                 20            176   \n",
              "Jinho Choi                     37                 29            167   \n",
              "Chang-Tsun Li                  33                 21            104   \n",
              "Peter Eklund                   34                 14             72   \n",
              "Seng Loke                      38                 21            126   \n",
              "Antonio Robles-Kelly           24                 15             62   \n",
              "Jean-Guy Schneider             24                 15             48   \n",
              "Yong Xiang                     40                 35            118   \n",
              "John Yearwood                  32                 23             92   \n",
              "Arkady Zaslavsky               50                 33            177   \n",
              "Mohamed Abdelrazek             16                 15             27   \n",
              "Andrew Cain                    10                  8             11   \n",
              "Richard Dazeley                16                 13             24   \n",
              "Guangyan Huang                 20                 18             28   \n",
              "Gang Li                        28                 24             88   \n",
              "Jianxin Li                     21                 18             39   \n",
              "Xiao Liu                       26                 20             52   \n",
              "Vicky Mak                      11                  8             14   \n",
              "Tim Wilkin                     10                 10             11   \n",
              "\n",
              "                      i10-index-since2016  \n",
              "Name                                       \n",
              "Lynn Batten                            21  \n",
              "Maia Angelova                          14  \n",
              "Gleb Beliakov                          86  \n",
              "Terry Caelli                           36  \n",
              "Jinho Choi                             95  \n",
              "Chang-Tsun Li                          65  \n",
              "Peter Eklund                           23  \n",
              "Seng Loke                              50  \n",
              "Antonio Robles-Kelly                   27  \n",
              "Jean-Guy Schneider                     21  \n",
              "Yong Xiang                             95  \n",
              "John Yearwood                          45  \n",
              "Arkady Zaslavsky                       80  \n",
              "Mohamed Abdelrazek                     23  \n",
              "Andrew Cain                             8  \n",
              "Richard Dazeley                        15  \n",
              "Guangyan Huang                         23  \n",
              "Gang Li                                60  \n",
              "Jianxin Li                             32  \n",
              "Xiao Liu                               42  \n",
              "Vicky Mak                               6  \n",
              "Tim Wilkin                             10  "
            ],
            "text/html": [
              "<div>\n",
              "<style scoped>\n",
              "    .dataframe tbody tr th:only-of-type {\n",
              "        vertical-align: middle;\n",
              "    }\n",
              "\n",
              "    .dataframe tbody tr th {\n",
              "        vertical-align: top;\n",
              "    }\n",
              "\n",
              "    .dataframe thead th {\n",
              "        text-align: right;\n",
              "    }\n",
              "</style>\n",
              "<table border=\"1\" class=\"dataframe\">\n",
              "  <thead>\n",
              "    <tr style=\"text-align: right;\">\n",
              "      <th></th>\n",
              "      <th>Title</th>\n",
              "      <th>citation-all</th>\n",
              "      <th>citation-since2016</th>\n",
              "      <th>h-index-all</th>\n",
              "      <th>h-index-since2016</th>\n",
              "      <th>i10-index-all</th>\n",
              "      <th>i10-index-since2016</th>\n",
              "    </tr>\n",
              "    <tr>\n",
              "      <th>Name</th>\n",
              "      <th></th>\n",
              "      <th></th>\n",
              "      <th></th>\n",
              "      <th></th>\n",
              "      <th></th>\n",
              "      <th></th>\n",
              "      <th></th>\n",
              "    </tr>\n",
              "  </thead>\n",
              "  <tbody>\n",
              "    <tr>\n",
              "      <th>Lynn Batten</th>\n",
              "      <td>Emeritus Professor</td>\n",
              "      <td>2527</td>\n",
              "      <td>1171</td>\n",
              "      <td>23</td>\n",
              "      <td>16</td>\n",
              "      <td>45</td>\n",
              "      <td>21</td>\n",
              "    </tr>\n",
              "    <tr>\n",
              "      <th>Maia Angelova</th>\n",
              "      <td>Professor</td>\n",
              "      <td>680</td>\n",
              "      <td>397</td>\n",
              "      <td>15</td>\n",
              "      <td>11</td>\n",
              "      <td>21</td>\n",
              "      <td>14</td>\n",
              "    </tr>\n",
              "    <tr>\n",
              "      <th>Gleb Beliakov</th>\n",
              "      <td>Professor</td>\n",
              "      <td>8174</td>\n",
              "      <td>4633</td>\n",
              "      <td>42</td>\n",
              "      <td>32</td>\n",
              "      <td>135</td>\n",
              "      <td>86</td>\n",
              "    </tr>\n",
              "    <tr>\n",
              "      <th>Terry Caelli</th>\n",
              "      <td>Professor</td>\n",
              "      <td>8661</td>\n",
              "      <td>1475</td>\n",
              "      <td>51</td>\n",
              "      <td>20</td>\n",
              "      <td>176</td>\n",
              "      <td>36</td>\n",
              "    </tr>\n",
              "    <tr>\n",
              "      <th>Jinho Choi</th>\n",
              "      <td>Professor</td>\n",
              "      <td>7812</td>\n",
              "      <td>5021</td>\n",
              "      <td>37</td>\n",
              "      <td>29</td>\n",
              "      <td>167</td>\n",
              "      <td>95</td>\n",
              "    </tr>\n",
              "    <tr>\n",
              "      <th>Chang-Tsun Li</th>\n",
              "      <td>Professor</td>\n",
              "      <td>4341</td>\n",
              "      <td>2336</td>\n",
              "      <td>33</td>\n",
              "      <td>21</td>\n",
              "      <td>104</td>\n",
              "      <td>65</td>\n",
              "    </tr>\n",
              "    <tr>\n",
              "      <th>Peter Eklund</th>\n",
              "      <td>Professor</td>\n",
              "      <td>3963</td>\n",
              "      <td>779</td>\n",
              "      <td>34</td>\n",
              "      <td>14</td>\n",
              "      <td>72</td>\n",
              "      <td>23</td>\n",
              "    </tr>\n",
              "    <tr>\n",
              "      <th>Seng Loke</th>\n",
              "      <td>Professor</td>\n",
              "      <td>7178</td>\n",
              "      <td>2907</td>\n",
              "      <td>38</td>\n",
              "      <td>21</td>\n",
              "      <td>126</td>\n",
              "      <td>50</td>\n",
              "    </tr>\n",
              "    <tr>\n",
              "      <th>Antonio Robles-Kelly</th>\n",
              "      <td>Professor</td>\n",
              "      <td>3654</td>\n",
              "      <td>1533</td>\n",
              "      <td>24</td>\n",
              "      <td>15</td>\n",
              "      <td>62</td>\n",
              "      <td>27</td>\n",
              "    </tr>\n",
              "    <tr>\n",
              "      <th>Jean-Guy Schneider</th>\n",
              "      <td>Professor</td>\n",
              "      <td>1811</td>\n",
              "      <td>642</td>\n",
              "      <td>24</td>\n",
              "      <td>15</td>\n",
              "      <td>48</td>\n",
              "      <td>21</td>\n",
              "    </tr>\n",
              "    <tr>\n",
              "      <th>Yong Xiang</th>\n",
              "      <td>Professor</td>\n",
              "      <td>6301</td>\n",
              "      <td>4964</td>\n",
              "      <td>40</td>\n",
              "      <td>35</td>\n",
              "      <td>118</td>\n",
              "      <td>95</td>\n",
              "    </tr>\n",
              "    <tr>\n",
              "      <th>John Yearwood</th>\n",
              "      <td>Professor</td>\n",
              "      <td>3785</td>\n",
              "      <td>1990</td>\n",
              "      <td>32</td>\n",
              "      <td>23</td>\n",
              "      <td>92</td>\n",
              "      <td>45</td>\n",
              "    </tr>\n",
              "    <tr>\n",
              "      <th>Arkady Zaslavsky</th>\n",
              "      <td>Professor</td>\n",
              "      <td>14923</td>\n",
              "      <td>8324</td>\n",
              "      <td>50</td>\n",
              "      <td>33</td>\n",
              "      <td>177</td>\n",
              "      <td>80</td>\n",
              "    </tr>\n",
              "    <tr>\n",
              "      <th>Mohamed Abdelrazek</th>\n",
              "      <td>Associate Professor</td>\n",
              "      <td>1852</td>\n",
              "      <td>1252</td>\n",
              "      <td>16</td>\n",
              "      <td>15</td>\n",
              "      <td>27</td>\n",
              "      <td>23</td>\n",
              "    </tr>\n",
              "    <tr>\n",
              "      <th>Andrew Cain</th>\n",
              "      <td>Associate Professor</td>\n",
              "      <td>289</td>\n",
              "      <td>192</td>\n",
              "      <td>10</td>\n",
              "      <td>8</td>\n",
              "      <td>11</td>\n",
              "      <td>8</td>\n",
              "    </tr>\n",
              "    <tr>\n",
              "      <th>Richard Dazeley</th>\n",
              "      <td>Associate Professor</td>\n",
              "      <td>1470</td>\n",
              "      <td>948</td>\n",
              "      <td>16</td>\n",
              "      <td>13</td>\n",
              "      <td>24</td>\n",
              "      <td>15</td>\n",
              "    </tr>\n",
              "    <tr>\n",
              "      <th>Guangyan Huang</th>\n",
              "      <td>Associate Professor</td>\n",
              "      <td>1125</td>\n",
              "      <td>806</td>\n",
              "      <td>20</td>\n",
              "      <td>18</td>\n",
              "      <td>28</td>\n",
              "      <td>23</td>\n",
              "    </tr>\n",
              "    <tr>\n",
              "      <th>Gang Li</th>\n",
              "      <td>Associate Professor</td>\n",
              "      <td>4110</td>\n",
              "      <td>2820</td>\n",
              "      <td>28</td>\n",
              "      <td>24</td>\n",
              "      <td>88</td>\n",
              "      <td>60</td>\n",
              "    </tr>\n",
              "    <tr>\n",
              "      <th>Jianxin Li</th>\n",
              "      <td>Associate Professor</td>\n",
              "      <td>1465</td>\n",
              "      <td>1086</td>\n",
              "      <td>21</td>\n",
              "      <td>18</td>\n",
              "      <td>39</td>\n",
              "      <td>32</td>\n",
              "    </tr>\n",
              "    <tr>\n",
              "      <th>Xiao Liu</th>\n",
              "      <td>Associate Professor</td>\n",
              "      <td>3219</td>\n",
              "      <td>1749</td>\n",
              "      <td>26</td>\n",
              "      <td>20</td>\n",
              "      <td>52</td>\n",
              "      <td>42</td>\n",
              "    </tr>\n",
              "    <tr>\n",
              "      <th>Vicky Mak</th>\n",
              "      <td>Associate Professor</td>\n",
              "      <td>385</td>\n",
              "      <td>227</td>\n",
              "      <td>11</td>\n",
              "      <td>8</td>\n",
              "      <td>14</td>\n",
              "      <td>6</td>\n",
              "    </tr>\n",
              "    <tr>\n",
              "      <th>Tim Wilkin</th>\n",
              "      <td>Associate Professor</td>\n",
              "      <td>387</td>\n",
              "      <td>310</td>\n",
              "      <td>10</td>\n",
              "      <td>10</td>\n",
              "      <td>11</td>\n",
              "      <td>10</td>\n",
              "    </tr>\n",
              "  </tbody>\n",
              "</table>\n",
              "</div>"
            ]
          },
          "metadata": {
            "tags": []
          },
          "execution_count": 165
        }
      ]
    },
    {
      "cell_type": "code",
      "metadata": {
        "id": "ay_z3pC8xntr",
        "outputId": "7a69708f-f008-4756-9c55-7356b89b590a"
      },
      "source": [
        "# find out the professor name having the most citations (please remove those professor who does not have google scholar page)\n",
        "# write your code here\n",
        "professor_citation_clean['citation-all'].sort_values(ascending =False)"
      ],
      "execution_count": null,
      "outputs": [
        {
          "output_type": "execute_result",
          "data": {
            "text/plain": [
              "Name\n",
              "Arkady Zaslavsky        14923\n",
              "Terry Caelli             8661\n",
              "Gleb Beliakov            8174\n",
              "Jinho Choi               7812\n",
              "Seng Loke                7178\n",
              "Yong Xiang               6301\n",
              "Chang-Tsun Li            4341\n",
              "Gang Li                  4110\n",
              "Peter Eklund             3963\n",
              "John Yearwood            3785\n",
              "Antonio Robles-Kelly     3654\n",
              "Xiao Liu                 3219\n",
              "Lynn Batten              2527\n",
              "Mohamed Abdelrazek       1852\n",
              "Jean-Guy Schneider       1811\n",
              "Richard Dazeley          1470\n",
              "Jianxin Li               1465\n",
              "Guangyan Huang           1125\n",
              "Maia Angelova             680\n",
              "Tim Wilkin                387\n",
              "Vicky Mak                 385\n",
              "Andrew Cain               289\n",
              "Name: citation-all, dtype: int64"
            ]
          },
          "metadata": {
            "tags": []
          },
          "execution_count": 166
        }
      ]
    },
    {
      "cell_type": "markdown",
      "metadata": {
        "id": "MTlPxwg5xo_U"
      },
      "source": [
        "### 4.3 Find out the row for associate professor having the most i10-index since 2016 \n",
        "<div class=\"alert alert-block alert-warning\">\n",
        "\n",
        "**Code**: \n",
        "    Find out the row for associate professor having the most i10-index since 2016 (please remove those professor who does not have google scholar page)\n",
        "\n",
        "<div class=\"alert alert-block alert-warning\">\n",
        "    \n",
        "**Report**: \n",
        "    **Part II 4.3** Please include your result for this coding task into your report Part II, with proper section title '4.3'.\n",
        "</div>\n"
      ]
    },
    {
      "cell_type": "code",
      "metadata": {
        "id": "MjpexWtRxwA5",
        "outputId": "ce123cff-df14-4d13-d299-63bbee72137d"
      },
      "source": [
        "# find out the row for associate professor having the most i10_index since 2016 (please remove those professor who does not have google scholar page)\n",
        "# write your code here\n",
        "condition = (professor_citation_clean['Title'] == 'Associate Professor')\n",
        "\n",
        "professor_citation_clean[condition].sort_values(by = 'i10-index-since2016',ascending = False)"
      ],
      "execution_count": null,
      "outputs": [
        {
          "output_type": "execute_result",
          "data": {
            "text/plain": [
              "                                  Title  citation-all  citation-since2016  \\\n",
              "Name                                                                        \n",
              "Gang Li             Associate Professor          4110                2820   \n",
              "Xiao Liu            Associate Professor          3219                1749   \n",
              "Jianxin Li          Associate Professor          1465                1086   \n",
              "Mohamed Abdelrazek  Associate Professor          1852                1252   \n",
              "Guangyan Huang      Associate Professor          1125                 806   \n",
              "Richard Dazeley     Associate Professor          1470                 948   \n",
              "Tim Wilkin          Associate Professor           387                 310   \n",
              "Andrew Cain         Associate Professor           289                 192   \n",
              "Vicky Mak           Associate Professor           385                 227   \n",
              "\n",
              "                    h-index-all  h-index-since2016  i10-index-all  \\\n",
              "Name                                                                \n",
              "Gang Li                      28                 24             88   \n",
              "Xiao Liu                     26                 20             52   \n",
              "Jianxin Li                   21                 18             39   \n",
              "Mohamed Abdelrazek           16                 15             27   \n",
              "Guangyan Huang               20                 18             28   \n",
              "Richard Dazeley              16                 13             24   \n",
              "Tim Wilkin                   10                 10             11   \n",
              "Andrew Cain                  10                  8             11   \n",
              "Vicky Mak                    11                  8             14   \n",
              "\n",
              "                    i10-index-since2016  \n",
              "Name                                     \n",
              "Gang Li                              60  \n",
              "Xiao Liu                             42  \n",
              "Jianxin Li                           32  \n",
              "Mohamed Abdelrazek                   23  \n",
              "Guangyan Huang                       23  \n",
              "Richard Dazeley                      15  \n",
              "Tim Wilkin                           10  \n",
              "Andrew Cain                           8  \n",
              "Vicky Mak                             6  "
            ],
            "text/html": [
              "<div>\n",
              "<style scoped>\n",
              "    .dataframe tbody tr th:only-of-type {\n",
              "        vertical-align: middle;\n",
              "    }\n",
              "\n",
              "    .dataframe tbody tr th {\n",
              "        vertical-align: top;\n",
              "    }\n",
              "\n",
              "    .dataframe thead th {\n",
              "        text-align: right;\n",
              "    }\n",
              "</style>\n",
              "<table border=\"1\" class=\"dataframe\">\n",
              "  <thead>\n",
              "    <tr style=\"text-align: right;\">\n",
              "      <th></th>\n",
              "      <th>Title</th>\n",
              "      <th>citation-all</th>\n",
              "      <th>citation-since2016</th>\n",
              "      <th>h-index-all</th>\n",
              "      <th>h-index-since2016</th>\n",
              "      <th>i10-index-all</th>\n",
              "      <th>i10-index-since2016</th>\n",
              "    </tr>\n",
              "    <tr>\n",
              "      <th>Name</th>\n",
              "      <th></th>\n",
              "      <th></th>\n",
              "      <th></th>\n",
              "      <th></th>\n",
              "      <th></th>\n",
              "      <th></th>\n",
              "      <th></th>\n",
              "    </tr>\n",
              "  </thead>\n",
              "  <tbody>\n",
              "    <tr>\n",
              "      <th>Gang Li</th>\n",
              "      <td>Associate Professor</td>\n",
              "      <td>4110</td>\n",
              "      <td>2820</td>\n",
              "      <td>28</td>\n",
              "      <td>24</td>\n",
              "      <td>88</td>\n",
              "      <td>60</td>\n",
              "    </tr>\n",
              "    <tr>\n",
              "      <th>Xiao Liu</th>\n",
              "      <td>Associate Professor</td>\n",
              "      <td>3219</td>\n",
              "      <td>1749</td>\n",
              "      <td>26</td>\n",
              "      <td>20</td>\n",
              "      <td>52</td>\n",
              "      <td>42</td>\n",
              "    </tr>\n",
              "    <tr>\n",
              "      <th>Jianxin Li</th>\n",
              "      <td>Associate Professor</td>\n",
              "      <td>1465</td>\n",
              "      <td>1086</td>\n",
              "      <td>21</td>\n",
              "      <td>18</td>\n",
              "      <td>39</td>\n",
              "      <td>32</td>\n",
              "    </tr>\n",
              "    <tr>\n",
              "      <th>Mohamed Abdelrazek</th>\n",
              "      <td>Associate Professor</td>\n",
              "      <td>1852</td>\n",
              "      <td>1252</td>\n",
              "      <td>16</td>\n",
              "      <td>15</td>\n",
              "      <td>27</td>\n",
              "      <td>23</td>\n",
              "    </tr>\n",
              "    <tr>\n",
              "      <th>Guangyan Huang</th>\n",
              "      <td>Associate Professor</td>\n",
              "      <td>1125</td>\n",
              "      <td>806</td>\n",
              "      <td>20</td>\n",
              "      <td>18</td>\n",
              "      <td>28</td>\n",
              "      <td>23</td>\n",
              "    </tr>\n",
              "    <tr>\n",
              "      <th>Richard Dazeley</th>\n",
              "      <td>Associate Professor</td>\n",
              "      <td>1470</td>\n",
              "      <td>948</td>\n",
              "      <td>16</td>\n",
              "      <td>13</td>\n",
              "      <td>24</td>\n",
              "      <td>15</td>\n",
              "    </tr>\n",
              "    <tr>\n",
              "      <th>Tim Wilkin</th>\n",
              "      <td>Associate Professor</td>\n",
              "      <td>387</td>\n",
              "      <td>310</td>\n",
              "      <td>10</td>\n",
              "      <td>10</td>\n",
              "      <td>11</td>\n",
              "      <td>10</td>\n",
              "    </tr>\n",
              "    <tr>\n",
              "      <th>Andrew Cain</th>\n",
              "      <td>Associate Professor</td>\n",
              "      <td>289</td>\n",
              "      <td>192</td>\n",
              "      <td>10</td>\n",
              "      <td>8</td>\n",
              "      <td>11</td>\n",
              "      <td>8</td>\n",
              "    </tr>\n",
              "    <tr>\n",
              "      <th>Vicky Mak</th>\n",
              "      <td>Associate Professor</td>\n",
              "      <td>385</td>\n",
              "      <td>227</td>\n",
              "      <td>11</td>\n",
              "      <td>8</td>\n",
              "      <td>14</td>\n",
              "      <td>6</td>\n",
              "    </tr>\n",
              "  </tbody>\n",
              "</table>\n",
              "</div>"
            ]
          },
          "metadata": {
            "tags": []
          },
          "execution_count": 167
        }
      ]
    },
    {
      "cell_type": "markdown",
      "metadata": {
        "id": "lsHSp2H9xxRg"
      },
      "source": [
        "### 4.4 Find out all the professors name who has the citations_since2016 > 2500\n",
        "<div class=\"alert alert-block alert-warning\">\n",
        "\n",
        "**Code**: \n",
        "    Find out the row for associate professor having the most i10-index since 2016 (please remove those professor who does not have google scholar page)\n",
        "\n",
        "<div class=\"alert alert-block alert-warning\">\n",
        "    \n",
        "**Report**: \n",
        "    **Part II 4.4** Please include your result for this coding task into your report Part II, with proper section title '4.4'.\n",
        "</div>\n"
      ]
    },
    {
      "cell_type": "code",
      "metadata": {
        "id": "ZD352krRx5Dk",
        "outputId": "57d4228f-de25-4954-e804-b17a4ef32d66"
      },
      "source": [
        "# find out all the professors name who has the citations_since2016 > 2500\n",
        "# write your code here\n",
        "con_1 = (professor_citation_clean['Title'] == 'Associate Professor')\n",
        "con_2 = (professor_citation_clean['Title'] == 'Professor')\n",
        "con_3 = (professor_citation_clean['citation-since2016'] >2500)\n",
        "\n",
        "professor_citation_clean[(con_1 | con_2) & con_3].sort_values(by = 'citation-since2016')"
      ],
      "execution_count": null,
      "outputs": [
        {
          "output_type": "execute_result",
          "data": {
            "text/plain": [
              "                                Title  citation-all  citation-since2016  \\\n",
              "Name                                                                      \n",
              "Gang Li           Associate Professor          4110                2820   \n",
              "Seng Loke                   Professor          7178                2907   \n",
              "Gleb Beliakov               Professor          8174                4633   \n",
              "Yong Xiang                  Professor          6301                4964   \n",
              "Jinho Choi                  Professor          7812                5021   \n",
              "Arkady Zaslavsky            Professor         14923                8324   \n",
              "\n",
              "                  h-index-all  h-index-since2016  i10-index-all  \\\n",
              "Name                                                              \n",
              "Gang Li                    28                 24             88   \n",
              "Seng Loke                  38                 21            126   \n",
              "Gleb Beliakov              42                 32            135   \n",
              "Yong Xiang                 40                 35            118   \n",
              "Jinho Choi                 37                 29            167   \n",
              "Arkady Zaslavsky           50                 33            177   \n",
              "\n",
              "                  i10-index-since2016  \n",
              "Name                                   \n",
              "Gang Li                            60  \n",
              "Seng Loke                          50  \n",
              "Gleb Beliakov                      86  \n",
              "Yong Xiang                         95  \n",
              "Jinho Choi                         95  \n",
              "Arkady Zaslavsky                   80  "
            ],
            "text/html": [
              "<div>\n",
              "<style scoped>\n",
              "    .dataframe tbody tr th:only-of-type {\n",
              "        vertical-align: middle;\n",
              "    }\n",
              "\n",
              "    .dataframe tbody tr th {\n",
              "        vertical-align: top;\n",
              "    }\n",
              "\n",
              "    .dataframe thead th {\n",
              "        text-align: right;\n",
              "    }\n",
              "</style>\n",
              "<table border=\"1\" class=\"dataframe\">\n",
              "  <thead>\n",
              "    <tr style=\"text-align: right;\">\n",
              "      <th></th>\n",
              "      <th>Title</th>\n",
              "      <th>citation-all</th>\n",
              "      <th>citation-since2016</th>\n",
              "      <th>h-index-all</th>\n",
              "      <th>h-index-since2016</th>\n",
              "      <th>i10-index-all</th>\n",
              "      <th>i10-index-since2016</th>\n",
              "    </tr>\n",
              "    <tr>\n",
              "      <th>Name</th>\n",
              "      <th></th>\n",
              "      <th></th>\n",
              "      <th></th>\n",
              "      <th></th>\n",
              "      <th></th>\n",
              "      <th></th>\n",
              "      <th></th>\n",
              "    </tr>\n",
              "  </thead>\n",
              "  <tbody>\n",
              "    <tr>\n",
              "      <th>Gang Li</th>\n",
              "      <td>Associate Professor</td>\n",
              "      <td>4110</td>\n",
              "      <td>2820</td>\n",
              "      <td>28</td>\n",
              "      <td>24</td>\n",
              "      <td>88</td>\n",
              "      <td>60</td>\n",
              "    </tr>\n",
              "    <tr>\n",
              "      <th>Seng Loke</th>\n",
              "      <td>Professor</td>\n",
              "      <td>7178</td>\n",
              "      <td>2907</td>\n",
              "      <td>38</td>\n",
              "      <td>21</td>\n",
              "      <td>126</td>\n",
              "      <td>50</td>\n",
              "    </tr>\n",
              "    <tr>\n",
              "      <th>Gleb Beliakov</th>\n",
              "      <td>Professor</td>\n",
              "      <td>8174</td>\n",
              "      <td>4633</td>\n",
              "      <td>42</td>\n",
              "      <td>32</td>\n",
              "      <td>135</td>\n",
              "      <td>86</td>\n",
              "    </tr>\n",
              "    <tr>\n",
              "      <th>Yong Xiang</th>\n",
              "      <td>Professor</td>\n",
              "      <td>6301</td>\n",
              "      <td>4964</td>\n",
              "      <td>40</td>\n",
              "      <td>35</td>\n",
              "      <td>118</td>\n",
              "      <td>95</td>\n",
              "    </tr>\n",
              "    <tr>\n",
              "      <th>Jinho Choi</th>\n",
              "      <td>Professor</td>\n",
              "      <td>7812</td>\n",
              "      <td>5021</td>\n",
              "      <td>37</td>\n",
              "      <td>29</td>\n",
              "      <td>167</td>\n",
              "      <td>95</td>\n",
              "    </tr>\n",
              "    <tr>\n",
              "      <th>Arkady Zaslavsky</th>\n",
              "      <td>Professor</td>\n",
              "      <td>14923</td>\n",
              "      <td>8324</td>\n",
              "      <td>50</td>\n",
              "      <td>33</td>\n",
              "      <td>177</td>\n",
              "      <td>80</td>\n",
              "    </tr>\n",
              "  </tbody>\n",
              "</table>\n",
              "</div>"
            ]
          },
          "metadata": {
            "tags": []
          },
          "execution_count": 168
        }
      ]
    },
    {
      "cell_type": "code",
      "metadata": {
        "id": "e0w_P8Vord1F"
      },
      "source": [
        ""
      ],
      "execution_count": null,
      "outputs": []
    }
  ]
}