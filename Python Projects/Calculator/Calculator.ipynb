{
  "nbformat": 4,
  "nbformat_minor": 0,
  "metadata": {
    "colab": {
      "name": "Calculator.ipynb",
      "provenance": []
    },
    "kernelspec": {
      "name": "python3",
      "display_name": "Python 3"
    },
    "language_info": {
      "name": "python"
    }
  },
  "cells": [
    {
      "cell_type": "markdown",
      "metadata": {
        "id": "jZFnm6oac6YL"
      },
      "source": [
        "Create Addition Function"
      ]
    },
    {
      "cell_type": "code",
      "metadata": {
        "id": "P4IGpxZNcR8K"
      },
      "source": [
        "def addition ():\n",
        "    print(\"Addition\")\n",
        "    n = float(input(\"Enter the number: \"))\n",
        "    t = 0 \n",
        "    ans = 0\n",
        "    while n != 0:\n",
        "        ans = ans + n\n",
        "        t+=1\n",
        "        n = float(input(\"Enter another number (0 to calculate): \"))\n",
        "    return [ans,t]"
      ],
      "execution_count": 2,
      "outputs": []
    },
    {
      "cell_type": "markdown",
      "metadata": {
        "id": "z2sUw2sudCRT"
      },
      "source": [
        "Define substraction"
      ]
    },
    {
      "cell_type": "code",
      "metadata": {
        "id": "xZT6UoZ3ckVl"
      },
      "source": [
        "def subtraction ():\n",
        "    print(\"Subtraction\");\n",
        "    n = float(input(\"Enter the number: \"))\n",
        "    t = 0 \n",
        "    sum = 0\n",
        "    while n != 0:\n",
        "        ans = ans - n\n",
        "        t+=1\n",
        "        n = float(input(\"Enter another number (0 to calculate): \"))\n",
        "    return [ans,t]"
      ],
      "execution_count": 3,
      "outputs": []
    },
    {
      "cell_type": "markdown",
      "metadata": {
        "id": "otNa0wHhdEcz"
      },
      "source": [
        "Define Multiplication Function"
      ]
    },
    {
      "cell_type": "code",
      "metadata": {
        "id": "0WQR3Y2rcmKO"
      },
      "source": [
        "def multiplication ():\n",
        "    print(\"Multiplication\")\n",
        "    n = float(input(\"Enter the number: \"))\n",
        "    t = 0 \n",
        "    ans = 1\n",
        "    while n != 0:\n",
        "        ans = ans * n\n",
        "        t+=1\n",
        "        n = float(input(\"Enter another number (0 to calculate): \"))\n",
        "    return [ans,t]"
      ],
      "execution_count": 4,
      "outputs": []
    },
    {
      "cell_type": "markdown",
      "metadata": {
        "id": "wnnkxhZgdLfa"
      },
      "source": [
        "Define Average"
      ]
    },
    {
      "cell_type": "code",
      "metadata": {
        "id": "WIjeQnsActl9"
      },
      "source": [
        "def average():\n",
        "    an = []\n",
        "    an = addition()\n",
        "    t = an[1]\n",
        "    a = an[0]\n",
        "    ans = a / t\n",
        "    return [ans,t]\n",
        "\n"
      ],
      "execution_count": 5,
      "outputs": []
    },
    {
      "cell_type": "markdown",
      "metadata": {
        "id": "yHG6JvmFdOSJ"
      },
      "source": [
        "Lets Perform Some operation on calculator"
      ]
    },
    {
      "cell_type": "code",
      "metadata": {
        "colab": {
          "base_uri": "https://localhost:8080/"
        },
        "id": "l4YSHbzBcyx3",
        "outputId": "74bc96c7-202b-483a-b4d1-13cd863c2421"
      },
      "source": [
        "while True:\n",
        "    list = []   \n",
        "    print(\" Enter 'a' for addition\")\n",
        "    print(\" Enter 's' for substraction\")\n",
        "    print(\" Enter 'm' for multiplication\")\n",
        "    print(\" Enter 'v' for average\")\n",
        "    print(\" Enter 'q' for quit\")\n",
        "    c = input(\" \")\n",
        "    if c != 'q':\n",
        "        if c == 'a':\n",
        "            list = addition()\n",
        "            print(\"Ans = \", list[0], \" total inputs \",list[1])\n",
        "        elif c == 's':\n",
        "            list = subtraction()\n",
        "            print(\"Ans = \", list[0], \" total inputs \",list[1])\n",
        "        elif c == 'm':\n",
        "            list = multiplication()\n",
        "            print(\"Ans = \", list[0], \" total inputs \",list[1])\n",
        "        elif c == 'v':\n",
        "            list = average()\n",
        "            print(\"Ans = \", list[0], \" total inputs \",list[1])\n",
        "        else:\n",
        "            print (\"Sorry, invilid character\")\n",
        "    else:\n",
        "        break"
      ],
      "execution_count": null,
      "outputs": [
        {
          "output_type": "stream",
          "text": [
            " My first python program!\n",
            " Simple Calculator in python by Malik Umer Farooq\n",
            " Enter 'a' for addition\n",
            " Enter 's' for substraction\n",
            " Enter 'm' for multiplication\n",
            " Enter 'v' for average\n",
            " Enter 'q' for quit\n",
            " m\n",
            "Multiplication\n",
            "Enter the number: 2\n",
            "Enter another number (0 to calculate): 5\n"
          ],
          "name": "stdout"
        }
      ]
    }
  ]
}